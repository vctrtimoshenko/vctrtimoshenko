{
 "cells": [
  {
   "cell_type": "markdown",
   "id": "59cfb3ec",
   "metadata": {},
   "source": [
    "# Исследование надежности заемщиков 💰.\n",
    "\n",
    "По данным на 2021-й год, кредитными продуктами пользуется каждый третий россиянин (источник: Ассоциация Российских Банков). Оценка кредитоспособности клиента - важнейший этап при принятии решения о выдаче денежных средств клиенту. В данном исследовании мы выясним, как связана надёжность заёмщиков с основными показателями его жизни.\n",
    "\n",
    "**Цель исследования** проверка четырёх гипотез:<br>\n",
    "1. Возврат кредита в срок зависит от количества детей у заёмщика.\n",
    "2. Возврат кредита в срок зависит от семейного положения заёмщика.\n",
    "3. Возврат кредита в срок зависит от уровня дохода клиента.\n",
    "4. Возрат кредита в срок зависит от цели займа. <br>\n",
    "\n",
    "Результаты исследования будут учтены при построении модели кредитного скоринга — специальной системы, которая оценивает способность потенциального заёмщика вернуть кредит банку.<br>\n",
    "\n",
    "**Ход исследования**:\n",
    "\n",
    "Статистические данные от банка находится в файле `/datasets/data.csv`.<br>\n",
    "\n",
    "Описание данных:<br>\n",
    "*children* — количество детей в семье<br>\n",
    "*days_employed* — общий трудовой стаж в днях<br>\n",
    "*dob_years* — возраст клиента в годах<br>\n",
    "*education* — уровень образования клиента<br>\n",
    "*education_id* — идентификатор уровня образования<br>\n",
    "*family_status* — семейное положение<br>\n",
    "*family_status_id* — идентификатор семейного положения<br>\n",
    "*gender* — пол клиента<br>\n",
    "*income_type* — тип занятости<br>\n",
    "*debt* — имел ли задолженность по возврату кредитов<br>\n",
    "*total_income* — ежемесячный доход<br>\n",
    "*purpose* — цель получения кредита.<br>\n",
    "\n",
    "**Этапы выполнения проекта:**<br>\n",
    "1. Обзор данных.\n",
    "2. Предобработка данных.<br>\n",
    "3. Проверка гипотез.\n",
    "4. Вывод.\n"
   ]
  },
  {
   "cell_type": "markdown",
   "id": "883de07b",
   "metadata": {},
   "source": [
    "# 1. Обзор данных\n"
   ]
  },
  {
   "cell_type": "markdown",
   "id": "d5f79ecf",
   "metadata": {},
   "source": [
    "Импортируем библиотеку `pandas` для анализа данных и вводим сокращение `pd`:"
   ]
  },
  {
   "cell_type": "markdown",
   "id": "b308f04e",
   "metadata": {},
   "source": [
    "# импорт библиотеки pandas:"
   ]
  },
  {
   "cell_type": "code",
   "execution_count": 1,
   "id": "e6f2ce81",
   "metadata": {},
   "outputs": [],
   "source": [
    "import pandas as pd"
   ]
  },
  {
   "cell_type": "markdown",
   "id": "ca97e0a5",
   "metadata": {},
   "source": [
    "Открываем файл со статистическими данными клиентов банка. Просматриваем сначала несколько произвольно выбранных "
   ]
  },
  {
   "cell_type": "code",
   "execution_count": 2,
   "id": "d1cd644d",
   "metadata": {},
   "outputs": [
    {
     "data": {
      "text/html": [
       "<div>\n",
       "<style scoped>\n",
       "    .dataframe tbody tr th:only-of-type {\n",
       "        vertical-align: middle;\n",
       "    }\n",
       "\n",
       "    .dataframe tbody tr th {\n",
       "        vertical-align: top;\n",
       "    }\n",
       "\n",
       "    .dataframe thead th {\n",
       "        text-align: right;\n",
       "    }\n",
       "</style>\n",
       "<table border=\"1\" class=\"dataframe\">\n",
       "  <thead>\n",
       "    <tr style=\"text-align: right;\">\n",
       "      <th></th>\n",
       "      <th>children</th>\n",
       "      <th>days_employed</th>\n",
       "      <th>dob_years</th>\n",
       "      <th>education</th>\n",
       "      <th>education_id</th>\n",
       "      <th>family_status</th>\n",
       "      <th>family_status_id</th>\n",
       "      <th>gender</th>\n",
       "      <th>income_type</th>\n",
       "      <th>debt</th>\n",
       "      <th>total_income</th>\n",
       "      <th>purpose</th>\n",
       "    </tr>\n",
       "  </thead>\n",
       "  <tbody>\n",
       "    <tr>\n",
       "      <th>0</th>\n",
       "      <td>1</td>\n",
       "      <td>-8437.673028</td>\n",
       "      <td>42</td>\n",
       "      <td>высшее</td>\n",
       "      <td>0</td>\n",
       "      <td>женат / замужем</td>\n",
       "      <td>0</td>\n",
       "      <td>F</td>\n",
       "      <td>сотрудник</td>\n",
       "      <td>0</td>\n",
       "      <td>253875.639453</td>\n",
       "      <td>покупка жилья</td>\n",
       "    </tr>\n",
       "    <tr>\n",
       "      <th>1</th>\n",
       "      <td>1</td>\n",
       "      <td>-4024.803754</td>\n",
       "      <td>36</td>\n",
       "      <td>среднее</td>\n",
       "      <td>1</td>\n",
       "      <td>женат / замужем</td>\n",
       "      <td>0</td>\n",
       "      <td>F</td>\n",
       "      <td>сотрудник</td>\n",
       "      <td>0</td>\n",
       "      <td>112080.014102</td>\n",
       "      <td>приобретение автомобиля</td>\n",
       "    </tr>\n",
       "    <tr>\n",
       "      <th>2</th>\n",
       "      <td>0</td>\n",
       "      <td>-5623.422610</td>\n",
       "      <td>33</td>\n",
       "      <td>Среднее</td>\n",
       "      <td>1</td>\n",
       "      <td>женат / замужем</td>\n",
       "      <td>0</td>\n",
       "      <td>M</td>\n",
       "      <td>сотрудник</td>\n",
       "      <td>0</td>\n",
       "      <td>145885.952297</td>\n",
       "      <td>покупка жилья</td>\n",
       "    </tr>\n",
       "    <tr>\n",
       "      <th>3</th>\n",
       "      <td>3</td>\n",
       "      <td>-4124.747207</td>\n",
       "      <td>32</td>\n",
       "      <td>среднее</td>\n",
       "      <td>1</td>\n",
       "      <td>женат / замужем</td>\n",
       "      <td>0</td>\n",
       "      <td>M</td>\n",
       "      <td>сотрудник</td>\n",
       "      <td>0</td>\n",
       "      <td>267628.550329</td>\n",
       "      <td>дополнительное образование</td>\n",
       "    </tr>\n",
       "    <tr>\n",
       "      <th>4</th>\n",
       "      <td>0</td>\n",
       "      <td>340266.072047</td>\n",
       "      <td>53</td>\n",
       "      <td>среднее</td>\n",
       "      <td>1</td>\n",
       "      <td>гражданский брак</td>\n",
       "      <td>1</td>\n",
       "      <td>F</td>\n",
       "      <td>пенсионер</td>\n",
       "      <td>0</td>\n",
       "      <td>158616.077870</td>\n",
       "      <td>сыграть свадьбу</td>\n",
       "    </tr>\n",
       "    <tr>\n",
       "      <th>5</th>\n",
       "      <td>0</td>\n",
       "      <td>-926.185831</td>\n",
       "      <td>27</td>\n",
       "      <td>высшее</td>\n",
       "      <td>0</td>\n",
       "      <td>гражданский брак</td>\n",
       "      <td>1</td>\n",
       "      <td>M</td>\n",
       "      <td>компаньон</td>\n",
       "      <td>0</td>\n",
       "      <td>255763.565419</td>\n",
       "      <td>покупка жилья</td>\n",
       "    </tr>\n",
       "    <tr>\n",
       "      <th>6</th>\n",
       "      <td>0</td>\n",
       "      <td>-2879.202052</td>\n",
       "      <td>43</td>\n",
       "      <td>высшее</td>\n",
       "      <td>0</td>\n",
       "      <td>женат / замужем</td>\n",
       "      <td>0</td>\n",
       "      <td>F</td>\n",
       "      <td>компаньон</td>\n",
       "      <td>0</td>\n",
       "      <td>240525.971920</td>\n",
       "      <td>операции с жильем</td>\n",
       "    </tr>\n",
       "    <tr>\n",
       "      <th>7</th>\n",
       "      <td>0</td>\n",
       "      <td>-152.779569</td>\n",
       "      <td>50</td>\n",
       "      <td>СРЕДНЕЕ</td>\n",
       "      <td>1</td>\n",
       "      <td>женат / замужем</td>\n",
       "      <td>0</td>\n",
       "      <td>M</td>\n",
       "      <td>сотрудник</td>\n",
       "      <td>0</td>\n",
       "      <td>135823.934197</td>\n",
       "      <td>образование</td>\n",
       "    </tr>\n",
       "    <tr>\n",
       "      <th>8</th>\n",
       "      <td>2</td>\n",
       "      <td>-6929.865299</td>\n",
       "      <td>35</td>\n",
       "      <td>ВЫСШЕЕ</td>\n",
       "      <td>0</td>\n",
       "      <td>гражданский брак</td>\n",
       "      <td>1</td>\n",
       "      <td>F</td>\n",
       "      <td>сотрудник</td>\n",
       "      <td>0</td>\n",
       "      <td>95856.832424</td>\n",
       "      <td>на проведение свадьбы</td>\n",
       "    </tr>\n",
       "    <tr>\n",
       "      <th>9</th>\n",
       "      <td>0</td>\n",
       "      <td>-2188.756445</td>\n",
       "      <td>41</td>\n",
       "      <td>среднее</td>\n",
       "      <td>1</td>\n",
       "      <td>женат / замужем</td>\n",
       "      <td>0</td>\n",
       "      <td>M</td>\n",
       "      <td>сотрудник</td>\n",
       "      <td>0</td>\n",
       "      <td>144425.938277</td>\n",
       "      <td>покупка жилья для семьи</td>\n",
       "    </tr>\n",
       "  </tbody>\n",
       "</table>\n",
       "</div>"
      ],
      "text/plain": [
       "   children  days_employed  dob_years education  education_id  \\\n",
       "0         1   -8437.673028         42    высшее             0   \n",
       "1         1   -4024.803754         36   среднее             1   \n",
       "2         0   -5623.422610         33   Среднее             1   \n",
       "3         3   -4124.747207         32   среднее             1   \n",
       "4         0  340266.072047         53   среднее             1   \n",
       "5         0    -926.185831         27    высшее             0   \n",
       "6         0   -2879.202052         43    высшее             0   \n",
       "7         0    -152.779569         50   СРЕДНЕЕ             1   \n",
       "8         2   -6929.865299         35    ВЫСШЕЕ             0   \n",
       "9         0   -2188.756445         41   среднее             1   \n",
       "\n",
       "      family_status  family_status_id gender income_type  debt   total_income  \\\n",
       "0   женат / замужем                 0      F   сотрудник     0  253875.639453   \n",
       "1   женат / замужем                 0      F   сотрудник     0  112080.014102   \n",
       "2   женат / замужем                 0      M   сотрудник     0  145885.952297   \n",
       "3   женат / замужем                 0      M   сотрудник     0  267628.550329   \n",
       "4  гражданский брак                 1      F   пенсионер     0  158616.077870   \n",
       "5  гражданский брак                 1      M   компаньон     0  255763.565419   \n",
       "6   женат / замужем                 0      F   компаньон     0  240525.971920   \n",
       "7   женат / замужем                 0      M   сотрудник     0  135823.934197   \n",
       "8  гражданский брак                 1      F   сотрудник     0   95856.832424   \n",
       "9   женат / замужем                 0      M   сотрудник     0  144425.938277   \n",
       "\n",
       "                      purpose  \n",
       "0               покупка жилья  \n",
       "1     приобретение автомобиля  \n",
       "2               покупка жилья  \n",
       "3  дополнительное образование  \n",
       "4             сыграть свадьбу  \n",
       "5               покупка жилья  \n",
       "6           операции с жильем  \n",
       "7                 образование  \n",
       "8       на проведение свадьбы  \n",
       "9     покупка жилья для семьи  "
      ]
     },
     "execution_count": 2,
     "metadata": {},
     "output_type": "execute_result"
    }
   ],
   "source": [
    "try: \n",
    "    clients = pd.read_csv('/datasets/data.csv')\n",
    "except: \n",
    "    clients = pd.read_csv('https://code.s3.yandex.net/datasets/data.csv')\n",
    "clients.head(10)"
   ]
  },
  {
   "cell_type": "markdown",
   "id": "4752c6fb",
   "metadata": {},
   "source": [
    "# просмотр последних 10 строк из таблицы clients:"
   ]
  },
  {
   "cell_type": "code",
   "execution_count": 3,
   "id": "ae4fa066",
   "metadata": {},
   "outputs": [
    {
     "data": {
      "text/html": [
       "<div>\n",
       "<style scoped>\n",
       "    .dataframe tbody tr th:only-of-type {\n",
       "        vertical-align: middle;\n",
       "    }\n",
       "\n",
       "    .dataframe tbody tr th {\n",
       "        vertical-align: top;\n",
       "    }\n",
       "\n",
       "    .dataframe thead th {\n",
       "        text-align: right;\n",
       "    }\n",
       "</style>\n",
       "<table border=\"1\" class=\"dataframe\">\n",
       "  <thead>\n",
       "    <tr style=\"text-align: right;\">\n",
       "      <th></th>\n",
       "      <th>children</th>\n",
       "      <th>days_employed</th>\n",
       "      <th>dob_years</th>\n",
       "      <th>education</th>\n",
       "      <th>education_id</th>\n",
       "      <th>family_status</th>\n",
       "      <th>family_status_id</th>\n",
       "      <th>gender</th>\n",
       "      <th>income_type</th>\n",
       "      <th>debt</th>\n",
       "      <th>total_income</th>\n",
       "      <th>purpose</th>\n",
       "    </tr>\n",
       "  </thead>\n",
       "  <tbody>\n",
       "    <tr>\n",
       "      <th>21515</th>\n",
       "      <td>1</td>\n",
       "      <td>-467.685130</td>\n",
       "      <td>28</td>\n",
       "      <td>среднее</td>\n",
       "      <td>1</td>\n",
       "      <td>женат / замужем</td>\n",
       "      <td>0</td>\n",
       "      <td>F</td>\n",
       "      <td>сотрудник</td>\n",
       "      <td>1</td>\n",
       "      <td>109486.327999</td>\n",
       "      <td>заняться образованием</td>\n",
       "    </tr>\n",
       "    <tr>\n",
       "      <th>21516</th>\n",
       "      <td>0</td>\n",
       "      <td>-914.391429</td>\n",
       "      <td>42</td>\n",
       "      <td>высшее</td>\n",
       "      <td>0</td>\n",
       "      <td>женат / замужем</td>\n",
       "      <td>0</td>\n",
       "      <td>F</td>\n",
       "      <td>компаньон</td>\n",
       "      <td>0</td>\n",
       "      <td>322807.776603</td>\n",
       "      <td>покупка своего жилья</td>\n",
       "    </tr>\n",
       "    <tr>\n",
       "      <th>21517</th>\n",
       "      <td>0</td>\n",
       "      <td>-404.679034</td>\n",
       "      <td>42</td>\n",
       "      <td>высшее</td>\n",
       "      <td>0</td>\n",
       "      <td>гражданский брак</td>\n",
       "      <td>1</td>\n",
       "      <td>F</td>\n",
       "      <td>компаньон</td>\n",
       "      <td>0</td>\n",
       "      <td>178059.553491</td>\n",
       "      <td>на покупку своего автомобиля</td>\n",
       "    </tr>\n",
       "    <tr>\n",
       "      <th>21518</th>\n",
       "      <td>0</td>\n",
       "      <td>373995.710838</td>\n",
       "      <td>59</td>\n",
       "      <td>СРЕДНЕЕ</td>\n",
       "      <td>1</td>\n",
       "      <td>женат / замужем</td>\n",
       "      <td>0</td>\n",
       "      <td>F</td>\n",
       "      <td>пенсионер</td>\n",
       "      <td>0</td>\n",
       "      <td>153864.650328</td>\n",
       "      <td>сделка с автомобилем</td>\n",
       "    </tr>\n",
       "    <tr>\n",
       "      <th>21519</th>\n",
       "      <td>1</td>\n",
       "      <td>-2351.431934</td>\n",
       "      <td>37</td>\n",
       "      <td>ученая степень</td>\n",
       "      <td>4</td>\n",
       "      <td>в разводе</td>\n",
       "      <td>3</td>\n",
       "      <td>M</td>\n",
       "      <td>сотрудник</td>\n",
       "      <td>0</td>\n",
       "      <td>115949.039788</td>\n",
       "      <td>покупка коммерческой недвижимости</td>\n",
       "    </tr>\n",
       "    <tr>\n",
       "      <th>21520</th>\n",
       "      <td>1</td>\n",
       "      <td>-4529.316663</td>\n",
       "      <td>43</td>\n",
       "      <td>среднее</td>\n",
       "      <td>1</td>\n",
       "      <td>гражданский брак</td>\n",
       "      <td>1</td>\n",
       "      <td>F</td>\n",
       "      <td>компаньон</td>\n",
       "      <td>0</td>\n",
       "      <td>224791.862382</td>\n",
       "      <td>операции с жильем</td>\n",
       "    </tr>\n",
       "    <tr>\n",
       "      <th>21521</th>\n",
       "      <td>0</td>\n",
       "      <td>343937.404131</td>\n",
       "      <td>67</td>\n",
       "      <td>среднее</td>\n",
       "      <td>1</td>\n",
       "      <td>женат / замужем</td>\n",
       "      <td>0</td>\n",
       "      <td>F</td>\n",
       "      <td>пенсионер</td>\n",
       "      <td>0</td>\n",
       "      <td>155999.806512</td>\n",
       "      <td>сделка с автомобилем</td>\n",
       "    </tr>\n",
       "    <tr>\n",
       "      <th>21522</th>\n",
       "      <td>1</td>\n",
       "      <td>-2113.346888</td>\n",
       "      <td>38</td>\n",
       "      <td>среднее</td>\n",
       "      <td>1</td>\n",
       "      <td>гражданский брак</td>\n",
       "      <td>1</td>\n",
       "      <td>M</td>\n",
       "      <td>сотрудник</td>\n",
       "      <td>1</td>\n",
       "      <td>89672.561153</td>\n",
       "      <td>недвижимость</td>\n",
       "    </tr>\n",
       "    <tr>\n",
       "      <th>21523</th>\n",
       "      <td>3</td>\n",
       "      <td>-3112.481705</td>\n",
       "      <td>38</td>\n",
       "      <td>среднее</td>\n",
       "      <td>1</td>\n",
       "      <td>женат / замужем</td>\n",
       "      <td>0</td>\n",
       "      <td>M</td>\n",
       "      <td>сотрудник</td>\n",
       "      <td>1</td>\n",
       "      <td>244093.050500</td>\n",
       "      <td>на покупку своего автомобиля</td>\n",
       "    </tr>\n",
       "    <tr>\n",
       "      <th>21524</th>\n",
       "      <td>2</td>\n",
       "      <td>-1984.507589</td>\n",
       "      <td>40</td>\n",
       "      <td>среднее</td>\n",
       "      <td>1</td>\n",
       "      <td>женат / замужем</td>\n",
       "      <td>0</td>\n",
       "      <td>F</td>\n",
       "      <td>сотрудник</td>\n",
       "      <td>0</td>\n",
       "      <td>82047.418899</td>\n",
       "      <td>на покупку автомобиля</td>\n",
       "    </tr>\n",
       "  </tbody>\n",
       "</table>\n",
       "</div>"
      ],
      "text/plain": [
       "       children  days_employed  dob_years       education  education_id  \\\n",
       "21515         1    -467.685130         28         среднее             1   \n",
       "21516         0    -914.391429         42          высшее             0   \n",
       "21517         0    -404.679034         42          высшее             0   \n",
       "21518         0  373995.710838         59         СРЕДНЕЕ             1   \n",
       "21519         1   -2351.431934         37  ученая степень             4   \n",
       "21520         1   -4529.316663         43         среднее             1   \n",
       "21521         0  343937.404131         67         среднее             1   \n",
       "21522         1   -2113.346888         38         среднее             1   \n",
       "21523         3   -3112.481705         38         среднее             1   \n",
       "21524         2   -1984.507589         40         среднее             1   \n",
       "\n",
       "          family_status  family_status_id gender income_type  debt  \\\n",
       "21515   женат / замужем                 0      F   сотрудник     1   \n",
       "21516   женат / замужем                 0      F   компаньон     0   \n",
       "21517  гражданский брак                 1      F   компаньон     0   \n",
       "21518   женат / замужем                 0      F   пенсионер     0   \n",
       "21519         в разводе                 3      M   сотрудник     0   \n",
       "21520  гражданский брак                 1      F   компаньон     0   \n",
       "21521   женат / замужем                 0      F   пенсионер     0   \n",
       "21522  гражданский брак                 1      M   сотрудник     1   \n",
       "21523   женат / замужем                 0      M   сотрудник     1   \n",
       "21524   женат / замужем                 0      F   сотрудник     0   \n",
       "\n",
       "        total_income                            purpose  \n",
       "21515  109486.327999              заняться образованием  \n",
       "21516  322807.776603               покупка своего жилья  \n",
       "21517  178059.553491       на покупку своего автомобиля  \n",
       "21518  153864.650328               сделка с автомобилем  \n",
       "21519  115949.039788  покупка коммерческой недвижимости  \n",
       "21520  224791.862382                  операции с жильем  \n",
       "21521  155999.806512               сделка с автомобилем  \n",
       "21522   89672.561153                       недвижимость  \n",
       "21523  244093.050500       на покупку своего автомобиля  \n",
       "21524   82047.418899              на покупку автомобиля  "
      ]
     },
     "execution_count": 3,
     "metadata": {},
     "output_type": "execute_result"
    }
   ],
   "source": [
    "clients.tail(10)"
   ]
  },
  {
   "cell_type": "markdown",
   "id": "27a5d75b",
   "metadata": {},
   "source": [
    "**Описание данных:**<br>\n",
    "*children* — количество детей в семье <br>\n",
    "*days_employed* — общий трудовой стаж в днях (данные содержат артефакты - отрицательные значения количества дней и с очень большим абсолютным значением, а также имеют тип float, что не очень удобно)<br>\n",
    "*dob_years* — возраст клиента в годах<br>\n",
    "*education* — уровень образования клиента (данные не приведены к нижнему регистру)<br>\n",
    "*education_id* — идентификатор уровня образования<br>\n",
    "*family_status* — семейное положение<br>\n",
    "*family_status_id* — идентификатор семейного положения<br>\n",
    "*gender* — пол клиента<br>\n",
    "*income_type* — тип занятости<br>\n",
    "*debt* — имел ли задолженность по возврату кредитов<br>\n",
    "*total_income* — ежемесячный доход (для удобства следует заменить вещественный тип данных в этой колонке на целочисленный)<br>\n",
    "*purpose* — цель получения кредита.<br>\n",
    "\n",
    "Выведем на экран названия столбцов и проверим, нуждается ли в коррекции их стиль:\n"
   ]
  },
  {
   "cell_type": "markdown",
   "id": "2eed7b8a",
   "metadata": {},
   "source": [
    "# перечень названий колонок таблицы clients"
   ]
  },
  {
   "cell_type": "code",
   "execution_count": 4,
   "id": "25bd3332",
   "metadata": {},
   "outputs": [
    {
     "data": {
      "text/plain": [
       "Index(['children', 'days_employed', 'dob_years', 'education', 'education_id',\n",
       "       'family_status', 'family_status_id', 'gender', 'income_type', 'debt',\n",
       "       'total_income', 'purpose'],\n",
       "      dtype='object')"
      ]
     },
     "execution_count": 4,
     "metadata": {},
     "output_type": "execute_result"
    }
   ],
   "source": [
    "clients.columns"
   ]
  },
  {
   "cell_type": "markdown",
   "id": "14c022ad",
   "metadata": {},
   "source": [
    "Названия колонок отражают суть данных, записаны в нижнем змеином регистре и латиницей, скрытые пробелы отсутствую"
   ]
  },
  {
   "cell_type": "markdown",
   "id": "2d223e13",
   "metadata": {},
   "source": [
    "</div>\n",
    "\n",
    "Изучим общую информацию о таблице:"
   ]
  },
  {
   "cell_type": "markdown",
   "id": "c8e0247d",
   "metadata": {},
   "source": [
    "# получение общей информации о данных в таблице clients:"
   ]
  },
  {
   "cell_type": "code",
   "execution_count": 5,
   "id": "004eaf92",
   "metadata": {},
   "outputs": [
    {
     "name": "stdout",
     "output_type": "stream",
     "text": [
      "<class 'pandas.core.frame.DataFrame'>\n",
      "RangeIndex: 21525 entries, 0 to 21524\n",
      "Data columns (total 12 columns):\n",
      " #   Column            Non-Null Count  Dtype  \n",
      "---  ------            --------------  -----  \n",
      " 0   children          21525 non-null  int64  \n",
      " 1   days_employed     19351 non-null  float64\n",
      " 2   dob_years         21525 non-null  int64  \n",
      " 3   education         21525 non-null  object \n",
      " 4   education_id      21525 non-null  int64  \n",
      " 5   family_status     21525 non-null  object \n",
      " 6   family_status_id  21525 non-null  int64  \n",
      " 7   gender            21525 non-null  object \n",
      " 8   income_type       21525 non-null  object \n",
      " 9   debt              21525 non-null  int64  \n",
      " 10  total_income      19351 non-null  float64\n",
      " 11  purpose           21525 non-null  object \n",
      "dtypes: float64(2), int64(5), object(5)\n",
      "memory usage: 2.0+ MB\n"
     ]
    }
   ],
   "source": [
    "clients.info()"
   ]
  },
  {
   "cell_type": "markdown",
   "id": "86149a75",
   "metadata": {},
   "source": [
    "Заполненных ячеек в колонках `days_employed` и `total_income` меньше, чем в остальных колонках, следовательно, в них есть пропуски. <br>\n",
    "Нужно будет:<br>\n",
    "- проверить, какую долю пропущенные значения составляют в каждом из этих столбцов;\n",
    "- предположить причины их возникновения;\n",
    "- либо удалить строки с пропусками, либо заполнить их (заполнять будем или медианным значением, или средним, или модой).\n"
   ]
  },
  {
   "cell_type": "markdown",
   "id": "7706eec0",
   "metadata": {},
   "source": [
    "# 2. Предобработка данных "
   ]
  },
  {
   "cell_type": "markdown",
   "id": "9b18bf95",
   "metadata": {},
   "source": [
    "Итак, предобработка данных будет включать следующие этапы:<br>\n",
    " 2.1. обработка артефактов;<br>\n",
    " 2.2. обработка пропущенных значений;<br>\n",
    " 2.3. обработка типов данных;<br>\n",
    " 2.4. обработка дубликатов;<br>\n",
    " 2.5. категоризация данных;<br>\n",
    " 2.6. оптимизация таблицы с учётом категоризации"
   ]
  },
  {
   "cell_type": "markdown",
   "id": "d384bdf3",
   "metadata": {},
   "source": [
    "# 2.1 Обработка артефактов"
   ]
  },
  {
   "cell_type": "markdown",
   "id": "a13e6b0b",
   "metadata": {},
   "source": [
    "Вывод части таблицы на экран показал, что что  в столбце `days_employed` содержатся значения, не отражающие действительность: отрицательные числа в колонке трудового стажа.\n",
    "\n",
    "# Найдём модули всех чисел в колонке 'days_employed':\n",
    "# ещё один вариант с умножением на (-1), чтобы показать, что я это могу :-)\n",
    "# вывод 10 первых строк отредактированной таблицы на экран\n",
    "\n",
    "#clients['days_employed'].abs()"
   ]
  },
  {
   "cell_type": "code",
   "execution_count": 6,
   "id": "9e2d6f37",
   "metadata": {},
   "outputs": [
    {
     "data": {
      "text/html": [
       "<div>\n",
       "<style scoped>\n",
       "    .dataframe tbody tr th:only-of-type {\n",
       "        vertical-align: middle;\n",
       "    }\n",
       "\n",
       "    .dataframe tbody tr th {\n",
       "        vertical-align: top;\n",
       "    }\n",
       "\n",
       "    .dataframe thead th {\n",
       "        text-align: right;\n",
       "    }\n",
       "</style>\n",
       "<table border=\"1\" class=\"dataframe\">\n",
       "  <thead>\n",
       "    <tr style=\"text-align: right;\">\n",
       "      <th></th>\n",
       "      <th>children</th>\n",
       "      <th>days_employed</th>\n",
       "      <th>dob_years</th>\n",
       "      <th>education</th>\n",
       "      <th>education_id</th>\n",
       "      <th>family_status</th>\n",
       "      <th>family_status_id</th>\n",
       "      <th>gender</th>\n",
       "      <th>income_type</th>\n",
       "      <th>debt</th>\n",
       "      <th>total_income</th>\n",
       "      <th>purpose</th>\n",
       "    </tr>\n",
       "  </thead>\n",
       "  <tbody>\n",
       "    <tr>\n",
       "      <th>0</th>\n",
       "      <td>1</td>\n",
       "      <td>8437.673028</td>\n",
       "      <td>42</td>\n",
       "      <td>высшее</td>\n",
       "      <td>0</td>\n",
       "      <td>женат / замужем</td>\n",
       "      <td>0</td>\n",
       "      <td>F</td>\n",
       "      <td>сотрудник</td>\n",
       "      <td>0</td>\n",
       "      <td>253875.639453</td>\n",
       "      <td>покупка жилья</td>\n",
       "    </tr>\n",
       "    <tr>\n",
       "      <th>1</th>\n",
       "      <td>1</td>\n",
       "      <td>4024.803754</td>\n",
       "      <td>36</td>\n",
       "      <td>среднее</td>\n",
       "      <td>1</td>\n",
       "      <td>женат / замужем</td>\n",
       "      <td>0</td>\n",
       "      <td>F</td>\n",
       "      <td>сотрудник</td>\n",
       "      <td>0</td>\n",
       "      <td>112080.014102</td>\n",
       "      <td>приобретение автомобиля</td>\n",
       "    </tr>\n",
       "    <tr>\n",
       "      <th>2</th>\n",
       "      <td>0</td>\n",
       "      <td>5623.422610</td>\n",
       "      <td>33</td>\n",
       "      <td>Среднее</td>\n",
       "      <td>1</td>\n",
       "      <td>женат / замужем</td>\n",
       "      <td>0</td>\n",
       "      <td>M</td>\n",
       "      <td>сотрудник</td>\n",
       "      <td>0</td>\n",
       "      <td>145885.952297</td>\n",
       "      <td>покупка жилья</td>\n",
       "    </tr>\n",
       "    <tr>\n",
       "      <th>3</th>\n",
       "      <td>3</td>\n",
       "      <td>4124.747207</td>\n",
       "      <td>32</td>\n",
       "      <td>среднее</td>\n",
       "      <td>1</td>\n",
       "      <td>женат / замужем</td>\n",
       "      <td>0</td>\n",
       "      <td>M</td>\n",
       "      <td>сотрудник</td>\n",
       "      <td>0</td>\n",
       "      <td>267628.550329</td>\n",
       "      <td>дополнительное образование</td>\n",
       "    </tr>\n",
       "    <tr>\n",
       "      <th>4</th>\n",
       "      <td>0</td>\n",
       "      <td>340266.072047</td>\n",
       "      <td>53</td>\n",
       "      <td>среднее</td>\n",
       "      <td>1</td>\n",
       "      <td>гражданский брак</td>\n",
       "      <td>1</td>\n",
       "      <td>F</td>\n",
       "      <td>пенсионер</td>\n",
       "      <td>0</td>\n",
       "      <td>158616.077870</td>\n",
       "      <td>сыграть свадьбу</td>\n",
       "    </tr>\n",
       "    <tr>\n",
       "      <th>5</th>\n",
       "      <td>0</td>\n",
       "      <td>926.185831</td>\n",
       "      <td>27</td>\n",
       "      <td>высшее</td>\n",
       "      <td>0</td>\n",
       "      <td>гражданский брак</td>\n",
       "      <td>1</td>\n",
       "      <td>M</td>\n",
       "      <td>компаньон</td>\n",
       "      <td>0</td>\n",
       "      <td>255763.565419</td>\n",
       "      <td>покупка жилья</td>\n",
       "    </tr>\n",
       "    <tr>\n",
       "      <th>6</th>\n",
       "      <td>0</td>\n",
       "      <td>2879.202052</td>\n",
       "      <td>43</td>\n",
       "      <td>высшее</td>\n",
       "      <td>0</td>\n",
       "      <td>женат / замужем</td>\n",
       "      <td>0</td>\n",
       "      <td>F</td>\n",
       "      <td>компаньон</td>\n",
       "      <td>0</td>\n",
       "      <td>240525.971920</td>\n",
       "      <td>операции с жильем</td>\n",
       "    </tr>\n",
       "    <tr>\n",
       "      <th>7</th>\n",
       "      <td>0</td>\n",
       "      <td>152.779569</td>\n",
       "      <td>50</td>\n",
       "      <td>СРЕДНЕЕ</td>\n",
       "      <td>1</td>\n",
       "      <td>женат / замужем</td>\n",
       "      <td>0</td>\n",
       "      <td>M</td>\n",
       "      <td>сотрудник</td>\n",
       "      <td>0</td>\n",
       "      <td>135823.934197</td>\n",
       "      <td>образование</td>\n",
       "    </tr>\n",
       "    <tr>\n",
       "      <th>8</th>\n",
       "      <td>2</td>\n",
       "      <td>6929.865299</td>\n",
       "      <td>35</td>\n",
       "      <td>ВЫСШЕЕ</td>\n",
       "      <td>0</td>\n",
       "      <td>гражданский брак</td>\n",
       "      <td>1</td>\n",
       "      <td>F</td>\n",
       "      <td>сотрудник</td>\n",
       "      <td>0</td>\n",
       "      <td>95856.832424</td>\n",
       "      <td>на проведение свадьбы</td>\n",
       "    </tr>\n",
       "    <tr>\n",
       "      <th>9</th>\n",
       "      <td>0</td>\n",
       "      <td>2188.756445</td>\n",
       "      <td>41</td>\n",
       "      <td>среднее</td>\n",
       "      <td>1</td>\n",
       "      <td>женат / замужем</td>\n",
       "      <td>0</td>\n",
       "      <td>M</td>\n",
       "      <td>сотрудник</td>\n",
       "      <td>0</td>\n",
       "      <td>144425.938277</td>\n",
       "      <td>покупка жилья для семьи</td>\n",
       "    </tr>\n",
       "  </tbody>\n",
       "</table>\n",
       "</div>"
      ],
      "text/plain": [
       "   children  days_employed  dob_years education  education_id  \\\n",
       "0         1    8437.673028         42    высшее             0   \n",
       "1         1    4024.803754         36   среднее             1   \n",
       "2         0    5623.422610         33   Среднее             1   \n",
       "3         3    4124.747207         32   среднее             1   \n",
       "4         0  340266.072047         53   среднее             1   \n",
       "5         0     926.185831         27    высшее             0   \n",
       "6         0    2879.202052         43    высшее             0   \n",
       "7         0     152.779569         50   СРЕДНЕЕ             1   \n",
       "8         2    6929.865299         35    ВЫСШЕЕ             0   \n",
       "9         0    2188.756445         41   среднее             1   \n",
       "\n",
       "      family_status  family_status_id gender income_type  debt   total_income  \\\n",
       "0   женат / замужем                 0      F   сотрудник     0  253875.639453   \n",
       "1   женат / замужем                 0      F   сотрудник     0  112080.014102   \n",
       "2   женат / замужем                 0      M   сотрудник     0  145885.952297   \n",
       "3   женат / замужем                 0      M   сотрудник     0  267628.550329   \n",
       "4  гражданский брак                 1      F   пенсионер     0  158616.077870   \n",
       "5  гражданский брак                 1      M   компаньон     0  255763.565419   \n",
       "6   женат / замужем                 0      F   компаньон     0  240525.971920   \n",
       "7   женат / замужем                 0      M   сотрудник     0  135823.934197   \n",
       "8  гражданский брак                 1      F   сотрудник     0   95856.832424   \n",
       "9   женат / замужем                 0      M   сотрудник     0  144425.938277   \n",
       "\n",
       "                      purpose  \n",
       "0               покупка жилья  \n",
       "1     приобретение автомобиля  \n",
       "2               покупка жилья  \n",
       "3  дополнительное образование  \n",
       "4             сыграть свадьбу  \n",
       "5               покупка жилья  \n",
       "6           операции с жильем  \n",
       "7                 образование  \n",
       "8       на проведение свадьбы  \n",
       "9     покупка жилья для семьи  "
      ]
     },
     "execution_count": 6,
     "metadata": {},
     "output_type": "execute_result"
    }
   ],
   "source": [
    "clients.loc[clients['days_employed'] < 0, 'days_employed'] = clients['days_employed']*(-1)\n",
    "clients.head(10)"
   ]
  },
  {
   "cell_type": "markdown",
   "id": "1d13c5fe",
   "metadata": {},
   "source": [
    "Всё равно значения некорректные, ведь если перевести количество дней в годы, для некоторых клиентов получится:     "
   ]
  },
  {
   "cell_type": "markdown",
   "id": "9ab98819",
   "metadata": {},
   "source": [
    "# вычисление трудового стажа в годах для клиента с максиимальным стажем:"
   ]
  },
  {
   "cell_type": "code",
   "execution_count": 7,
   "id": "d93266f8",
   "metadata": {},
   "outputs": [
    {
     "data": {
      "text/plain": [
       "1100.6997273296713"
      ]
     },
     "execution_count": 7,
     "metadata": {},
     "output_type": "execute_result"
    }
   ],
   "source": [
    "clients['days_employed'].max()/365"
   ]
  },
  {
   "cell_type": "markdown",
   "id": "0cc942b9",
   "metadata": {},
   "source": [
    "То есть трудовой стаж более 1000 лет. Посмотрим, кто это:"
   ]
  },
  {
   "cell_type": "markdown",
   "id": "5f837a35",
   "metadata": {},
   "source": [
    "# вывод строки, содержащей аномальное значение рабочего стажа:"
   ]
  },
  {
   "cell_type": "code",
   "execution_count": 8,
   "id": "0da6cea0",
   "metadata": {},
   "outputs": [
    {
     "data": {
      "text/html": [
       "<div>\n",
       "<style scoped>\n",
       "    .dataframe tbody tr th:only-of-type {\n",
       "        vertical-align: middle;\n",
       "    }\n",
       "\n",
       "    .dataframe tbody tr th {\n",
       "        vertical-align: top;\n",
       "    }\n",
       "\n",
       "    .dataframe thead th {\n",
       "        text-align: right;\n",
       "    }\n",
       "</style>\n",
       "<table border=\"1\" class=\"dataframe\">\n",
       "  <thead>\n",
       "    <tr style=\"text-align: right;\">\n",
       "      <th></th>\n",
       "      <th>children</th>\n",
       "      <th>days_employed</th>\n",
       "      <th>dob_years</th>\n",
       "      <th>education</th>\n",
       "      <th>education_id</th>\n",
       "      <th>family_status</th>\n",
       "      <th>family_status_id</th>\n",
       "      <th>gender</th>\n",
       "      <th>income_type</th>\n",
       "      <th>debt</th>\n",
       "      <th>total_income</th>\n",
       "      <th>purpose</th>\n",
       "    </tr>\n",
       "  </thead>\n",
       "  <tbody>\n",
       "    <tr>\n",
       "      <th>6954</th>\n",
       "      <td>0</td>\n",
       "      <td>401755.400475</td>\n",
       "      <td>56</td>\n",
       "      <td>среднее</td>\n",
       "      <td>1</td>\n",
       "      <td>вдовец / вдова</td>\n",
       "      <td>2</td>\n",
       "      <td>F</td>\n",
       "      <td>пенсионер</td>\n",
       "      <td>0</td>\n",
       "      <td>176278.441171</td>\n",
       "      <td>ремонт жилью</td>\n",
       "    </tr>\n",
       "  </tbody>\n",
       "</table>\n",
       "</div>"
      ],
      "text/plain": [
       "      children  days_employed  dob_years education  education_id  \\\n",
       "6954         0  401755.400475         56   среднее             1   \n",
       "\n",
       "       family_status  family_status_id gender income_type  debt  \\\n",
       "6954  вдовец / вдова                 2      F   пенсионер     0   \n",
       "\n",
       "       total_income       purpose  \n",
       "6954  176278.441171  ремонт жилью  "
      ]
     },
     "execution_count": 8,
     "metadata": {},
     "output_type": "execute_result"
    }
   ],
   "source": [
    "clients.loc[clients['days_employed'] == clients['days_employed'].max()]"
   ]
  },
  {
   "cell_type": "markdown",
   "id": "5986ae9d",
   "metadata": {},
   "source": [
    "Либо это какая-то ведьма, либо данные указаны неверно. Возможно, в анкете, которые заполняют клиенты банка, нужно было указать количество лет стажа (а дальше это число переводилось в количество дней автоматически), а клиент указал количество месяцев, поэтому после вычислений получились большие числа. <br>\n",
    "А ещё может быть, что клиенты указывали дату начала трудового стажа, что после обработки привело к подобным артефактам. Хотелось бы посмотреть, как выглядит *анкета*, которую заполняют клиенты, как выглядят вопросы, относящиеся к этим данным. Чуть ниже я озвучу, на что хотелось бы обратить внимание при изучении этой анкеты.<br>\n",
    "Также следует проанализировать значения в столбце `children`. Выведем на экран уникальные значения этого столбца:\n"
   ]
  },
  {
   "cell_type": "markdown",
   "id": "831b410a",
   "metadata": {},
   "source": [
    "## вывод уникальных значений столбца 'children' на экран"
   ]
  },
  {
   "cell_type": "code",
   "execution_count": 9,
   "id": "46561da2",
   "metadata": {},
   "outputs": [
    {
     "data": {
      "text/plain": [
       " 0     14149\n",
       " 1      4818\n",
       " 2      2055\n",
       " 3       330\n",
       " 20       76\n",
       "-1        47\n",
       " 4        41\n",
       " 5         9\n",
       "Name: children, dtype: int64"
      ]
     },
     "execution_count": 9,
     "metadata": {},
     "output_type": "execute_result"
    }
   ],
   "source": [
    "clients['children'].value_counts()"
   ]
  },
  {
   "cell_type": "markdown",
   "id": "9f1f107a",
   "metadata": {},
   "source": [
    "Есть несколько клиентов с двадцатью детьми и даже с отрицательным количеством детей. Возможно, про 20 детей имеет смысл спросить у кредитного специалиста (если бы такие клиенты были, наверняка о них слагались бы легенды в банке), но скорее всего, это ошибка. Возможно, в виде числа \"20\" отобразился ответ \"2\", а в виде \"-1\" - \"1\" соответственно. Следует заменить эти ячейки на более реальные значения и проверить, как сработал код.\n"
   ]
  },
  {
   "cell_type": "markdown",
   "id": "157a6a25",
   "metadata": {},
   "source": [
    "# замена значений в ячейках колокни 'children', содержащих аномальные значения\n",
    "# и проверка таблицы после замены"
   ]
  },
  {
   "cell_type": "code",
   "execution_count": 10,
   "id": "95c72149",
   "metadata": {},
   "outputs": [
    {
     "data": {
      "text/plain": [
       "0    14149\n",
       "1     4865\n",
       "2     2131\n",
       "3      330\n",
       "4       41\n",
       "5        9\n",
       "Name: children, dtype: int64"
      ]
     },
     "execution_count": 10,
     "metadata": {},
     "output_type": "execute_result"
    }
   ],
   "source": [
    "clients.loc[clients['children'] == 20, 'children'] = 2\n",
    "clients.loc[clients['children'] == -1, 'children'] = 1\n",
    "clients['children'].value_counts()\n"
   ]
  },
  {
   "cell_type": "markdown",
   "id": "2e0248cc",
   "metadata": {},
   "source": [
    "Перерь значения, соответствующие количеству детей клиентов, не содержат артефакты.<br>\n",
    "Работа с артефактами проведена."
   ]
  },
  {
   "cell_type": "markdown",
   "id": "7cb2bf0d",
   "metadata": {},
   "source": [
    "# 2.2 Обработка пропущенных значений"
   ]
  },
  {
   "cell_type": "markdown",
   "id": "ef992b74",
   "metadata": {},
   "source": [
    "Ознакомление с информацией о таблице показало, что в двух столбцах содержатся пропуски. Посчитаем их количество:"
   ]
  },
  {
   "cell_type": "markdown",
   "id": "dac1885b",
   "metadata": {},
   "source": [
    "# подсчёт количества пропусков в таблице clients:"
   ]
  },
  {
   "cell_type": "code",
   "execution_count": 11,
   "id": "2405f7ab",
   "metadata": {},
   "outputs": [
    {
     "data": {
      "text/plain": [
       "children               0\n",
       "days_employed       2174\n",
       "dob_years              0\n",
       "education              0\n",
       "education_id           0\n",
       "family_status          0\n",
       "family_status_id       0\n",
       "gender                 0\n",
       "income_type            0\n",
       "debt                   0\n",
       "total_income        2174\n",
       "purpose                0\n",
       "dtype: int64"
      ]
     },
     "execution_count": 11,
     "metadata": {},
     "output_type": "execute_result"
    }
   ],
   "source": [
    "clients.isna().sum()"
   ]
  },
  {
   "cell_type": "markdown",
   "id": "17c2e557",
   "metadata": {},
   "source": [
    "В столбцах `days_employed` (общий трудовой стаж в днях)  и `total_income` (ежемесячный доход) содержатся пропуски. Причём их количество одинаково в обоих колонках. Совпадение? 🧐 Не думаю. Выдвенем гипотезу о том, что клиенты, у которых не указан общий трудовой стаж и клиенты, не указавшие ежемесячный доход - это одни и те же люди. Проверим её, составив датасет только из тех колонок, где пропущены значения `days_employed` и `total_income` одновременно и изучим информацию о нём.\n"
   ]
  },
  {
   "cell_type": "markdown",
   "id": "28df0bd3",
   "metadata": {},
   "source": [
    "# выделение строк, в которых одновременно выполняется условие days_employed = Nan и total_income = Nan: \n",
    "# получение информации о таблице:"
   ]
  },
  {
   "cell_type": "code",
   "execution_count": 12,
   "id": "c2ad6ae7",
   "metadata": {},
   "outputs": [
    {
     "name": "stdout",
     "output_type": "stream",
     "text": [
      "<class 'pandas.core.frame.DataFrame'>\n",
      "Int64Index: 2174 entries, 12 to 21510\n",
      "Data columns (total 12 columns):\n",
      " #   Column            Non-Null Count  Dtype  \n",
      "---  ------            --------------  -----  \n",
      " 0   children          2174 non-null   int64  \n",
      " 1   days_employed     0 non-null      float64\n",
      " 2   dob_years         2174 non-null   int64  \n",
      " 3   education         2174 non-null   object \n",
      " 4   education_id      2174 non-null   int64  \n",
      " 5   family_status     2174 non-null   object \n",
      " 6   family_status_id  2174 non-null   int64  \n",
      " 7   gender            2174 non-null   object \n",
      " 8   income_type       2174 non-null   object \n",
      " 9   debt              2174 non-null   int64  \n",
      " 10  total_income      0 non-null      float64\n",
      " 11  purpose           2174 non-null   object \n",
      "dtypes: float64(2), int64(5), object(5)\n",
      "memory usage: 220.8+ KB\n"
     ]
    }
   ],
   "source": [
    "clients_nan = clients[clients['days_employed'].isna() & clients['total_income'].isna()]\n",
    "clients_nan.info()"
   ]
  },
  {
   "cell_type": "markdown",
   "id": "46105306",
   "metadata": {},
   "source": [
    "Итак, в получившемся датасете 2174 строки, то есть пересечение множеств `days_employed = Nan` и `total_income = Nan` совпадает с количеством элементов каждого из этих множеств. Следовательно, эти множества совпадают. Иными словами, клиенты, у которых не указан общий трудовой стаж и клиенты, не указавшие ежемесячный доход - это одни и те же люди. Гипотеза подтверждена.<br>\n",
    "Можно провести более подробный анализ этого датасета и выяснить, есть ли что-то общее у людей, не указавших эти данные. Делать я этого, конечно, не буду 🦥. Потому что поверхностные вычисления показывают, что доля Nan'ов - около 10%. Не слишком много, чтобы исказить результат, но и не достатчно мало, чтобы удалять строки с пропусками. Давайте проверим:\n"
   ]
  },
  {
   "cell_type": "markdown",
   "id": "243c5d48",
   "metadata": {},
   "source": [
    "#Вот так было:\n",
    "\n",
    "# вычисление доли пропущенных значений в каждом из столбцов с пропусками (в процентах):\n",
    "\n",
    "#clients_nan_ratio = clients.isna().mean()*100\n",
    "#round(clients_nan_ratio, 1)\n",
    "\n",
    "\n",
    "# вычисление доли пропущенных значений в каждом из столбцов с пропусками (в процентах):"
   ]
  },
  {
   "cell_type": "code",
   "execution_count": 13,
   "id": "1891768b",
   "metadata": {},
   "outputs": [
    {
     "data": {
      "text/plain": [
       "children             0.0%\n",
       "days_employed       10.1%\n",
       "dob_years            0.0%\n",
       "education            0.0%\n",
       "education_id         0.0%\n",
       "family_status        0.0%\n",
       "family_status_id     0.0%\n",
       "gender               0.0%\n",
       "income_type          0.0%\n",
       "debt                 0.0%\n",
       "total_income        10.1%\n",
       "purpose              0.0%\n",
       "dtype: object"
      ]
     },
     "execution_count": 13,
     "metadata": {},
     "output_type": "execute_result"
    }
   ],
   "source": [
    "clients_nan_ratio = clients.isna().mean()*100\n",
    "round(clients_nan_ratio, 1)\n",
    "clients.isna().mean().map('{:,.1%}'.format)"
   ]
  },
  {
   "cell_type": "markdown",
   "id": "0bba18e7",
   "metadata": {},
   "source": [
    "Так и есть, около 10%, надо заполнять. Но чем? <br>\n",
    "Сперва нужно понять природу этих пропусков. Предположим, что это никогда не работавшие и ныне безработные люди, "
   ]
  },
  {
   "cell_type": "markdown",
   "id": "99270802",
   "metadata": {},
   "source": [
    "# просмотр уникальных названий типов занятости в датасете clients_nan"
   ]
  },
  {
   "cell_type": "code",
   "execution_count": 14,
   "id": "5512e7df",
   "metadata": {},
   "outputs": [
    {
     "data": {
      "text/plain": [
       "array(['госслужащий', 'компаньон', 'пенсионер', 'предприниматель',\n",
       "       'сотрудник'], dtype=object)"
      ]
     },
     "execution_count": 14,
     "metadata": {},
     "output_type": "execute_result"
    }
   ],
   "source": [
    "clients_nan['income_type'].sort_values().unique()"
   ]
  },
  {
   "cell_type": "markdown",
   "id": "bf4065c2",
   "metadata": {},
   "source": [
    "Судя по значениям ячеек с типом занятости, безработных и студентов среди людей, не заполнивших поля, нет. Кстати, в общем датасете они есть:\n"
   ]
  },
  {
   "cell_type": "markdown",
   "id": "ded45769",
   "metadata": {},
   "source": [
    "# просмотр уникальных названий типов занятости в датасете clients"
   ]
  },
  {
   "cell_type": "code",
   "execution_count": 15,
   "id": "30781cb1",
   "metadata": {},
   "outputs": [
    {
     "data": {
      "text/plain": [
       "array(['безработный', 'в декрете', 'госслужащий', 'компаньон',\n",
       "       'пенсионер', 'предприниматель', 'сотрудник', 'студент'],\n",
       "      dtype=object)"
      ]
     },
     "execution_count": 15,
     "metadata": {},
     "output_type": "execute_result"
    }
   ],
   "source": [
    "clients['income_type'].sort_values().unique()"
   ]
  },
  {
   "cell_type": "markdown",
   "id": "a98c33a3",
   "metadata": {},
   "source": [
    "Итак, гипотеза не подтвердилась, так что нули для заполнения не подходят. Думаем дальше.\n",
    "Данные попадают в датасет из анкет. Значит, уже пора сходить в отдел по работе с клиентами и задать кредитным специалистам разные вопросы: <br>\n",
    "- Как выглядит анкета? Возможно, вопросы, связанные со стажем и доходами не пропечатались или расположены неудобно.\n",
    "- Кто заполняет анкету? Может, неопытные сотрудники не занесли ответы в бланк.\n",
    "- Анкету заполняют в печатном виде или в электронном? Если в электронном, то видимо, поля \"стаж\" и \"доход\" являются необязательными.\n",
    "- Кто выгружает данные? Возможно, потеря произошла на этом этапе. \n",
    "- Понятно ли из формулировки вопросов, в каком формате следует записывать ответы? И как потом эти ответы конвертирует компьютер? <br>\n",
    "\n",
    "Эти вопросы помогут в будущем получать более точные данные, а пока поработаем с тем, что есть. Вместо пропусков значения можно заполнить одним из статистических показателей. Найдём максимум, минимум, среднее арифметическое, медиану и моду для значений из столбцов с пропусками.\n"
   ]
  },
  {
   "cell_type": "code",
   "execution_count": 16,
   "id": "d0b9ddcf",
   "metadata": {},
   "outputs": [
    {
     "data": {
      "text/html": [
       "<div>\n",
       "<style scoped>\n",
       "    .dataframe tbody tr th:only-of-type {\n",
       "        vertical-align: middle;\n",
       "    }\n",
       "\n",
       "    .dataframe tbody tr th {\n",
       "        vertical-align: top;\n",
       "    }\n",
       "\n",
       "    .dataframe thead th {\n",
       "        text-align: right;\n",
       "    }\n",
       "</style>\n",
       "<table border=\"1\" class=\"dataframe\">\n",
       "  <thead>\n",
       "    <tr style=\"text-align: right;\">\n",
       "      <th></th>\n",
       "      <th>children</th>\n",
       "      <th>days_employed</th>\n",
       "      <th>dob_years</th>\n",
       "      <th>education_id</th>\n",
       "      <th>family_status_id</th>\n",
       "      <th>debt</th>\n",
       "      <th>total_income</th>\n",
       "    </tr>\n",
       "  </thead>\n",
       "  <tbody>\n",
       "    <tr>\n",
       "      <th>count</th>\n",
       "      <td>21525.000000</td>\n",
       "      <td>19351.000000</td>\n",
       "      <td>21525.000000</td>\n",
       "      <td>21525.000000</td>\n",
       "      <td>21525.000000</td>\n",
       "      <td>21525.000000</td>\n",
       "      <td>1.935100e+04</td>\n",
       "    </tr>\n",
       "    <tr>\n",
       "      <th>mean</th>\n",
       "      <td>0.479721</td>\n",
       "      <td>66914.728907</td>\n",
       "      <td>43.293380</td>\n",
       "      <td>0.817236</td>\n",
       "      <td>0.972544</td>\n",
       "      <td>0.080883</td>\n",
       "      <td>1.674223e+05</td>\n",
       "    </tr>\n",
       "    <tr>\n",
       "      <th>std</th>\n",
       "      <td>0.755528</td>\n",
       "      <td>139030.880527</td>\n",
       "      <td>12.574584</td>\n",
       "      <td>0.548138</td>\n",
       "      <td>1.420324</td>\n",
       "      <td>0.272661</td>\n",
       "      <td>1.029716e+05</td>\n",
       "    </tr>\n",
       "    <tr>\n",
       "      <th>min</th>\n",
       "      <td>0.000000</td>\n",
       "      <td>24.141633</td>\n",
       "      <td>0.000000</td>\n",
       "      <td>0.000000</td>\n",
       "      <td>0.000000</td>\n",
       "      <td>0.000000</td>\n",
       "      <td>2.066726e+04</td>\n",
       "    </tr>\n",
       "    <tr>\n",
       "      <th>25%</th>\n",
       "      <td>0.000000</td>\n",
       "      <td>927.009265</td>\n",
       "      <td>33.000000</td>\n",
       "      <td>1.000000</td>\n",
       "      <td>0.000000</td>\n",
       "      <td>0.000000</td>\n",
       "      <td>1.030532e+05</td>\n",
       "    </tr>\n",
       "    <tr>\n",
       "      <th>50%</th>\n",
       "      <td>0.000000</td>\n",
       "      <td>2194.220567</td>\n",
       "      <td>42.000000</td>\n",
       "      <td>1.000000</td>\n",
       "      <td>0.000000</td>\n",
       "      <td>0.000000</td>\n",
       "      <td>1.450179e+05</td>\n",
       "    </tr>\n",
       "    <tr>\n",
       "      <th>75%</th>\n",
       "      <td>1.000000</td>\n",
       "      <td>5537.882441</td>\n",
       "      <td>53.000000</td>\n",
       "      <td>1.000000</td>\n",
       "      <td>1.000000</td>\n",
       "      <td>0.000000</td>\n",
       "      <td>2.034351e+05</td>\n",
       "    </tr>\n",
       "    <tr>\n",
       "      <th>max</th>\n",
       "      <td>5.000000</td>\n",
       "      <td>401755.400475</td>\n",
       "      <td>75.000000</td>\n",
       "      <td>4.000000</td>\n",
       "      <td>4.000000</td>\n",
       "      <td>1.000000</td>\n",
       "      <td>2.265604e+06</td>\n",
       "    </tr>\n",
       "  </tbody>\n",
       "</table>\n",
       "</div>"
      ],
      "text/plain": [
       "           children  days_employed     dob_years  education_id  \\\n",
       "count  21525.000000   19351.000000  21525.000000  21525.000000   \n",
       "mean       0.479721   66914.728907     43.293380      0.817236   \n",
       "std        0.755528  139030.880527     12.574584      0.548138   \n",
       "min        0.000000      24.141633      0.000000      0.000000   \n",
       "25%        0.000000     927.009265     33.000000      1.000000   \n",
       "50%        0.000000    2194.220567     42.000000      1.000000   \n",
       "75%        1.000000    5537.882441     53.000000      1.000000   \n",
       "max        5.000000  401755.400475     75.000000      4.000000   \n",
       "\n",
       "       family_status_id          debt  total_income  \n",
       "count      21525.000000  21525.000000  1.935100e+04  \n",
       "mean           0.972544      0.080883  1.674223e+05  \n",
       "std            1.420324      0.272661  1.029716e+05  \n",
       "min            0.000000      0.000000  2.066726e+04  \n",
       "25%            0.000000      0.000000  1.030532e+05  \n",
       "50%            0.000000      0.000000  1.450179e+05  \n",
       "75%            1.000000      0.000000  2.034351e+05  \n",
       "max            4.000000      1.000000  2.265604e+06  "
      ]
     },
     "execution_count": 16,
     "metadata": {},
     "output_type": "execute_result"
    }
   ],
   "source": [
    "clients.describe()"
   ]
  },
  {
   "cell_type": "markdown",
   "id": "def49b29",
   "metadata": {},
   "source": [
    "В результатепроделанной работы  метод  получил данные о количестве данных, среднем значении, стандартном отклонении, минимуме, медиане (которые прячутся в строке `50%`), максимуме. "
   ]
  },
  {
   "cell_type": "markdown",
   "id": "973e9583",
   "metadata": {},
   "source": [
    "Рассмотрим значения столбца `days_employed`. Чем заполнить пропуски? Мода, судя количеству значений, неинформативна, отбрасываем её. Среднее арифметическое значение получилось в 30 раз больше медианного, то есть в наборе данных есть большие отклонения (и значения максимума и минимума подтверждают эту догадку), значит, лучше остановиться на центральной тенденции - медиане.\n",
    "Аналогичные рассуждения можно провести для столбца `total_income`. Здесь, правда, не такое большое отличие медианы от среднего, но реалии таковы, что доходы разных людей могут отличаться довольно существенно, так что в этой колокне выбросы будут встречаться часто. <br>\n",
    "Заменим пропуски в таблице на медианные значения:"
   ]
  },
  {
   "cell_type": "markdown",
   "id": "1b93dd38",
   "metadata": {},
   "source": [
    "# объвление переменной, содержащей значение медианы значений 'days_employed' и замена ячеек, \n",
    "# содержащих пропуски, на медиану.\n",
    "\n",
    "# закомментированный нерабочий код замены пропусков на медианное значение\n",
    "# вызов функции info() для проверки работоспособности кода"
   ]
  },
  {
   "cell_type": "code",
   "execution_count": 17,
   "id": "581b8437",
   "metadata": {},
   "outputs": [],
   "source": [
    "clients_days_employed_median = clients['days_employed'].median()"
   ]
  },
  {
   "cell_type": "markdown",
   "id": "5533bc86",
   "metadata": {},
   "source": [
    "# замена пропусков на медианное значение другим способом"
   ]
  },
  {
   "cell_type": "code",
   "execution_count": 18,
   "id": "2254d816",
   "metadata": {},
   "outputs": [
    {
     "name": "stdout",
     "output_type": "stream",
     "text": [
      "<class 'pandas.core.frame.DataFrame'>\n",
      "RangeIndex: 21525 entries, 0 to 21524\n",
      "Data columns (total 12 columns):\n",
      " #   Column            Non-Null Count  Dtype  \n",
      "---  ------            --------------  -----  \n",
      " 0   children          21525 non-null  int64  \n",
      " 1   days_employed     21525 non-null  float64\n",
      " 2   dob_years         21525 non-null  int64  \n",
      " 3   education         21525 non-null  object \n",
      " 4   education_id      21525 non-null  int64  \n",
      " 5   family_status     21525 non-null  object \n",
      " 6   family_status_id  21525 non-null  int64  \n",
      " 7   gender            21525 non-null  object \n",
      " 8   income_type       21525 non-null  object \n",
      " 9   debt              21525 non-null  int64  \n",
      " 10  total_income      19351 non-null  float64\n",
      " 11  purpose           21525 non-null  object \n",
      "dtypes: float64(2), int64(5), object(5)\n",
      "memory usage: 2.0+ MB\n"
     ]
    }
   ],
   "source": [
    "clients.loc[clients['days_employed'].isna() ,'days_employed'] = clients_days_employed_median\n",
    "clients.info()"
   ]
  },
  {
   "cell_type": "markdown",
   "id": "7994b91a",
   "metadata": {},
   "source": [
    "Судя по тому, что количество заполненных значений колонки `days_employed` теперь совпадает с количеством заполенных ячеек других столбцов (кроме одного, потому что мы его ещё не заполняли), код сработал корректно. <br>\n",
    "Аналогичным способом заполним пропуски в колонке `total_income`:"
   ]
  },
  {
   "cell_type": "markdown",
   "id": "37aacbaa",
   "metadata": {},
   "source": [
    "# объвление переменной, содержащей значение медианы значений 'total_income' и замена ячеек, содержащих пропуски, на медиану.\n",
    "# вызов функции info() для проверки работоспособности кода"
   ]
  },
  {
   "cell_type": "code",
   "execution_count": 19,
   "id": "8e9fa99a",
   "metadata": {},
   "outputs": [
    {
     "name": "stdout",
     "output_type": "stream",
     "text": [
      "<class 'pandas.core.frame.DataFrame'>\n",
      "RangeIndex: 21525 entries, 0 to 21524\n",
      "Data columns (total 12 columns):\n",
      " #   Column            Non-Null Count  Dtype  \n",
      "---  ------            --------------  -----  \n",
      " 0   children          21525 non-null  int64  \n",
      " 1   days_employed     21525 non-null  float64\n",
      " 2   dob_years         21525 non-null  int64  \n",
      " 3   education         21525 non-null  object \n",
      " 4   education_id      21525 non-null  int64  \n",
      " 5   family_status     21525 non-null  object \n",
      " 6   family_status_id  21525 non-null  int64  \n",
      " 7   gender            21525 non-null  object \n",
      " 8   income_type       21525 non-null  object \n",
      " 9   debt              21525 non-null  int64  \n",
      " 10  total_income      21525 non-null  float64\n",
      " 11  purpose           21525 non-null  object \n",
      "dtypes: float64(2), int64(5), object(5)\n",
      "memory usage: 2.0+ MB\n"
     ]
    }
   ],
   "source": [
    "clients_total_income_median = clients['total_income'].median()\n",
    "clients['total_income'] = clients['total_income'].fillna(clients_total_income_median)\n",
    "\n",
    "clients.info()"
   ]
  },
  {
   "cell_type": "markdown",
   "id": "fc17f515",
   "metadata": {},
   "source": [
    "Пропущенные значения обработаны."
   ]
  },
  {
   "cell_type": "markdown",
   "id": "5bff48cd",
   "metadata": {},
   "source": [
    "# 2.3. Обработка типов данных\n",
    "Ознакомление с информацией о таблице показало, что данные в колонке `total_income` имеют тип float, что не вполне удобно для анализа. Поскольку эта колонка пригодится нам в дальнейшем для работы, внесём коррективы - изменим тип данных этой колонки на целочисленный.\n",
    "\n",
    "# изменение типа данных в колонке total_income на целочисленный и проверка кода:"
   ]
  },
  {
   "cell_type": "code",
   "execution_count": 20,
   "id": "8df9aa29",
   "metadata": {},
   "outputs": [
    {
     "name": "stdout",
     "output_type": "stream",
     "text": [
      "<class 'pandas.core.frame.DataFrame'>\n",
      "RangeIndex: 21525 entries, 0 to 21524\n",
      "Data columns (total 12 columns):\n",
      " #   Column            Non-Null Count  Dtype  \n",
      "---  ------            --------------  -----  \n",
      " 0   children          21525 non-null  int64  \n",
      " 1   days_employed     21525 non-null  float64\n",
      " 2   dob_years         21525 non-null  int64  \n",
      " 3   education         21525 non-null  object \n",
      " 4   education_id      21525 non-null  int64  \n",
      " 5   family_status     21525 non-null  object \n",
      " 6   family_status_id  21525 non-null  int64  \n",
      " 7   gender            21525 non-null  object \n",
      " 8   income_type       21525 non-null  object \n",
      " 9   debt              21525 non-null  int64  \n",
      " 10  total_income      21525 non-null  int64  \n",
      " 11  purpose           21525 non-null  object \n",
      "dtypes: float64(1), int64(6), object(5)\n",
      "memory usage: 2.0+ MB\n"
     ]
    }
   ],
   "source": [
    "clients['total_income'] = clients['total_income'].astype('int')\n",
    "clients.info()"
   ]
  },
  {
   "cell_type": "markdown",
   "id": "55e4142d",
   "metadata": {},
   "source": [
    "Теперь значения в колонке `total_income` - целочисленный и с ними удобнее работать. Выглядят они теперь так:\n",
    "\n",
    "# вывод первых десяти строк таблицы на экран:"
   ]
  },
  {
   "cell_type": "markdown",
   "id": "6c171688",
   "metadata": {},
   "source": []
  },
  {
   "cell_type": "code",
   "execution_count": 21,
   "id": "92c650fd",
   "metadata": {},
   "outputs": [
    {
     "data": {
      "text/html": [
       "<div>\n",
       "<style scoped>\n",
       "    .dataframe tbody tr th:only-of-type {\n",
       "        vertical-align: middle;\n",
       "    }\n",
       "\n",
       "    .dataframe tbody tr th {\n",
       "        vertical-align: top;\n",
       "    }\n",
       "\n",
       "    .dataframe thead th {\n",
       "        text-align: right;\n",
       "    }\n",
       "</style>\n",
       "<table border=\"1\" class=\"dataframe\">\n",
       "  <thead>\n",
       "    <tr style=\"text-align: right;\">\n",
       "      <th></th>\n",
       "      <th>children</th>\n",
       "      <th>days_employed</th>\n",
       "      <th>dob_years</th>\n",
       "      <th>education</th>\n",
       "      <th>education_id</th>\n",
       "      <th>family_status</th>\n",
       "      <th>family_status_id</th>\n",
       "      <th>gender</th>\n",
       "      <th>income_type</th>\n",
       "      <th>debt</th>\n",
       "      <th>total_income</th>\n",
       "      <th>purpose</th>\n",
       "    </tr>\n",
       "  </thead>\n",
       "  <tbody>\n",
       "    <tr>\n",
       "      <th>0</th>\n",
       "      <td>1</td>\n",
       "      <td>8437.673028</td>\n",
       "      <td>42</td>\n",
       "      <td>высшее</td>\n",
       "      <td>0</td>\n",
       "      <td>женат / замужем</td>\n",
       "      <td>0</td>\n",
       "      <td>F</td>\n",
       "      <td>сотрудник</td>\n",
       "      <td>0</td>\n",
       "      <td>253875</td>\n",
       "      <td>покупка жилья</td>\n",
       "    </tr>\n",
       "    <tr>\n",
       "      <th>1</th>\n",
       "      <td>1</td>\n",
       "      <td>4024.803754</td>\n",
       "      <td>36</td>\n",
       "      <td>среднее</td>\n",
       "      <td>1</td>\n",
       "      <td>женат / замужем</td>\n",
       "      <td>0</td>\n",
       "      <td>F</td>\n",
       "      <td>сотрудник</td>\n",
       "      <td>0</td>\n",
       "      <td>112080</td>\n",
       "      <td>приобретение автомобиля</td>\n",
       "    </tr>\n",
       "    <tr>\n",
       "      <th>2</th>\n",
       "      <td>0</td>\n",
       "      <td>5623.422610</td>\n",
       "      <td>33</td>\n",
       "      <td>Среднее</td>\n",
       "      <td>1</td>\n",
       "      <td>женат / замужем</td>\n",
       "      <td>0</td>\n",
       "      <td>M</td>\n",
       "      <td>сотрудник</td>\n",
       "      <td>0</td>\n",
       "      <td>145885</td>\n",
       "      <td>покупка жилья</td>\n",
       "    </tr>\n",
       "    <tr>\n",
       "      <th>3</th>\n",
       "      <td>3</td>\n",
       "      <td>4124.747207</td>\n",
       "      <td>32</td>\n",
       "      <td>среднее</td>\n",
       "      <td>1</td>\n",
       "      <td>женат / замужем</td>\n",
       "      <td>0</td>\n",
       "      <td>M</td>\n",
       "      <td>сотрудник</td>\n",
       "      <td>0</td>\n",
       "      <td>267628</td>\n",
       "      <td>дополнительное образование</td>\n",
       "    </tr>\n",
       "    <tr>\n",
       "      <th>4</th>\n",
       "      <td>0</td>\n",
       "      <td>340266.072047</td>\n",
       "      <td>53</td>\n",
       "      <td>среднее</td>\n",
       "      <td>1</td>\n",
       "      <td>гражданский брак</td>\n",
       "      <td>1</td>\n",
       "      <td>F</td>\n",
       "      <td>пенсионер</td>\n",
       "      <td>0</td>\n",
       "      <td>158616</td>\n",
       "      <td>сыграть свадьбу</td>\n",
       "    </tr>\n",
       "    <tr>\n",
       "      <th>5</th>\n",
       "      <td>0</td>\n",
       "      <td>926.185831</td>\n",
       "      <td>27</td>\n",
       "      <td>высшее</td>\n",
       "      <td>0</td>\n",
       "      <td>гражданский брак</td>\n",
       "      <td>1</td>\n",
       "      <td>M</td>\n",
       "      <td>компаньон</td>\n",
       "      <td>0</td>\n",
       "      <td>255763</td>\n",
       "      <td>покупка жилья</td>\n",
       "    </tr>\n",
       "    <tr>\n",
       "      <th>6</th>\n",
       "      <td>0</td>\n",
       "      <td>2879.202052</td>\n",
       "      <td>43</td>\n",
       "      <td>высшее</td>\n",
       "      <td>0</td>\n",
       "      <td>женат / замужем</td>\n",
       "      <td>0</td>\n",
       "      <td>F</td>\n",
       "      <td>компаньон</td>\n",
       "      <td>0</td>\n",
       "      <td>240525</td>\n",
       "      <td>операции с жильем</td>\n",
       "    </tr>\n",
       "    <tr>\n",
       "      <th>7</th>\n",
       "      <td>0</td>\n",
       "      <td>152.779569</td>\n",
       "      <td>50</td>\n",
       "      <td>СРЕДНЕЕ</td>\n",
       "      <td>1</td>\n",
       "      <td>женат / замужем</td>\n",
       "      <td>0</td>\n",
       "      <td>M</td>\n",
       "      <td>сотрудник</td>\n",
       "      <td>0</td>\n",
       "      <td>135823</td>\n",
       "      <td>образование</td>\n",
       "    </tr>\n",
       "    <tr>\n",
       "      <th>8</th>\n",
       "      <td>2</td>\n",
       "      <td>6929.865299</td>\n",
       "      <td>35</td>\n",
       "      <td>ВЫСШЕЕ</td>\n",
       "      <td>0</td>\n",
       "      <td>гражданский брак</td>\n",
       "      <td>1</td>\n",
       "      <td>F</td>\n",
       "      <td>сотрудник</td>\n",
       "      <td>0</td>\n",
       "      <td>95856</td>\n",
       "      <td>на проведение свадьбы</td>\n",
       "    </tr>\n",
       "    <tr>\n",
       "      <th>9</th>\n",
       "      <td>0</td>\n",
       "      <td>2188.756445</td>\n",
       "      <td>41</td>\n",
       "      <td>среднее</td>\n",
       "      <td>1</td>\n",
       "      <td>женат / замужем</td>\n",
       "      <td>0</td>\n",
       "      <td>M</td>\n",
       "      <td>сотрудник</td>\n",
       "      <td>0</td>\n",
       "      <td>144425</td>\n",
       "      <td>покупка жилья для семьи</td>\n",
       "    </tr>\n",
       "  </tbody>\n",
       "</table>\n",
       "</div>"
      ],
      "text/plain": [
       "   children  days_employed  dob_years education  education_id  \\\n",
       "0         1    8437.673028         42    высшее             0   \n",
       "1         1    4024.803754         36   среднее             1   \n",
       "2         0    5623.422610         33   Среднее             1   \n",
       "3         3    4124.747207         32   среднее             1   \n",
       "4         0  340266.072047         53   среднее             1   \n",
       "5         0     926.185831         27    высшее             0   \n",
       "6         0    2879.202052         43    высшее             0   \n",
       "7         0     152.779569         50   СРЕДНЕЕ             1   \n",
       "8         2    6929.865299         35    ВЫСШЕЕ             0   \n",
       "9         0    2188.756445         41   среднее             1   \n",
       "\n",
       "      family_status  family_status_id gender income_type  debt  total_income  \\\n",
       "0   женат / замужем                 0      F   сотрудник     0        253875   \n",
       "1   женат / замужем                 0      F   сотрудник     0        112080   \n",
       "2   женат / замужем                 0      M   сотрудник     0        145885   \n",
       "3   женат / замужем                 0      M   сотрудник     0        267628   \n",
       "4  гражданский брак                 1      F   пенсионер     0        158616   \n",
       "5  гражданский брак                 1      M   компаньон     0        255763   \n",
       "6   женат / замужем                 0      F   компаньон     0        240525   \n",
       "7   женат / замужем                 0      M   сотрудник     0        135823   \n",
       "8  гражданский брак                 1      F   сотрудник     0         95856   \n",
       "9   женат / замужем                 0      M   сотрудник     0        144425   \n",
       "\n",
       "                      purpose  \n",
       "0               покупка жилья  \n",
       "1     приобретение автомобиля  \n",
       "2               покупка жилья  \n",
       "3  дополнительное образование  \n",
       "4             сыграть свадьбу  \n",
       "5               покупка жилья  \n",
       "6           операции с жильем  \n",
       "7                 образование  \n",
       "8       на проведение свадьбы  \n",
       "9     покупка жилья для семьи  "
      ]
     },
     "execution_count": 21,
     "metadata": {},
     "output_type": "execute_result"
    }
   ],
   "source": [
    "clients.head(10)"
   ]
  },
  {
   "cell_type": "markdown",
   "id": "f852a814",
   "metadata": {},
   "source": [
    "Данные приведены к типам, удобным для работы."
   ]
  },
  {
   "cell_type": "markdown",
   "id": "5658a81a",
   "metadata": {},
   "source": [
    "# 2.4. Обработка дубликатов\n",
    "\n",
    "Проверим, имеются ли в исходной таблице явные дубликаты:\n",
    "\n",
    "# подсчёт явных дубликатов:"
   ]
  },
  {
   "cell_type": "code",
   "execution_count": 22,
   "id": "978442bf",
   "metadata": {},
   "outputs": [
    {
     "data": {
      "text/plain": [
       "54"
      ]
     },
     "execution_count": 22,
     "metadata": {},
     "output_type": "execute_result"
    }
   ],
   "source": [
    "clients.duplicated().sum()"
   ]
  },
  {
   "cell_type": "markdown",
   "id": "0898e8b7",
   "metadata": {},
   "source": [
    "То есть, в таблице есть 54 одинковых строки - вероятно, данные каких-то клиенов были загружены несколько раз, либо они подали несколько одинаковых анкет. В любом случае, дубликаты нужно удалить и убедиться, что мы от них действительно избавились:\n",
    "\n",
    "# удаление явных дубликатов и проверка наличия дубликатов после работы кода:"
   ]
  },
  {
   "cell_type": "code",
   "execution_count": 23,
   "id": "224e3ca4",
   "metadata": {},
   "outputs": [
    {
     "data": {
      "text/plain": [
       "0"
      ]
     },
     "execution_count": 23,
     "metadata": {},
     "output_type": "execute_result"
    }
   ],
   "source": [
    "clients = clients.drop_duplicates().reset_index(drop=True)\n",
    "clients.duplicated().sum()"
   ]
  },
  {
   "cell_type": "markdown",
   "id": "439c863c",
   "metadata": {},
   "source": [
    "Разумеется, количество данных при этом уменьшилось. Определим, данные о скольки клиентах мы теперь имеем:\n",
    "\n",
    "# получение общей информации о данных в обновлённой таблице clients:\n"
   ]
  },
  {
   "cell_type": "code",
   "execution_count": 24,
   "id": "1783319a",
   "metadata": {},
   "outputs": [
    {
     "name": "stdout",
     "output_type": "stream",
     "text": [
      "<class 'pandas.core.frame.DataFrame'>\n",
      "RangeIndex: 21471 entries, 0 to 21470\n",
      "Data columns (total 12 columns):\n",
      " #   Column            Non-Null Count  Dtype  \n",
      "---  ------            --------------  -----  \n",
      " 0   children          21471 non-null  int64  \n",
      " 1   days_employed     21471 non-null  float64\n",
      " 2   dob_years         21471 non-null  int64  \n",
      " 3   education         21471 non-null  object \n",
      " 4   education_id      21471 non-null  int64  \n",
      " 5   family_status     21471 non-null  object \n",
      " 6   family_status_id  21471 non-null  int64  \n",
      " 7   gender            21471 non-null  object \n",
      " 8   income_type       21471 non-null  object \n",
      " 9   debt              21471 non-null  int64  \n",
      " 10  total_income      21471 non-null  int64  \n",
      " 11  purpose           21471 non-null  object \n",
      "dtypes: float64(1), int64(6), object(5)\n",
      "memory usage: 2.0+ MB\n"
     ]
    }
   ],
   "source": [
    "clients.info()"
   ]
  },
  {
   "cell_type": "markdown",
   "id": "d37dcf63",
   "metadata": {},
   "source": [
    "Явных дубликатов больше нет, но в других колонках могут скрываться неявные. Нам важно проверить колонки `education`, `family_status`, `gender`, `income_type`, `purpose`, потому что данные в них имеют тип object. Найдём количество уникальных значений в каждом столбце:\n",
    "\n",
    "# подсчёт количества уникальных значений в столбце 'education':\n"
   ]
  },
  {
   "cell_type": "code",
   "execution_count": 25,
   "id": "5bf67281",
   "metadata": {},
   "outputs": [
    {
     "data": {
      "text/plain": [
       "среднее                13705\n",
       "высшее                  4710\n",
       "СРЕДНЕЕ                  772\n",
       "Среднее                  711\n",
       "неоконченное высшее      668\n",
       "ВЫСШЕЕ                   273\n",
       "Высшее                   268\n",
       "начальное                250\n",
       "Неоконченное высшее       47\n",
       "НЕОКОНЧЕННОЕ ВЫСШЕЕ       29\n",
       "НАЧАЛЬНОЕ                 17\n",
       "Начальное                 15\n",
       "ученая степень             4\n",
       "УЧЕНАЯ СТЕПЕНЬ             1\n",
       "Ученая степень             1\n",
       "Name: education, dtype: int64"
      ]
     },
     "execution_count": 25,
     "metadata": {},
     "output_type": "execute_result"
    }
   ],
   "source": [
    "clients['education'].value_counts(ascending=False)"
   ]
  },
  {
   "cell_type": "markdown",
   "id": "f6e465ed",
   "metadata": {},
   "source": [
    "Опечаток нет, поэтому для устранения неявных дубликатов достаточно просто привести все значения к нижнему регистру и проверить, сколько уникальных значений будет после замены:\n",
    "\n",
    "# приведение всех значений колонки 'education' к нижнему регистру \n",
    "# и проверка количества уникальных значений после срабатывания кода:"
   ]
  },
  {
   "cell_type": "code",
   "execution_count": 26,
   "id": "96fb084c",
   "metadata": {},
   "outputs": [
    {
     "data": {
      "text/plain": [
       "среднее                15188\n",
       "высшее                  5251\n",
       "неоконченное высшее      744\n",
       "начальное                282\n",
       "ученая степень             6\n",
       "Name: education, dtype: int64"
      ]
     },
     "execution_count": 26,
     "metadata": {},
     "output_type": "execute_result"
    }
   ],
   "source": [
    "clients['education'] = clients['education'].str.lower()\n",
    "clients['education'].value_counts(ascending=False)"
   ]
  },
  {
   "cell_type": "markdown",
   "id": "2a0bacd8",
   "metadata": {},
   "source": [
    "После приведения значений к нижнему регистру стоит еще разок проверить датафрейм на наличие явных дубликатов - они хитрее, чем кажутся)"
   ]
  },
  {
   "cell_type": "code",
   "execution_count": 27,
   "id": "f3c9a8ee",
   "metadata": {},
   "outputs": [
    {
     "data": {
      "text/plain": [
       "17"
      ]
     },
     "execution_count": 27,
     "metadata": {},
     "output_type": "execute_result"
    }
   ],
   "source": [
    "clients.duplicated().sum()"
   ]
  },
  {
   "cell_type": "markdown",
   "id": "c694a6f9",
   "metadata": {},
   "source": [
    "Вот же паразиты))). Уберём их."
   ]
  },
  {
   "cell_type": "code",
   "execution_count": 28,
   "id": "46fc7387",
   "metadata": {},
   "outputs": [
    {
     "data": {
      "text/plain": [
       "0"
      ]
     },
     "execution_count": 28,
     "metadata": {},
     "output_type": "execute_result"
    }
   ],
   "source": [
    "clients = clients.drop_duplicates().reset_index(drop=True)\n",
    "clients.duplicated().sum()"
   ]
  },
  {
   "cell_type": "markdown",
   "id": "19cf82e6",
   "metadata": {},
   "source": [
    "Теперь в колонке `education` нет неявных дубликатов. Больше всего потенциальных заёмщиков не имеют высшего образования. Надеюсь, они хотят получить деньги на образование? Мы сможем выяснить это чуть позже. <br>\n",
    "Пока нужно проверить на неявные дубликаты остальные столбцы. Действия будут аналогичны описанным выше. Проверим колонку \n",
    "# подсчёт количества уникальных значений в столбце 'family_status':"
   ]
  },
  {
   "cell_type": "code",
   "execution_count": 29,
   "id": "43aae440",
   "metadata": {},
   "outputs": [
    {
     "data": {
      "text/plain": [
       "женат / замужем          12339\n",
       "гражданский брак          4151\n",
       "Не женат / не замужем     2810\n",
       "в разводе                 1195\n",
       "вдовец / вдова             959\n",
       "Name: family_status, dtype: int64"
      ]
     },
     "execution_count": 29,
     "metadata": {},
     "output_type": "execute_result"
    }
   ],
   "source": [
    "clients['family_status'].value_counts(ascending=False)"
   ]
  },
  {
   "cell_type": "markdown",
   "id": "729d4e03",
   "metadata": {},
   "source": [
    "Отлично, неявных дубликатов нет. Но для красоты и удобства хотелось бы привести к нижнему регистру все символы:\n",
    "\n",
    "# приведение всех значений колонки 'family_status' к нижнему регистру \n",
    "# и проверка количества уникальных значений после срабатывания кода:"
   ]
  },
  {
   "cell_type": "code",
   "execution_count": 30,
   "id": "f8793081",
   "metadata": {},
   "outputs": [
    {
     "data": {
      "text/plain": [
       "женат / замужем          12339\n",
       "гражданский брак          4151\n",
       "не женат / не замужем     2810\n",
       "в разводе                 1195\n",
       "вдовец / вдова             959\n",
       "Name: family_status, dtype: int64"
      ]
     },
     "execution_count": 30,
     "metadata": {},
     "output_type": "execute_result"
    }
   ],
   "source": [
    "clients['family_status'] = clients['family_status'].str.lower()\n",
    "clients['family_status'].value_counts(ascending=False)"
   ]
  },
  {
   "cell_type": "markdown",
   "id": "398ad811",
   "metadata": {},
   "source": [
    "Так лучше. Теперь займемся колонкой  `gender`. Очень надеюсь, что их будет только два.\n",
    "\n",
    "# подсчёт количества уникальных значений в столбце 'gender':"
   ]
  },
  {
   "cell_type": "code",
   "execution_count": 31,
   "id": "52b66e66",
   "metadata": {},
   "outputs": [
    {
     "data": {
      "text/plain": [
       "F      14174\n",
       "M       7279\n",
       "XNA        1\n",
       "Name: gender, dtype: int64"
      ]
     },
     "execution_count": 31,
     "metadata": {},
     "output_type": "execute_result"
    }
   ],
   "source": [
    "clients['gender'].value_counts(ascending=False)"
   ]
  },
  {
   "cell_type": "markdown",
   "id": "d962584c",
   "metadata": {},
   "source": [
    "🤦‍♀️ Это что за фигня?\n",
    "\n",
    "# вывод строки таблицы с неопределённым полом:"
   ]
  },
  {
   "cell_type": "code",
   "execution_count": 32,
   "id": "e2f81f9f",
   "metadata": {},
   "outputs": [
    {
     "data": {
      "text/html": [
       "<div>\n",
       "<style scoped>\n",
       "    .dataframe tbody tr th:only-of-type {\n",
       "        vertical-align: middle;\n",
       "    }\n",
       "\n",
       "    .dataframe tbody tr th {\n",
       "        vertical-align: top;\n",
       "    }\n",
       "\n",
       "    .dataframe thead th {\n",
       "        text-align: right;\n",
       "    }\n",
       "</style>\n",
       "<table border=\"1\" class=\"dataframe\">\n",
       "  <thead>\n",
       "    <tr style=\"text-align: right;\">\n",
       "      <th></th>\n",
       "      <th>children</th>\n",
       "      <th>days_employed</th>\n",
       "      <th>dob_years</th>\n",
       "      <th>education</th>\n",
       "      <th>education_id</th>\n",
       "      <th>family_status</th>\n",
       "      <th>family_status_id</th>\n",
       "      <th>gender</th>\n",
       "      <th>income_type</th>\n",
       "      <th>debt</th>\n",
       "      <th>total_income</th>\n",
       "      <th>purpose</th>\n",
       "    </tr>\n",
       "  </thead>\n",
       "  <tbody>\n",
       "    <tr>\n",
       "      <th>10684</th>\n",
       "      <td>0</td>\n",
       "      <td>2358.600502</td>\n",
       "      <td>24</td>\n",
       "      <td>неоконченное высшее</td>\n",
       "      <td>2</td>\n",
       "      <td>гражданский брак</td>\n",
       "      <td>1</td>\n",
       "      <td>XNA</td>\n",
       "      <td>компаньон</td>\n",
       "      <td>0</td>\n",
       "      <td>203905</td>\n",
       "      <td>покупка недвижимости</td>\n",
       "    </tr>\n",
       "  </tbody>\n",
       "</table>\n",
       "</div>"
      ],
      "text/plain": [
       "       children  days_employed  dob_years            education  education_id  \\\n",
       "10684         0    2358.600502         24  неоконченное высшее             2   \n",
       "\n",
       "          family_status  family_status_id gender income_type  debt  \\\n",
       "10684  гражданский брак                 1    XNA   компаньон     0   \n",
       "\n",
       "       total_income               purpose  \n",
       "10684        203905  покупка недвижимости  "
      ]
     },
     "execution_count": 32,
     "metadata": {},
     "output_type": "execute_result"
    }
   ],
   "source": [
    "clients.loc[clients['gender'] == 'XNA']"
   ]
  },
  {
   "cell_type": "markdown",
   "id": "7646822d",
   "metadata": {},
   "source": [
    "Ладно. У нас позитивный проект, так что буду думать, что он просто не определился с полом, поругался на этой почве с родителями и хочет съехать в новую квартиру. Желаем удачи! <br> \n",
    "Было принято решение присвоить ему мужской пол, чтобы не выбивался из таблицы.\n",
    "\n",
    "# замена значения в ячейке с непонятным полом на мужской\n",
    "# проверка на неявные дубликаты после срабатывания кода:"
   ]
  },
  {
   "cell_type": "code",
   "execution_count": 33,
   "id": "a05f66ec",
   "metadata": {},
   "outputs": [
    {
     "data": {
      "text/plain": [
       "F      14173\n",
       "M       7280\n",
       "XNA        1\n",
       "Name: gender, dtype: int64"
      ]
     },
     "execution_count": 33,
     "metadata": {},
     "output_type": "execute_result"
    }
   ],
   "source": [
    "clients.loc[10690,'gender'] = 'M'\n",
    "clients['gender'].value_counts(ascending=False)"
   ]
  },
  {
   "cell_type": "markdown",
   "id": "751a760a",
   "metadata": {},
   "source": [
    "Похоже, имеем дело с диктатурой видимо мы В СЕВЕРНОЙ КОРЕЕ)\n",
    "</div>\n",
    "\n",
    "Теперь в колонке `gender` нет ничего странного. Займёмся колонкой `income_type`:\n",
    "\n",
    "# подсчёт количества уникальных значений в столбце 'income_type':"
   ]
  },
  {
   "cell_type": "code",
   "execution_count": 34,
   "id": "fa171238",
   "metadata": {},
   "outputs": [
    {
     "data": {
      "text/plain": [
       "сотрудник          11084\n",
       "компаньон           5078\n",
       "пенсионер           3829\n",
       "госслужащий         1457\n",
       "предприниматель        2\n",
       "безработный            2\n",
       "в декрете              1\n",
       "студент                1\n",
       "Name: income_type, dtype: int64"
      ]
     },
     "execution_count": 34,
     "metadata": {},
     "output_type": "execute_result"
    }
   ],
   "source": [
    "clients['income_type'].value_counts(ascending=False)"
   ]
  },
  {
   "cell_type": "markdown",
   "id": "87deb70b",
   "metadata": {},
   "source": [
    "Отлично, в этой колонке нет неявных дубликатов. Проверим `purpose`:\n",
    "\n",
    "# подсчёт количества уникальных значений в столбце 'purpose':\n"
   ]
  },
  {
   "cell_type": "code",
   "execution_count": 35,
   "id": "cfa453f2",
   "metadata": {},
   "outputs": [
    {
     "data": {
      "text/plain": [
       "свадьба                                   791\n",
       "на проведение свадьбы                     768\n",
       "сыграть свадьбу                           765\n",
       "операции с недвижимостью                  675\n",
       "покупка коммерческой недвижимости         661\n",
       "операции с жильем                         652\n",
       "покупка жилья для сдачи                   651\n",
       "операции с коммерческой недвижимостью     650\n",
       "жилье                                     646\n",
       "покупка жилья                             646\n",
       "покупка жилья для семьи                   638\n",
       "строительство собственной недвижимости    635\n",
       "недвижимость                              633\n",
       "операции со своей недвижимостью           627\n",
       "строительство жилой недвижимости          624\n",
       "покупка недвижимости                      621\n",
       "покупка своего жилья                      620\n",
       "строительство недвижимости                619\n",
       "ремонт жилью                              607\n",
       "покупка жилой недвижимости                606\n",
       "на покупку своего автомобиля              505\n",
       "заняться высшим образованием              496\n",
       "автомобиль                                494\n",
       "сделка с подержанным автомобилем          486\n",
       "на покупку подержанного автомобиля        478\n",
       "автомобили                                478\n",
       "свой автомобиль                           478\n",
       "на покупку автомобиля                     471\n",
       "приобретение автомобиля                   461\n",
       "дополнительное образование                460\n",
       "сделка с автомобилем                      455\n",
       "высшее образование                        452\n",
       "образование                               447\n",
       "получение дополнительного образования     446\n",
       "получение образования                     442\n",
       "профильное образование                    436\n",
       "получение высшего образования             426\n",
       "заняться образованием                     408\n",
       "Name: purpose, dtype: int64"
      ]
     },
     "execution_count": 35,
     "metadata": {},
     "output_type": "execute_result"
    }
   ],
   "source": [
    "clients['purpose'].value_counts(ascending=False)"
   ]
  },
  {
   "cell_type": "markdown",
   "id": "b3d50eb6",
   "metadata": {},
   "source": [
    "Многие цели схожи по смыслу, но записаны по-разному, потому что формулируют их люди. А ведь если бы клиенту при заполнении анкеты нужно было просто выбрать один из вариантов выпадающего списка, обрабатывать данные было куда проще... <br>\n",
    "\n",
    "На этом этапе все дубликаты обработаны."
   ]
  },
  {
   "cell_type": "markdown",
   "id": "2b742ae3",
   "metadata": {},
   "source": [
    "# 2.5. Категоризация данных"
   ]
  },
  {
   "cell_type": "markdown",
   "id": "929a517c",
   "metadata": {},
   "source": [
    "Менять все возможные значения ячеек вручную будет неудобно, поэтому напишем функцию, которая на основании данных из столбца `purpose` сформирует новый столбец `purpose_category`, включающий следующие категории:\n",
    "- операции с автомобилем,\n",
    "- операции с недвижимостью,\n",
    "- проведение свадьбы,\n",
    "- получение образования.\n",
    "\n",
    "Если в цели, записанной клиентом, будут встречаться слова-триггеры, функция автоматически распределит её в ту или иную категорию.\n",
    "\n",
    "# создание функции purpose_category(purpose) для определения категории, к которой относится цель займа\n",
    "# если в параметре есть 'автомобил', то она относит цель к категории'операции с автомобилем';\n",
    "# если в параметре есть 'недвиж' или 'жил', то цель будет отнесена к категории 'операции с недвижимостью'\n",
    "# и т.п."
   ]
  },
  {
   "cell_type": "code",
   "execution_count": 36,
   "id": "19ca764c",
   "metadata": {},
   "outputs": [],
   "source": [
    "def purpose_category(purpose):\n",
    "    if 'автомобил' in purpose:\n",
    "        return 'операции с автомобилем'\n",
    "    if ('недвиж' in purpose) | ('жил' in purpose):\n",
    "        return 'операции с недвижимостью'\n",
    "    if 'свадьб' in purpose:\n",
    "        return 'проведение свадьбы'\n",
    "    return 'получение образования'"
   ]
  },
  {
   "cell_type": "markdown",
   "id": "86431b27",
   "metadata": {},
   "source": [
    "Проверим работоспособность функции. Для этого присвоим разные значения аргумента и посмотрим на результат:\n",
    "\n",
    "# присвоение параметру purpose значиния 'свадьба'. Ожидаемый вывод: 'проведение свадьбы'\n"
   ]
  },
  {
   "cell_type": "code",
   "execution_count": 37,
   "id": "eea56aaa",
   "metadata": {},
   "outputs": [
    {
     "data": {
      "text/plain": [
       "'проведение свадьбы'"
      ]
     },
     "execution_count": 37,
     "metadata": {},
     "output_type": "execute_result"
    }
   ],
   "source": [
    "purpose_category('свадьба')"
   ]
  },
  {
   "cell_type": "markdown",
   "id": "79d84857",
   "metadata": {},
   "source": [
    "# присвоение параметру purpose значиния 'покупка коммерческой недвижимости'. Ожидаемый вывод: 'операции с недвижимостью'"
   ]
  },
  {
   "cell_type": "code",
   "execution_count": 38,
   "id": "8ebe790b",
   "metadata": {},
   "outputs": [
    {
     "data": {
      "text/plain": [
       "'операции с недвижимостью'"
      ]
     },
     "execution_count": 38,
     "metadata": {},
     "output_type": "execute_result"
    }
   ],
   "source": [
    "purpose_category('покупка коммерческой недвижимости')"
   ]
  },
  {
   "cell_type": "markdown",
   "id": "9c2b5f8a",
   "metadata": {},
   "source": [
    "# присвоение параметру purpose значиния 'на покупку автомобиля'. Ожидаемый вывод: 'операции с автомобилем'"
   ]
  },
  {
   "cell_type": "code",
   "execution_count": 39,
   "id": "28c997ae",
   "metadata": {},
   "outputs": [
    {
     "data": {
      "text/plain": [
       "'операции с автомобилем'"
      ]
     },
     "execution_count": 39,
     "metadata": {},
     "output_type": "execute_result"
    }
   ],
   "source": [
    "purpose_category('на покупку автомобиля')"
   ]
  },
  {
   "cell_type": "markdown",
   "id": "3bbbdfc0",
   "metadata": {},
   "source": [
    "# присвоение параметру purpose значиния 'получение высшего образования'. Ожидаемый вывод: ''получение образования''"
   ]
  },
  {
   "cell_type": "code",
   "execution_count": 40,
   "id": "f7122486",
   "metadata": {},
   "outputs": [
    {
     "data": {
      "text/plain": [
       "'получение образования'"
      ]
     },
     "execution_count": 40,
     "metadata": {},
     "output_type": "execute_result"
    }
   ],
   "source": [
    "purpose_category('получение высшего образования')"
   ]
  },
  {
   "cell_type": "markdown",
   "id": "e615fde2",
   "metadata": {},
   "source": [
    "Функция работает верно. Осталось сформировать колонку `purpose_category` в исходной таблице и вывести результат на экран:\n"
   ]
  },
  {
   "cell_type": "markdown",
   "id": "06bd1e0d",
   "metadata": {},
   "source": [
    "# добавление нового столбца, в котором содержится значение функции 'purpose_category', примененной \n",
    "# к параметру в столбце 'purpose'\n",
    "# вывод десяти первых строк на экран"
   ]
  },
  {
   "cell_type": "code",
   "execution_count": 41,
   "id": "456c3ee4",
   "metadata": {},
   "outputs": [
    {
     "data": {
      "text/html": [
       "<div>\n",
       "<style scoped>\n",
       "    .dataframe tbody tr th:only-of-type {\n",
       "        vertical-align: middle;\n",
       "    }\n",
       "\n",
       "    .dataframe tbody tr th {\n",
       "        vertical-align: top;\n",
       "    }\n",
       "\n",
       "    .dataframe thead th {\n",
       "        text-align: right;\n",
       "    }\n",
       "</style>\n",
       "<table border=\"1\" class=\"dataframe\">\n",
       "  <thead>\n",
       "    <tr style=\"text-align: right;\">\n",
       "      <th></th>\n",
       "      <th>children</th>\n",
       "      <th>days_employed</th>\n",
       "      <th>dob_years</th>\n",
       "      <th>education</th>\n",
       "      <th>education_id</th>\n",
       "      <th>family_status</th>\n",
       "      <th>family_status_id</th>\n",
       "      <th>gender</th>\n",
       "      <th>income_type</th>\n",
       "      <th>debt</th>\n",
       "      <th>total_income</th>\n",
       "      <th>purpose</th>\n",
       "      <th>purpose_category</th>\n",
       "    </tr>\n",
       "  </thead>\n",
       "  <tbody>\n",
       "    <tr>\n",
       "      <th>0</th>\n",
       "      <td>1</td>\n",
       "      <td>8437.673028</td>\n",
       "      <td>42</td>\n",
       "      <td>высшее</td>\n",
       "      <td>0</td>\n",
       "      <td>женат / замужем</td>\n",
       "      <td>0</td>\n",
       "      <td>F</td>\n",
       "      <td>сотрудник</td>\n",
       "      <td>0</td>\n",
       "      <td>253875</td>\n",
       "      <td>покупка жилья</td>\n",
       "      <td>операции с недвижимостью</td>\n",
       "    </tr>\n",
       "    <tr>\n",
       "      <th>1</th>\n",
       "      <td>1</td>\n",
       "      <td>4024.803754</td>\n",
       "      <td>36</td>\n",
       "      <td>среднее</td>\n",
       "      <td>1</td>\n",
       "      <td>женат / замужем</td>\n",
       "      <td>0</td>\n",
       "      <td>F</td>\n",
       "      <td>сотрудник</td>\n",
       "      <td>0</td>\n",
       "      <td>112080</td>\n",
       "      <td>приобретение автомобиля</td>\n",
       "      <td>операции с автомобилем</td>\n",
       "    </tr>\n",
       "    <tr>\n",
       "      <th>2</th>\n",
       "      <td>0</td>\n",
       "      <td>5623.422610</td>\n",
       "      <td>33</td>\n",
       "      <td>среднее</td>\n",
       "      <td>1</td>\n",
       "      <td>женат / замужем</td>\n",
       "      <td>0</td>\n",
       "      <td>M</td>\n",
       "      <td>сотрудник</td>\n",
       "      <td>0</td>\n",
       "      <td>145885</td>\n",
       "      <td>покупка жилья</td>\n",
       "      <td>операции с недвижимостью</td>\n",
       "    </tr>\n",
       "    <tr>\n",
       "      <th>3</th>\n",
       "      <td>3</td>\n",
       "      <td>4124.747207</td>\n",
       "      <td>32</td>\n",
       "      <td>среднее</td>\n",
       "      <td>1</td>\n",
       "      <td>женат / замужем</td>\n",
       "      <td>0</td>\n",
       "      <td>M</td>\n",
       "      <td>сотрудник</td>\n",
       "      <td>0</td>\n",
       "      <td>267628</td>\n",
       "      <td>дополнительное образование</td>\n",
       "      <td>получение образования</td>\n",
       "    </tr>\n",
       "    <tr>\n",
       "      <th>4</th>\n",
       "      <td>0</td>\n",
       "      <td>340266.072047</td>\n",
       "      <td>53</td>\n",
       "      <td>среднее</td>\n",
       "      <td>1</td>\n",
       "      <td>гражданский брак</td>\n",
       "      <td>1</td>\n",
       "      <td>F</td>\n",
       "      <td>пенсионер</td>\n",
       "      <td>0</td>\n",
       "      <td>158616</td>\n",
       "      <td>сыграть свадьбу</td>\n",
       "      <td>проведение свадьбы</td>\n",
       "    </tr>\n",
       "    <tr>\n",
       "      <th>5</th>\n",
       "      <td>0</td>\n",
       "      <td>926.185831</td>\n",
       "      <td>27</td>\n",
       "      <td>высшее</td>\n",
       "      <td>0</td>\n",
       "      <td>гражданский брак</td>\n",
       "      <td>1</td>\n",
       "      <td>M</td>\n",
       "      <td>компаньон</td>\n",
       "      <td>0</td>\n",
       "      <td>255763</td>\n",
       "      <td>покупка жилья</td>\n",
       "      <td>операции с недвижимостью</td>\n",
       "    </tr>\n",
       "    <tr>\n",
       "      <th>6</th>\n",
       "      <td>0</td>\n",
       "      <td>2879.202052</td>\n",
       "      <td>43</td>\n",
       "      <td>высшее</td>\n",
       "      <td>0</td>\n",
       "      <td>женат / замужем</td>\n",
       "      <td>0</td>\n",
       "      <td>F</td>\n",
       "      <td>компаньон</td>\n",
       "      <td>0</td>\n",
       "      <td>240525</td>\n",
       "      <td>операции с жильем</td>\n",
       "      <td>операции с недвижимостью</td>\n",
       "    </tr>\n",
       "    <tr>\n",
       "      <th>7</th>\n",
       "      <td>0</td>\n",
       "      <td>152.779569</td>\n",
       "      <td>50</td>\n",
       "      <td>среднее</td>\n",
       "      <td>1</td>\n",
       "      <td>женат / замужем</td>\n",
       "      <td>0</td>\n",
       "      <td>M</td>\n",
       "      <td>сотрудник</td>\n",
       "      <td>0</td>\n",
       "      <td>135823</td>\n",
       "      <td>образование</td>\n",
       "      <td>получение образования</td>\n",
       "    </tr>\n",
       "    <tr>\n",
       "      <th>8</th>\n",
       "      <td>2</td>\n",
       "      <td>6929.865299</td>\n",
       "      <td>35</td>\n",
       "      <td>высшее</td>\n",
       "      <td>0</td>\n",
       "      <td>гражданский брак</td>\n",
       "      <td>1</td>\n",
       "      <td>F</td>\n",
       "      <td>сотрудник</td>\n",
       "      <td>0</td>\n",
       "      <td>95856</td>\n",
       "      <td>на проведение свадьбы</td>\n",
       "      <td>проведение свадьбы</td>\n",
       "    </tr>\n",
       "    <tr>\n",
       "      <th>9</th>\n",
       "      <td>0</td>\n",
       "      <td>2188.756445</td>\n",
       "      <td>41</td>\n",
       "      <td>среднее</td>\n",
       "      <td>1</td>\n",
       "      <td>женат / замужем</td>\n",
       "      <td>0</td>\n",
       "      <td>M</td>\n",
       "      <td>сотрудник</td>\n",
       "      <td>0</td>\n",
       "      <td>144425</td>\n",
       "      <td>покупка жилья для семьи</td>\n",
       "      <td>операции с недвижимостью</td>\n",
       "    </tr>\n",
       "  </tbody>\n",
       "</table>\n",
       "</div>"
      ],
      "text/plain": [
       "   children  days_employed  dob_years education  education_id  \\\n",
       "0         1    8437.673028         42    высшее             0   \n",
       "1         1    4024.803754         36   среднее             1   \n",
       "2         0    5623.422610         33   среднее             1   \n",
       "3         3    4124.747207         32   среднее             1   \n",
       "4         0  340266.072047         53   среднее             1   \n",
       "5         0     926.185831         27    высшее             0   \n",
       "6         0    2879.202052         43    высшее             0   \n",
       "7         0     152.779569         50   среднее             1   \n",
       "8         2    6929.865299         35    высшее             0   \n",
       "9         0    2188.756445         41   среднее             1   \n",
       "\n",
       "      family_status  family_status_id gender income_type  debt  total_income  \\\n",
       "0   женат / замужем                 0      F   сотрудник     0        253875   \n",
       "1   женат / замужем                 0      F   сотрудник     0        112080   \n",
       "2   женат / замужем                 0      M   сотрудник     0        145885   \n",
       "3   женат / замужем                 0      M   сотрудник     0        267628   \n",
       "4  гражданский брак                 1      F   пенсионер     0        158616   \n",
       "5  гражданский брак                 1      M   компаньон     0        255763   \n",
       "6   женат / замужем                 0      F   компаньон     0        240525   \n",
       "7   женат / замужем                 0      M   сотрудник     0        135823   \n",
       "8  гражданский брак                 1      F   сотрудник     0         95856   \n",
       "9   женат / замужем                 0      M   сотрудник     0        144425   \n",
       "\n",
       "                      purpose          purpose_category  \n",
       "0               покупка жилья  операции с недвижимостью  \n",
       "1     приобретение автомобиля    операции с автомобилем  \n",
       "2               покупка жилья  операции с недвижимостью  \n",
       "3  дополнительное образование     получение образования  \n",
       "4             сыграть свадьбу        проведение свадьбы  \n",
       "5               покупка жилья  операции с недвижимостью  \n",
       "6           операции с жильем  операции с недвижимостью  \n",
       "7                 образование     получение образования  \n",
       "8       на проведение свадьбы        проведение свадьбы  \n",
       "9     покупка жилья для семьи  операции с недвижимостью  "
      ]
     },
     "execution_count": 41,
     "metadata": {},
     "output_type": "execute_result"
    }
   ],
   "source": [
    "clients['purpose_category'] = clients['purpose'].apply(purpose_category)\n",
    "clients.head(10)"
   ]
  },
  {
   "cell_type": "markdown",
   "id": "f641cd21",
   "metadata": {},
   "source": [
    "Рассмотрим, как цели кредитов распределились по категориям. Для этого пересчитаем количество уникальных значений в колонке `purpose_category`:\n",
    "\n",
    "# подсчёт количества уникальных значений в колонке 'purpose_category':"
   ]
  },
  {
   "cell_type": "code",
   "execution_count": 42,
   "id": "9f5acdee",
   "metadata": {},
   "outputs": [
    {
     "data": {
      "text/plain": [
       "операции с недвижимостью    10811\n",
       "операции с автомобилем       4306\n",
       "получение образования        4013\n",
       "проведение свадьбы           2324\n",
       "Name: purpose_category, dtype: int64"
      ]
     },
     "execution_count": 42,
     "metadata": {},
     "output_type": "execute_result"
    }
   ],
   "source": [
    "clients['purpose_category'].value_counts(ascending=False)"
   ]
  },
  {
   "cell_type": "markdown",
   "id": "903dd1d0",
   "metadata": {},
   "source": [
    "Чаще всего деньги в этом банке занимают на операции с недвижимостью. <br>\n",
    "А ещё теперь можно ответить на вопрос, поставленный в пункте 2.4: на что люди без высшего образования чаще берут кредиты? Для этого составим отдельную таблицу, содержащую данные только по клиентам, не имеющим высшего образования. Далее посчитаем количество уникальных значений в колонке `purpose_category`, чтобы понять, на что они берут кредит.\n"
   ]
  },
  {
   "cell_type": "code",
   "execution_count": 43,
   "id": "7f75223f",
   "metadata": {},
   "outputs": [
    {
     "data": {
      "text/plain": [
       "array(['среднее', 'неоконченное высшее', 'начальное'], dtype=object)"
      ]
     },
     "execution_count": 43,
     "metadata": {},
     "output_type": "execute_result"
    }
   ],
   "source": [
    "clients[~clients['education'].isin(['высшее', 'ученая степень'])].education.unique()\n"
   ]
  },
  {
   "cell_type": "markdown",
   "id": "5af806a7",
   "metadata": {},
   "source": [
    "# создание таблицы, не содержащей клиентов с высшим образованием и ученой степенью\n",
    "# закоментированный код, который не сработал, но имел ту же цель, что и верхний\n",
    "# подсчёт уникальных значений в колоке 'purpose_category'."
   ]
  },
  {
   "cell_type": "code",
   "execution_count": 44,
   "id": "41f2f0ed",
   "metadata": {},
   "outputs": [
    {
     "data": {
      "text/plain": [
       "операции с недвижимостью    8126\n",
       "операции с автомобилем      3270\n",
       "получение образования       3078\n",
       "проведение свадьбы          1724\n",
       "Name: purpose_category, dtype: int64"
      ]
     },
     "execution_count": 44,
     "metadata": {},
     "output_type": "execute_result"
    }
   ],
   "source": [
    "clients_education_purpose = clients[~clients['education'].isin(['высшее', 'ученая степень'])]\n",
    "clients_education_purpose['purpose_category'].value_counts(ascending=False)\n"
   ]
  },
  {
   "cell_type": "markdown",
   "id": "11d6e959",
   "metadata": {},
   "source": [
    "Судя по тому, что распределения по категориям для обоих групп одинаковое, желания людей без высшего образования мало чем отличаются от желаний образованных людей, в том числе и в области совершенствования умений и навыков 🤷🏼‍♀️. <br>\n",
    "Но это мы отвлеклись. Следует также поработать с колонкой total_income - ежемесячный доход клиента. Логично, что сколько клиентов, столько и будет значений дохода, и разброс, как мы заметили в п. 2.2, большой. <br>\n",
    "Анализировать эти данные будет удобнее, если также разбить на категории и добавить соответствующий столбец к таблице.\n",
    "- 0–30000 — 'E';\n",
    "- 30001–50000 — 'D';\n",
    "- 50001–200000 — 'C';\n",
    "- 200001–1000000 — 'B';\n",
    "- 1000001 и выше — 'A'.\n",
    "\n",
    "# создание функции total_income_category(total_income) для определения категории, \n",
    "# к которой относится величина дохода"
   ]
  },
  {
   "cell_type": "code",
   "execution_count": 45,
   "id": "bf6ffcf1",
   "metadata": {},
   "outputs": [],
   "source": [
    "def total_income_category(total_income):\n",
    "    if total_income <= 30000:\n",
    "        return 'E'\n",
    "    if total_income <= 50000:\n",
    "        return 'D'\n",
    "    if total_income <= 200000:\n",
    "        return 'C'\n",
    "    if total_income <= 1000000:\n",
    "        return 'B'\n",
    "    return 'A'"
   ]
  },
  {
   "cell_type": "markdown",
   "id": "5a7562be",
   "metadata": {},
   "source": [
    "Проверим, как функция работает при разном значении параметра.\n",
    "\n",
    "# присвоение параметру total_income значиния 20000. Ожидаемый вывод: 'E'"
   ]
  },
  {
   "cell_type": "code",
   "execution_count": 46,
   "id": "e4390f70",
   "metadata": {},
   "outputs": [
    {
     "data": {
      "text/plain": [
       "'E'"
      ]
     },
     "execution_count": 46,
     "metadata": {},
     "output_type": "execute_result"
    }
   ],
   "source": [
    "total_income_category(20000)"
   ]
  },
  {
   "cell_type": "markdown",
   "id": "b3478f85",
   "metadata": {},
   "source": [
    "# присвоение параметру total_income значиния 40000. Ожидаемый вывод: 'D'"
   ]
  },
  {
   "cell_type": "code",
   "execution_count": 47,
   "id": "a0465ed8",
   "metadata": {},
   "outputs": [
    {
     "data": {
      "text/plain": [
       "'D'"
      ]
     },
     "execution_count": 47,
     "metadata": {},
     "output_type": "execute_result"
    }
   ],
   "source": [
    "total_income_category(40000)"
   ]
  },
  {
   "cell_type": "markdown",
   "id": "93257e41",
   "metadata": {},
   "source": [
    "# присвоение параметру total_income значиния 199000. Ожидаемый вывод: 'C'"
   ]
  },
  {
   "cell_type": "code",
   "execution_count": 48,
   "id": "f5ad184b",
   "metadata": {},
   "outputs": [
    {
     "data": {
      "text/plain": [
       "'C'"
      ]
     },
     "execution_count": 48,
     "metadata": {},
     "output_type": "execute_result"
    }
   ],
   "source": [
    "total_income_category(199000)"
   ]
  },
  {
   "cell_type": "markdown",
   "id": "3e02a8f7",
   "metadata": {},
   "source": [
    "\n",
    "# присвоение параметру total_income значиния 1000000. Ожидаемый вывод: 'B'"
   ]
  },
  {
   "cell_type": "code",
   "execution_count": 49,
   "id": "ad1a38f4",
   "metadata": {},
   "outputs": [
    {
     "data": {
      "text/plain": [
       "'B'"
      ]
     },
     "execution_count": 49,
     "metadata": {},
     "output_type": "execute_result"
    }
   ],
   "source": [
    "total_income_category(1000000)"
   ]
  },
  {
   "cell_type": "markdown",
   "id": "635804bd",
   "metadata": {},
   "source": [
    "# присвоение параметру total_income значиния 10000000. Ожидаемый вывод: 'A'"
   ]
  },
  {
   "cell_type": "code",
   "execution_count": 50,
   "id": "d93bb164",
   "metadata": {},
   "outputs": [
    {
     "data": {
      "text/plain": [
       "'A'"
      ]
     },
     "execution_count": 50,
     "metadata": {},
     "output_type": "execute_result"
    }
   ],
   "source": [
    "total_income_category(10000000)"
   ]
  },
  {
   "cell_type": "markdown",
   "id": "93a0ffe5",
   "metadata": {},
   "source": [
    "# добавление нового столбца, в котором содержится значение функции 'total_income_category',\n",
    "# примененной к параметру в столбце 'total_income'\n",
    "# вывод десяти рандомных строк на экран"
   ]
  },
  {
   "cell_type": "code",
   "execution_count": 51,
   "id": "7b63e8c9",
   "metadata": {},
   "outputs": [
    {
     "data": {
      "text/html": [
       "<div>\n",
       "<style scoped>\n",
       "    .dataframe tbody tr th:only-of-type {\n",
       "        vertical-align: middle;\n",
       "    }\n",
       "\n",
       "    .dataframe tbody tr th {\n",
       "        vertical-align: top;\n",
       "    }\n",
       "\n",
       "    .dataframe thead th {\n",
       "        text-align: right;\n",
       "    }\n",
       "</style>\n",
       "<table border=\"1\" class=\"dataframe\">\n",
       "  <thead>\n",
       "    <tr style=\"text-align: right;\">\n",
       "      <th></th>\n",
       "      <th>children</th>\n",
       "      <th>days_employed</th>\n",
       "      <th>dob_years</th>\n",
       "      <th>education</th>\n",
       "      <th>education_id</th>\n",
       "      <th>family_status</th>\n",
       "      <th>family_status_id</th>\n",
       "      <th>gender</th>\n",
       "      <th>income_type</th>\n",
       "      <th>debt</th>\n",
       "      <th>total_income</th>\n",
       "      <th>purpose</th>\n",
       "      <th>purpose_category</th>\n",
       "      <th>total_income_category</th>\n",
       "    </tr>\n",
       "  </thead>\n",
       "  <tbody>\n",
       "    <tr>\n",
       "      <th>11753</th>\n",
       "      <td>0</td>\n",
       "      <td>3202.079716</td>\n",
       "      <td>42</td>\n",
       "      <td>среднее</td>\n",
       "      <td>1</td>\n",
       "      <td>в разводе</td>\n",
       "      <td>3</td>\n",
       "      <td>F</td>\n",
       "      <td>компаньон</td>\n",
       "      <td>0</td>\n",
       "      <td>116811</td>\n",
       "      <td>операции с коммерческой недвижимостью</td>\n",
       "      <td>операции с недвижимостью</td>\n",
       "      <td>C</td>\n",
       "    </tr>\n",
       "    <tr>\n",
       "      <th>14815</th>\n",
       "      <td>0</td>\n",
       "      <td>374231.052924</td>\n",
       "      <td>61</td>\n",
       "      <td>среднее</td>\n",
       "      <td>1</td>\n",
       "      <td>в разводе</td>\n",
       "      <td>3</td>\n",
       "      <td>F</td>\n",
       "      <td>пенсионер</td>\n",
       "      <td>0</td>\n",
       "      <td>105164</td>\n",
       "      <td>автомобили</td>\n",
       "      <td>операции с автомобилем</td>\n",
       "      <td>C</td>\n",
       "    </tr>\n",
       "    <tr>\n",
       "      <th>9362</th>\n",
       "      <td>1</td>\n",
       "      <td>6499.966350</td>\n",
       "      <td>39</td>\n",
       "      <td>высшее</td>\n",
       "      <td>0</td>\n",
       "      <td>не женат / не замужем</td>\n",
       "      <td>4</td>\n",
       "      <td>F</td>\n",
       "      <td>сотрудник</td>\n",
       "      <td>0</td>\n",
       "      <td>240387</td>\n",
       "      <td>покупка коммерческой недвижимости</td>\n",
       "      <td>операции с недвижимостью</td>\n",
       "      <td>B</td>\n",
       "    </tr>\n",
       "    <tr>\n",
       "      <th>2669</th>\n",
       "      <td>2</td>\n",
       "      <td>2194.220567</td>\n",
       "      <td>35</td>\n",
       "      <td>среднее</td>\n",
       "      <td>1</td>\n",
       "      <td>женат / замужем</td>\n",
       "      <td>0</td>\n",
       "      <td>M</td>\n",
       "      <td>сотрудник</td>\n",
       "      <td>1</td>\n",
       "      <td>145017</td>\n",
       "      <td>покупка коммерческой недвижимости</td>\n",
       "      <td>операции с недвижимостью</td>\n",
       "      <td>C</td>\n",
       "    </tr>\n",
       "    <tr>\n",
       "      <th>3267</th>\n",
       "      <td>2</td>\n",
       "      <td>1760.805987</td>\n",
       "      <td>33</td>\n",
       "      <td>среднее</td>\n",
       "      <td>1</td>\n",
       "      <td>женат / замужем</td>\n",
       "      <td>0</td>\n",
       "      <td>F</td>\n",
       "      <td>госслужащий</td>\n",
       "      <td>0</td>\n",
       "      <td>171570</td>\n",
       "      <td>операции со своей недвижимостью</td>\n",
       "      <td>операции с недвижимостью</td>\n",
       "      <td>C</td>\n",
       "    </tr>\n",
       "    <tr>\n",
       "      <th>16804</th>\n",
       "      <td>0</td>\n",
       "      <td>5009.781684</td>\n",
       "      <td>40</td>\n",
       "      <td>высшее</td>\n",
       "      <td>0</td>\n",
       "      <td>женат / замужем</td>\n",
       "      <td>0</td>\n",
       "      <td>M</td>\n",
       "      <td>компаньон</td>\n",
       "      <td>0</td>\n",
       "      <td>167087</td>\n",
       "      <td>жилье</td>\n",
       "      <td>операции с недвижимостью</td>\n",
       "      <td>C</td>\n",
       "    </tr>\n",
       "    <tr>\n",
       "      <th>19633</th>\n",
       "      <td>0</td>\n",
       "      <td>2801.305002</td>\n",
       "      <td>30</td>\n",
       "      <td>среднее</td>\n",
       "      <td>1</td>\n",
       "      <td>гражданский брак</td>\n",
       "      <td>1</td>\n",
       "      <td>F</td>\n",
       "      <td>сотрудник</td>\n",
       "      <td>0</td>\n",
       "      <td>58070</td>\n",
       "      <td>сыграть свадьбу</td>\n",
       "      <td>проведение свадьбы</td>\n",
       "      <td>C</td>\n",
       "    </tr>\n",
       "    <tr>\n",
       "      <th>8971</th>\n",
       "      <td>0</td>\n",
       "      <td>375132.579377</td>\n",
       "      <td>54</td>\n",
       "      <td>среднее</td>\n",
       "      <td>1</td>\n",
       "      <td>женат / замужем</td>\n",
       "      <td>0</td>\n",
       "      <td>F</td>\n",
       "      <td>пенсионер</td>\n",
       "      <td>0</td>\n",
       "      <td>97341</td>\n",
       "      <td>покупка жилья для сдачи</td>\n",
       "      <td>операции с недвижимостью</td>\n",
       "      <td>C</td>\n",
       "    </tr>\n",
       "    <tr>\n",
       "      <th>16168</th>\n",
       "      <td>0</td>\n",
       "      <td>1956.844365</td>\n",
       "      <td>22</td>\n",
       "      <td>неоконченное высшее</td>\n",
       "      <td>2</td>\n",
       "      <td>женат / замужем</td>\n",
       "      <td>0</td>\n",
       "      <td>M</td>\n",
       "      <td>сотрудник</td>\n",
       "      <td>0</td>\n",
       "      <td>108451</td>\n",
       "      <td>получение дополнительного образования</td>\n",
       "      <td>получение образования</td>\n",
       "      <td>C</td>\n",
       "    </tr>\n",
       "    <tr>\n",
       "      <th>6015</th>\n",
       "      <td>0</td>\n",
       "      <td>1155.378328</td>\n",
       "      <td>39</td>\n",
       "      <td>среднее</td>\n",
       "      <td>1</td>\n",
       "      <td>гражданский брак</td>\n",
       "      <td>1</td>\n",
       "      <td>F</td>\n",
       "      <td>сотрудник</td>\n",
       "      <td>0</td>\n",
       "      <td>133178</td>\n",
       "      <td>операции с недвижимостью</td>\n",
       "      <td>операции с недвижимостью</td>\n",
       "      <td>C</td>\n",
       "    </tr>\n",
       "  </tbody>\n",
       "</table>\n",
       "</div>"
      ],
      "text/plain": [
       "       children  days_employed  dob_years            education  education_id  \\\n",
       "11753         0    3202.079716         42              среднее             1   \n",
       "14815         0  374231.052924         61              среднее             1   \n",
       "9362          1    6499.966350         39               высшее             0   \n",
       "2669          2    2194.220567         35              среднее             1   \n",
       "3267          2    1760.805987         33              среднее             1   \n",
       "16804         0    5009.781684         40               высшее             0   \n",
       "19633         0    2801.305002         30              среднее             1   \n",
       "8971          0  375132.579377         54              среднее             1   \n",
       "16168         0    1956.844365         22  неоконченное высшее             2   \n",
       "6015          0    1155.378328         39              среднее             1   \n",
       "\n",
       "               family_status  family_status_id gender  income_type  debt  \\\n",
       "11753              в разводе                 3      F    компаньон     0   \n",
       "14815              в разводе                 3      F    пенсионер     0   \n",
       "9362   не женат / не замужем                 4      F    сотрудник     0   \n",
       "2669         женат / замужем                 0      M    сотрудник     1   \n",
       "3267         женат / замужем                 0      F  госслужащий     0   \n",
       "16804        женат / замужем                 0      M    компаньон     0   \n",
       "19633       гражданский брак                 1      F    сотрудник     0   \n",
       "8971         женат / замужем                 0      F    пенсионер     0   \n",
       "16168        женат / замужем                 0      M    сотрудник     0   \n",
       "6015        гражданский брак                 1      F    сотрудник     0   \n",
       "\n",
       "       total_income                                purpose  \\\n",
       "11753        116811  операции с коммерческой недвижимостью   \n",
       "14815        105164                             автомобили   \n",
       "9362         240387      покупка коммерческой недвижимости   \n",
       "2669         145017      покупка коммерческой недвижимости   \n",
       "3267         171570        операции со своей недвижимостью   \n",
       "16804        167087                                  жилье   \n",
       "19633         58070                        сыграть свадьбу   \n",
       "8971          97341                покупка жилья для сдачи   \n",
       "16168        108451  получение дополнительного образования   \n",
       "6015         133178               операции с недвижимостью   \n",
       "\n",
       "               purpose_category total_income_category  \n",
       "11753  операции с недвижимостью                     C  \n",
       "14815    операции с автомобилем                     C  \n",
       "9362   операции с недвижимостью                     B  \n",
       "2669   операции с недвижимостью                     C  \n",
       "3267   операции с недвижимостью                     C  \n",
       "16804  операции с недвижимостью                     C  \n",
       "19633        проведение свадьбы                     C  \n",
       "8971   операции с недвижимостью                     C  \n",
       "16168     получение образования                     C  \n",
       "6015   операции с недвижимостью                     C  "
      ]
     },
     "execution_count": 51,
     "metadata": {},
     "output_type": "execute_result"
    }
   ],
   "source": [
    "clients['total_income_category'] = clients['total_income'].apply(total_income_category)\n",
    "clients.sample(10)"
   ]
  },
  {
   "cell_type": "markdown",
   "id": "f6d9a69c",
   "metadata": {},
   "source": [
    "Теперь в таблице есть 2 новые категории: цели займа и дохода клиента. Категоризация данных завершена."
   ]
  },
  {
   "cell_type": "markdown",
   "id": "13e6798d",
   "metadata": {},
   "source": [
    "# подсчёт уникальных значений в категории дохода:"
   ]
  },
  {
   "cell_type": "code",
   "execution_count": 52,
   "id": "1ebe0107",
   "metadata": {},
   "outputs": [
    {
     "data": {
      "text/plain": [
       "C    16016\n",
       "B     5041\n",
       "D      350\n",
       "A       25\n",
       "E       22\n",
       "Name: total_income_category, dtype: int64"
      ]
     },
     "execution_count": 52,
     "metadata": {},
     "output_type": "execute_result"
    }
   ],
   "source": [
    "clients['total_income_category'].value_counts()"
   ]
  },
  {
   "cell_type": "markdown",
   "id": "2405ff37",
   "metadata": {},
   "source": [
    "# 2.6. Оптимизация таблицы с учётом категоризации\n",
    "\n",
    "Таблица получилась очень широкая из-за того, что некоторые колонки фактически дублируют друг друга. Создадим отдельные таблицы со \"словарями\", а ненужные данные из исходной таблицы удалим. Например, у нас имеется колонка `education` и колонка `education_id` с соответствующими идентификаторами. Создадим новый датафрейм, содержащий только  `education` и `education_id` и выведем первые 10 строк на экран:\n",
    "\n",
    "# создание новой таблицы clients_education, содержащей только данные об образовании клиентов\n",
    "# и вывод первых 10 строк таблицы на экран"
   ]
  },
  {
   "cell_type": "code",
   "execution_count": 53,
   "id": "88b8135d",
   "metadata": {},
   "outputs": [
    {
     "data": {
      "text/html": [
       "<div>\n",
       "<style scoped>\n",
       "    .dataframe tbody tr th:only-of-type {\n",
       "        vertical-align: middle;\n",
       "    }\n",
       "\n",
       "    .dataframe tbody tr th {\n",
       "        vertical-align: top;\n",
       "    }\n",
       "\n",
       "    .dataframe thead th {\n",
       "        text-align: right;\n",
       "    }\n",
       "</style>\n",
       "<table border=\"1\" class=\"dataframe\">\n",
       "  <thead>\n",
       "    <tr style=\"text-align: right;\">\n",
       "      <th></th>\n",
       "      <th>education</th>\n",
       "      <th>education_id</th>\n",
       "    </tr>\n",
       "  </thead>\n",
       "  <tbody>\n",
       "    <tr>\n",
       "      <th>0</th>\n",
       "      <td>высшее</td>\n",
       "      <td>0</td>\n",
       "    </tr>\n",
       "    <tr>\n",
       "      <th>1</th>\n",
       "      <td>среднее</td>\n",
       "      <td>1</td>\n",
       "    </tr>\n",
       "    <tr>\n",
       "      <th>2</th>\n",
       "      <td>среднее</td>\n",
       "      <td>1</td>\n",
       "    </tr>\n",
       "    <tr>\n",
       "      <th>3</th>\n",
       "      <td>среднее</td>\n",
       "      <td>1</td>\n",
       "    </tr>\n",
       "    <tr>\n",
       "      <th>4</th>\n",
       "      <td>среднее</td>\n",
       "      <td>1</td>\n",
       "    </tr>\n",
       "    <tr>\n",
       "      <th>5</th>\n",
       "      <td>высшее</td>\n",
       "      <td>0</td>\n",
       "    </tr>\n",
       "    <tr>\n",
       "      <th>6</th>\n",
       "      <td>высшее</td>\n",
       "      <td>0</td>\n",
       "    </tr>\n",
       "    <tr>\n",
       "      <th>7</th>\n",
       "      <td>среднее</td>\n",
       "      <td>1</td>\n",
       "    </tr>\n",
       "    <tr>\n",
       "      <th>8</th>\n",
       "      <td>высшее</td>\n",
       "      <td>0</td>\n",
       "    </tr>\n",
       "    <tr>\n",
       "      <th>9</th>\n",
       "      <td>среднее</td>\n",
       "      <td>1</td>\n",
       "    </tr>\n",
       "  </tbody>\n",
       "</table>\n",
       "</div>"
      ],
      "text/plain": [
       "  education  education_id\n",
       "0    высшее             0\n",
       "1   среднее             1\n",
       "2   среднее             1\n",
       "3   среднее             1\n",
       "4   среднее             1\n",
       "5    высшее             0\n",
       "6    высшее             0\n",
       "7   среднее             1\n",
       "8    высшее             0\n",
       "9   среднее             1"
      ]
     },
     "execution_count": 53,
     "metadata": {},
     "output_type": "execute_result"
    }
   ],
   "source": [
    "clients_education = clients[['education','education_id']]\n",
    "clients_education.head(10)"
   ]
  },
  {
   "cell_type": "markdown",
   "id": "07fc79f2",
   "metadata": {},
   "source": [
    "# удаляем дубликаты из получившегося датафрейма:"
   ]
  },
  {
   "cell_type": "code",
   "execution_count": 54,
   "id": "fedaf2db",
   "metadata": {},
   "outputs": [
    {
     "data": {
      "text/html": [
       "<div>\n",
       "<style scoped>\n",
       "    .dataframe tbody tr th:only-of-type {\n",
       "        vertical-align: middle;\n",
       "    }\n",
       "\n",
       "    .dataframe tbody tr th {\n",
       "        vertical-align: top;\n",
       "    }\n",
       "\n",
       "    .dataframe thead th {\n",
       "        text-align: right;\n",
       "    }\n",
       "</style>\n",
       "<table border=\"1\" class=\"dataframe\">\n",
       "  <thead>\n",
       "    <tr style=\"text-align: right;\">\n",
       "      <th></th>\n",
       "      <th>education</th>\n",
       "      <th>education_id</th>\n",
       "    </tr>\n",
       "  </thead>\n",
       "  <tbody>\n",
       "    <tr>\n",
       "      <th>0</th>\n",
       "      <td>высшее</td>\n",
       "      <td>0</td>\n",
       "    </tr>\n",
       "    <tr>\n",
       "      <th>1</th>\n",
       "      <td>среднее</td>\n",
       "      <td>1</td>\n",
       "    </tr>\n",
       "    <tr>\n",
       "      <th>2</th>\n",
       "      <td>неоконченное высшее</td>\n",
       "      <td>2</td>\n",
       "    </tr>\n",
       "    <tr>\n",
       "      <th>3</th>\n",
       "      <td>начальное</td>\n",
       "      <td>3</td>\n",
       "    </tr>\n",
       "    <tr>\n",
       "      <th>4</th>\n",
       "      <td>ученая степень</td>\n",
       "      <td>4</td>\n",
       "    </tr>\n",
       "  </tbody>\n",
       "</table>\n",
       "</div>"
      ],
      "text/plain": [
       "             education  education_id\n",
       "0               высшее             0\n",
       "1              среднее             1\n",
       "2  неоконченное высшее             2\n",
       "3            начальное             3\n",
       "4       ученая степень             4"
      ]
     },
     "execution_count": 54,
     "metadata": {},
     "output_type": "execute_result"
    }
   ],
   "source": [
    "clients_education_vocabulary = clients_education.drop_duplicates().reset_index(drop=True)\n",
    "clients_education_vocabulary"
   ]
  },
  {
   "cell_type": "markdown",
   "id": "283788f9",
   "metadata": {},
   "source": [
    "Получился словарь, к которому теперь можно обращаться по индексам. <br>\n",
    "Аналогичные операции проделаем с `family_status` и `family_status_id`:\n",
    "\n",
    "# создание новой таблицы clients_family_status, содержащей только данные о семейном положении клиентов\n",
    "# и вывод первых 10 строк таблицы на экран"
   ]
  },
  {
   "cell_type": "code",
   "execution_count": 55,
   "id": "15d658fb",
   "metadata": {},
   "outputs": [
    {
     "data": {
      "text/html": [
       "<div>\n",
       "<style scoped>\n",
       "    .dataframe tbody tr th:only-of-type {\n",
       "        vertical-align: middle;\n",
       "    }\n",
       "\n",
       "    .dataframe tbody tr th {\n",
       "        vertical-align: top;\n",
       "    }\n",
       "\n",
       "    .dataframe thead th {\n",
       "        text-align: right;\n",
       "    }\n",
       "</style>\n",
       "<table border=\"1\" class=\"dataframe\">\n",
       "  <thead>\n",
       "    <tr style=\"text-align: right;\">\n",
       "      <th></th>\n",
       "      <th>family_status</th>\n",
       "      <th>family_status_id</th>\n",
       "    </tr>\n",
       "  </thead>\n",
       "  <tbody>\n",
       "    <tr>\n",
       "      <th>0</th>\n",
       "      <td>женат / замужем</td>\n",
       "      <td>0</td>\n",
       "    </tr>\n",
       "    <tr>\n",
       "      <th>1</th>\n",
       "      <td>женат / замужем</td>\n",
       "      <td>0</td>\n",
       "    </tr>\n",
       "    <tr>\n",
       "      <th>2</th>\n",
       "      <td>женат / замужем</td>\n",
       "      <td>0</td>\n",
       "    </tr>\n",
       "    <tr>\n",
       "      <th>3</th>\n",
       "      <td>женат / замужем</td>\n",
       "      <td>0</td>\n",
       "    </tr>\n",
       "    <tr>\n",
       "      <th>4</th>\n",
       "      <td>гражданский брак</td>\n",
       "      <td>1</td>\n",
       "    </tr>\n",
       "    <tr>\n",
       "      <th>5</th>\n",
       "      <td>гражданский брак</td>\n",
       "      <td>1</td>\n",
       "    </tr>\n",
       "    <tr>\n",
       "      <th>6</th>\n",
       "      <td>женат / замужем</td>\n",
       "      <td>0</td>\n",
       "    </tr>\n",
       "    <tr>\n",
       "      <th>7</th>\n",
       "      <td>женат / замужем</td>\n",
       "      <td>0</td>\n",
       "    </tr>\n",
       "    <tr>\n",
       "      <th>8</th>\n",
       "      <td>гражданский брак</td>\n",
       "      <td>1</td>\n",
       "    </tr>\n",
       "    <tr>\n",
       "      <th>9</th>\n",
       "      <td>женат / замужем</td>\n",
       "      <td>0</td>\n",
       "    </tr>\n",
       "  </tbody>\n",
       "</table>\n",
       "</div>"
      ],
      "text/plain": [
       "      family_status  family_status_id\n",
       "0   женат / замужем                 0\n",
       "1   женат / замужем                 0\n",
       "2   женат / замужем                 0\n",
       "3   женат / замужем                 0\n",
       "4  гражданский брак                 1\n",
       "5  гражданский брак                 1\n",
       "6   женат / замужем                 0\n",
       "7   женат / замужем                 0\n",
       "8  гражданский брак                 1\n",
       "9   женат / замужем                 0"
      ]
     },
     "execution_count": 55,
     "metadata": {},
     "output_type": "execute_result"
    }
   ],
   "source": [
    "clients_family_status = clients[['family_status','family_status_id']]\n",
    "clients_family_status.head(10)"
   ]
  },
  {
   "cell_type": "markdown",
   "id": "d85125dc",
   "metadata": {},
   "source": [
    "# удаляем дубликаты из получившегося датафрейма:"
   ]
  },
  {
   "cell_type": "code",
   "execution_count": 56,
   "id": "dd3b5568",
   "metadata": {},
   "outputs": [
    {
     "data": {
      "text/html": [
       "<div>\n",
       "<style scoped>\n",
       "    .dataframe tbody tr th:only-of-type {\n",
       "        vertical-align: middle;\n",
       "    }\n",
       "\n",
       "    .dataframe tbody tr th {\n",
       "        vertical-align: top;\n",
       "    }\n",
       "\n",
       "    .dataframe thead th {\n",
       "        text-align: right;\n",
       "    }\n",
       "</style>\n",
       "<table border=\"1\" class=\"dataframe\">\n",
       "  <thead>\n",
       "    <tr style=\"text-align: right;\">\n",
       "      <th></th>\n",
       "      <th>family_status</th>\n",
       "      <th>family_status_id</th>\n",
       "    </tr>\n",
       "  </thead>\n",
       "  <tbody>\n",
       "    <tr>\n",
       "      <th>0</th>\n",
       "      <td>женат / замужем</td>\n",
       "      <td>0</td>\n",
       "    </tr>\n",
       "    <tr>\n",
       "      <th>1</th>\n",
       "      <td>гражданский брак</td>\n",
       "      <td>1</td>\n",
       "    </tr>\n",
       "    <tr>\n",
       "      <th>2</th>\n",
       "      <td>вдовец / вдова</td>\n",
       "      <td>2</td>\n",
       "    </tr>\n",
       "    <tr>\n",
       "      <th>3</th>\n",
       "      <td>в разводе</td>\n",
       "      <td>3</td>\n",
       "    </tr>\n",
       "    <tr>\n",
       "      <th>4</th>\n",
       "      <td>не женат / не замужем</td>\n",
       "      <td>4</td>\n",
       "    </tr>\n",
       "  </tbody>\n",
       "</table>\n",
       "</div>"
      ],
      "text/plain": [
       "           family_status  family_status_id\n",
       "0        женат / замужем                 0\n",
       "1       гражданский брак                 1\n",
       "2         вдовец / вдова                 2\n",
       "3              в разводе                 3\n",
       "4  не женат / не замужем                 4"
      ]
     },
     "execution_count": 56,
     "metadata": {},
     "output_type": "execute_result"
    }
   ],
   "source": [
    "clients_family_status_vocabulary = clients_family_status.drop_duplicates().reset_index(drop=True)\n",
    "clients_family_status_vocabulary"
   ]
  },
  {
   "cell_type": "markdown",
   "id": "1a75001e",
   "metadata": {},
   "source": [
    "Словари для `total_income` и `total_income_category`, `purpose` и `purpose_category` у нас уже есть, так как мы категоризировали их выше.\n",
    "\n",
    "Теперь удалим ненужные столбцы и выведем обновлённую таблицу на экран."
   ]
  },
  {
   "cell_type": "code",
   "execution_count": 57,
   "id": "49f132bd",
   "metadata": {},
   "outputs": [
    {
     "data": {
      "text/html": [
       "<div>\n",
       "<style scoped>\n",
       "    .dataframe tbody tr th:only-of-type {\n",
       "        vertical-align: middle;\n",
       "    }\n",
       "\n",
       "    .dataframe tbody tr th {\n",
       "        vertical-align: top;\n",
       "    }\n",
       "\n",
       "    .dataframe thead th {\n",
       "        text-align: right;\n",
       "    }\n",
       "</style>\n",
       "<table border=\"1\" class=\"dataframe\">\n",
       "  <thead>\n",
       "    <tr style=\"text-align: right;\">\n",
       "      <th></th>\n",
       "      <th>children</th>\n",
       "      <th>days_employed</th>\n",
       "      <th>dob_years</th>\n",
       "      <th>education_id</th>\n",
       "      <th>family_status_id</th>\n",
       "      <th>gender</th>\n",
       "      <th>income_type</th>\n",
       "      <th>debt</th>\n",
       "      <th>purpose_category</th>\n",
       "      <th>total_income_category</th>\n",
       "    </tr>\n",
       "  </thead>\n",
       "  <tbody>\n",
       "    <tr>\n",
       "      <th>0</th>\n",
       "      <td>1</td>\n",
       "      <td>8437.673028</td>\n",
       "      <td>42</td>\n",
       "      <td>0</td>\n",
       "      <td>0</td>\n",
       "      <td>F</td>\n",
       "      <td>сотрудник</td>\n",
       "      <td>0</td>\n",
       "      <td>операции с недвижимостью</td>\n",
       "      <td>B</td>\n",
       "    </tr>\n",
       "    <tr>\n",
       "      <th>1</th>\n",
       "      <td>1</td>\n",
       "      <td>4024.803754</td>\n",
       "      <td>36</td>\n",
       "      <td>1</td>\n",
       "      <td>0</td>\n",
       "      <td>F</td>\n",
       "      <td>сотрудник</td>\n",
       "      <td>0</td>\n",
       "      <td>операции с автомобилем</td>\n",
       "      <td>C</td>\n",
       "    </tr>\n",
       "    <tr>\n",
       "      <th>2</th>\n",
       "      <td>0</td>\n",
       "      <td>5623.422610</td>\n",
       "      <td>33</td>\n",
       "      <td>1</td>\n",
       "      <td>0</td>\n",
       "      <td>M</td>\n",
       "      <td>сотрудник</td>\n",
       "      <td>0</td>\n",
       "      <td>операции с недвижимостью</td>\n",
       "      <td>C</td>\n",
       "    </tr>\n",
       "    <tr>\n",
       "      <th>3</th>\n",
       "      <td>3</td>\n",
       "      <td>4124.747207</td>\n",
       "      <td>32</td>\n",
       "      <td>1</td>\n",
       "      <td>0</td>\n",
       "      <td>M</td>\n",
       "      <td>сотрудник</td>\n",
       "      <td>0</td>\n",
       "      <td>получение образования</td>\n",
       "      <td>B</td>\n",
       "    </tr>\n",
       "    <tr>\n",
       "      <th>4</th>\n",
       "      <td>0</td>\n",
       "      <td>340266.072047</td>\n",
       "      <td>53</td>\n",
       "      <td>1</td>\n",
       "      <td>1</td>\n",
       "      <td>F</td>\n",
       "      <td>пенсионер</td>\n",
       "      <td>0</td>\n",
       "      <td>проведение свадьбы</td>\n",
       "      <td>C</td>\n",
       "    </tr>\n",
       "    <tr>\n",
       "      <th>5</th>\n",
       "      <td>0</td>\n",
       "      <td>926.185831</td>\n",
       "      <td>27</td>\n",
       "      <td>0</td>\n",
       "      <td>1</td>\n",
       "      <td>M</td>\n",
       "      <td>компаньон</td>\n",
       "      <td>0</td>\n",
       "      <td>операции с недвижимостью</td>\n",
       "      <td>B</td>\n",
       "    </tr>\n",
       "    <tr>\n",
       "      <th>6</th>\n",
       "      <td>0</td>\n",
       "      <td>2879.202052</td>\n",
       "      <td>43</td>\n",
       "      <td>0</td>\n",
       "      <td>0</td>\n",
       "      <td>F</td>\n",
       "      <td>компаньон</td>\n",
       "      <td>0</td>\n",
       "      <td>операции с недвижимостью</td>\n",
       "      <td>B</td>\n",
       "    </tr>\n",
       "    <tr>\n",
       "      <th>7</th>\n",
       "      <td>0</td>\n",
       "      <td>152.779569</td>\n",
       "      <td>50</td>\n",
       "      <td>1</td>\n",
       "      <td>0</td>\n",
       "      <td>M</td>\n",
       "      <td>сотрудник</td>\n",
       "      <td>0</td>\n",
       "      <td>получение образования</td>\n",
       "      <td>C</td>\n",
       "    </tr>\n",
       "    <tr>\n",
       "      <th>8</th>\n",
       "      <td>2</td>\n",
       "      <td>6929.865299</td>\n",
       "      <td>35</td>\n",
       "      <td>0</td>\n",
       "      <td>1</td>\n",
       "      <td>F</td>\n",
       "      <td>сотрудник</td>\n",
       "      <td>0</td>\n",
       "      <td>проведение свадьбы</td>\n",
       "      <td>C</td>\n",
       "    </tr>\n",
       "    <tr>\n",
       "      <th>9</th>\n",
       "      <td>0</td>\n",
       "      <td>2188.756445</td>\n",
       "      <td>41</td>\n",
       "      <td>1</td>\n",
       "      <td>0</td>\n",
       "      <td>M</td>\n",
       "      <td>сотрудник</td>\n",
       "      <td>0</td>\n",
       "      <td>операции с недвижимостью</td>\n",
       "      <td>C</td>\n",
       "    </tr>\n",
       "  </tbody>\n",
       "</table>\n",
       "</div>"
      ],
      "text/plain": [
       "   children  days_employed  dob_years  education_id  family_status_id gender  \\\n",
       "0         1    8437.673028         42             0                 0      F   \n",
       "1         1    4024.803754         36             1                 0      F   \n",
       "2         0    5623.422610         33             1                 0      M   \n",
       "3         3    4124.747207         32             1                 0      M   \n",
       "4         0  340266.072047         53             1                 1      F   \n",
       "5         0     926.185831         27             0                 1      M   \n",
       "6         0    2879.202052         43             0                 0      F   \n",
       "7         0     152.779569         50             1                 0      M   \n",
       "8         2    6929.865299         35             0                 1      F   \n",
       "9         0    2188.756445         41             1                 0      M   \n",
       "\n",
       "  income_type  debt          purpose_category total_income_category  \n",
       "0   сотрудник     0  операции с недвижимостью                     B  \n",
       "1   сотрудник     0    операции с автомобилем                     C  \n",
       "2   сотрудник     0  операции с недвижимостью                     C  \n",
       "3   сотрудник     0     получение образования                     B  \n",
       "4   пенсионер     0        проведение свадьбы                     C  \n",
       "5   компаньон     0  операции с недвижимостью                     B  \n",
       "6   компаньон     0  операции с недвижимостью                     B  \n",
       "7   сотрудник     0     получение образования                     C  \n",
       "8   сотрудник     0        проведение свадьбы                     C  \n",
       "9   сотрудник     0  операции с недвижимостью                     C  "
      ]
     },
     "execution_count": 57,
     "metadata": {},
     "output_type": "execute_result"
    }
   ],
   "source": [
    "clients = clients.drop(['education', 'family_status', 'total_income', 'purpose'], axis=1)\n",
    "clients.head(10)"
   ]
  },
  {
   "cell_type": "markdown",
   "id": "263a7f41",
   "metadata": {},
   "source": [
    "Итак, итоговая таблица содержит только необходимые для анализа данные: <br>\n",
    "\n",
    "**Описание данных:**<br>\n",
    "*children* — количество детей в семье <br>\n",
    "*days_employed* — общий трудовой стаж в днях <br>\n",
    "*dob_years* — возраст клиента в годах<br>\n",
    "*education_id* — идентификатор уровня образования<br>\n",
    "*family_status_id* — идентификатор семейного положения<br>\n",
    "*gender* — пол клиента<br>\n",
    "*income_type* — тип занятости<br>\n",
    "*debt* — имел ли задолженность по возврату кредитов<br>\n",
    "*purpose_category* — цель получения кредита<br>\n",
    "*total_income_category* — категоря ежемесячного дохода.<br>\n",
    "\n",
    "\n",
    "Оптимизация таблицы с учётом категоризации завершена.<br>\n",
    "Предобработка данных выполнена."
   ]
  },
  {
   "cell_type": "markdown",
   "id": "ea8f376c",
   "metadata": {},
   "source": [
    "# 3. Проверка гипотез\n",
    "\n",
    "3.1. Возврат кредита в срок зависит от количества детей у заёмщика.<br>\n",
    "3.2. Возврат кредита в срок зависит от семейного положения заёмщика.<br>\n",
    "3.3. Возврат кредита в срок зависит от уровня дохода клиента.<br>\n",
    "3.4. Возрат кредита в срок зависит от цели займа.\n",
    "\n",
    "# 3.1. Возврат кредита в срок зависит от количества детей у заёмщика\n",
    "\n",
    "Рассмотрим, как наличие задолженности по возврату кредитов связано с количеством детей у потенциального заёмщика? Найдём вероятность наличия задолженности у клиентов разных категорий с помощью сводной таблицы.\n",
    "\n",
    "# создание сводной таблицы с группировкой данных по количеству детей и соответствующей вероятностью\n",
    "# образования долга у потенциального заёмщика"
   ]
  },
  {
   "cell_type": "code",
   "execution_count": 58,
   "id": "eca0b665",
   "metadata": {},
   "outputs": [
    {
     "data": {
      "text/html": [
       "<div>\n",
       "<style scoped>\n",
       "    .dataframe tbody tr th:only-of-type {\n",
       "        vertical-align: middle;\n",
       "    }\n",
       "\n",
       "    .dataframe tbody tr th {\n",
       "        vertical-align: top;\n",
       "    }\n",
       "\n",
       "    .dataframe thead th {\n",
       "        text-align: right;\n",
       "    }\n",
       "</style>\n",
       "<table border=\"1\" class=\"dataframe\">\n",
       "  <thead>\n",
       "    <tr style=\"text-align: right;\">\n",
       "      <th></th>\n",
       "      <th>debt</th>\n",
       "    </tr>\n",
       "    <tr>\n",
       "      <th>children</th>\n",
       "      <th></th>\n",
       "    </tr>\n",
       "  </thead>\n",
       "  <tbody>\n",
       "    <tr>\n",
       "      <th>0</th>\n",
       "      <td>0.075438</td>\n",
       "    </tr>\n",
       "    <tr>\n",
       "      <th>1</th>\n",
       "      <td>0.091658</td>\n",
       "    </tr>\n",
       "    <tr>\n",
       "      <th>2</th>\n",
       "      <td>0.094925</td>\n",
       "    </tr>\n",
       "    <tr>\n",
       "      <th>3</th>\n",
       "      <td>0.081818</td>\n",
       "    </tr>\n",
       "    <tr>\n",
       "      <th>4</th>\n",
       "      <td>0.097561</td>\n",
       "    </tr>\n",
       "    <tr>\n",
       "      <th>5</th>\n",
       "      <td>0.000000</td>\n",
       "    </tr>\n",
       "  </tbody>\n",
       "</table>\n",
       "</div>"
      ],
      "text/plain": [
       "              debt\n",
       "children          \n",
       "0         0.075438\n",
       "1         0.091658\n",
       "2         0.094925\n",
       "3         0.081818\n",
       "4         0.097561\n",
       "5         0.000000"
      ]
     },
     "execution_count": 58,
     "metadata": {},
     "output_type": "execute_result"
    }
   ],
   "source": [
    "clients_pivot_table = clients.pivot_table(index='children', values='debt', aggfunc='mean')\n",
    "clients_pivot_table.head(10)"
   ]
  },
  {
   "cell_type": "markdown",
   "id": "b5d09848",
   "metadata": {},
   "source": [
    "На первый взгляд, меньше всего долгов у клиентов с пятью детьми. Но, как мы помним, количество таких клиентов намного меньше количества клиентов в остальных категориях:\n",
    "\n",
    "# составление аналогичнуой таблицы, содержащей количество ячеек с определённым количеством детей: \n"
   ]
  },
  {
   "cell_type": "code",
   "execution_count": 59,
   "id": "28a26a84",
   "metadata": {},
   "outputs": [
    {
     "data": {
      "text/html": [
       "<div>\n",
       "<style scoped>\n",
       "    .dataframe tbody tr th:only-of-type {\n",
       "        vertical-align: middle;\n",
       "    }\n",
       "\n",
       "    .dataframe tbody tr th {\n",
       "        vertical-align: top;\n",
       "    }\n",
       "\n",
       "    .dataframe thead tr th {\n",
       "        text-align: left;\n",
       "    }\n",
       "\n",
       "    .dataframe thead tr:last-of-type th {\n",
       "        text-align: right;\n",
       "    }\n",
       "</style>\n",
       "<table border=\"1\" class=\"dataframe\">\n",
       "  <thead>\n",
       "    <tr>\n",
       "      <th></th>\n",
       "      <th colspan=\"3\" halign=\"left\">debt</th>\n",
       "    </tr>\n",
       "    <tr>\n",
       "      <th></th>\n",
       "      <th>count</th>\n",
       "      <th>sum</th>\n",
       "      <th>mean</th>\n",
       "    </tr>\n",
       "    <tr>\n",
       "      <th>children</th>\n",
       "      <th></th>\n",
       "      <th></th>\n",
       "      <th></th>\n",
       "    </tr>\n",
       "  </thead>\n",
       "  <tbody>\n",
       "    <tr>\n",
       "      <th>4</th>\n",
       "      <td>41</td>\n",
       "      <td>4</td>\n",
       "      <td>0.097561</td>\n",
       "    </tr>\n",
       "    <tr>\n",
       "      <th>2</th>\n",
       "      <td>2128</td>\n",
       "      <td>202</td>\n",
       "      <td>0.094925</td>\n",
       "    </tr>\n",
       "    <tr>\n",
       "      <th>1</th>\n",
       "      <td>4855</td>\n",
       "      <td>445</td>\n",
       "      <td>0.091658</td>\n",
       "    </tr>\n",
       "    <tr>\n",
       "      <th>3</th>\n",
       "      <td>330</td>\n",
       "      <td>27</td>\n",
       "      <td>0.081818</td>\n",
       "    </tr>\n",
       "    <tr>\n",
       "      <th>0</th>\n",
       "      <td>14091</td>\n",
       "      <td>1063</td>\n",
       "      <td>0.075438</td>\n",
       "    </tr>\n",
       "    <tr>\n",
       "      <th>5</th>\n",
       "      <td>9</td>\n",
       "      <td>0</td>\n",
       "      <td>0.000000</td>\n",
       "    </tr>\n",
       "  </tbody>\n",
       "</table>\n",
       "</div>"
      ],
      "text/plain": [
       "           debt                \n",
       "          count   sum      mean\n",
       "children                       \n",
       "4            41     4  0.097561\n",
       "2          2128   202  0.094925\n",
       "1          4855   445  0.091658\n",
       "3           330    27  0.081818\n",
       "0         14091  1063  0.075438\n",
       "5             9     0  0.000000"
      ]
     },
     "execution_count": 59,
     "metadata": {},
     "output_type": "execute_result"
    }
   ],
   "source": [
    "clients_children = clients.groupby('children').agg({'debt': ['count', 'sum','mean']})\n",
    "clients_children.sort_values(by=('debt',  'mean'), ascending=False)"
   ]
  },
  {
   "cell_type": "markdown",
   "id": "cac0145f",
   "metadata": {},
   "source": [
    "На малых числах легко достигнуть нулевой вероятности образования долга, как это сделали клиенты с пятью детьми. И даже если мы мысленно \"отбросим\" это значения, разброс для остальных будет высокий. И у клиентов с четырьми детьми вероятность образования долга самая большая, а у клиентов без детей - самая маленькая. Можно разбить клиентов на 3 группы для более реального анализа:\n",
    "- нет детей\n",
    "- 1-2 ребенка\n",
    "- многодетные (>3 детей)\n"
   ]
  },
  {
   "cell_type": "code",
   "execution_count": 60,
   "id": "9378ebd3",
   "metadata": {},
   "outputs": [],
   "source": [
    "def clients_children_category(children):\n",
    "    if children == 0:\n",
    "        return 'нет детей'\n",
    "    if children <=2:\n",
    "        return '1-2 ребенка'\n",
    "    return 'многодетные' "
   ]
  },
  {
   "cell_type": "markdown",
   "id": "e20a3b69",
   "metadata": {},
   "source": [
    "Проверим работоспособность функции, присвоив параметрам различные значения:\n",
    "\n",
    "# присвоение параметру clients_children_category значиния 0. Ожидаемый вывод: 'нет детей'"
   ]
  },
  {
   "cell_type": "code",
   "execution_count": 61,
   "id": "5644a844",
   "metadata": {},
   "outputs": [
    {
     "data": {
      "text/plain": [
       "'нет детей'"
      ]
     },
     "execution_count": 61,
     "metadata": {},
     "output_type": "execute_result"
    }
   ],
   "source": [
    "clients_children_category(0)"
   ]
  },
  {
   "cell_type": "markdown",
   "id": "e766dc76",
   "metadata": {},
   "source": [
    "# присвоение параметру clients_children_category значиния 1. Ожидаемый вывод: '1-2 ребенка'"
   ]
  },
  {
   "cell_type": "code",
   "execution_count": 62,
   "id": "7ba06ee0",
   "metadata": {},
   "outputs": [
    {
     "data": {
      "text/plain": [
       "'1-2 ребенка'"
      ]
     },
     "execution_count": 62,
     "metadata": {},
     "output_type": "execute_result"
    }
   ],
   "source": [
    "clients_children_category(1)"
   ]
  },
  {
   "cell_type": "markdown",
   "id": "3cbce300",
   "metadata": {},
   "source": [
    "# присвоение параметру clients_children_category значиния 5. Ожидаемый вывод: 'многодетные'"
   ]
  },
  {
   "cell_type": "code",
   "execution_count": 63,
   "id": "349683cf",
   "metadata": {},
   "outputs": [
    {
     "data": {
      "text/plain": [
       "'многодетные'"
      ]
     },
     "execution_count": 63,
     "metadata": {},
     "output_type": "execute_result"
    }
   ],
   "source": [
    "clients_children_category(5)"
   ]
  },
  {
   "cell_type": "markdown",
   "id": "b0132372",
   "metadata": {},
   "source": [
    "Добавим в таблицу `clients` колонку `clients_children_category` с категорией, соответствующей количеству детей и выведем 10 первых строк на экран: \n",
    "\n",
    "# добавление нового столбца к таблице 'children_category' и вывод 10 первых строк\n",
    "# получившейся таблицы на экран"
   ]
  },
  {
   "cell_type": "code",
   "execution_count": 64,
   "id": "538e31df",
   "metadata": {},
   "outputs": [
    {
     "data": {
      "text/html": [
       "<div>\n",
       "<style scoped>\n",
       "    .dataframe tbody tr th:only-of-type {\n",
       "        vertical-align: middle;\n",
       "    }\n",
       "\n",
       "    .dataframe tbody tr th {\n",
       "        vertical-align: top;\n",
       "    }\n",
       "\n",
       "    .dataframe thead th {\n",
       "        text-align: right;\n",
       "    }\n",
       "</style>\n",
       "<table border=\"1\" class=\"dataframe\">\n",
       "  <thead>\n",
       "    <tr style=\"text-align: right;\">\n",
       "      <th></th>\n",
       "      <th>children</th>\n",
       "      <th>days_employed</th>\n",
       "      <th>dob_years</th>\n",
       "      <th>education_id</th>\n",
       "      <th>family_status_id</th>\n",
       "      <th>gender</th>\n",
       "      <th>income_type</th>\n",
       "      <th>debt</th>\n",
       "      <th>purpose_category</th>\n",
       "      <th>total_income_category</th>\n",
       "      <th>children_category</th>\n",
       "    </tr>\n",
       "  </thead>\n",
       "  <tbody>\n",
       "    <tr>\n",
       "      <th>0</th>\n",
       "      <td>1</td>\n",
       "      <td>8437.673028</td>\n",
       "      <td>42</td>\n",
       "      <td>0</td>\n",
       "      <td>0</td>\n",
       "      <td>F</td>\n",
       "      <td>сотрудник</td>\n",
       "      <td>0</td>\n",
       "      <td>операции с недвижимостью</td>\n",
       "      <td>B</td>\n",
       "      <td>1-2 ребенка</td>\n",
       "    </tr>\n",
       "    <tr>\n",
       "      <th>1</th>\n",
       "      <td>1</td>\n",
       "      <td>4024.803754</td>\n",
       "      <td>36</td>\n",
       "      <td>1</td>\n",
       "      <td>0</td>\n",
       "      <td>F</td>\n",
       "      <td>сотрудник</td>\n",
       "      <td>0</td>\n",
       "      <td>операции с автомобилем</td>\n",
       "      <td>C</td>\n",
       "      <td>1-2 ребенка</td>\n",
       "    </tr>\n",
       "    <tr>\n",
       "      <th>2</th>\n",
       "      <td>0</td>\n",
       "      <td>5623.422610</td>\n",
       "      <td>33</td>\n",
       "      <td>1</td>\n",
       "      <td>0</td>\n",
       "      <td>M</td>\n",
       "      <td>сотрудник</td>\n",
       "      <td>0</td>\n",
       "      <td>операции с недвижимостью</td>\n",
       "      <td>C</td>\n",
       "      <td>нет детей</td>\n",
       "    </tr>\n",
       "    <tr>\n",
       "      <th>3</th>\n",
       "      <td>3</td>\n",
       "      <td>4124.747207</td>\n",
       "      <td>32</td>\n",
       "      <td>1</td>\n",
       "      <td>0</td>\n",
       "      <td>M</td>\n",
       "      <td>сотрудник</td>\n",
       "      <td>0</td>\n",
       "      <td>получение образования</td>\n",
       "      <td>B</td>\n",
       "      <td>многодетные</td>\n",
       "    </tr>\n",
       "    <tr>\n",
       "      <th>4</th>\n",
       "      <td>0</td>\n",
       "      <td>340266.072047</td>\n",
       "      <td>53</td>\n",
       "      <td>1</td>\n",
       "      <td>1</td>\n",
       "      <td>F</td>\n",
       "      <td>пенсионер</td>\n",
       "      <td>0</td>\n",
       "      <td>проведение свадьбы</td>\n",
       "      <td>C</td>\n",
       "      <td>нет детей</td>\n",
       "    </tr>\n",
       "    <tr>\n",
       "      <th>5</th>\n",
       "      <td>0</td>\n",
       "      <td>926.185831</td>\n",
       "      <td>27</td>\n",
       "      <td>0</td>\n",
       "      <td>1</td>\n",
       "      <td>M</td>\n",
       "      <td>компаньон</td>\n",
       "      <td>0</td>\n",
       "      <td>операции с недвижимостью</td>\n",
       "      <td>B</td>\n",
       "      <td>нет детей</td>\n",
       "    </tr>\n",
       "    <tr>\n",
       "      <th>6</th>\n",
       "      <td>0</td>\n",
       "      <td>2879.202052</td>\n",
       "      <td>43</td>\n",
       "      <td>0</td>\n",
       "      <td>0</td>\n",
       "      <td>F</td>\n",
       "      <td>компаньон</td>\n",
       "      <td>0</td>\n",
       "      <td>операции с недвижимостью</td>\n",
       "      <td>B</td>\n",
       "      <td>нет детей</td>\n",
       "    </tr>\n",
       "    <tr>\n",
       "      <th>7</th>\n",
       "      <td>0</td>\n",
       "      <td>152.779569</td>\n",
       "      <td>50</td>\n",
       "      <td>1</td>\n",
       "      <td>0</td>\n",
       "      <td>M</td>\n",
       "      <td>сотрудник</td>\n",
       "      <td>0</td>\n",
       "      <td>получение образования</td>\n",
       "      <td>C</td>\n",
       "      <td>нет детей</td>\n",
       "    </tr>\n",
       "    <tr>\n",
       "      <th>8</th>\n",
       "      <td>2</td>\n",
       "      <td>6929.865299</td>\n",
       "      <td>35</td>\n",
       "      <td>0</td>\n",
       "      <td>1</td>\n",
       "      <td>F</td>\n",
       "      <td>сотрудник</td>\n",
       "      <td>0</td>\n",
       "      <td>проведение свадьбы</td>\n",
       "      <td>C</td>\n",
       "      <td>1-2 ребенка</td>\n",
       "    </tr>\n",
       "    <tr>\n",
       "      <th>9</th>\n",
       "      <td>0</td>\n",
       "      <td>2188.756445</td>\n",
       "      <td>41</td>\n",
       "      <td>1</td>\n",
       "      <td>0</td>\n",
       "      <td>M</td>\n",
       "      <td>сотрудник</td>\n",
       "      <td>0</td>\n",
       "      <td>операции с недвижимостью</td>\n",
       "      <td>C</td>\n",
       "      <td>нет детей</td>\n",
       "    </tr>\n",
       "  </tbody>\n",
       "</table>\n",
       "</div>"
      ],
      "text/plain": [
       "   children  days_employed  dob_years  education_id  family_status_id gender  \\\n",
       "0         1    8437.673028         42             0                 0      F   \n",
       "1         1    4024.803754         36             1                 0      F   \n",
       "2         0    5623.422610         33             1                 0      M   \n",
       "3         3    4124.747207         32             1                 0      M   \n",
       "4         0  340266.072047         53             1                 1      F   \n",
       "5         0     926.185831         27             0                 1      M   \n",
       "6         0    2879.202052         43             0                 0      F   \n",
       "7         0     152.779569         50             1                 0      M   \n",
       "8         2    6929.865299         35             0                 1      F   \n",
       "9         0    2188.756445         41             1                 0      M   \n",
       "\n",
       "  income_type  debt          purpose_category total_income_category  \\\n",
       "0   сотрудник     0  операции с недвижимостью                     B   \n",
       "1   сотрудник     0    операции с автомобилем                     C   \n",
       "2   сотрудник     0  операции с недвижимостью                     C   \n",
       "3   сотрудник     0     получение образования                     B   \n",
       "4   пенсионер     0        проведение свадьбы                     C   \n",
       "5   компаньон     0  операции с недвижимостью                     B   \n",
       "6   компаньон     0  операции с недвижимостью                     B   \n",
       "7   сотрудник     0     получение образования                     C   \n",
       "8   сотрудник     0        проведение свадьбы                     C   \n",
       "9   сотрудник     0  операции с недвижимостью                     C   \n",
       "\n",
       "  children_category  \n",
       "0       1-2 ребенка  \n",
       "1       1-2 ребенка  \n",
       "2         нет детей  \n",
       "3       многодетные  \n",
       "4         нет детей  \n",
       "5         нет детей  \n",
       "6         нет детей  \n",
       "7         нет детей  \n",
       "8       1-2 ребенка  \n",
       "9         нет детей  "
      ]
     },
     "execution_count": 64,
     "metadata": {},
     "output_type": "execute_result"
    }
   ],
   "source": [
    "clients['children_category'] = clients['children'].apply(clients_children_category)\n",
    "clients.head(10)"
   ]
  },
  {
   "cell_type": "markdown",
   "id": "9fd13e8b",
   "metadata": {},
   "source": [
    "Теперь рассмотрим вероятность наличия задолженности у клиента в зависимости от диапазона, в котором находится количество его детей. \n",
    "\n",
    "# составление таблицы, содержащей зависимоть наличия долга от диапазона, в котором находится количество\n",
    "# детей клиента: "
   ]
  },
  {
   "cell_type": "code",
   "execution_count": 65,
   "id": "5240fb58",
   "metadata": {},
   "outputs": [
    {
     "data": {
      "text/html": [
       "<div>\n",
       "<style scoped>\n",
       "    .dataframe tbody tr th:only-of-type {\n",
       "        vertical-align: middle;\n",
       "    }\n",
       "\n",
       "    .dataframe tbody tr th {\n",
       "        vertical-align: top;\n",
       "    }\n",
       "\n",
       "    .dataframe thead tr th {\n",
       "        text-align: left;\n",
       "    }\n",
       "\n",
       "    .dataframe thead tr:last-of-type th {\n",
       "        text-align: right;\n",
       "    }\n",
       "</style>\n",
       "<table border=\"1\" class=\"dataframe\">\n",
       "  <thead>\n",
       "    <tr>\n",
       "      <th></th>\n",
       "      <th colspan=\"3\" halign=\"left\">debt</th>\n",
       "    </tr>\n",
       "    <tr>\n",
       "      <th></th>\n",
       "      <th>count</th>\n",
       "      <th>sum</th>\n",
       "      <th>mean</th>\n",
       "    </tr>\n",
       "    <tr>\n",
       "      <th>children_category</th>\n",
       "      <th></th>\n",
       "      <th></th>\n",
       "      <th></th>\n",
       "    </tr>\n",
       "  </thead>\n",
       "  <tbody>\n",
       "    <tr>\n",
       "      <th>1-2 ребенка</th>\n",
       "      <td>6983</td>\n",
       "      <td>647</td>\n",
       "      <td>0.092654</td>\n",
       "    </tr>\n",
       "    <tr>\n",
       "      <th>многодетные</th>\n",
       "      <td>380</td>\n",
       "      <td>31</td>\n",
       "      <td>0.081579</td>\n",
       "    </tr>\n",
       "    <tr>\n",
       "      <th>нет детей</th>\n",
       "      <td>14091</td>\n",
       "      <td>1063</td>\n",
       "      <td>0.075438</td>\n",
       "    </tr>\n",
       "  </tbody>\n",
       "</table>\n",
       "</div>"
      ],
      "text/plain": [
       "                    debt                \n",
       "                   count   sum      mean\n",
       "children_category                       \n",
       "1-2 ребенка         6983   647  0.092654\n",
       "многодетные          380    31  0.081579\n",
       "нет детей          14091  1063  0.075438"
      ]
     },
     "execution_count": 65,
     "metadata": {},
     "output_type": "execute_result"
    }
   ],
   "source": [
    "clients_children_categorised = clients.groupby('children_category').agg({'debt': ['count', 'sum','mean']})\n",
    "clients_children_categorised.sort_values(by=('debt',  'mean'), ascending=False)"
   ]
  },
  {
   "cell_type": "markdown",
   "id": "15b9db25",
   "metadata": {},
   "source": [
    "Такие данные выглядят немного лучше: отсутствие детей у клиента увеличивает вероятность возврата долга банку в срок. Хотя даже если суммировать количество клиентов с детьми и сравнить их с количеством бездетных клиентов, получается разница почти в 2 раза, а это будет влиять на средние показатели значений вероятности возникновения долга. <br>\n",
    "В целом, можно сказать, что ненулевое значение количества детей влечёт за собой бОльшую вероятность возникновения долга. Наличие детей налагает на клиента повышенные финансовые расходы, и в связи с этим при прочих равных, банку следует с большей вероятностью одобрять кредиты бездетным клиентам, чем тем, у кого есть дети.<br>\n",
    "**Гипотеза подтверждена частично.**"
   ]
  },
  {
   "cell_type": "markdown",
   "id": "f204436e",
   "metadata": {},
   "source": [
    "# 3.2. Возврат кредита в срок зависит от семейного положения заёмщика\n",
    "\n",
    "Напомним расшифровку данных в словаре `family_status`: \n",
    "\n",
    "# подсчёт уникальных значений и соответствующих им кодификаторов в таблице clients_family_status\n"
   ]
  },
  {
   "cell_type": "code",
   "execution_count": 66,
   "id": "8adc40b6",
   "metadata": {},
   "outputs": [
    {
     "data": {
      "text/plain": [
       "family_status          family_status_id\n",
       "женат / замужем        0                   12339\n",
       "гражданский брак       1                    4151\n",
       "не женат / не замужем  4                    2810\n",
       "в разводе              3                    1195\n",
       "вдовец / вдова         2                     959\n",
       "dtype: int64"
      ]
     },
     "execution_count": 66,
     "metadata": {},
     "output_type": "execute_result"
    }
   ],
   "source": [
    "clients_family_status.value_counts()"
   ]
  },
  {
   "cell_type": "markdown",
   "id": "fa7e32b3",
   "metadata": {},
   "source": [
    "Выясним, как вероятность наличия просрочки будет зависеть от семейного положения клиента:\n",
    "\n",
    "# сводная таблица для подсчёта вероятности наличия просрочки от "
   ]
  },
  {
   "cell_type": "code",
   "execution_count": 67,
   "id": "5d79043c",
   "metadata": {},
   "outputs": [
    {
     "data": {
      "text/html": [
       "<div>\n",
       "<style scoped>\n",
       "    .dataframe tbody tr th:only-of-type {\n",
       "        vertical-align: middle;\n",
       "    }\n",
       "\n",
       "    .dataframe tbody tr th {\n",
       "        vertical-align: top;\n",
       "    }\n",
       "\n",
       "    .dataframe thead th {\n",
       "        text-align: right;\n",
       "    }\n",
       "</style>\n",
       "<table border=\"1\" class=\"dataframe\">\n",
       "  <thead>\n",
       "    <tr style=\"text-align: right;\">\n",
       "      <th></th>\n",
       "      <th>debt</th>\n",
       "    </tr>\n",
       "    <tr>\n",
       "      <th>family_status_id</th>\n",
       "      <th></th>\n",
       "    </tr>\n",
       "  </thead>\n",
       "  <tbody>\n",
       "    <tr>\n",
       "      <th>0</th>\n",
       "      <td>0.075452</td>\n",
       "    </tr>\n",
       "    <tr>\n",
       "      <th>1</th>\n",
       "      <td>0.093471</td>\n",
       "    </tr>\n",
       "    <tr>\n",
       "      <th>2</th>\n",
       "      <td>0.065693</td>\n",
       "    </tr>\n",
       "    <tr>\n",
       "      <th>3</th>\n",
       "      <td>0.071130</td>\n",
       "    </tr>\n",
       "    <tr>\n",
       "      <th>4</th>\n",
       "      <td>0.097509</td>\n",
       "    </tr>\n",
       "  </tbody>\n",
       "</table>\n",
       "</div>"
      ],
      "text/plain": [
       "                      debt\n",
       "family_status_id          \n",
       "0                 0.075452\n",
       "1                 0.093471\n",
       "2                 0.065693\n",
       "3                 0.071130\n",
       "4                 0.097509"
      ]
     },
     "execution_count": 67,
     "metadata": {},
     "output_type": "execute_result"
    }
   ],
   "source": [
    "family_status_pivot_table = clients.pivot_table(index='family_status_id', values='debt', aggfunc='mean')\n",
    "family_status_pivot_table.head(10)"
   ]
  },
  {
   "cell_type": "markdown",
   "id": "14b15a6c",
   "metadata": {},
   "source": [
    "Люди, прошедшие через официальную процедуру бракосочетания, с большей вероятностью выполнят обязательства перед банком, чем те, для которых \"штамп не главное\". Итак, банку следует с бОльшей осторожностью одобрять кредиты неженатым клиентам.<br>\n",
    "**Гипотеза подтверждена.**"
   ]
  },
  {
   "cell_type": "markdown",
   "id": "63cf74f1",
   "metadata": {},
   "source": [
    "# составление таблицы, содержащей количество ячеек с определённым семейным статусом и соответствующей\n",
    "# вероятностью возврата долга: "
   ]
  },
  {
   "cell_type": "code",
   "execution_count": 68,
   "id": "f4ea14e4",
   "metadata": {},
   "outputs": [
    {
     "data": {
      "text/html": [
       "<div>\n",
       "<style scoped>\n",
       "    .dataframe tbody tr th:only-of-type {\n",
       "        vertical-align: middle;\n",
       "    }\n",
       "\n",
       "    .dataframe tbody tr th {\n",
       "        vertical-align: top;\n",
       "    }\n",
       "\n",
       "    .dataframe thead tr th {\n",
       "        text-align: left;\n",
       "    }\n",
       "\n",
       "    .dataframe thead tr:last-of-type th {\n",
       "        text-align: right;\n",
       "    }\n",
       "</style>\n",
       "<table border=\"1\" class=\"dataframe\">\n",
       "  <thead>\n",
       "    <tr>\n",
       "      <th></th>\n",
       "      <th colspan=\"3\" halign=\"left\">debt</th>\n",
       "    </tr>\n",
       "    <tr>\n",
       "      <th></th>\n",
       "      <th>count</th>\n",
       "      <th>sum</th>\n",
       "      <th>mean</th>\n",
       "    </tr>\n",
       "    <tr>\n",
       "      <th>family_status_id</th>\n",
       "      <th></th>\n",
       "      <th></th>\n",
       "      <th></th>\n",
       "    </tr>\n",
       "  </thead>\n",
       "  <tbody>\n",
       "    <tr>\n",
       "      <th>0</th>\n",
       "      <td>12339</td>\n",
       "      <td>931</td>\n",
       "      <td>0.075452</td>\n",
       "    </tr>\n",
       "    <tr>\n",
       "      <th>1</th>\n",
       "      <td>4151</td>\n",
       "      <td>388</td>\n",
       "      <td>0.093471</td>\n",
       "    </tr>\n",
       "    <tr>\n",
       "      <th>2</th>\n",
       "      <td>959</td>\n",
       "      <td>63</td>\n",
       "      <td>0.065693</td>\n",
       "    </tr>\n",
       "    <tr>\n",
       "      <th>3</th>\n",
       "      <td>1195</td>\n",
       "      <td>85</td>\n",
       "      <td>0.071130</td>\n",
       "    </tr>\n",
       "    <tr>\n",
       "      <th>4</th>\n",
       "      <td>2810</td>\n",
       "      <td>274</td>\n",
       "      <td>0.097509</td>\n",
       "    </tr>\n",
       "  </tbody>\n",
       "</table>\n",
       "</div>"
      ],
      "text/plain": [
       "                   debt               \n",
       "                  count  sum      mean\n",
       "family_status_id                      \n",
       "0                 12339  931  0.075452\n",
       "1                  4151  388  0.093471\n",
       "2                   959   63  0.065693\n",
       "3                  1195   85  0.071130\n",
       "4                  2810  274  0.097509"
      ]
     },
     "execution_count": 68,
     "metadata": {},
     "output_type": "execute_result"
    }
   ],
   "source": [
    "clients_family_status = clients.groupby('family_status_id').agg({'debt': ['count', 'sum','mean']})\n",
    "clients_family_status"
   ]
  },
  {
   "cell_type": "markdown",
   "id": "8002429e",
   "metadata": {},
   "source": [
    "Конечно так более наглядно)"
   ]
  },
  {
   "cell_type": "markdown",
   "id": "9f3a4eb7",
   "metadata": {},
   "source": [
    "# добавление столбца с расшифровкой"
   ]
  },
  {
   "cell_type": "code",
   "execution_count": 69,
   "id": "920b5bd3",
   "metadata": {},
   "outputs": [
    {
     "data": {
      "text/html": [
       "<div>\n",
       "<style scoped>\n",
       "    .dataframe tbody tr th:only-of-type {\n",
       "        vertical-align: middle;\n",
       "    }\n",
       "\n",
       "    .dataframe tbody tr th {\n",
       "        vertical-align: top;\n",
       "    }\n",
       "\n",
       "    .dataframe thead tr th {\n",
       "        text-align: left;\n",
       "    }\n",
       "\n",
       "    .dataframe thead tr:last-of-type th {\n",
       "        text-align: right;\n",
       "    }\n",
       "</style>\n",
       "<table border=\"1\" class=\"dataframe\">\n",
       "  <thead>\n",
       "    <tr>\n",
       "      <th></th>\n",
       "      <th colspan=\"3\" halign=\"left\">debt</th>\n",
       "      <th>family_status_id</th>\n",
       "    </tr>\n",
       "    <tr>\n",
       "      <th></th>\n",
       "      <th>count</th>\n",
       "      <th>sum</th>\n",
       "      <th>mean</th>\n",
       "      <th></th>\n",
       "    </tr>\n",
       "    <tr>\n",
       "      <th>family_status_id</th>\n",
       "      <th></th>\n",
       "      <th></th>\n",
       "      <th></th>\n",
       "      <th></th>\n",
       "    </tr>\n",
       "  </thead>\n",
       "  <tbody>\n",
       "    <tr>\n",
       "      <th>0</th>\n",
       "      <td>12339</td>\n",
       "      <td>931</td>\n",
       "      <td>0.075452</td>\n",
       "      <td>женат / замужем</td>\n",
       "    </tr>\n",
       "    <tr>\n",
       "      <th>1</th>\n",
       "      <td>4151</td>\n",
       "      <td>388</td>\n",
       "      <td>0.093471</td>\n",
       "      <td>гражданский брак</td>\n",
       "    </tr>\n",
       "    <tr>\n",
       "      <th>2</th>\n",
       "      <td>959</td>\n",
       "      <td>63</td>\n",
       "      <td>0.065693</td>\n",
       "      <td>вдовец / вдова</td>\n",
       "    </tr>\n",
       "    <tr>\n",
       "      <th>3</th>\n",
       "      <td>1195</td>\n",
       "      <td>85</td>\n",
       "      <td>0.071130</td>\n",
       "      <td>в разводе</td>\n",
       "    </tr>\n",
       "    <tr>\n",
       "      <th>4</th>\n",
       "      <td>2810</td>\n",
       "      <td>274</td>\n",
       "      <td>0.097509</td>\n",
       "      <td>не женат / не замужем</td>\n",
       "    </tr>\n",
       "  </tbody>\n",
       "</table>\n",
       "</div>"
      ],
      "text/plain": [
       "                   debt                      family_status_id\n",
       "                  count  sum      mean                       \n",
       "family_status_id                                             \n",
       "0                 12339  931  0.075452        женат / замужем\n",
       "1                  4151  388  0.093471       гражданский брак\n",
       "2                   959   63  0.065693         вдовец / вдова\n",
       "3                  1195   85  0.071130              в разводе\n",
       "4                  2810  274  0.097509  не женат / не замужем"
      ]
     },
     "execution_count": 69,
     "metadata": {},
     "output_type": "execute_result"
    }
   ],
   "source": [
    "clients_family_status['family_status_id'] = clients_family_status_vocabulary['family_status']\n",
    "clients_family_status"
   ]
  },
  {
   "cell_type": "markdown",
   "id": "c7e5b3a1",
   "metadata": {},
   "source": [
    "# процесс склейки и создания сводки"
   ]
  },
  {
   "cell_type": "code",
   "execution_count": 70,
   "id": "87ddb597",
   "metadata": {},
   "outputs": [
    {
     "data": {
      "text/html": [
       "<div>\n",
       "<style scoped>\n",
       "    .dataframe tbody tr th:only-of-type {\n",
       "        vertical-align: middle;\n",
       "    }\n",
       "\n",
       "    .dataframe tbody tr th {\n",
       "        vertical-align: top;\n",
       "    }\n",
       "\n",
       "    .dataframe thead tr th {\n",
       "        text-align: left;\n",
       "    }\n",
       "\n",
       "    .dataframe thead tr:last-of-type th {\n",
       "        text-align: right;\n",
       "    }\n",
       "</style>\n",
       "<table border=\"1\" class=\"dataframe\">\n",
       "  <thead>\n",
       "    <tr>\n",
       "      <th></th>\n",
       "      <th colspan=\"3\" halign=\"left\">debt</th>\n",
       "    </tr>\n",
       "    <tr>\n",
       "      <th></th>\n",
       "      <th>count</th>\n",
       "      <th>sum</th>\n",
       "      <th>mean</th>\n",
       "    </tr>\n",
       "    <tr>\n",
       "      <th>family_status</th>\n",
       "      <th></th>\n",
       "      <th></th>\n",
       "      <th></th>\n",
       "    </tr>\n",
       "  </thead>\n",
       "  <tbody>\n",
       "    <tr>\n",
       "      <th>в разводе</th>\n",
       "      <td>1195</td>\n",
       "      <td>85</td>\n",
       "      <td>0.071130</td>\n",
       "    </tr>\n",
       "    <tr>\n",
       "      <th>вдовец / вдова</th>\n",
       "      <td>959</td>\n",
       "      <td>63</td>\n",
       "      <td>0.065693</td>\n",
       "    </tr>\n",
       "    <tr>\n",
       "      <th>гражданский брак</th>\n",
       "      <td>4151</td>\n",
       "      <td>388</td>\n",
       "      <td>0.093471</td>\n",
       "    </tr>\n",
       "    <tr>\n",
       "      <th>женат / замужем</th>\n",
       "      <td>12339</td>\n",
       "      <td>931</td>\n",
       "      <td>0.075452</td>\n",
       "    </tr>\n",
       "    <tr>\n",
       "      <th>не женат / не замужем</th>\n",
       "      <td>2810</td>\n",
       "      <td>274</td>\n",
       "      <td>0.097509</td>\n",
       "    </tr>\n",
       "  </tbody>\n",
       "</table>\n",
       "</div>"
      ],
      "text/plain": [
       "                        debt               \n",
       "                       count  sum      mean\n",
       "family_status                              \n",
       "в разводе               1195   85  0.071130\n",
       "вдовец / вдова           959   63  0.065693\n",
       "гражданский брак        4151  388  0.093471\n",
       "женат / замужем        12339  931  0.075452\n",
       "не женат / не замужем   2810  274  0.097509"
      ]
     },
     "execution_count": 70,
     "metadata": {},
     "output_type": "execute_result"
    }
   ],
   "source": [
    "clients_family_status = (pd.merge(clients, clients_family_status_vocabulary, how='left', left_on='family_status_id', right_on='family_status_id').groupby('family_status').agg({'debt': ['count', 'sum','mean']})) \n",
    "clients_family_status"
   ]
  },
  {
   "cell_type": "markdown",
   "id": "5d903aa2",
   "metadata": {},
   "source": [
    "вот такой ВИД РАДУЕТ))))"
   ]
  },
  {
   "cell_type": "markdown",
   "id": "51ef5525",
   "metadata": {},
   "source": [
    " 3.3. Возврат кредита в срок зависит от уровня дохода клиента.\n",
    "\n",
    "Рассмотрим теперь, как зависит вероятность возврата кредита от уровня дохода заёмщика: выведем на экран распределение вероятности по классам.<br>\n",
    "Вспомним, как клиенты были распределены по классам:\n",
    "0–30000 — 'E';<br>\n",
    "30001–50000 — 'D';<br>\n",
    "50001–200000 — 'C';<br>\n",
    "200001–1000000 — 'B';<br>\n",
    "1000001 и выше — 'A'.\n",
    "\n",
    "# Сводная таблица, в строках которой находятся классы дохода, в столбцах - распределение по \n",
    "# отсутствию/наличию задолженности, а также вероятность появления задолженности\n",
    "# при вычислении вероятности возникновения долга использовали деление, поэтому воспользуемся \n",
    "# конструкцией 'try-except':"
   ]
  },
  {
   "cell_type": "code",
   "execution_count": 71,
   "id": "d395ef0a",
   "metadata": {},
   "outputs": [
    {
     "data": {
      "text/html": [
       "<div>\n",
       "<style scoped>\n",
       "    .dataframe tbody tr th:only-of-type {\n",
       "        vertical-align: middle;\n",
       "    }\n",
       "\n",
       "    .dataframe tbody tr th {\n",
       "        vertical-align: top;\n",
       "    }\n",
       "\n",
       "    .dataframe thead tr th {\n",
       "        text-align: left;\n",
       "    }\n",
       "\n",
       "    .dataframe thead tr:last-of-type th {\n",
       "        text-align: right;\n",
       "    }\n",
       "</style>\n",
       "<table border=\"1\" class=\"dataframe\">\n",
       "  <thead>\n",
       "    <tr>\n",
       "      <th></th>\n",
       "      <th colspan=\"2\" halign=\"left\">dob_years</th>\n",
       "      <th>mean</th>\n",
       "    </tr>\n",
       "    <tr>\n",
       "      <th>debt</th>\n",
       "      <th>0</th>\n",
       "      <th>1</th>\n",
       "      <th></th>\n",
       "    </tr>\n",
       "    <tr>\n",
       "      <th>total_income_category</th>\n",
       "      <th></th>\n",
       "      <th></th>\n",
       "      <th></th>\n",
       "    </tr>\n",
       "  </thead>\n",
       "  <tbody>\n",
       "    <tr>\n",
       "      <th>A</th>\n",
       "      <td>23</td>\n",
       "      <td>2</td>\n",
       "      <td>0.080000</td>\n",
       "    </tr>\n",
       "    <tr>\n",
       "      <th>B</th>\n",
       "      <td>4685</td>\n",
       "      <td>356</td>\n",
       "      <td>0.070621</td>\n",
       "    </tr>\n",
       "    <tr>\n",
       "      <th>C</th>\n",
       "      <td>14656</td>\n",
       "      <td>1360</td>\n",
       "      <td>0.084915</td>\n",
       "    </tr>\n",
       "    <tr>\n",
       "      <th>D</th>\n",
       "      <td>329</td>\n",
       "      <td>21</td>\n",
       "      <td>0.060000</td>\n",
       "    </tr>\n",
       "    <tr>\n",
       "      <th>E</th>\n",
       "      <td>20</td>\n",
       "      <td>2</td>\n",
       "      <td>0.090909</td>\n",
       "    </tr>\n",
       "  </tbody>\n",
       "</table>\n",
       "</div>"
      ],
      "text/plain": [
       "                      dob_years            mean\n",
       "debt                          0     1          \n",
       "total_income_category                          \n",
       "A                            23     2  0.080000\n",
       "B                          4685   356  0.070621\n",
       "C                         14656  1360  0.084915\n",
       "D                           329    21  0.060000\n",
       "E                            20     2  0.090909"
      ]
     },
     "execution_count": 71,
     "metadata": {},
     "output_type": "execute_result"
    }
   ],
   "source": [
    "try:\n",
    "    clients_pivot_income = clients.pivot_table(index='total_income_category', columns='debt', values=['dob_years'], aggfunc='count')\n",
    "    clients_pivot_income['mean'] = clients_pivot_income[('dob_years', 1)]/(clients_pivot_income[('dob_years', 0)] + clients_pivot_income[('dob_years', 1)])\n",
    "    clients_pivot_income\n",
    "except:\n",
    "    clients_pivot_income = clients.pivot_table(index='total_income_category', columns='debt', values=['dob_years'], aggfunc='count')\n",
    "clients_pivot_income"
   ]
  },
  {
   "cell_type": "markdown",
   "id": "5e6f5d14",
   "metadata": {},
   "source": [
    "# получение таблицы, отображающей взаимосвязь между уровнем дохода и вероятностью вернуть кредит в срок:"
   ]
  },
  {
   "cell_type": "code",
   "execution_count": 72,
   "id": "cdf64905",
   "metadata": {},
   "outputs": [
    {
     "data": {
      "text/html": [
       "<div>\n",
       "<style scoped>\n",
       "    .dataframe tbody tr th:only-of-type {\n",
       "        vertical-align: middle;\n",
       "    }\n",
       "\n",
       "    .dataframe tbody tr th {\n",
       "        vertical-align: top;\n",
       "    }\n",
       "\n",
       "    .dataframe thead tr th {\n",
       "        text-align: left;\n",
       "    }\n",
       "\n",
       "    .dataframe thead tr:last-of-type th {\n",
       "        text-align: right;\n",
       "    }\n",
       "</style>\n",
       "<table border=\"1\" class=\"dataframe\">\n",
       "  <thead>\n",
       "    <tr>\n",
       "      <th></th>\n",
       "      <th colspan=\"3\" halign=\"left\">debt</th>\n",
       "    </tr>\n",
       "    <tr>\n",
       "      <th></th>\n",
       "      <th>count</th>\n",
       "      <th>sum</th>\n",
       "      <th>mean</th>\n",
       "    </tr>\n",
       "    <tr>\n",
       "      <th>total_income_category</th>\n",
       "      <th></th>\n",
       "      <th></th>\n",
       "      <th></th>\n",
       "    </tr>\n",
       "  </thead>\n",
       "  <tbody>\n",
       "    <tr>\n",
       "      <th>A</th>\n",
       "      <td>25</td>\n",
       "      <td>2</td>\n",
       "      <td>0.080000</td>\n",
       "    </tr>\n",
       "    <tr>\n",
       "      <th>B</th>\n",
       "      <td>5041</td>\n",
       "      <td>356</td>\n",
       "      <td>0.070621</td>\n",
       "    </tr>\n",
       "    <tr>\n",
       "      <th>C</th>\n",
       "      <td>16016</td>\n",
       "      <td>1360</td>\n",
       "      <td>0.084915</td>\n",
       "    </tr>\n",
       "    <tr>\n",
       "      <th>D</th>\n",
       "      <td>350</td>\n",
       "      <td>21</td>\n",
       "      <td>0.060000</td>\n",
       "    </tr>\n",
       "    <tr>\n",
       "      <th>E</th>\n",
       "      <td>22</td>\n",
       "      <td>2</td>\n",
       "      <td>0.090909</td>\n",
       "    </tr>\n",
       "  </tbody>\n",
       "</table>\n",
       "</div>"
      ],
      "text/plain": [
       "                        debt                \n",
       "                       count   sum      mean\n",
       "total_income_category                       \n",
       "A                         25     2  0.080000\n",
       "B                       5041   356  0.070621\n",
       "C                      16016  1360  0.084915\n",
       "D                        350    21  0.060000\n",
       "E                         22     2  0.090909"
      ]
     },
     "execution_count": 72,
     "metadata": {},
     "output_type": "execute_result"
    }
   ],
   "source": [
    "clients_family_total_income = clients.groupby('total_income_category').agg({'debt': ['count', 'sum','mean']})\n",
    "clients_family_total_income"
   ]
  },
  {
   "cell_type": "markdown",
   "id": "a8ca2869",
   "metadata": {},
   "source": [
    "Итак, клиенты с доходом до 30000 рублей не только реже всего получают кредиты, но и с наибольшей вероятностью допускают просрочки. Меньше всего просрочек оказалось у клиентов с доходом от 30000 до 50000 рублей. \"Средний класс\" допускает просрочки довольно часто, но и количество выданных кредитов в этой группе велико. <br>\n",
    "Сложно сделать окончательный вывод, потому что я не вижу прямой или обратной зависимости величины вероятности просрочки от уровня дохода. <br>\n",
    "**Гипотеза подтверждена частично**"
   ]
  },
  {
   "cell_type": "markdown",
   "id": "51434813",
   "metadata": {},
   "source": [
    "# 3.4. Возрат кредита в срок зависит от цели займа.\n",
    "\n",
    "Цели займа у различных клиентов были разделены на 4 категории:<br>\n",
    "- операции с автомобилем,\n",
    "- операции с недвижимостью,\n",
    "- проведение свадьбы,\n",
    "- получение образования.<br>\n",
    "Выясним, как влияет цель кредита на вероятность возникновения просрочки.\n",
    "\n",
    "# Сводная таблица, в строках которой находятся цели, в столбцах - распределение по \n",
    "# отсутствию/наличию задолженности, а также вероятность появления задолженности\n",
    "# при вычислении вероятности возникновения долга использовали деление, поэтому воспользуемся \n",
    "# конструкцией 'try-except':"
   ]
  },
  {
   "cell_type": "code",
   "execution_count": 73,
   "id": "654ea44e",
   "metadata": {},
   "outputs": [
    {
     "data": {
      "text/html": [
       "<div>\n",
       "<style scoped>\n",
       "    .dataframe tbody tr th:only-of-type {\n",
       "        vertical-align: middle;\n",
       "    }\n",
       "\n",
       "    .dataframe tbody tr th {\n",
       "        vertical-align: top;\n",
       "    }\n",
       "\n",
       "    .dataframe thead tr th {\n",
       "        text-align: left;\n",
       "    }\n",
       "\n",
       "    .dataframe thead tr:last-of-type th {\n",
       "        text-align: right;\n",
       "    }\n",
       "</style>\n",
       "<table border=\"1\" class=\"dataframe\">\n",
       "  <thead>\n",
       "    <tr>\n",
       "      <th></th>\n",
       "      <th colspan=\"2\" halign=\"left\">dob_years</th>\n",
       "      <th>mean</th>\n",
       "    </tr>\n",
       "    <tr>\n",
       "      <th>debt</th>\n",
       "      <th>0</th>\n",
       "      <th>1</th>\n",
       "      <th></th>\n",
       "    </tr>\n",
       "    <tr>\n",
       "      <th>purpose_category</th>\n",
       "      <th></th>\n",
       "      <th></th>\n",
       "      <th></th>\n",
       "    </tr>\n",
       "  </thead>\n",
       "  <tbody>\n",
       "    <tr>\n",
       "      <th>операции с автомобилем</th>\n",
       "      <td>3903</td>\n",
       "      <td>403</td>\n",
       "      <td>0.093590</td>\n",
       "    </tr>\n",
       "    <tr>\n",
       "      <th>операции с недвижимостью</th>\n",
       "      <td>10029</td>\n",
       "      <td>782</td>\n",
       "      <td>0.072334</td>\n",
       "    </tr>\n",
       "    <tr>\n",
       "      <th>получение образования</th>\n",
       "      <td>3643</td>\n",
       "      <td>370</td>\n",
       "      <td>0.092200</td>\n",
       "    </tr>\n",
       "    <tr>\n",
       "      <th>проведение свадьбы</th>\n",
       "      <td>2138</td>\n",
       "      <td>186</td>\n",
       "      <td>0.080034</td>\n",
       "    </tr>\n",
       "  </tbody>\n",
       "</table>\n",
       "</div>"
      ],
      "text/plain": [
       "                         dob_years           mean\n",
       "debt                             0    1          \n",
       "purpose_category                                 \n",
       "операции с автомобилем        3903  403  0.093590\n",
       "операции с недвижимостью     10029  782  0.072334\n",
       "получение образования         3643  370  0.092200\n",
       "проведение свадьбы            2138  186  0.080034"
      ]
     },
     "execution_count": 73,
     "metadata": {},
     "output_type": "execute_result"
    }
   ],
   "source": [
    "try:\n",
    "    clients_pivot_purpose_category = clients.pivot_table(index='purpose_category', columns='debt', values=['dob_years'], aggfunc='count')\n",
    "    clients_pivot_purpose_category['mean'] = clients_pivot_purpose_category[('dob_years', 1)]/(clients_pivot_purpose_category[('dob_years', 0)] + clients_pivot_purpose_category[('dob_years', 1)])\n",
    "    clients_pivot_purpose_category\n",
    "except:\n",
    "    clients_pivot_purpose_category = clients.pivot_table(index='total_income_category', columns='debt', values=['dob_years'], aggfunc='count')\n",
    "clients_pivot_purpose_category"
   ]
  },
  {
   "cell_type": "markdown",
   "id": "c6c2e04e",
   "metadata": {},
   "source": [
    "# получение таблицы, отображающей взаимосвязь между уровнем дохода и вероятностью вернуть кредит в срок:"
   ]
  },
  {
   "cell_type": "code",
   "execution_count": 74,
   "id": "42c2ba69",
   "metadata": {},
   "outputs": [
    {
     "data": {
      "text/html": [
       "<div>\n",
       "<style scoped>\n",
       "    .dataframe tbody tr th:only-of-type {\n",
       "        vertical-align: middle;\n",
       "    }\n",
       "\n",
       "    .dataframe tbody tr th {\n",
       "        vertical-align: top;\n",
       "    }\n",
       "\n",
       "    .dataframe thead tr th {\n",
       "        text-align: left;\n",
       "    }\n",
       "\n",
       "    .dataframe thead tr:last-of-type th {\n",
       "        text-align: right;\n",
       "    }\n",
       "</style>\n",
       "<table border=\"1\" class=\"dataframe\">\n",
       "  <thead>\n",
       "    <tr>\n",
       "      <th></th>\n",
       "      <th colspan=\"3\" halign=\"left\">debt</th>\n",
       "    </tr>\n",
       "    <tr>\n",
       "      <th></th>\n",
       "      <th>count</th>\n",
       "      <th>sum</th>\n",
       "      <th>mean</th>\n",
       "    </tr>\n",
       "    <tr>\n",
       "      <th>purpose_category</th>\n",
       "      <th></th>\n",
       "      <th></th>\n",
       "      <th></th>\n",
       "    </tr>\n",
       "  </thead>\n",
       "  <tbody>\n",
       "    <tr>\n",
       "      <th>операции с автомобилем</th>\n",
       "      <td>4306</td>\n",
       "      <td>403</td>\n",
       "      <td>0.093590</td>\n",
       "    </tr>\n",
       "    <tr>\n",
       "      <th>операции с недвижимостью</th>\n",
       "      <td>10811</td>\n",
       "      <td>782</td>\n",
       "      <td>0.072334</td>\n",
       "    </tr>\n",
       "    <tr>\n",
       "      <th>получение образования</th>\n",
       "      <td>4013</td>\n",
       "      <td>370</td>\n",
       "      <td>0.092200</td>\n",
       "    </tr>\n",
       "    <tr>\n",
       "      <th>проведение свадьбы</th>\n",
       "      <td>2324</td>\n",
       "      <td>186</td>\n",
       "      <td>0.080034</td>\n",
       "    </tr>\n",
       "  </tbody>\n",
       "</table>\n",
       "</div>"
      ],
      "text/plain": [
       "                           debt               \n",
       "                          count  sum      mean\n",
       "purpose_category                              \n",
       "операции с автомобилем     4306  403  0.093590\n",
       "операции с недвижимостью  10811  782  0.072334\n",
       "получение образования      4013  370  0.092200\n",
       "проведение свадьбы         2324  186  0.080034"
      ]
     },
     "execution_count": 74,
     "metadata": {},
     "output_type": "execute_result"
    }
   ],
   "source": [
    "clients_family_purpose = clients.groupby('purpose_category').agg({'debt': ['count', 'sum','mean']})\n",
    "clients_family_purpose"
   ]
  },
  {
   "cell_type": "markdown",
   "id": "4c5dbee1",
   "metadata": {},
   "source": [
    "В отличие от `total_income`, которую можно считать непрерывной величиной (поэтому я ожидала увидеть чёткую функциональную зависимость между ней и вероятностью возникновения долга), с категориями `purpose_category` уже легче работать. <br>\n",
    "Можно увидеть, что больше всего просрочек допускают клиенты, получившие денежные средства для выполнения операций с автомобилем. На втором месте по просрочкам - клиенты, взявшие кредит на образование, на третьем (с большим отрывом) - на проведение свадьбы,  а меньше всего просрочек у клиентов, взявших займ для выполнения операций с недвижимостью. <br>\n",
    "**Гипотеза подтверждена**"
   ]
  },
  {
   "cell_type": "code",
   "execution_count": 75,
   "id": "1b7b0104",
   "metadata": {},
   "outputs": [
    {
     "data": {
      "image/png": "[encoded data removed]",
      "text/plain": [
       "<Figure size 864x288 with 1 Axes>"
      ]
     },
     "metadata": {
      "needs_background": "light"
     },
     "output_type": "display_data"
    }
   ],
   "source": [
    "from matplotlib import pyplot as plt \n",
    "\n",
    "\n",
    "plt.figure(figsize=(12, 4))\n",
    "clients_family_purpose[('debt',  'mean')].sort_values().plot.bar()\n",
    "plt.grid(True)\n",
    "plt.xlabel('Цели кредита')\n",
    "plt.ylabel('Частота возникновения задолженности')\n",
    "plt.title('Зависимость частоты возникновения задолженности от цели кредита')\n",
    "plt.show()"
   ]
  },
  {
   "cell_type": "markdown",
   "id": "612ab077",
   "metadata": {},
   "source": [
    "Ну что же и по скольку мы аналитики любим вседелать красиво и аккуратно, я решил все это дело визуализировать\n",
    "И проверить гипотезы о том, что возрат кредита в срок зависит от цели займа (пункт 3.4) <br>\n",
    "1) визуализация будет отражать сравнение категорий цели<br>\n",
    "2) столбчатая диаграмма, на оси ординат будут отложены 4 категории, а на оси абсцисс - вероятность возврата долга в срок.<br>\n",
    "3) значения вероятности можно выразить в процентах."
   ]
  },
  {
   "cell_type": "markdown",
   "id": "0b06e807",
   "metadata": {},
   "source": [
    "# 4. Вывод\n",
    "\n",
    "Мы проверили четыре гипотезы и установили:<br>\n",
    "1. Возврат кредита в срок зависит от количества детей у заёмщика: *гипотеза подтверждена частично.* Дело в том, что я не увидел чёткой зависимоти вероятности возврата кредита в срок от количества детей. Увдел лишь, что бездетные клиенты данного банка допускают меньше просрочек, чем клиенты, у которых есть дети.\n",
    "2. Возврат кредита в срок зависит от семейного положения заёмщика: *гипотеза подтверждена.* Оказалось, что клиенты, когда-либо состоявшие в официальном браке, с меньшей вероятностью допустят задолженность, чем те клиенты, кто никогда не регистрировал свои отношения.\n",
    "3. Возврат кредита в срок зависит от уровня дохода клиента: *гипотеза подтверждена частично.* Уровень дохода можно считать недискретной величиной, поэтому чтобы утверждать, что есть какая-то зависимоть вероятности возврата кредита от уровня дохода, нужно увидеть некоторую математическую функцию. Да, люди с разным уровнем дохода по-разному выполняют обязательства перед банком, но чёткой линейной и даже экспоненциальной зависимости я не увидела.\n",
    "4. Возрат кредита в срок зависит от цели займа: *гипотеза подтверждена.* С особым опасением следует одобрять кредиты на операции с автомобилем и получение образования, потому что среди клиентов данного банка наблюдается большая вероятность возникновения задолженности при обращении в банк с подобными целями.\n"
   ]
  },
  {
   "cell_type": "code",
   "execution_count": null,
   "id": "f4e33554",
   "metadata": {},
   "outputs": [],
   "source": []
  }
 ],
 "metadata": {
  "ExecuteTimeLog": [
   {
    "duration": 580,
    "start_time": "2022-03-25T09:13:35.611Z"
   },
   {
    "duration": 79,
    "start_time": "2022-03-25T09:15:11.548Z"
   },
   {
    "duration": 87,
    "start_time": "2022-03-25T09:18:11.512Z"
   },
   {
    "duration": 84,
    "start_time": "2022-03-25T09:18:14.927Z"
   },
   {
    "duration": 83,
    "start_time": "2022-03-25T09:18:47.207Z"
   },
   {
    "duration": 77,
    "start_time": "2022-03-25T09:18:49.791Z"
   },
   {
    "duration": 87,
    "start_time": "2022-03-25T09:19:08.804Z"
   },
   {
    "duration": 83,
    "start_time": "2022-03-25T09:19:14.821Z"
   },
   {
    "duration": 78,
    "start_time": "2022-03-25T09:19:19.152Z"
   },
   {
    "duration": 76,
    "start_time": "2022-03-25T09:19:22.227Z"
   },
   {
    "duration": 150,
    "start_time": "2022-03-25T09:19:48.502Z"
   },
   {
    "duration": 78,
    "start_time": "2022-03-25T09:19:52.794Z"
   },
   {
    "duration": 28,
    "start_time": "2022-03-25T09:33:35.700Z"
   },
   {
    "duration": 12,
    "start_time": "2022-03-25T09:39:43.484Z"
   },
   {
    "duration": 13,
    "start_time": "2022-03-25T09:47:19.325Z"
   },
   {
    "duration": 11,
    "start_time": "2022-03-25T09:49:13.081Z"
   },
   {
    "duration": 12,
    "start_time": "2022-03-25T09:49:26.286Z"
   },
   {
    "duration": 8,
    "start_time": "2022-03-25T09:49:35.253Z"
   },
   {
    "duration": 36,
    "start_time": "2022-03-25T09:53:40.514Z"
   },
   {
    "duration": 3,
    "start_time": "2022-03-25T10:08:02.210Z"
   },
   {
    "duration": 12,
    "start_time": "2022-03-25T10:20:01.662Z"
   },
   {
    "duration": 1704,
    "start_time": "2022-03-25T10:25:00.504Z"
   },
   {
    "duration": 13,
    "start_time": "2022-03-25T10:26:00.661Z"
   },
   {
    "duration": 11,
    "start_time": "2022-03-25T10:27:03.948Z"
   },
   {
    "duration": 10,
    "start_time": "2022-03-25T10:27:05.861Z"
   },
   {
    "duration": 9,
    "start_time": "2022-03-25T10:27:19.274Z"
   },
   {
    "duration": 11,
    "start_time": "2022-03-25T10:30:46.112Z"
   },
   {
    "duration": 8,
    "start_time": "2022-03-25T10:30:57.367Z"
   },
   {
    "duration": 10,
    "start_time": "2022-03-25T10:32:35.598Z"
   },
   {
    "duration": 17,
    "start_time": "2022-03-25T10:42:32.149Z"
   },
   {
    "duration": 32,
    "start_time": "2022-03-25T10:49:08.533Z"
   },
   {
    "duration": 26,
    "start_time": "2022-03-25T10:51:19.752Z"
   },
   {
    "duration": 27,
    "start_time": "2022-03-25T10:51:22.075Z"
   },
   {
    "duration": 24,
    "start_time": "2022-03-25T10:51:41.904Z"
   },
   {
    "duration": 25,
    "start_time": "2022-03-25T10:52:08.530Z"
   },
   {
    "duration": 26,
    "start_time": "2022-03-25T10:52:35.721Z"
   },
   {
    "duration": 26,
    "start_time": "2022-03-25T10:54:53.910Z"
   },
   {
    "duration": 588,
    "start_time": "2022-03-25T10:55:01.483Z"
   },
   {
    "duration": 23,
    "start_time": "2022-03-25T10:55:02.074Z"
   },
   {
    "duration": 20,
    "start_time": "2022-03-25T10:55:02.099Z"
   },
   {
    "duration": 82,
    "start_time": "2022-03-25T10:55:02.122Z"
   },
   {
    "duration": 52,
    "start_time": "2022-03-25T10:55:02.206Z"
   },
   {
    "duration": 12,
    "start_time": "2022-03-25T10:55:02.260Z"
   },
   {
    "duration": 12,
    "start_time": "2022-03-25T10:55:02.274Z"
   },
   {
    "duration": 10,
    "start_time": "2022-03-25T10:55:02.288Z"
   },
   {
    "duration": 139,
    "start_time": "2022-03-25T10:55:02.300Z"
   },
   {
    "duration": 25,
    "start_time": "2022-03-25T10:56:24.522Z"
   },
   {
    "duration": 24,
    "start_time": "2022-03-25T10:56:33.945Z"
   },
   {
    "duration": 26,
    "start_time": "2022-03-25T10:56:47.839Z"
   },
   {
    "duration": 23,
    "start_time": "2022-03-25T10:57:45.813Z"
   },
   {
    "duration": 39,
    "start_time": "2022-03-25T10:58:08.887Z"
   },
   {
    "duration": 71,
    "start_time": "2022-03-25T15:35:17.715Z"
   },
   {
    "duration": 10,
    "start_time": "2022-03-25T15:38:00.080Z"
   },
   {
    "duration": 10,
    "start_time": "2022-03-25T15:39:19.393Z"
   },
   {
    "duration": 572,
    "start_time": "2022-03-25T15:40:41.386Z"
   },
   {
    "duration": 22,
    "start_time": "2022-03-25T15:40:41.961Z"
   },
   {
    "duration": 13,
    "start_time": "2022-03-25T15:40:41.985Z"
   },
   {
    "duration": 43,
    "start_time": "2022-03-25T15:40:42.000Z"
   },
   {
    "duration": 39,
    "start_time": "2022-03-25T15:40:42.046Z"
   },
   {
    "duration": 12,
    "start_time": "2022-03-25T15:40:42.087Z"
   },
   {
    "duration": 41,
    "start_time": "2022-03-25T15:40:42.102Z"
   },
   {
    "duration": 15,
    "start_time": "2022-03-25T15:40:42.145Z"
   },
   {
    "duration": 32,
    "start_time": "2022-03-25T15:40:42.163Z"
   },
   {
    "duration": 0,
    "start_time": "2022-03-25T15:40:48.790Z"
   },
   {
    "duration": 5021,
    "start_time": "2022-03-25T15:40:53.491Z"
   },
   {
    "duration": 592,
    "start_time": "2022-03-25T15:42:24.989Z"
   },
   {
    "duration": 21,
    "start_time": "2022-03-25T15:42:25.584Z"
   },
   {
    "duration": 11,
    "start_time": "2022-03-25T15:42:25.607Z"
   },
   {
    "duration": 30,
    "start_time": "2022-03-25T15:42:25.621Z"
   },
   {
    "duration": 44,
    "start_time": "2022-03-25T15:42:25.653Z"
   },
   {
    "duration": 11,
    "start_time": "2022-03-25T15:42:25.699Z"
   },
   {
    "duration": 57,
    "start_time": "2022-03-25T15:42:25.712Z"
   },
   {
    "duration": 14,
    "start_time": "2022-03-25T15:42:25.772Z"
   },
   {
    "duration": 36,
    "start_time": "2022-03-25T15:42:25.788Z"
   },
   {
    "duration": 4120,
    "start_time": "2022-03-25T15:42:25.844Z"
   },
   {
    "duration": 3656,
    "start_time": "2022-03-25T15:42:38.958Z"
   },
   {
    "duration": 26,
    "start_time": "2022-03-25T15:43:08.960Z"
   },
   {
    "duration": 124,
    "start_time": "2022-03-25T16:15:14.485Z"
   },
   {
    "duration": 33,
    "start_time": "2022-03-25T16:17:42.102Z"
   },
   {
    "duration": 17,
    "start_time": "2022-03-25T18:33:34.086Z"
   },
   {
    "duration": 3746,
    "start_time": "2022-03-25T18:39:13.012Z"
   },
   {
    "duration": 13,
    "start_time": "2022-03-25T18:39:47.605Z"
   },
   {
    "duration": 6,
    "start_time": "2022-03-25T18:40:36.494Z"
   },
   {
    "duration": 6,
    "start_time": "2022-03-25T18:40:56.012Z"
   },
   {
    "duration": 15,
    "start_time": "2022-03-25T18:44:53.599Z"
   },
   {
    "duration": 223,
    "start_time": "2022-03-25T18:46:30.757Z"
   },
   {
    "duration": 16,
    "start_time": "2022-03-25T18:49:30.283Z"
   },
   {
    "duration": 24,
    "start_time": "2022-03-25T18:49:53.857Z"
   },
   {
    "duration": 7,
    "start_time": "2022-03-25T18:51:15.395Z"
   },
   {
    "duration": 50,
    "start_time": "2022-03-25T18:51:40.140Z"
   },
   {
    "duration": 8,
    "start_time": "2022-03-25T19:02:10.232Z"
   },
   {
    "duration": 8,
    "start_time": "2022-03-25T19:02:31.361Z"
   },
   {
    "duration": 3,
    "start_time": "2022-03-25T19:07:05.161Z"
   },
   {
    "duration": 27,
    "start_time": "2022-03-25T19:11:39.058Z"
   },
   {
    "duration": 625,
    "start_time": "2022-03-25T19:12:33.755Z"
   },
   {
    "duration": 21,
    "start_time": "2022-03-25T19:12:34.383Z"
   },
   {
    "duration": 12,
    "start_time": "2022-03-25T19:12:34.406Z"
   },
   {
    "duration": 30,
    "start_time": "2022-03-25T19:12:34.422Z"
   },
   {
    "duration": 38,
    "start_time": "2022-03-25T19:12:34.455Z"
   },
   {
    "duration": 12,
    "start_time": "2022-03-25T19:12:34.495Z"
   },
   {
    "duration": 45,
    "start_time": "2022-03-25T19:12:34.510Z"
   },
   {
    "duration": 24,
    "start_time": "2022-03-25T19:12:34.557Z"
   },
   {
    "duration": 30,
    "start_time": "2022-03-25T19:12:34.583Z"
   },
   {
    "duration": 61,
    "start_time": "2022-03-25T19:12:34.617Z"
   },
   {
    "duration": 51,
    "start_time": "2022-03-25T19:12:34.680Z"
   },
   {
    "duration": 43,
    "start_time": "2022-03-25T19:12:34.733Z"
   },
   {
    "duration": 16,
    "start_time": "2022-03-25T19:12:34.778Z"
   },
   {
    "duration": 10,
    "start_time": "2022-03-25T19:12:34.796Z"
   },
   {
    "duration": 47,
    "start_time": "2022-03-25T19:12:34.808Z"
   },
   {
    "duration": 13,
    "start_time": "2022-03-25T19:12:34.857Z"
   },
   {
    "duration": 14,
    "start_time": "2022-03-25T19:12:34.872Z"
   },
   {
    "duration": 17,
    "start_time": "2022-03-25T19:12:34.888Z"
   },
   {
    "duration": 6,
    "start_time": "2022-03-25T19:12:34.907Z"
   },
   {
    "duration": 74,
    "start_time": "2022-03-25T19:12:34.916Z"
   },
   {
    "duration": 8,
    "start_time": "2022-03-25T19:12:34.993Z"
   },
   {
    "duration": 12,
    "start_time": "2022-03-25T19:12:35.003Z"
   },
   {
    "duration": 39,
    "start_time": "2022-03-25T19:12:35.047Z"
   },
   {
    "duration": 149,
    "start_time": "2022-03-25T19:15:05.177Z"
   },
   {
    "duration": 69,
    "start_time": "2022-03-25T19:15:29.331Z"
   },
   {
    "duration": 27,
    "start_time": "2022-03-25T19:18:19.857Z"
   },
   {
    "duration": 26,
    "start_time": "2022-03-25T19:18:28.932Z"
   },
   {
    "duration": 26,
    "start_time": "2022-03-25T19:19:54.732Z"
   },
   {
    "duration": 13,
    "start_time": "2022-03-25T19:48:05.662Z"
   },
   {
    "duration": 18,
    "start_time": "2022-03-25T19:48:23.107Z"
   },
   {
    "duration": 10,
    "start_time": "2022-03-25T19:55:55.241Z"
   },
   {
    "duration": 1953,
    "start_time": "2022-03-25T20:00:13.360Z"
   },
   {
    "duration": 1969,
    "start_time": "2022-03-25T20:00:22.917Z"
   },
   {
    "duration": 25,
    "start_time": "2022-03-25T20:00:24.888Z"
   },
   {
    "duration": 36,
    "start_time": "2022-03-25T20:00:24.916Z"
   },
   {
    "duration": 10,
    "start_time": "2022-03-25T20:00:24.957Z"
   },
   {
    "duration": 73,
    "start_time": "2022-03-25T20:00:24.970Z"
   },
   {
    "duration": 13,
    "start_time": "2022-03-25T20:00:25.046Z"
   },
   {
    "duration": 18,
    "start_time": "2022-03-25T20:00:25.062Z"
   },
   {
    "duration": 14,
    "start_time": "2022-03-25T20:00:25.083Z"
   },
   {
    "duration": 68,
    "start_time": "2022-03-25T20:00:25.100Z"
   },
   {
    "duration": 29,
    "start_time": "2022-03-25T20:00:25.175Z"
   },
   {
    "duration": 82,
    "start_time": "2022-03-25T20:00:25.207Z"
   },
   {
    "duration": 26,
    "start_time": "2022-03-25T20:00:25.291Z"
   },
   {
    "duration": 19,
    "start_time": "2022-03-25T20:00:25.344Z"
   },
   {
    "duration": 10,
    "start_time": "2022-03-25T20:00:25.366Z"
   },
   {
    "duration": 6,
    "start_time": "2022-03-25T20:00:25.379Z"
   },
   {
    "duration": 6,
    "start_time": "2022-03-25T20:00:25.389Z"
   },
   {
    "duration": 17,
    "start_time": "2022-03-25T20:00:25.444Z"
   },
   {
    "duration": 22,
    "start_time": "2022-03-25T20:00:25.464Z"
   },
   {
    "duration": 6,
    "start_time": "2022-03-25T20:00:25.489Z"
   },
   {
    "duration": 83,
    "start_time": "2022-03-25T20:00:25.497Z"
   },
   {
    "duration": 8,
    "start_time": "2022-03-25T20:00:25.582Z"
   },
   {
    "duration": 8,
    "start_time": "2022-03-25T20:00:25.593Z"
   },
   {
    "duration": 56,
    "start_time": "2022-03-25T20:00:25.604Z"
   },
   {
    "duration": 50,
    "start_time": "2022-03-25T20:00:25.663Z"
   },
   {
    "duration": 51,
    "start_time": "2022-03-25T20:00:25.716Z"
   },
   {
    "duration": 27,
    "start_time": "2022-03-25T20:00:25.770Z"
   },
   {
    "duration": 13,
    "start_time": "2022-03-25T20:00:25.799Z"
   },
   {
    "duration": 215,
    "start_time": "2022-03-25T20:00:25.816Z"
   },
   {
    "duration": 21,
    "start_time": "2022-03-25T20:04:07.792Z"
   },
   {
    "duration": 18,
    "start_time": "2022-03-25T20:05:33.849Z"
   },
   {
    "duration": 17,
    "start_time": "2022-03-25T20:05:52.567Z"
   },
   {
    "duration": 18,
    "start_time": "2022-03-25T20:06:56.504Z"
   },
   {
    "duration": 2108,
    "start_time": "2022-03-25T20:07:03.471Z"
   },
   {
    "duration": 26,
    "start_time": "2022-03-25T20:07:05.582Z"
   },
   {
    "duration": 13,
    "start_time": "2022-03-25T20:07:05.611Z"
   },
   {
    "duration": 15,
    "start_time": "2022-03-25T20:07:05.644Z"
   },
   {
    "duration": 66,
    "start_time": "2022-03-25T20:07:05.663Z"
   },
   {
    "duration": 17,
    "start_time": "2022-03-25T20:07:05.745Z"
   },
   {
    "duration": 12,
    "start_time": "2022-03-25T20:07:05.765Z"
   },
   {
    "duration": 19,
    "start_time": "2022-03-25T20:07:05.780Z"
   },
   {
    "duration": 69,
    "start_time": "2022-03-25T20:07:05.801Z"
   },
   {
    "duration": 76,
    "start_time": "2022-03-25T20:07:05.875Z"
   },
   {
    "duration": 76,
    "start_time": "2022-03-25T20:07:05.954Z"
   },
   {
    "duration": 25,
    "start_time": "2022-03-25T20:07:06.044Z"
   },
   {
    "duration": 23,
    "start_time": "2022-03-25T20:07:06.073Z"
   },
   {
    "duration": 45,
    "start_time": "2022-03-25T20:07:06.100Z"
   },
   {
    "duration": 11,
    "start_time": "2022-03-25T20:07:06.149Z"
   },
   {
    "duration": 9,
    "start_time": "2022-03-25T20:07:06.163Z"
   },
   {
    "duration": 22,
    "start_time": "2022-03-25T20:07:06.175Z"
   },
   {
    "duration": 61,
    "start_time": "2022-03-25T20:07:06.203Z"
   },
   {
    "duration": 24,
    "start_time": "2022-03-25T20:07:06.267Z"
   },
   {
    "duration": 72,
    "start_time": "2022-03-25T20:07:06.295Z"
   },
   {
    "duration": 8,
    "start_time": "2022-03-25T20:07:06.370Z"
   },
   {
    "duration": 10,
    "start_time": "2022-03-25T20:07:06.382Z"
   },
   {
    "duration": 59,
    "start_time": "2022-03-25T20:07:06.395Z"
   },
   {
    "duration": 116,
    "start_time": "2022-03-25T20:07:06.458Z"
   },
   {
    "duration": 36,
    "start_time": "2022-03-25T20:07:06.577Z"
   },
   {
    "duration": 39,
    "start_time": "2022-03-25T20:07:06.617Z"
   },
   {
    "duration": 15,
    "start_time": "2022-03-25T20:07:06.658Z"
   },
   {
    "duration": 190,
    "start_time": "2022-03-25T20:07:06.677Z"
   },
   {
    "duration": 204,
    "start_time": "2022-03-25T20:13:00.615Z"
   },
   {
    "duration": 214,
    "start_time": "2022-03-25T20:13:08.013Z"
   },
   {
    "duration": 211,
    "start_time": "2022-03-25T20:13:13.110Z"
   },
   {
    "duration": 17,
    "start_time": "2022-03-25T20:13:19.691Z"
   },
   {
    "duration": 2101,
    "start_time": "2022-03-25T20:16:29.496Z"
   },
   {
    "duration": 21,
    "start_time": "2022-03-25T20:16:31.600Z"
   },
   {
    "duration": 24,
    "start_time": "2022-03-25T20:16:31.624Z"
   },
   {
    "duration": 12,
    "start_time": "2022-03-25T20:16:31.651Z"
   },
   {
    "duration": 84,
    "start_time": "2022-03-25T20:16:31.668Z"
   },
   {
    "duration": 13,
    "start_time": "2022-03-25T20:16:31.755Z"
   },
   {
    "duration": 11,
    "start_time": "2022-03-25T20:16:31.771Z"
   },
   {
    "duration": 12,
    "start_time": "2022-03-25T20:16:31.785Z"
   },
   {
    "duration": 75,
    "start_time": "2022-03-25T20:16:31.799Z"
   },
   {
    "duration": 29,
    "start_time": "2022-03-25T20:16:31.877Z"
   },
   {
    "duration": 83,
    "start_time": "2022-03-25T20:16:31.908Z"
   },
   {
    "duration": 24,
    "start_time": "2022-03-25T20:16:31.994Z"
   },
   {
    "duration": 43,
    "start_time": "2022-03-25T20:16:32.020Z"
   },
   {
    "duration": 11,
    "start_time": "2022-03-25T20:16:32.070Z"
   },
   {
    "duration": 8,
    "start_time": "2022-03-25T20:16:32.084Z"
   },
   {
    "duration": 49,
    "start_time": "2022-03-25T20:16:32.096Z"
   },
   {
    "duration": 19,
    "start_time": "2022-03-25T20:16:32.148Z"
   },
   {
    "duration": 26,
    "start_time": "2022-03-25T20:16:32.170Z"
   },
   {
    "duration": 8,
    "start_time": "2022-03-25T20:16:32.199Z"
   },
   {
    "duration": 73,
    "start_time": "2022-03-25T20:16:32.210Z"
   },
   {
    "duration": 17,
    "start_time": "2022-03-25T20:16:32.285Z"
   },
   {
    "duration": 42,
    "start_time": "2022-03-25T20:16:32.305Z"
   },
   {
    "duration": 10,
    "start_time": "2022-03-25T20:16:32.349Z"
   },
   {
    "duration": 34,
    "start_time": "2022-03-25T20:16:32.361Z"
   },
   {
    "duration": 87,
    "start_time": "2022-03-25T20:16:32.398Z"
   },
   {
    "duration": 31,
    "start_time": "2022-03-25T20:16:32.487Z"
   },
   {
    "duration": 58,
    "start_time": "2022-03-25T20:16:32.521Z"
   },
   {
    "duration": 14,
    "start_time": "2022-03-25T20:16:32.583Z"
   },
   {
    "duration": 334,
    "start_time": "2022-03-25T20:16:32.600Z"
   },
   {
    "duration": 5120,
    "start_time": "2022-03-25T20:24:58.837Z"
   },
   {
    "duration": 660,
    "start_time": "2022-03-25T21:00:03.902Z"
   },
   {
    "duration": 24,
    "start_time": "2022-03-25T21:00:04.566Z"
   },
   {
    "duration": 17,
    "start_time": "2022-03-25T21:00:04.592Z"
   },
   {
    "duration": 37,
    "start_time": "2022-03-25T21:00:04.613Z"
   },
   {
    "duration": 40,
    "start_time": "2022-03-25T21:00:04.652Z"
   },
   {
    "duration": 51,
    "start_time": "2022-03-25T21:00:04.695Z"
   },
   {
    "duration": 12,
    "start_time": "2022-03-25T21:00:04.748Z"
   },
   {
    "duration": 17,
    "start_time": "2022-03-25T21:00:04.763Z"
   },
   {
    "duration": 79,
    "start_time": "2022-03-25T21:00:04.783Z"
   },
   {
    "duration": 32,
    "start_time": "2022-03-25T21:00:04.868Z"
   },
   {
    "duration": 91,
    "start_time": "2022-03-25T21:00:04.902Z"
   },
   {
    "duration": 52,
    "start_time": "2022-03-25T21:00:04.996Z"
   },
   {
    "duration": 22,
    "start_time": "2022-03-25T21:00:05.050Z"
   },
   {
    "duration": 13,
    "start_time": "2022-03-25T21:00:05.076Z"
   },
   {
    "duration": 7,
    "start_time": "2022-03-25T21:00:05.093Z"
   },
   {
    "duration": 7,
    "start_time": "2022-03-25T21:00:05.143Z"
   },
   {
    "duration": 21,
    "start_time": "2022-03-25T21:00:05.153Z"
   },
   {
    "duration": 18,
    "start_time": "2022-03-25T21:00:05.177Z"
   },
   {
    "duration": 49,
    "start_time": "2022-03-25T21:00:05.197Z"
   },
   {
    "duration": 79,
    "start_time": "2022-03-25T21:00:05.249Z"
   },
   {
    "duration": 30,
    "start_time": "2022-03-25T21:00:05.332Z"
   },
   {
    "duration": 8,
    "start_time": "2022-03-25T21:00:05.366Z"
   },
   {
    "duration": 12,
    "start_time": "2022-03-25T21:00:05.377Z"
   },
   {
    "duration": 73,
    "start_time": "2022-03-25T21:00:05.391Z"
   },
   {
    "duration": 61,
    "start_time": "2022-03-25T21:00:05.466Z"
   },
   {
    "duration": 31,
    "start_time": "2022-03-25T21:00:05.545Z"
   },
   {
    "duration": 30,
    "start_time": "2022-03-25T21:00:05.578Z"
   },
   {
    "duration": 655,
    "start_time": "2022-03-25T21:22:53.702Z"
   },
   {
    "duration": 24,
    "start_time": "2022-03-25T21:22:54.362Z"
   },
   {
    "duration": 14,
    "start_time": "2022-03-25T21:22:54.388Z"
   },
   {
    "duration": 44,
    "start_time": "2022-03-25T21:22:54.405Z"
   },
   {
    "duration": 38,
    "start_time": "2022-03-25T21:22:54.452Z"
   },
   {
    "duration": 52,
    "start_time": "2022-03-25T21:22:54.492Z"
   },
   {
    "duration": 12,
    "start_time": "2022-03-25T21:22:54.546Z"
   },
   {
    "duration": 17,
    "start_time": "2022-03-25T21:22:54.561Z"
   },
   {
    "duration": 82,
    "start_time": "2022-03-25T21:22:54.581Z"
   },
   {
    "duration": 38,
    "start_time": "2022-03-25T21:22:54.666Z"
   },
   {
    "duration": 81,
    "start_time": "2022-03-25T21:22:54.707Z"
   },
   {
    "duration": 34,
    "start_time": "2022-03-25T21:22:54.791Z"
   },
   {
    "duration": 24,
    "start_time": "2022-03-25T21:22:54.844Z"
   },
   {
    "duration": 11,
    "start_time": "2022-03-25T21:22:54.872Z"
   },
   {
    "duration": 7,
    "start_time": "2022-03-25T21:22:54.885Z"
   },
   {
    "duration": 6,
    "start_time": "2022-03-25T21:22:54.894Z"
   },
   {
    "duration": 69,
    "start_time": "2022-03-25T21:22:54.903Z"
   },
   {
    "duration": 22,
    "start_time": "2022-03-25T21:22:54.975Z"
   },
   {
    "duration": 8,
    "start_time": "2022-03-25T21:22:54.999Z"
   },
   {
    "duration": 70,
    "start_time": "2022-03-25T21:22:55.009Z"
   },
   {
    "duration": 18,
    "start_time": "2022-03-25T21:22:55.081Z"
   },
   {
    "duration": 7,
    "start_time": "2022-03-25T21:22:55.101Z"
   },
   {
    "duration": 38,
    "start_time": "2022-03-25T21:22:55.111Z"
   },
   {
    "duration": 39,
    "start_time": "2022-03-25T21:22:55.151Z"
   },
   {
    "duration": 99,
    "start_time": "2022-03-25T21:22:55.193Z"
   },
   {
    "duration": 57,
    "start_time": "2022-03-25T21:22:55.294Z"
   },
   {
    "duration": 37,
    "start_time": "2022-03-25T21:22:55.354Z"
   },
   {
    "duration": 121,
    "start_time": "2022-03-25T21:28:25.173Z"
   },
   {
    "duration": 9,
    "start_time": "2022-03-25T22:06:42.745Z"
   },
   {
    "duration": 20,
    "start_time": "2022-03-25T22:07:26.736Z"
   },
   {
    "duration": 16,
    "start_time": "2022-03-25T22:10:30.384Z"
   },
   {
    "duration": 17,
    "start_time": "2022-03-25T22:10:45.221Z"
   },
   {
    "duration": 17,
    "start_time": "2022-03-25T22:31:58.610Z"
   },
   {
    "duration": 5,
    "start_time": "2022-03-26T00:03:07.938Z"
   },
   {
    "duration": 5,
    "start_time": "2022-03-26T00:03:11.814Z"
   },
   {
    "duration": 10,
    "start_time": "2022-03-26T00:05:14.546Z"
   },
   {
    "duration": 5,
    "start_time": "2022-03-26T00:05:52.836Z"
   },
   {
    "duration": 33,
    "start_time": "2022-03-26T00:05:54.735Z"
   },
   {
    "duration": 33,
    "start_time": "2022-03-26T00:06:11.416Z"
   },
   {
    "duration": 3319,
    "start_time": "2022-03-26T00:33:27.788Z"
   },
   {
    "duration": 3313,
    "start_time": "2022-03-26T00:33:58.022Z"
   },
   {
    "duration": 3618,
    "start_time": "2022-03-26T00:34:15.767Z"
   },
   {
    "duration": 575,
    "start_time": "2022-03-26T00:35:45.680Z"
   },
   {
    "duration": 21,
    "start_time": "2022-03-26T00:35:46.258Z"
   },
   {
    "duration": 11,
    "start_time": "2022-03-26T00:35:46.282Z"
   },
   {
    "duration": 9,
    "start_time": "2022-03-26T00:35:46.298Z"
   },
   {
    "duration": 68,
    "start_time": "2022-03-26T00:35:46.310Z"
   },
   {
    "duration": 13,
    "start_time": "2022-03-26T00:35:46.381Z"
   },
   {
    "duration": 47,
    "start_time": "2022-03-26T00:35:46.397Z"
   },
   {
    "duration": 13,
    "start_time": "2022-03-26T00:35:46.447Z"
   },
   {
    "duration": 32,
    "start_time": "2022-03-26T00:35:46.462Z"
   },
   {
    "duration": 60,
    "start_time": "2022-03-26T00:35:46.499Z"
   },
   {
    "duration": 49,
    "start_time": "2022-03-26T00:35:46.561Z"
   },
   {
    "duration": 48,
    "start_time": "2022-03-26T00:35:46.612Z"
   },
   {
    "duration": 20,
    "start_time": "2022-03-26T00:35:46.663Z"
   },
   {
    "duration": 10,
    "start_time": "2022-03-26T00:35:46.685Z"
   },
   {
    "duration": 48,
    "start_time": "2022-03-26T00:35:46.697Z"
   },
   {
    "duration": 13,
    "start_time": "2022-03-26T00:35:46.748Z"
   },
   {
    "duration": 15,
    "start_time": "2022-03-26T00:35:46.763Z"
   },
   {
    "duration": 18,
    "start_time": "2022-03-26T00:35:46.781Z"
   },
   {
    "duration": 8,
    "start_time": "2022-03-26T00:35:46.801Z"
   },
   {
    "duration": 62,
    "start_time": "2022-03-26T00:35:46.842Z"
   },
   {
    "duration": 41,
    "start_time": "2022-03-26T00:35:46.907Z"
   },
   {
    "duration": 9,
    "start_time": "2022-03-26T00:35:46.951Z"
   },
   {
    "duration": 11,
    "start_time": "2022-03-26T00:35:46.962Z"
   },
   {
    "duration": 73,
    "start_time": "2022-03-26T00:35:46.976Z"
   },
   {
    "duration": 92,
    "start_time": "2022-03-26T00:35:47.051Z"
   },
   {
    "duration": 39,
    "start_time": "2022-03-26T00:35:47.146Z"
   },
   {
    "duration": 59,
    "start_time": "2022-03-26T00:35:47.188Z"
   },
   {
    "duration": 6,
    "start_time": "2022-03-26T00:35:47.253Z"
   },
   {
    "duration": 34,
    "start_time": "2022-03-26T00:35:47.263Z"
   },
   {
    "duration": 48,
    "start_time": "2022-03-26T00:35:47.299Z"
   },
   {
    "duration": 17,
    "start_time": "2022-03-26T00:35:47.350Z"
   },
   {
    "duration": 89,
    "start_time": "2022-03-26T02:44:16.060Z"
   },
   {
    "duration": 85,
    "start_time": "2022-03-26T02:44:29.088Z"
   },
   {
    "duration": 3300,
    "start_time": "2022-03-26T03:13:27.059Z"
   },
   {
    "duration": 17,
    "start_time": "2022-03-26T04:18:39.209Z"
   },
   {
    "duration": 27,
    "start_time": "2022-03-26T04:20:11.655Z"
   },
   {
    "duration": 29,
    "start_time": "2022-03-26T04:20:15.955Z"
   },
   {
    "duration": 50,
    "start_time": "2022-03-26T04:20:36.847Z"
   },
   {
    "duration": 83,
    "start_time": "2022-03-26T04:21:08.395Z"
   },
   {
    "duration": 10,
    "start_time": "2022-03-26T04:21:59.126Z"
   },
   {
    "duration": 49,
    "start_time": "2022-03-26T04:24:28.933Z"
   },
   {
    "duration": 4169,
    "start_time": "2022-03-26T04:37:04.833Z"
   },
   {
    "duration": 3267,
    "start_time": "2022-03-26T04:37:37.692Z"
   },
   {
    "duration": 456,
    "start_time": "2022-03-26T10:48:32.533Z"
   },
   {
    "duration": 2,
    "start_time": "2022-03-26T10:49:29.680Z"
   },
   {
    "duration": 76,
    "start_time": "2022-03-26T10:49:32.009Z"
   },
   {
    "duration": 74,
    "start_time": "2022-03-26T10:50:09.332Z"
   },
   {
    "duration": 42,
    "start_time": "2022-03-26T12:22:52.469Z"
   },
   {
    "duration": 5,
    "start_time": "2022-03-26T12:23:35.413Z"
   },
   {
    "duration": 462,
    "start_time": "2022-03-26T12:23:58.063Z"
   },
   {
    "duration": 21,
    "start_time": "2022-03-26T12:43:21.774Z"
   },
   {
    "duration": 609,
    "start_time": "2022-03-26T12:43:36.890Z"
   },
   {
    "duration": 22,
    "start_time": "2022-03-26T12:43:37.501Z"
   },
   {
    "duration": 9,
    "start_time": "2022-03-26T12:43:37.525Z"
   },
   {
    "duration": 6,
    "start_time": "2022-03-26T12:43:37.536Z"
   },
   {
    "duration": 26,
    "start_time": "2022-03-26T12:43:37.543Z"
   },
   {
    "duration": 33,
    "start_time": "2022-03-26T12:43:37.571Z"
   },
   {
    "duration": 7,
    "start_time": "2022-03-26T12:43:37.605Z"
   },
   {
    "duration": 12,
    "start_time": "2022-03-26T12:43:37.614Z"
   },
   {
    "duration": 28,
    "start_time": "2022-03-26T12:43:37.627Z"
   },
   {
    "duration": 54,
    "start_time": "2022-03-26T12:43:37.658Z"
   },
   {
    "duration": 45,
    "start_time": "2022-03-26T12:43:37.714Z"
   },
   {
    "duration": 17,
    "start_time": "2022-03-26T12:43:37.760Z"
   },
   {
    "duration": 29,
    "start_time": "2022-03-26T12:43:37.778Z"
   },
   {
    "duration": 6,
    "start_time": "2022-03-26T12:43:37.809Z"
   },
   {
    "duration": 5,
    "start_time": "2022-03-26T12:43:37.816Z"
   },
   {
    "duration": 5,
    "start_time": "2022-03-26T12:43:37.822Z"
   },
   {
    "duration": 10,
    "start_time": "2022-03-26T12:43:37.829Z"
   },
   {
    "duration": 10,
    "start_time": "2022-03-26T12:43:37.840Z"
   },
   {
    "duration": 3,
    "start_time": "2022-03-26T12:43:37.852Z"
   },
   {
    "duration": 70,
    "start_time": "2022-03-26T12:43:37.857Z"
   },
   {
    "duration": 11,
    "start_time": "2022-03-26T12:43:37.929Z"
   },
   {
    "duration": 6,
    "start_time": "2022-03-26T12:43:37.942Z"
   },
   {
    "duration": 8,
    "start_time": "2022-03-26T12:43:37.950Z"
   },
   {
    "duration": 21,
    "start_time": "2022-03-26T12:43:37.960Z"
   },
   {
    "duration": 32,
    "start_time": "2022-03-26T12:43:38.001Z"
   },
   {
    "duration": 27,
    "start_time": "2022-03-26T12:43:38.035Z"
   },
   {
    "duration": 48,
    "start_time": "2022-03-26T12:43:38.064Z"
   },
   {
    "duration": 10,
    "start_time": "2022-03-26T12:43:38.116Z"
   },
   {
    "duration": 36,
    "start_time": "2022-03-26T12:43:38.127Z"
   },
   {
    "duration": 12,
    "start_time": "2022-03-26T12:43:38.165Z"
   },
   {
    "duration": 12,
    "start_time": "2022-03-26T12:43:38.201Z"
   },
   {
    "duration": 13,
    "start_time": "2022-03-26T12:48:42.527Z"
   },
   {
    "duration": 11,
    "start_time": "2022-03-26T12:49:53.050Z"
   },
   {
    "duration": 17,
    "start_time": "2022-03-26T13:00:12.782Z"
   },
   {
    "duration": 14,
    "start_time": "2022-03-26T13:09:24.203Z"
   },
   {
    "duration": 498,
    "start_time": "2022-03-26T13:09:32.412Z"
   },
   {
    "duration": 14,
    "start_time": "2022-03-26T13:09:32.912Z"
   },
   {
    "duration": 8,
    "start_time": "2022-03-26T13:09:32.928Z"
   },
   {
    "duration": 6,
    "start_time": "2022-03-26T13:09:32.938Z"
   },
   {
    "duration": 24,
    "start_time": "2022-03-26T13:09:32.945Z"
   },
   {
    "duration": 36,
    "start_time": "2022-03-26T13:09:32.971Z"
   },
   {
    "duration": 7,
    "start_time": "2022-03-26T13:09:33.009Z"
   },
   {
    "duration": 8,
    "start_time": "2022-03-26T13:09:33.017Z"
   },
   {
    "duration": 25,
    "start_time": "2022-03-26T13:09:33.026Z"
   },
   {
    "duration": 54,
    "start_time": "2022-03-26T13:09:33.054Z"
   },
   {
    "duration": 38,
    "start_time": "2022-03-26T13:09:33.110Z"
   },
   {
    "duration": 17,
    "start_time": "2022-03-26T13:09:33.150Z"
   },
   {
    "duration": 37,
    "start_time": "2022-03-26T13:09:33.168Z"
   },
   {
    "duration": 6,
    "start_time": "2022-03-26T13:09:33.206Z"
   },
   {
    "duration": 4,
    "start_time": "2022-03-26T13:09:33.213Z"
   },
   {
    "duration": 7,
    "start_time": "2022-03-26T13:09:33.219Z"
   },
   {
    "duration": 14,
    "start_time": "2022-03-26T13:09:33.228Z"
   },
   {
    "duration": 15,
    "start_time": "2022-03-26T13:09:33.243Z"
   },
   {
    "duration": 11,
    "start_time": "2022-03-26T13:09:33.260Z"
   },
   {
    "duration": 49,
    "start_time": "2022-03-26T13:09:33.272Z"
   },
   {
    "duration": 21,
    "start_time": "2022-03-26T13:09:33.323Z"
   },
   {
    "duration": 19,
    "start_time": "2022-03-26T13:09:33.346Z"
   },
   {
    "duration": 37,
    "start_time": "2022-03-26T13:09:33.366Z"
   },
   {
    "duration": 29,
    "start_time": "2022-03-26T13:09:33.405Z"
   },
   {
    "duration": 56,
    "start_time": "2022-03-26T13:09:33.436Z"
   },
   {
    "duration": 18,
    "start_time": "2022-03-26T13:09:33.493Z"
   },
   {
    "duration": 22,
    "start_time": "2022-03-26T13:09:33.512Z"
   },
   {
    "duration": 18,
    "start_time": "2022-03-26T13:09:33.537Z"
   },
   {
    "duration": 23,
    "start_time": "2022-03-26T13:09:33.556Z"
   },
   {
    "duration": 30,
    "start_time": "2022-03-26T13:09:33.580Z"
   },
   {
    "duration": 14,
    "start_time": "2022-03-26T13:09:33.611Z"
   },
   {
    "duration": 33,
    "start_time": "2022-03-26T13:09:33.627Z"
   },
   {
    "duration": 12,
    "start_time": "2022-03-26T13:12:53.426Z"
   },
   {
    "duration": 514,
    "start_time": "2022-03-26T13:19:05.605Z"
   },
   {
    "duration": 17,
    "start_time": "2022-03-26T13:19:06.121Z"
   },
   {
    "duration": 10,
    "start_time": "2022-03-26T13:19:06.140Z"
   },
   {
    "duration": 7,
    "start_time": "2022-03-26T13:19:06.151Z"
   },
   {
    "duration": 55,
    "start_time": "2022-03-26T13:19:06.160Z"
   },
   {
    "duration": 9,
    "start_time": "2022-03-26T13:19:06.217Z"
   },
   {
    "duration": 8,
    "start_time": "2022-03-26T13:19:06.228Z"
   },
   {
    "duration": 8,
    "start_time": "2022-03-26T13:19:06.237Z"
   },
   {
    "duration": 20,
    "start_time": "2022-03-26T13:19:06.247Z"
   },
   {
    "duration": 19,
    "start_time": "2022-03-26T13:19:06.301Z"
   },
   {
    "duration": 32,
    "start_time": "2022-03-26T13:19:06.321Z"
   },
   {
    "duration": 17,
    "start_time": "2022-03-26T13:19:06.355Z"
   },
   {
    "duration": 37,
    "start_time": "2022-03-26T13:19:06.373Z"
   },
   {
    "duration": 6,
    "start_time": "2022-03-26T13:19:06.413Z"
   },
   {
    "duration": 4,
    "start_time": "2022-03-26T13:19:06.421Z"
   },
   {
    "duration": 5,
    "start_time": "2022-03-26T13:19:06.426Z"
   },
   {
    "duration": 9,
    "start_time": "2022-03-26T13:19:06.432Z"
   },
   {
    "duration": 11,
    "start_time": "2022-03-26T13:19:06.442Z"
   },
   {
    "duration": 5,
    "start_time": "2022-03-26T13:19:06.454Z"
   },
   {
    "duration": 67,
    "start_time": "2022-03-26T13:19:06.460Z"
   },
   {
    "duration": 11,
    "start_time": "2022-03-26T13:19:06.529Z"
   },
   {
    "duration": 6,
    "start_time": "2022-03-26T13:19:06.542Z"
   },
   {
    "duration": 6,
    "start_time": "2022-03-26T13:19:06.550Z"
   },
   {
    "duration": 45,
    "start_time": "2022-03-26T13:19:06.558Z"
   },
   {
    "duration": 35,
    "start_time": "2022-03-26T13:19:06.604Z"
   },
   {
    "duration": 20,
    "start_time": "2022-03-26T13:19:06.641Z"
   },
   {
    "duration": 39,
    "start_time": "2022-03-26T13:19:06.663Z"
   },
   {
    "duration": 12,
    "start_time": "2022-03-26T13:19:06.704Z"
   },
   {
    "duration": 12,
    "start_time": "2022-03-26T13:19:06.717Z"
   },
   {
    "duration": 10,
    "start_time": "2022-03-26T13:19:06.731Z"
   },
   {
    "duration": 22,
    "start_time": "2022-03-26T13:19:06.743Z"
   },
   {
    "duration": 83,
    "start_time": "2022-03-26T20:16:36.676Z"
   },
   {
    "duration": 763,
    "start_time": "2022-03-26T20:16:55.725Z"
   },
   {
    "duration": 31,
    "start_time": "2022-03-26T20:16:56.491Z"
   },
   {
    "duration": 18,
    "start_time": "2022-03-26T20:16:56.524Z"
   },
   {
    "duration": 50,
    "start_time": "2022-03-26T20:16:56.545Z"
   },
   {
    "duration": 40,
    "start_time": "2022-03-26T20:16:56.597Z"
   },
   {
    "duration": 48,
    "start_time": "2022-03-26T20:16:56.639Z"
   },
   {
    "duration": 11,
    "start_time": "2022-03-26T20:16:56.689Z"
   },
   {
    "duration": 12,
    "start_time": "2022-03-26T20:16:56.702Z"
   },
   {
    "duration": 95,
    "start_time": "2022-03-26T20:16:56.716Z"
   },
   {
    "duration": 37,
    "start_time": "2022-03-26T20:16:56.816Z"
   },
   {
    "duration": 91,
    "start_time": "2022-03-26T20:16:56.855Z"
   },
   {
    "duration": 49,
    "start_time": "2022-03-26T20:16:56.949Z"
   },
   {
    "duration": 17,
    "start_time": "2022-03-26T20:16:57.001Z"
   },
   {
    "duration": 9,
    "start_time": "2022-03-26T20:16:57.020Z"
   },
   {
    "duration": 8,
    "start_time": "2022-03-26T20:16:57.032Z"
   },
   {
    "duration": 7,
    "start_time": "2022-03-26T20:16:57.084Z"
   },
   {
    "duration": 14,
    "start_time": "2022-03-26T20:16:57.093Z"
   },
   {
    "duration": 22,
    "start_time": "2022-03-26T20:16:57.109Z"
   },
   {
    "duration": 8,
    "start_time": "2022-03-26T20:16:57.184Z"
   },
   {
    "duration": 50,
    "start_time": "2022-03-26T20:16:57.195Z"
   },
   {
    "duration": 49,
    "start_time": "2022-03-26T20:16:57.247Z"
   },
   {
    "duration": 15,
    "start_time": "2022-03-26T20:16:57.299Z"
   },
   {
    "duration": 9,
    "start_time": "2022-03-26T20:16:57.318Z"
   },
   {
    "duration": 87,
    "start_time": "2022-03-26T20:16:57.330Z"
   },
   {
    "duration": 87,
    "start_time": "2022-03-26T20:16:57.420Z"
   },
   {
    "duration": 40,
    "start_time": "2022-03-26T20:16:57.510Z"
   },
   {
    "duration": 64,
    "start_time": "2022-03-26T20:16:57.553Z"
   },
   {
    "duration": 25,
    "start_time": "2022-03-26T20:16:57.624Z"
   },
   {
    "duration": 53,
    "start_time": "2022-03-26T20:16:57.653Z"
   },
   {
    "duration": 14,
    "start_time": "2022-03-26T20:16:57.710Z"
   },
   {
    "duration": 74,
    "start_time": "2022-03-26T20:16:57.726Z"
   },
   {
    "duration": 9,
    "start_time": "2022-03-26T20:17:57.607Z"
   },
   {
    "duration": 18,
    "start_time": "2022-03-26T20:23:28.546Z"
   },
   {
    "duration": 20,
    "start_time": "2022-03-26T20:24:15.552Z"
   },
   {
    "duration": 18,
    "start_time": "2022-03-26T20:24:51.673Z"
   },
   {
    "duration": 638,
    "start_time": "2022-03-26T20:24:59.072Z"
   },
   {
    "duration": 22,
    "start_time": "2022-03-26T20:24:59.713Z"
   },
   {
    "duration": 13,
    "start_time": "2022-03-26T20:24:59.737Z"
   },
   {
    "duration": 45,
    "start_time": "2022-03-26T20:24:59.753Z"
   },
   {
    "duration": 43,
    "start_time": "2022-03-26T20:24:59.801Z"
   },
   {
    "duration": 47,
    "start_time": "2022-03-26T20:24:59.846Z"
   },
   {
    "duration": 19,
    "start_time": "2022-03-26T20:24:59.895Z"
   },
   {
    "duration": 16,
    "start_time": "2022-03-26T20:24:59.916Z"
   },
   {
    "duration": 81,
    "start_time": "2022-03-26T20:24:59.934Z"
   },
   {
    "duration": 30,
    "start_time": "2022-03-26T20:25:00.019Z"
   },
   {
    "duration": 71,
    "start_time": "2022-03-26T20:25:00.051Z"
   },
   {
    "duration": 24,
    "start_time": "2022-03-26T20:25:00.124Z"
   },
   {
    "duration": 45,
    "start_time": "2022-03-26T20:25:00.150Z"
   },
   {
    "duration": 37,
    "start_time": "2022-03-26T20:25:00.197Z"
   },
   {
    "duration": 20,
    "start_time": "2022-03-26T20:25:00.237Z"
   },
   {
    "duration": 37,
    "start_time": "2022-03-26T20:25:00.259Z"
   },
   {
    "duration": 23,
    "start_time": "2022-03-26T20:25:00.299Z"
   },
   {
    "duration": 31,
    "start_time": "2022-03-26T20:25:00.324Z"
   },
   {
    "duration": 7,
    "start_time": "2022-03-26T20:25:00.357Z"
   },
   {
    "duration": 74,
    "start_time": "2022-03-26T20:25:00.367Z"
   },
   {
    "duration": 25,
    "start_time": "2022-03-26T20:25:00.443Z"
   },
   {
    "duration": 21,
    "start_time": "2022-03-26T20:25:00.470Z"
   },
   {
    "duration": 23,
    "start_time": "2022-03-26T20:25:00.493Z"
   },
   {
    "duration": 40,
    "start_time": "2022-03-26T20:25:00.519Z"
   },
   {
    "duration": 79,
    "start_time": "2022-03-26T20:25:00.562Z"
   },
   {
    "duration": 57,
    "start_time": "2022-03-26T20:25:00.643Z"
   },
   {
    "duration": 33,
    "start_time": "2022-03-26T20:25:00.703Z"
   },
   {
    "duration": 54,
    "start_time": "2022-03-26T20:25:00.743Z"
   },
   {
    "duration": 9,
    "start_time": "2022-03-26T20:25:00.800Z"
   },
   {
    "duration": 26,
    "start_time": "2022-03-26T20:25:00.812Z"
   },
   {
    "duration": 52,
    "start_time": "2022-03-26T20:25:00.841Z"
   },
   {
    "duration": 52,
    "start_time": "2022-03-26T20:25:00.897Z"
   },
   {
    "duration": 104,
    "start_time": "2022-03-26T20:25:11.697Z"
   },
   {
    "duration": 22,
    "start_time": "2022-03-26T20:25:59.836Z"
   },
   {
    "duration": 7,
    "start_time": "2022-03-26T20:26:38.290Z"
   },
   {
    "duration": 11,
    "start_time": "2022-03-26T20:27:39.105Z"
   },
   {
    "duration": 25,
    "start_time": "2022-03-26T20:58:50.383Z"
   },
   {
    "duration": 27,
    "start_time": "2022-03-26T20:59:46.128Z"
   },
   {
    "duration": 713,
    "start_time": "2022-03-26T21:03:35.043Z"
   },
   {
    "duration": 39,
    "start_time": "2022-03-26T21:03:35.759Z"
   },
   {
    "duration": 18,
    "start_time": "2022-03-26T21:03:35.801Z"
   },
   {
    "duration": 10,
    "start_time": "2022-03-26T21:03:35.823Z"
   },
   {
    "duration": 83,
    "start_time": "2022-03-26T21:03:35.836Z"
   },
   {
    "duration": 13,
    "start_time": "2022-03-26T21:03:35.921Z"
   },
   {
    "duration": 13,
    "start_time": "2022-03-26T21:03:35.936Z"
   },
   {
    "duration": 12,
    "start_time": "2022-03-26T21:03:35.985Z"
   },
   {
    "duration": 35,
    "start_time": "2022-03-26T21:03:36.000Z"
   },
   {
    "duration": 71,
    "start_time": "2022-03-26T21:03:36.040Z"
   },
   {
    "duration": 89,
    "start_time": "2022-03-26T21:03:36.114Z"
   },
   {
    "duration": 28,
    "start_time": "2022-03-26T21:03:36.206Z"
   },
   {
    "duration": 50,
    "start_time": "2022-03-26T21:03:36.236Z"
   },
   {
    "duration": 10,
    "start_time": "2022-03-26T21:03:36.289Z"
   },
   {
    "duration": 13,
    "start_time": "2022-03-26T21:03:36.302Z"
   },
   {
    "duration": 12,
    "start_time": "2022-03-26T21:03:36.318Z"
   },
   {
    "duration": 18,
    "start_time": "2022-03-26T21:03:36.384Z"
   },
   {
    "duration": 24,
    "start_time": "2022-03-26T21:03:36.405Z"
   },
   {
    "duration": 8,
    "start_time": "2022-03-26T21:03:36.432Z"
   },
   {
    "duration": 88,
    "start_time": "2022-03-26T21:03:36.442Z"
   },
   {
    "duration": 15,
    "start_time": "2022-03-26T21:03:36.533Z"
   },
   {
    "duration": 39,
    "start_time": "2022-03-26T21:03:36.551Z"
   },
   {
    "duration": 17,
    "start_time": "2022-03-26T21:03:36.593Z"
   },
   {
    "duration": 42,
    "start_time": "2022-03-26T21:03:36.613Z"
   },
   {
    "duration": 93,
    "start_time": "2022-03-26T21:03:36.657Z"
   },
   {
    "duration": 58,
    "start_time": "2022-03-26T21:03:36.752Z"
   },
   {
    "duration": 35,
    "start_time": "2022-03-26T21:03:36.813Z"
   },
   {
    "duration": 53,
    "start_time": "2022-03-26T21:03:36.853Z"
   },
   {
    "duration": 26,
    "start_time": "2022-03-26T21:03:36.909Z"
   },
   {
    "duration": 55,
    "start_time": "2022-03-26T21:03:36.938Z"
   },
   {
    "duration": 30,
    "start_time": "2022-03-26T21:03:36.996Z"
   },
   {
    "duration": 15,
    "start_time": "2022-03-26T21:03:37.029Z"
   },
   {
    "duration": 90,
    "start_time": "2022-03-26T21:03:37.046Z"
   },
   {
    "duration": 18,
    "start_time": "2022-03-26T21:04:32.580Z"
   },
   {
    "duration": 48,
    "start_time": "2022-03-27T09:16:43.273Z"
   },
   {
    "duration": 473,
    "start_time": "2022-03-27T09:16:51.105Z"
   },
   {
    "duration": 15,
    "start_time": "2022-03-27T09:16:51.580Z"
   },
   {
    "duration": 9,
    "start_time": "2022-03-27T09:16:51.596Z"
   },
   {
    "duration": 7,
    "start_time": "2022-03-27T09:16:51.606Z"
   },
   {
    "duration": 25,
    "start_time": "2022-03-27T09:16:51.615Z"
   },
   {
    "duration": 10,
    "start_time": "2022-03-27T09:16:51.641Z"
   },
   {
    "duration": 7,
    "start_time": "2022-03-27T09:16:51.652Z"
   },
   {
    "duration": 40,
    "start_time": "2022-03-27T09:16:51.661Z"
   },
   {
    "duration": 23,
    "start_time": "2022-03-27T09:16:51.703Z"
   },
   {
    "duration": 21,
    "start_time": "2022-03-27T09:16:51.728Z"
   },
   {
    "duration": 52,
    "start_time": "2022-03-27T09:16:51.750Z"
   },
   {
    "duration": 17,
    "start_time": "2022-03-27T09:16:51.804Z"
   },
   {
    "duration": 15,
    "start_time": "2022-03-27T09:16:51.823Z"
   },
   {
    "duration": 19,
    "start_time": "2022-03-27T09:16:51.840Z"
   },
   {
    "duration": 28,
    "start_time": "2022-03-27T09:16:51.861Z"
   },
   {
    "duration": 20,
    "start_time": "2022-03-27T09:16:51.890Z"
   },
   {
    "duration": 15,
    "start_time": "2022-03-27T09:16:51.912Z"
   },
   {
    "duration": 25,
    "start_time": "2022-03-27T09:16:51.929Z"
   },
   {
    "duration": 10,
    "start_time": "2022-03-27T09:16:51.956Z"
   },
   {
    "duration": 46,
    "start_time": "2022-03-27T09:16:51.968Z"
   },
   {
    "duration": 11,
    "start_time": "2022-03-27T09:16:52.016Z"
   },
   {
    "duration": 13,
    "start_time": "2022-03-27T09:16:52.028Z"
   },
   {
    "duration": 23,
    "start_time": "2022-03-27T09:16:52.043Z"
   },
   {
    "duration": 27,
    "start_time": "2022-03-27T09:16:52.068Z"
   },
   {
    "duration": 33,
    "start_time": "2022-03-27T09:16:52.097Z"
   },
   {
    "duration": 19,
    "start_time": "2022-03-27T09:16:52.131Z"
   },
   {
    "duration": 19,
    "start_time": "2022-03-27T09:16:52.151Z"
   },
   {
    "duration": 13,
    "start_time": "2022-03-27T09:16:52.171Z"
   },
   {
    "duration": 24,
    "start_time": "2022-03-27T09:16:52.185Z"
   },
   {
    "duration": 9,
    "start_time": "2022-03-27T09:16:52.210Z"
   },
   {
    "duration": 41,
    "start_time": "2022-03-27T09:16:52.220Z"
   },
   {
    "duration": 9,
    "start_time": "2022-03-27T09:16:59.201Z"
   },
   {
    "duration": 3325,
    "start_time": "2022-03-27T09:17:01.757Z"
   },
   {
    "duration": 502,
    "start_time": "2022-03-27T09:17:16.033Z"
   },
   {
    "duration": 15,
    "start_time": "2022-03-27T09:17:16.537Z"
   },
   {
    "duration": 10,
    "start_time": "2022-03-27T09:17:16.553Z"
   },
   {
    "duration": 5,
    "start_time": "2022-03-27T09:17:16.566Z"
   },
   {
    "duration": 53,
    "start_time": "2022-03-27T09:17:16.573Z"
   },
   {
    "duration": 10,
    "start_time": "2022-03-27T09:17:16.628Z"
   },
   {
    "duration": 9,
    "start_time": "2022-03-27T09:17:16.641Z"
   },
   {
    "duration": 8,
    "start_time": "2022-03-27T09:17:16.652Z"
   },
   {
    "duration": 55,
    "start_time": "2022-03-27T09:17:16.662Z"
   },
   {
    "duration": 20,
    "start_time": "2022-03-27T09:17:16.720Z"
   },
   {
    "duration": 66,
    "start_time": "2022-03-27T09:17:16.743Z"
   },
   {
    "duration": 19,
    "start_time": "2022-03-27T09:17:16.810Z"
   },
   {
    "duration": 14,
    "start_time": "2022-03-27T09:17:16.831Z"
   },
   {
    "duration": 19,
    "start_time": "2022-03-27T09:17:16.847Z"
   },
   {
    "duration": 33,
    "start_time": "2022-03-27T09:17:16.868Z"
   },
   {
    "duration": 5,
    "start_time": "2022-03-27T09:17:16.903Z"
   },
   {
    "duration": 16,
    "start_time": "2022-03-27T09:17:16.910Z"
   },
   {
    "duration": 13,
    "start_time": "2022-03-27T09:17:16.928Z"
   },
   {
    "duration": 6,
    "start_time": "2022-03-27T09:17:16.943Z"
   },
   {
    "duration": 76,
    "start_time": "2022-03-27T09:17:16.951Z"
   },
   {
    "duration": 18,
    "start_time": "2022-03-27T09:17:17.029Z"
   },
   {
    "duration": 9,
    "start_time": "2022-03-27T09:17:17.050Z"
   },
   {
    "duration": 9,
    "start_time": "2022-03-27T09:17:17.062Z"
   },
   {
    "duration": 49,
    "start_time": "2022-03-27T09:17:17.074Z"
   },
   {
    "duration": 39,
    "start_time": "2022-03-27T09:17:17.125Z"
   },
   {
    "duration": 42,
    "start_time": "2022-03-27T09:17:17.165Z"
   },
   {
    "duration": 23,
    "start_time": "2022-03-27T09:17:17.209Z"
   },
   {
    "duration": 15,
    "start_time": "2022-03-27T09:17:17.235Z"
   },
   {
    "duration": 13,
    "start_time": "2022-03-27T09:17:17.251Z"
   },
   {
    "duration": 42,
    "start_time": "2022-03-27T09:17:17.266Z"
   },
   {
    "duration": 25,
    "start_time": "2022-03-27T09:17:17.309Z"
   },
   {
    "duration": 12,
    "start_time": "2022-03-27T09:17:26.341Z"
   },
   {
    "duration": 11,
    "start_time": "2022-03-27T09:19:02.877Z"
   },
   {
    "duration": 11,
    "start_time": "2022-03-27T09:19:46.098Z"
   },
   {
    "duration": 11,
    "start_time": "2022-03-27T09:20:40.433Z"
   },
   {
    "duration": 466,
    "start_time": "2022-03-27T09:20:52.531Z"
   },
   {
    "duration": 14,
    "start_time": "2022-03-27T09:20:52.999Z"
   },
   {
    "duration": 8,
    "start_time": "2022-03-27T09:20:53.015Z"
   },
   {
    "duration": 7,
    "start_time": "2022-03-27T09:20:53.025Z"
   },
   {
    "duration": 26,
    "start_time": "2022-03-27T09:20:53.033Z"
   },
   {
    "duration": 41,
    "start_time": "2022-03-27T09:20:53.060Z"
   },
   {
    "duration": 6,
    "start_time": "2022-03-27T09:20:53.103Z"
   },
   {
    "duration": 7,
    "start_time": "2022-03-27T09:20:53.111Z"
   },
   {
    "duration": 19,
    "start_time": "2022-03-27T09:20:53.119Z"
   },
   {
    "duration": 18,
    "start_time": "2022-03-27T09:20:53.141Z"
   },
   {
    "duration": 63,
    "start_time": "2022-03-27T09:20:53.160Z"
   },
   {
    "duration": 16,
    "start_time": "2022-03-27T09:20:53.225Z"
   },
   {
    "duration": 12,
    "start_time": "2022-03-27T09:20:53.243Z"
   },
   {
    "duration": 7,
    "start_time": "2022-03-27T09:20:53.257Z"
   },
   {
    "duration": 4,
    "start_time": "2022-03-27T09:20:53.266Z"
   },
   {
    "duration": 5,
    "start_time": "2022-03-27T09:20:53.301Z"
   },
   {
    "duration": 21,
    "start_time": "2022-03-27T09:20:53.308Z"
   },
   {
    "duration": 12,
    "start_time": "2022-03-27T09:20:53.330Z"
   },
   {
    "duration": 5,
    "start_time": "2022-03-27T09:20:53.344Z"
   },
   {
    "duration": 52,
    "start_time": "2022-03-27T09:20:53.350Z"
   },
   {
    "duration": 10,
    "start_time": "2022-03-27T09:20:53.404Z"
   },
   {
    "duration": 6,
    "start_time": "2022-03-27T09:20:53.416Z"
   },
   {
    "duration": 5,
    "start_time": "2022-03-27T09:20:53.424Z"
   },
   {
    "duration": 24,
    "start_time": "2022-03-27T09:20:53.430Z"
   },
   {
    "duration": 75,
    "start_time": "2022-03-27T09:20:53.456Z"
   },
   {
    "duration": 18,
    "start_time": "2022-03-27T09:20:53.533Z"
   },
   {
    "duration": 18,
    "start_time": "2022-03-27T09:20:53.552Z"
   },
   {
    "duration": 32,
    "start_time": "2022-03-27T09:20:53.573Z"
   },
   {
    "duration": 11,
    "start_time": "2022-03-27T09:20:53.606Z"
   },
   {
    "duration": 12,
    "start_time": "2022-03-27T09:20:53.618Z"
   },
   {
    "duration": 8,
    "start_time": "2022-03-27T09:20:53.631Z"
   },
   {
    "duration": 23,
    "start_time": "2022-03-27T09:20:53.640Z"
   },
   {
    "duration": 12,
    "start_time": "2022-03-27T09:21:01.672Z"
   },
   {
    "duration": 13,
    "start_time": "2022-03-27T09:21:30.902Z"
   },
   {
    "duration": 12,
    "start_time": "2022-03-27T09:24:24.070Z"
   },
   {
    "duration": 3,
    "start_time": "2022-03-27T09:27:15.960Z"
   },
   {
    "duration": 69,
    "start_time": "2022-03-27T09:28:13.453Z"
   },
   {
    "duration": 3051,
    "start_time": "2022-03-27T09:30:51.062Z"
   },
   {
    "duration": 496,
    "start_time": "2022-03-27T09:32:01.108Z"
   },
   {
    "duration": 14,
    "start_time": "2022-03-27T09:32:01.606Z"
   },
   {
    "duration": 11,
    "start_time": "2022-03-27T09:32:01.622Z"
   },
   {
    "duration": 6,
    "start_time": "2022-03-27T09:32:01.635Z"
   },
   {
    "duration": 31,
    "start_time": "2022-03-27T09:32:01.643Z"
   },
   {
    "duration": 34,
    "start_time": "2022-03-27T09:32:01.676Z"
   },
   {
    "duration": 12,
    "start_time": "2022-03-27T09:32:01.712Z"
   },
   {
    "duration": 9,
    "start_time": "2022-03-27T09:32:01.726Z"
   },
   {
    "duration": 20,
    "start_time": "2022-03-27T09:32:01.737Z"
   },
   {
    "duration": 43,
    "start_time": "2022-03-27T09:32:01.759Z"
   },
   {
    "duration": 44,
    "start_time": "2022-03-27T09:32:01.804Z"
   },
   {
    "duration": 29,
    "start_time": "2022-03-27T09:32:01.850Z"
   },
   {
    "duration": 18,
    "start_time": "2022-03-27T09:32:01.901Z"
   },
   {
    "duration": 9,
    "start_time": "2022-03-27T09:32:01.923Z"
   },
   {
    "duration": 5,
    "start_time": "2022-03-27T09:32:01.935Z"
   },
   {
    "duration": 9,
    "start_time": "2022-03-27T09:32:01.943Z"
   },
   {
    "duration": 19,
    "start_time": "2022-03-27T09:32:01.953Z"
   },
   {
    "duration": 37,
    "start_time": "2022-03-27T09:32:01.975Z"
   },
   {
    "duration": 15,
    "start_time": "2022-03-27T09:32:02.014Z"
   },
   {
    "duration": 30,
    "start_time": "2022-03-27T09:32:02.031Z"
   },
   {
    "duration": 10,
    "start_time": "2022-03-27T09:32:02.063Z"
   },
   {
    "duration": 6,
    "start_time": "2022-03-27T09:32:02.075Z"
   },
   {
    "duration": 19,
    "start_time": "2022-03-27T09:32:02.083Z"
   },
   {
    "duration": 24,
    "start_time": "2022-03-27T09:32:02.104Z"
   },
   {
    "duration": 33,
    "start_time": "2022-03-27T09:32:02.131Z"
   },
   {
    "duration": 40,
    "start_time": "2022-03-27T09:32:02.166Z"
   },
   {
    "duration": 21,
    "start_time": "2022-03-27T09:32:02.208Z"
   },
   {
    "duration": 15,
    "start_time": "2022-03-27T09:32:02.231Z"
   },
   {
    "duration": 17,
    "start_time": "2022-03-27T09:32:02.247Z"
   },
   {
    "duration": 51,
    "start_time": "2022-03-27T09:32:02.266Z"
   },
   {
    "duration": 14,
    "start_time": "2022-03-27T09:32:02.319Z"
   },
   {
    "duration": 16,
    "start_time": "2022-03-27T09:32:02.335Z"
   },
   {
    "duration": 38,
    "start_time": "2022-03-27T09:32:02.353Z"
   },
   {
    "duration": 23,
    "start_time": "2022-03-27T09:32:02.394Z"
   },
   {
    "duration": 24,
    "start_time": "2022-03-27T09:32:02.420Z"
   },
   {
    "duration": 133,
    "start_time": "2022-03-27T09:32:02.447Z"
   },
   {
    "duration": 12,
    "start_time": "2022-03-27T09:32:23.442Z"
   },
   {
    "duration": 3084,
    "start_time": "2022-03-27T09:33:41.534Z"
   },
   {
    "duration": 0,
    "start_time": "2022-03-27T09:33:44.620Z"
   },
   {
    "duration": 463,
    "start_time": "2022-03-27T09:34:20.722Z"
   },
   {
    "duration": 15,
    "start_time": "2022-03-27T09:34:21.187Z"
   },
   {
    "duration": 10,
    "start_time": "2022-03-27T09:34:21.204Z"
   },
   {
    "duration": 6,
    "start_time": "2022-03-27T09:34:21.216Z"
   },
   {
    "duration": 26,
    "start_time": "2022-03-27T09:34:21.224Z"
   },
   {
    "duration": 9,
    "start_time": "2022-03-27T09:34:21.252Z"
   },
   {
    "duration": 40,
    "start_time": "2022-03-27T09:34:21.262Z"
   },
   {
    "duration": 9,
    "start_time": "2022-03-27T09:34:21.303Z"
   },
   {
    "duration": 20,
    "start_time": "2022-03-27T09:34:21.313Z"
   },
   {
    "duration": 19,
    "start_time": "2022-03-27T09:34:21.336Z"
   },
   {
    "duration": 69,
    "start_time": "2022-03-27T09:34:21.357Z"
   },
   {
    "duration": 17,
    "start_time": "2022-03-27T09:34:21.428Z"
   },
   {
    "duration": 12,
    "start_time": "2022-03-27T09:34:21.447Z"
   },
   {
    "duration": 7,
    "start_time": "2022-03-27T09:34:21.461Z"
   },
   {
    "duration": 32,
    "start_time": "2022-03-27T09:34:21.469Z"
   },
   {
    "duration": 4,
    "start_time": "2022-03-27T09:34:21.504Z"
   },
   {
    "duration": 10,
    "start_time": "2022-03-27T09:34:21.510Z"
   },
   {
    "duration": 12,
    "start_time": "2022-03-27T09:34:21.522Z"
   },
   {
    "duration": 4,
    "start_time": "2022-03-27T09:34:21.536Z"
   },
   {
    "duration": 31,
    "start_time": "2022-03-27T09:34:21.542Z"
   },
   {
    "duration": 16,
    "start_time": "2022-03-27T09:34:21.600Z"
   },
   {
    "duration": 6,
    "start_time": "2022-03-27T09:34:21.619Z"
   },
   {
    "duration": 7,
    "start_time": "2022-03-27T09:34:21.627Z"
   },
   {
    "duration": 21,
    "start_time": "2022-03-27T09:34:21.636Z"
   },
   {
    "duration": 59,
    "start_time": "2022-03-27T09:34:21.659Z"
   },
   {
    "duration": 20,
    "start_time": "2022-03-27T09:34:21.720Z"
   },
   {
    "duration": 19,
    "start_time": "2022-03-27T09:34:21.742Z"
   },
   {
    "duration": 38,
    "start_time": "2022-03-27T09:34:21.764Z"
   },
   {
    "duration": 12,
    "start_time": "2022-03-27T09:34:21.804Z"
   },
   {
    "duration": 20,
    "start_time": "2022-03-27T09:34:21.818Z"
   },
   {
    "duration": 13,
    "start_time": "2022-03-27T09:34:21.840Z"
   },
   {
    "duration": 10,
    "start_time": "2022-03-27T09:34:21.855Z"
   },
   {
    "duration": 196,
    "start_time": "2022-03-27T09:34:21.867Z"
   },
   {
    "duration": 14,
    "start_time": "2022-03-27T09:34:22.064Z"
   },
   {
    "duration": 21,
    "start_time": "2022-03-27T09:34:22.080Z"
   },
   {
    "duration": 80,
    "start_time": "2022-03-27T09:34:22.103Z"
   },
   {
    "duration": 14,
    "start_time": "2022-03-27T09:34:42.484Z"
   },
   {
    "duration": 3,
    "start_time": "2022-03-27T09:35:05.739Z"
   },
   {
    "duration": 10,
    "start_time": "2022-03-27T09:35:08.897Z"
   },
   {
    "duration": 11,
    "start_time": "2022-03-27T09:37:27.229Z"
   },
   {
    "duration": 7,
    "start_time": "2022-03-27T09:37:43.249Z"
   },
   {
    "duration": 9,
    "start_time": "2022-03-27T09:38:39.419Z"
   },
   {
    "duration": 12,
    "start_time": "2022-03-27T09:39:41.677Z"
   },
   {
    "duration": 7,
    "start_time": "2022-03-27T09:39:53.834Z"
   },
   {
    "duration": 32,
    "start_time": "2022-03-27T09:42:10.965Z"
   },
   {
    "duration": 218,
    "start_time": "2022-03-27T09:42:37.809Z"
   },
   {
    "duration": 53,
    "start_time": "2022-03-27T17:26:04.602Z"
   },
   {
    "duration": 478,
    "start_time": "2022-03-27T17:26:16.522Z"
   },
   {
    "duration": 19,
    "start_time": "2022-03-27T17:26:17.003Z"
   },
   {
    "duration": 13,
    "start_time": "2022-03-27T17:26:17.024Z"
   },
   {
    "duration": 15,
    "start_time": "2022-03-27T17:26:17.040Z"
   },
   {
    "duration": 34,
    "start_time": "2022-03-27T17:26:17.057Z"
   },
   {
    "duration": 11,
    "start_time": "2022-03-27T17:26:17.109Z"
   },
   {
    "duration": 8,
    "start_time": "2022-03-27T17:26:17.122Z"
   },
   {
    "duration": 10,
    "start_time": "2022-03-27T17:26:17.132Z"
   },
   {
    "duration": 65,
    "start_time": "2022-03-27T17:26:17.144Z"
   },
   {
    "duration": 21,
    "start_time": "2022-03-27T17:26:17.212Z"
   },
   {
    "duration": 36,
    "start_time": "2022-03-27T17:26:17.235Z"
   },
   {
    "duration": 47,
    "start_time": "2022-03-27T17:26:17.273Z"
   },
   {
    "duration": 11,
    "start_time": "2022-03-27T17:26:17.321Z"
   },
   {
    "duration": 7,
    "start_time": "2022-03-27T17:26:17.333Z"
   },
   {
    "duration": 5,
    "start_time": "2022-03-27T17:26:17.341Z"
   },
   {
    "duration": 8,
    "start_time": "2022-03-27T17:26:17.347Z"
   },
   {
    "duration": 54,
    "start_time": "2022-03-27T17:26:17.356Z"
   },
   {
    "duration": 12,
    "start_time": "2022-03-27T17:26:17.411Z"
   },
   {
    "duration": 4,
    "start_time": "2022-03-27T17:26:17.424Z"
   },
   {
    "duration": 31,
    "start_time": "2022-03-27T17:26:17.430Z"
   },
   {
    "duration": 11,
    "start_time": "2022-03-27T17:26:17.463Z"
   },
   {
    "duration": 6,
    "start_time": "2022-03-27T17:26:17.508Z"
   },
   {
    "duration": 6,
    "start_time": "2022-03-27T17:26:17.515Z"
   },
   {
    "duration": 21,
    "start_time": "2022-03-27T17:26:17.522Z"
   },
   {
    "duration": 34,
    "start_time": "2022-03-27T17:26:17.545Z"
   },
   {
    "duration": 22,
    "start_time": "2022-03-27T17:26:17.609Z"
   },
   {
    "duration": 20,
    "start_time": "2022-03-27T17:26:17.632Z"
   },
   {
    "duration": 12,
    "start_time": "2022-03-27T17:26:17.656Z"
   },
   {
    "duration": 49,
    "start_time": "2022-03-27T17:26:17.670Z"
   },
   {
    "duration": 12,
    "start_time": "2022-03-27T17:26:17.720Z"
   },
   {
    "duration": 16,
    "start_time": "2022-03-27T17:26:17.733Z"
   },
   {
    "duration": 12,
    "start_time": "2022-03-27T17:26:17.750Z"
   },
   {
    "duration": 9,
    "start_time": "2022-03-27T17:26:17.764Z"
   },
   {
    "duration": 224,
    "start_time": "2022-03-27T17:26:17.775Z"
   },
   {
    "duration": 14,
    "start_time": "2022-03-27T17:26:18.001Z"
   },
   {
    "duration": 8,
    "start_time": "2022-03-27T17:26:18.017Z"
   },
   {
    "duration": 15,
    "start_time": "2022-03-27T17:26:18.027Z"
   },
   {
    "duration": 10,
    "start_time": "2022-03-27T17:26:18.044Z"
   },
   {
    "duration": 12,
    "start_time": "2022-03-27T17:26:18.055Z"
   },
   {
    "duration": 11,
    "start_time": "2022-03-27T17:26:18.109Z"
   },
   {
    "duration": 32,
    "start_time": "2022-03-27T17:26:18.122Z"
   },
   {
    "duration": 13,
    "start_time": "2022-03-27T17:26:42.598Z"
   },
   {
    "duration": 12,
    "start_time": "2022-03-27T17:26:49.195Z"
   },
   {
    "duration": 447,
    "start_time": "2022-03-27T17:26:54.239Z"
   },
   {
    "duration": 14,
    "start_time": "2022-03-27T17:26:54.689Z"
   },
   {
    "duration": 8,
    "start_time": "2022-03-27T17:26:54.709Z"
   },
   {
    "duration": 8,
    "start_time": "2022-03-27T17:26:54.719Z"
   },
   {
    "duration": 30,
    "start_time": "2022-03-27T17:26:54.728Z"
   },
   {
    "duration": 10,
    "start_time": "2022-03-27T17:26:54.759Z"
   },
   {
    "duration": 44,
    "start_time": "2022-03-27T17:26:54.770Z"
   },
   {
    "duration": 8,
    "start_time": "2022-03-27T17:26:54.815Z"
   },
   {
    "duration": 22,
    "start_time": "2022-03-27T17:26:54.824Z"
   },
   {
    "duration": 19,
    "start_time": "2022-03-27T17:26:54.848Z"
   },
   {
    "duration": 69,
    "start_time": "2022-03-27T17:26:54.868Z"
   },
   {
    "duration": 17,
    "start_time": "2022-03-27T17:26:54.938Z"
   },
   {
    "duration": 11,
    "start_time": "2022-03-27T17:26:54.957Z"
   },
   {
    "duration": 39,
    "start_time": "2022-03-27T17:26:54.970Z"
   },
   {
    "duration": 4,
    "start_time": "2022-03-27T17:26:55.010Z"
   },
   {
    "duration": 15,
    "start_time": "2022-03-27T17:26:55.016Z"
   },
   {
    "duration": 14,
    "start_time": "2022-03-27T17:26:55.032Z"
   },
   {
    "duration": 12,
    "start_time": "2022-03-27T17:26:55.047Z"
   },
   {
    "duration": 4,
    "start_time": "2022-03-27T17:26:55.061Z"
   },
   {
    "duration": 62,
    "start_time": "2022-03-27T17:26:55.067Z"
   },
   {
    "duration": 11,
    "start_time": "2022-03-27T17:26:55.130Z"
   },
   {
    "duration": 9,
    "start_time": "2022-03-27T17:26:55.142Z"
   },
   {
    "duration": 10,
    "start_time": "2022-03-27T17:26:55.153Z"
   },
   {
    "duration": 26,
    "start_time": "2022-03-27T17:26:55.165Z"
   },
   {
    "duration": 47,
    "start_time": "2022-03-27T17:26:55.192Z"
   },
   {
    "duration": 17,
    "start_time": "2022-03-27T17:26:55.241Z"
   },
   {
    "duration": 18,
    "start_time": "2022-03-27T17:26:55.260Z"
   },
   {
    "duration": 11,
    "start_time": "2022-03-27T17:26:55.308Z"
   },
   {
    "duration": 11,
    "start_time": "2022-03-27T17:26:55.321Z"
   },
   {
    "duration": 13,
    "start_time": "2022-03-27T17:26:55.333Z"
   },
   {
    "duration": 13,
    "start_time": "2022-03-27T17:26:55.348Z"
   },
   {
    "duration": 48,
    "start_time": "2022-03-27T17:26:55.362Z"
   },
   {
    "duration": 12,
    "start_time": "2022-03-27T17:26:55.411Z"
   },
   {
    "duration": 9,
    "start_time": "2022-03-27T17:26:55.425Z"
   },
   {
    "duration": 195,
    "start_time": "2022-03-27T17:26:55.436Z"
   },
   {
    "duration": 12,
    "start_time": "2022-03-27T17:26:55.632Z"
   },
   {
    "duration": 6,
    "start_time": "2022-03-27T17:26:55.646Z"
   },
   {
    "duration": 17,
    "start_time": "2022-03-27T17:26:55.653Z"
   },
   {
    "duration": 9,
    "start_time": "2022-03-27T17:26:55.672Z"
   },
   {
    "duration": 37,
    "start_time": "2022-03-27T17:26:55.682Z"
   },
   {
    "duration": 10,
    "start_time": "2022-03-27T17:26:55.720Z"
   },
   {
    "duration": 30,
    "start_time": "2022-03-27T17:26:55.731Z"
   },
   {
    "duration": 13,
    "start_time": "2022-03-27T17:27:07.886Z"
   },
   {
    "duration": 468,
    "start_time": "2022-03-27T17:27:27.470Z"
   },
   {
    "duration": 16,
    "start_time": "2022-03-27T17:27:27.940Z"
   },
   {
    "duration": 9,
    "start_time": "2022-03-27T17:27:27.958Z"
   },
   {
    "duration": 5,
    "start_time": "2022-03-27T17:27:27.969Z"
   },
   {
    "duration": 52,
    "start_time": "2022-03-27T17:27:27.976Z"
   },
   {
    "duration": 11,
    "start_time": "2022-03-27T17:27:28.030Z"
   },
   {
    "duration": 8,
    "start_time": "2022-03-27T17:27:28.044Z"
   },
   {
    "duration": 10,
    "start_time": "2022-03-27T17:27:28.054Z"
   },
   {
    "duration": 65,
    "start_time": "2022-03-27T17:27:28.066Z"
   },
   {
    "duration": 19,
    "start_time": "2022-03-27T17:27:28.135Z"
   },
   {
    "duration": 73,
    "start_time": "2022-03-27T17:27:28.156Z"
   },
   {
    "duration": 17,
    "start_time": "2022-03-27T17:27:28.231Z"
   },
   {
    "duration": 13,
    "start_time": "2022-03-27T17:27:28.250Z"
   },
   {
    "duration": 8,
    "start_time": "2022-03-27T17:27:28.265Z"
   },
   {
    "duration": 38,
    "start_time": "2022-03-27T17:27:28.274Z"
   },
   {
    "duration": 7,
    "start_time": "2022-03-27T17:27:28.313Z"
   },
   {
    "duration": 11,
    "start_time": "2022-03-27T17:27:28.321Z"
   },
   {
    "duration": 11,
    "start_time": "2022-03-27T17:27:28.334Z"
   },
   {
    "duration": 5,
    "start_time": "2022-03-27T17:27:28.346Z"
   },
   {
    "duration": 71,
    "start_time": "2022-03-27T17:27:28.353Z"
   },
   {
    "duration": 11,
    "start_time": "2022-03-27T17:27:28.426Z"
   },
   {
    "duration": 9,
    "start_time": "2022-03-27T17:27:28.439Z"
   },
   {
    "duration": 6,
    "start_time": "2022-03-27T17:27:28.449Z"
   },
   {
    "duration": 22,
    "start_time": "2022-03-27T17:27:28.457Z"
   },
   {
    "duration": 58,
    "start_time": "2022-03-27T17:27:28.481Z"
   },
   {
    "duration": 19,
    "start_time": "2022-03-27T17:27:28.541Z"
   },
   {
    "duration": 20,
    "start_time": "2022-03-27T17:27:28.562Z"
   },
   {
    "duration": 13,
    "start_time": "2022-03-27T17:27:28.608Z"
   },
   {
    "duration": 12,
    "start_time": "2022-03-27T17:27:28.623Z"
   },
   {
    "duration": 16,
    "start_time": "2022-03-27T17:27:28.637Z"
   },
   {
    "duration": 12,
    "start_time": "2022-03-27T17:27:28.655Z"
   },
   {
    "duration": 50,
    "start_time": "2022-03-27T17:27:28.668Z"
   },
   {
    "duration": 13,
    "start_time": "2022-03-27T17:27:28.720Z"
   },
   {
    "duration": 9,
    "start_time": "2022-03-27T17:27:28.734Z"
   },
   {
    "duration": 209,
    "start_time": "2022-03-27T17:27:28.744Z"
   },
   {
    "duration": 13,
    "start_time": "2022-03-27T17:27:28.954Z"
   },
   {
    "duration": 4,
    "start_time": "2022-03-27T17:27:28.968Z"
   },
   {
    "duration": 12,
    "start_time": "2022-03-27T17:27:28.974Z"
   },
   {
    "duration": 10,
    "start_time": "2022-03-27T17:27:29.008Z"
   },
   {
    "duration": 14,
    "start_time": "2022-03-27T17:27:29.020Z"
   },
   {
    "duration": 10,
    "start_time": "2022-03-27T17:27:29.036Z"
   },
   {
    "duration": 31,
    "start_time": "2022-03-27T17:27:29.047Z"
   },
   {
    "duration": 11,
    "start_time": "2022-03-27T17:27:42.970Z"
   },
   {
    "duration": 513,
    "start_time": "2022-03-27T17:27:53.508Z"
   },
   {
    "duration": 19,
    "start_time": "2022-03-27T17:27:54.024Z"
   },
   {
    "duration": 14,
    "start_time": "2022-03-27T17:27:54.045Z"
   },
   {
    "duration": 11,
    "start_time": "2022-03-27T17:27:54.062Z"
   },
   {
    "duration": 56,
    "start_time": "2022-03-27T17:27:54.075Z"
   },
   {
    "duration": 9,
    "start_time": "2022-03-27T17:27:54.133Z"
   },
   {
    "duration": 16,
    "start_time": "2022-03-27T17:27:54.143Z"
   },
   {
    "duration": 13,
    "start_time": "2022-03-27T17:27:54.161Z"
   },
   {
    "duration": 46,
    "start_time": "2022-03-27T17:27:54.176Z"
   },
   {
    "duration": 19,
    "start_time": "2022-03-27T17:27:54.225Z"
   },
   {
    "duration": 36,
    "start_time": "2022-03-27T17:27:54.245Z"
   },
   {
    "duration": 41,
    "start_time": "2022-03-27T17:27:54.283Z"
   },
   {
    "duration": 13,
    "start_time": "2022-03-27T17:27:54.325Z"
   },
   {
    "duration": 7,
    "start_time": "2022-03-27T17:27:54.340Z"
   },
   {
    "duration": 4,
    "start_time": "2022-03-27T17:27:54.349Z"
   },
   {
    "duration": 5,
    "start_time": "2022-03-27T17:27:54.355Z"
   },
   {
    "duration": 55,
    "start_time": "2022-03-27T17:27:54.362Z"
   },
   {
    "duration": 15,
    "start_time": "2022-03-27T17:27:54.419Z"
   },
   {
    "duration": 5,
    "start_time": "2022-03-27T17:27:54.436Z"
   },
   {
    "duration": 40,
    "start_time": "2022-03-27T17:27:54.442Z"
   },
   {
    "duration": 33,
    "start_time": "2022-03-27T17:27:54.484Z"
   },
   {
    "duration": 14,
    "start_time": "2022-03-27T17:27:54.519Z"
   },
   {
    "duration": 19,
    "start_time": "2022-03-27T17:27:54.534Z"
   },
   {
    "duration": 37,
    "start_time": "2022-03-27T17:27:54.555Z"
   },
   {
    "duration": 38,
    "start_time": "2022-03-27T17:27:54.594Z"
   },
   {
    "duration": 20,
    "start_time": "2022-03-27T17:27:54.634Z"
   },
   {
    "duration": 21,
    "start_time": "2022-03-27T17:27:54.656Z"
   },
   {
    "duration": 33,
    "start_time": "2022-03-27T17:27:54.681Z"
   },
   {
    "duration": 11,
    "start_time": "2022-03-27T17:27:54.716Z"
   },
   {
    "duration": 25,
    "start_time": "2022-03-27T17:27:54.729Z"
   },
   {
    "duration": 12,
    "start_time": "2022-03-27T17:27:54.756Z"
   },
   {
    "duration": 46,
    "start_time": "2022-03-27T17:27:54.770Z"
   },
   {
    "duration": 11,
    "start_time": "2022-03-27T17:27:54.818Z"
   },
   {
    "duration": 9,
    "start_time": "2022-03-27T17:27:54.831Z"
   },
   {
    "duration": 209,
    "start_time": "2022-03-27T17:27:54.842Z"
   },
   {
    "duration": 13,
    "start_time": "2022-03-27T17:27:55.053Z"
   },
   {
    "duration": 8,
    "start_time": "2022-03-27T17:27:55.068Z"
   },
   {
    "duration": 18,
    "start_time": "2022-03-27T17:27:55.078Z"
   },
   {
    "duration": 11,
    "start_time": "2022-03-27T17:27:55.109Z"
   },
   {
    "duration": 10,
    "start_time": "2022-03-27T17:27:55.122Z"
   },
   {
    "duration": 11,
    "start_time": "2022-03-27T17:27:55.134Z"
   },
   {
    "duration": 74,
    "start_time": "2022-03-27T17:27:55.146Z"
   },
   {
    "duration": 13,
    "start_time": "2022-03-27T17:28:10.357Z"
   },
   {
    "duration": 68,
    "start_time": "2022-03-27T17:29:04.072Z"
   },
   {
    "duration": 11,
    "start_time": "2022-03-27T17:29:12.193Z"
   },
   {
    "duration": 12,
    "start_time": "2022-03-27T17:29:13.806Z"
   },
   {
    "duration": 12,
    "start_time": "2022-03-27T17:30:25.869Z"
   },
   {
    "duration": 438,
    "start_time": "2022-03-27T17:30:32.664Z"
   },
   {
    "duration": 15,
    "start_time": "2022-03-27T17:30:33.104Z"
   },
   {
    "duration": 9,
    "start_time": "2022-03-27T17:30:33.121Z"
   },
   {
    "duration": 11,
    "start_time": "2022-03-27T17:30:33.132Z"
   },
   {
    "duration": 27,
    "start_time": "2022-03-27T17:30:33.145Z"
   },
   {
    "duration": 36,
    "start_time": "2022-03-27T17:30:33.173Z"
   },
   {
    "duration": 8,
    "start_time": "2022-03-27T17:30:33.210Z"
   },
   {
    "duration": 13,
    "start_time": "2022-03-27T17:30:33.219Z"
   },
   {
    "duration": 22,
    "start_time": "2022-03-27T17:30:33.234Z"
   },
   {
    "duration": 52,
    "start_time": "2022-03-27T17:30:33.259Z"
   },
   {
    "duration": 36,
    "start_time": "2022-03-27T17:30:33.312Z"
   },
   {
    "duration": 16,
    "start_time": "2022-03-27T17:30:33.350Z"
   },
   {
    "duration": 43,
    "start_time": "2022-03-27T17:30:33.367Z"
   },
   {
    "duration": 7,
    "start_time": "2022-03-27T17:30:33.411Z"
   },
   {
    "duration": 4,
    "start_time": "2022-03-27T17:30:33.420Z"
   },
   {
    "duration": 6,
    "start_time": "2022-03-27T17:30:33.426Z"
   },
   {
    "duration": 10,
    "start_time": "2022-03-27T17:30:33.434Z"
   },
   {
    "duration": 11,
    "start_time": "2022-03-27T17:30:33.446Z"
   },
   {
    "duration": 4,
    "start_time": "2022-03-27T17:30:33.459Z"
   },
   {
    "duration": 72,
    "start_time": "2022-03-27T17:30:33.465Z"
   },
   {
    "duration": 12,
    "start_time": "2022-03-27T17:30:33.539Z"
   },
   {
    "duration": 8,
    "start_time": "2022-03-27T17:30:33.552Z"
   },
   {
    "duration": 9,
    "start_time": "2022-03-27T17:30:33.562Z"
   },
   {
    "duration": 54,
    "start_time": "2022-03-27T17:30:33.572Z"
   },
   {
    "duration": 33,
    "start_time": "2022-03-27T17:30:33.628Z"
   },
   {
    "duration": 18,
    "start_time": "2022-03-27T17:30:33.663Z"
   },
   {
    "duration": 43,
    "start_time": "2022-03-27T17:30:33.683Z"
   },
   {
    "duration": 12,
    "start_time": "2022-03-27T17:30:33.729Z"
   },
   {
    "duration": 10,
    "start_time": "2022-03-27T17:30:33.743Z"
   },
   {
    "duration": 13,
    "start_time": "2022-03-27T17:30:33.755Z"
   },
   {
    "duration": 47,
    "start_time": "2022-03-27T17:30:33.769Z"
   },
   {
    "duration": 11,
    "start_time": "2022-03-27T17:30:33.818Z"
   },
   {
    "duration": 12,
    "start_time": "2022-03-27T17:30:33.831Z"
   },
   {
    "duration": 10,
    "start_time": "2022-03-27T17:30:33.845Z"
   },
   {
    "duration": 225,
    "start_time": "2022-03-27T17:30:33.856Z"
   },
   {
    "duration": 12,
    "start_time": "2022-03-27T17:30:34.083Z"
   },
   {
    "duration": 13,
    "start_time": "2022-03-27T17:30:34.097Z"
   },
   {
    "duration": 13,
    "start_time": "2022-03-27T17:30:34.111Z"
   },
   {
    "duration": 9,
    "start_time": "2022-03-27T17:30:34.126Z"
   },
   {
    "duration": 10,
    "start_time": "2022-03-27T17:30:34.137Z"
   },
   {
    "duration": 10,
    "start_time": "2022-03-27T17:30:34.149Z"
   },
   {
    "duration": 74,
    "start_time": "2022-03-27T17:30:34.160Z"
   },
   {
    "duration": 491,
    "start_time": "2022-03-27T17:31:20.791Z"
   },
   {
    "duration": 14,
    "start_time": "2022-03-27T17:31:21.284Z"
   },
   {
    "duration": 13,
    "start_time": "2022-03-27T17:31:21.299Z"
   },
   {
    "duration": 5,
    "start_time": "2022-03-27T17:31:21.314Z"
   },
   {
    "duration": 27,
    "start_time": "2022-03-27T17:31:21.321Z"
   },
   {
    "duration": 9,
    "start_time": "2022-03-27T17:31:21.350Z"
   },
   {
    "duration": 48,
    "start_time": "2022-03-27T17:31:21.361Z"
   },
   {
    "duration": 7,
    "start_time": "2022-03-27T17:31:21.411Z"
   },
   {
    "duration": 21,
    "start_time": "2022-03-27T17:31:21.420Z"
   },
   {
    "duration": 19,
    "start_time": "2022-03-27T17:31:21.443Z"
   },
   {
    "duration": 72,
    "start_time": "2022-03-27T17:31:21.464Z"
   },
   {
    "duration": 17,
    "start_time": "2022-03-27T17:31:21.538Z"
   },
   {
    "duration": 12,
    "start_time": "2022-03-27T17:31:21.557Z"
   },
   {
    "duration": 7,
    "start_time": "2022-03-27T17:31:21.571Z"
   },
   {
    "duration": 5,
    "start_time": "2022-03-27T17:31:21.608Z"
   },
   {
    "duration": 6,
    "start_time": "2022-03-27T17:31:21.615Z"
   },
   {
    "duration": 10,
    "start_time": "2022-03-27T17:31:21.622Z"
   },
   {
    "duration": 14,
    "start_time": "2022-03-27T17:31:21.633Z"
   },
   {
    "duration": 4,
    "start_time": "2022-03-27T17:31:21.649Z"
   },
   {
    "duration": 70,
    "start_time": "2022-03-27T17:31:21.655Z"
   },
   {
    "duration": 11,
    "start_time": "2022-03-27T17:31:21.727Z"
   },
   {
    "duration": 11,
    "start_time": "2022-03-27T17:31:21.739Z"
   },
   {
    "duration": 14,
    "start_time": "2022-03-27T17:31:21.752Z"
   },
   {
    "duration": 22,
    "start_time": "2022-03-27T17:31:21.767Z"
   },
   {
    "duration": 49,
    "start_time": "2022-03-27T17:31:21.790Z"
   },
   {
    "duration": 18,
    "start_time": "2022-03-27T17:31:21.841Z"
   },
   {
    "duration": 18,
    "start_time": "2022-03-27T17:31:21.860Z"
   },
   {
    "duration": 37,
    "start_time": "2022-03-27T17:31:21.881Z"
   },
   {
    "duration": 12,
    "start_time": "2022-03-27T17:31:21.920Z"
   },
   {
    "duration": 14,
    "start_time": "2022-03-27T17:31:21.934Z"
   },
   {
    "duration": 11,
    "start_time": "2022-03-27T17:31:21.950Z"
   },
   {
    "duration": 223,
    "start_time": "2022-03-27T17:31:21.963Z"
   },
   {
    "duration": 21,
    "start_time": "2022-03-27T17:31:22.188Z"
   },
   {
    "duration": 4,
    "start_time": "2022-03-27T17:31:22.211Z"
   },
   {
    "duration": 13,
    "start_time": "2022-03-27T17:31:22.218Z"
   },
   {
    "duration": 12,
    "start_time": "2022-03-27T17:31:22.233Z"
   },
   {
    "duration": 12,
    "start_time": "2022-03-27T17:31:22.247Z"
   },
   {
    "duration": 58,
    "start_time": "2022-03-27T17:31:22.261Z"
   },
   {
    "duration": 32,
    "start_time": "2022-03-27T17:31:22.321Z"
   },
   {
    "duration": 424,
    "start_time": "2022-03-27T17:31:34.855Z"
   },
   {
    "duration": 17,
    "start_time": "2022-03-27T17:31:35.281Z"
   },
   {
    "duration": 9,
    "start_time": "2022-03-27T17:31:35.309Z"
   },
   {
    "duration": 11,
    "start_time": "2022-03-27T17:31:35.320Z"
   },
   {
    "duration": 37,
    "start_time": "2022-03-27T17:31:35.332Z"
   },
   {
    "duration": 9,
    "start_time": "2022-03-27T17:31:35.371Z"
   },
   {
    "duration": 31,
    "start_time": "2022-03-27T17:31:35.381Z"
   },
   {
    "duration": 12,
    "start_time": "2022-03-27T17:31:35.414Z"
   },
   {
    "duration": 22,
    "start_time": "2022-03-27T17:31:35.428Z"
   },
   {
    "duration": 19,
    "start_time": "2022-03-27T17:31:35.452Z"
   },
   {
    "duration": 66,
    "start_time": "2022-03-27T17:31:35.473Z"
   },
   {
    "duration": 17,
    "start_time": "2022-03-27T17:31:35.541Z"
   },
   {
    "duration": 13,
    "start_time": "2022-03-27T17:31:35.560Z"
   },
   {
    "duration": 7,
    "start_time": "2022-03-27T17:31:35.608Z"
   },
   {
    "duration": 5,
    "start_time": "2022-03-27T17:31:35.617Z"
   },
   {
    "duration": 5,
    "start_time": "2022-03-27T17:31:35.624Z"
   },
   {
    "duration": 14,
    "start_time": "2022-03-27T17:31:35.631Z"
   },
   {
    "duration": 20,
    "start_time": "2022-03-27T17:31:35.647Z"
   },
   {
    "duration": 4,
    "start_time": "2022-03-27T17:31:35.669Z"
   },
   {
    "duration": 33,
    "start_time": "2022-03-27T17:31:35.708Z"
   },
   {
    "duration": 13,
    "start_time": "2022-03-27T17:31:35.743Z"
   },
   {
    "duration": 16,
    "start_time": "2022-03-27T17:31:35.758Z"
   },
   {
    "duration": 9,
    "start_time": "2022-03-27T17:31:35.775Z"
   },
   {
    "duration": 42,
    "start_time": "2022-03-27T17:31:35.786Z"
   },
   {
    "duration": 36,
    "start_time": "2022-03-27T17:31:35.830Z"
   },
   {
    "duration": 49,
    "start_time": "2022-03-27T17:31:35.867Z"
   },
   {
    "duration": 22,
    "start_time": "2022-03-27T17:31:35.917Z"
   },
   {
    "duration": 13,
    "start_time": "2022-03-27T17:31:35.942Z"
   },
   {
    "duration": 12,
    "start_time": "2022-03-27T17:31:35.957Z"
   },
   {
    "duration": 45,
    "start_time": "2022-03-27T17:31:35.970Z"
   },
   {
    "duration": 9,
    "start_time": "2022-03-27T17:31:36.016Z"
   },
   {
    "duration": 191,
    "start_time": "2022-03-27T17:31:36.027Z"
   },
   {
    "duration": 12,
    "start_time": "2022-03-27T17:31:36.220Z"
   },
   {
    "duration": 7,
    "start_time": "2022-03-27T17:31:36.233Z"
   },
   {
    "duration": 25,
    "start_time": "2022-03-27T17:31:36.242Z"
   },
   {
    "duration": 10,
    "start_time": "2022-03-27T17:31:36.268Z"
   },
   {
    "duration": 10,
    "start_time": "2022-03-27T17:31:36.280Z"
   },
   {
    "duration": 8,
    "start_time": "2022-03-27T17:31:36.309Z"
   },
   {
    "duration": 28,
    "start_time": "2022-03-27T17:31:36.319Z"
   },
   {
    "duration": 12,
    "start_time": "2022-03-27T17:32:03.628Z"
   },
   {
    "duration": 500,
    "start_time": "2022-03-27T17:32:13.709Z"
   },
   {
    "duration": 16,
    "start_time": "2022-03-27T17:32:14.211Z"
   },
   {
    "duration": 9,
    "start_time": "2022-03-27T17:32:14.229Z"
   },
   {
    "duration": 6,
    "start_time": "2022-03-27T17:32:14.241Z"
   },
   {
    "duration": 69,
    "start_time": "2022-03-27T17:32:14.249Z"
   },
   {
    "duration": 9,
    "start_time": "2022-03-27T17:32:14.320Z"
   },
   {
    "duration": 8,
    "start_time": "2022-03-27T17:32:14.331Z"
   },
   {
    "duration": 8,
    "start_time": "2022-03-27T17:32:14.341Z"
   },
   {
    "duration": 59,
    "start_time": "2022-03-27T17:32:14.350Z"
   },
   {
    "duration": 20,
    "start_time": "2022-03-27T17:32:14.412Z"
   },
   {
    "duration": 37,
    "start_time": "2022-03-27T17:32:14.434Z"
   },
   {
    "duration": 47,
    "start_time": "2022-03-27T17:32:14.473Z"
   },
   {
    "duration": 12,
    "start_time": "2022-03-27T17:32:14.522Z"
   },
   {
    "duration": 7,
    "start_time": "2022-03-27T17:32:14.536Z"
   },
   {
    "duration": 5,
    "start_time": "2022-03-27T17:32:14.544Z"
   },
   {
    "duration": 5,
    "start_time": "2022-03-27T17:32:14.550Z"
   },
   {
    "duration": 52,
    "start_time": "2022-03-27T17:32:14.557Z"
   },
   {
    "duration": 14,
    "start_time": "2022-03-27T17:32:14.610Z"
   },
   {
    "duration": 5,
    "start_time": "2022-03-27T17:32:14.626Z"
   },
   {
    "duration": 36,
    "start_time": "2022-03-27T17:32:14.632Z"
   },
   {
    "duration": 42,
    "start_time": "2022-03-27T17:32:14.669Z"
   },
   {
    "duration": 6,
    "start_time": "2022-03-27T17:32:14.713Z"
   },
   {
    "duration": 6,
    "start_time": "2022-03-27T17:32:14.721Z"
   },
   {
    "duration": 25,
    "start_time": "2022-03-27T17:32:14.728Z"
   },
   {
    "duration": 68,
    "start_time": "2022-03-27T17:32:14.754Z"
   },
   {
    "duration": 21,
    "start_time": "2022-03-27T17:32:14.824Z"
   },
   {
    "duration": 20,
    "start_time": "2022-03-27T17:32:14.847Z"
   },
   {
    "duration": 40,
    "start_time": "2022-03-27T17:32:14.870Z"
   },
   {
    "duration": 11,
    "start_time": "2022-03-27T17:32:14.912Z"
   },
   {
    "duration": 14,
    "start_time": "2022-03-27T17:32:14.925Z"
   },
   {
    "duration": 9,
    "start_time": "2022-03-27T17:32:14.941Z"
   },
   {
    "duration": 210,
    "start_time": "2022-03-27T17:32:14.952Z"
   },
   {
    "duration": 12,
    "start_time": "2022-03-27T17:32:15.164Z"
   },
   {
    "duration": 5,
    "start_time": "2022-03-27T17:32:15.178Z"
   },
   {
    "duration": 28,
    "start_time": "2022-03-27T17:32:15.184Z"
   },
   {
    "duration": 11,
    "start_time": "2022-03-27T17:32:15.214Z"
   },
   {
    "duration": 10,
    "start_time": "2022-03-27T17:32:15.227Z"
   },
   {
    "duration": 10,
    "start_time": "2022-03-27T17:32:15.239Z"
   },
   {
    "duration": 70,
    "start_time": "2022-03-27T17:32:15.251Z"
   },
   {
    "duration": 12,
    "start_time": "2022-03-27T17:37:08.248Z"
   },
   {
    "duration": 620,
    "start_time": "2022-04-07T13:11:07.077Z"
   },
   {
    "duration": 22,
    "start_time": "2022-04-07T13:11:07.700Z"
   },
   {
    "duration": 13,
    "start_time": "2022-04-07T13:11:07.724Z"
   },
   {
    "duration": 8,
    "start_time": "2022-04-07T13:11:07.739Z"
   },
   {
    "duration": 72,
    "start_time": "2022-04-07T13:11:07.749Z"
   },
   {
    "duration": 12,
    "start_time": "2022-04-07T13:11:07.824Z"
   },
   {
    "duration": 14,
    "start_time": "2022-04-07T13:11:07.838Z"
   },
   {
    "duration": 42,
    "start_time": "2022-04-07T13:11:07.854Z"
   },
   {
    "duration": 34,
    "start_time": "2022-04-07T13:11:07.900Z"
   },
   {
    "duration": 65,
    "start_time": "2022-04-07T13:11:07.940Z"
   },
   {
    "duration": 76,
    "start_time": "2022-04-07T13:11:08.007Z"
   },
   {
    "duration": 26,
    "start_time": "2022-04-07T13:11:08.086Z"
   },
   {
    "duration": 17,
    "start_time": "2022-04-07T13:11:08.115Z"
   },
   {
    "duration": 52,
    "start_time": "2022-04-07T13:11:08.135Z"
   },
   {
    "duration": 6,
    "start_time": "2022-04-07T13:11:08.189Z"
   },
   {
    "duration": 52,
    "start_time": "2022-04-07T13:11:08.197Z"
   },
   {
    "duration": 15,
    "start_time": "2022-04-07T13:11:08.251Z"
   },
   {
    "duration": 31,
    "start_time": "2022-04-07T13:11:08.269Z"
   },
   {
    "duration": 6,
    "start_time": "2022-04-07T13:11:08.303Z"
   },
   {
    "duration": 47,
    "start_time": "2022-04-07T13:11:08.312Z"
   },
   {
    "duration": 38,
    "start_time": "2022-04-07T13:11:08.361Z"
   },
   {
    "duration": 15,
    "start_time": "2022-04-07T13:11:08.402Z"
   },
   {
    "duration": 9,
    "start_time": "2022-04-07T13:11:08.420Z"
   },
   {
    "duration": 72,
    "start_time": "2022-04-07T13:11:08.431Z"
   },
   {
    "duration": 81,
    "start_time": "2022-04-07T13:11:08.505Z"
   },
   {
    "duration": 38,
    "start_time": "2022-04-07T13:11:08.588Z"
   },
   {
    "duration": 63,
    "start_time": "2022-04-07T13:11:08.628Z"
   },
   {
    "duration": 20,
    "start_time": "2022-04-07T13:11:08.695Z"
   },
   {
    "duration": 18,
    "start_time": "2022-04-07T13:11:08.717Z"
   },
   {
    "duration": 15,
    "start_time": "2022-04-07T13:11:08.736Z"
   },
   {
    "duration": 322,
    "start_time": "2022-04-07T13:11:08.785Z"
   },
   {
    "duration": 19,
    "start_time": "2022-04-07T13:11:09.109Z"
   },
   {
    "duration": 10,
    "start_time": "2022-04-07T13:11:09.130Z"
   },
   {
    "duration": 20,
    "start_time": "2022-04-07T13:11:09.142Z"
   },
   {
    "duration": 33,
    "start_time": "2022-04-07T13:11:09.164Z"
   },
   {
    "duration": 16,
    "start_time": "2022-04-07T13:11:09.199Z"
   },
   {
    "duration": 15,
    "start_time": "2022-04-07T13:11:09.217Z"
   },
   {
    "duration": 90,
    "start_time": "2022-04-07T13:11:09.234Z"
   },
   {
    "duration": 73,
    "start_time": "2022-04-08T10:28:14.948Z"
   },
   {
    "duration": 625,
    "start_time": "2022-04-08T10:29:48.476Z"
   },
   {
    "duration": 21,
    "start_time": "2022-04-08T10:29:49.104Z"
   },
   {
    "duration": 12,
    "start_time": "2022-04-08T10:29:49.127Z"
   },
   {
    "duration": 9,
    "start_time": "2022-04-08T10:29:49.142Z"
   },
   {
    "duration": 67,
    "start_time": "2022-04-08T10:29:49.154Z"
   },
   {
    "duration": 14,
    "start_time": "2022-04-08T10:29:49.224Z"
   },
   {
    "duration": 48,
    "start_time": "2022-04-08T10:29:49.241Z"
   },
   {
    "duration": 19,
    "start_time": "2022-04-08T10:29:49.291Z"
   },
   {
    "duration": 36,
    "start_time": "2022-04-08T10:29:49.313Z"
   },
   {
    "duration": 57,
    "start_time": "2022-04-08T10:29:49.351Z"
   },
   {
    "duration": 50,
    "start_time": "2022-04-08T10:29:49.410Z"
   },
   {
    "duration": 43,
    "start_time": "2022-04-08T10:29:49.462Z"
   },
   {
    "duration": 16,
    "start_time": "2022-04-08T10:29:49.507Z"
   },
   {
    "duration": 29,
    "start_time": "2022-04-08T10:29:49.527Z"
   },
   {
    "duration": 26,
    "start_time": "2022-04-08T10:29:49.559Z"
   },
   {
    "duration": 13,
    "start_time": "2022-04-08T10:29:49.587Z"
   },
   {
    "duration": 42,
    "start_time": "2022-04-08T10:29:49.602Z"
   },
   {
    "duration": 29,
    "start_time": "2022-04-08T10:29:49.646Z"
   },
   {
    "duration": 16,
    "start_time": "2022-04-08T10:29:49.677Z"
   },
   {
    "duration": 61,
    "start_time": "2022-04-08T10:29:49.695Z"
   },
   {
    "duration": 16,
    "start_time": "2022-04-08T10:29:49.758Z"
   },
   {
    "duration": 28,
    "start_time": "2022-04-08T10:29:49.776Z"
   },
   {
    "duration": 27,
    "start_time": "2022-04-08T10:29:49.807Z"
   },
   {
    "duration": 40,
    "start_time": "2022-04-08T10:29:49.836Z"
   },
   {
    "duration": 55,
    "start_time": "2022-04-08T10:29:49.877Z"
   },
   {
    "duration": 29,
    "start_time": "2022-04-08T10:29:49.934Z"
   },
   {
    "duration": 40,
    "start_time": "2022-04-08T10:29:49.966Z"
   },
   {
    "duration": 18,
    "start_time": "2022-04-08T10:29:50.009Z"
   },
   {
    "duration": 17,
    "start_time": "2022-04-08T10:29:51.232Z"
   },
   {
    "duration": 32,
    "start_time": "2022-04-08T10:29:51.252Z"
   },
   {
    "duration": 299,
    "start_time": "2022-04-08T10:29:51.286Z"
   },
   {
    "duration": 20,
    "start_time": "2022-04-08T10:29:51.587Z"
   },
   {
    "duration": 21,
    "start_time": "2022-04-08T10:29:51.609Z"
   },
   {
    "duration": 29,
    "start_time": "2022-04-08T10:29:51.632Z"
   },
   {
    "duration": 23,
    "start_time": "2022-04-08T10:29:51.663Z"
   },
   {
    "duration": 14,
    "start_time": "2022-04-08T10:29:51.688Z"
   },
   {
    "duration": 25,
    "start_time": "2022-04-08T10:29:51.704Z"
   },
   {
    "duration": 68,
    "start_time": "2022-04-08T10:29:51.731Z"
   },
   {
    "duration": 115,
    "start_time": "2022-04-08T10:58:02.874Z"
   },
   {
    "duration": 3,
    "start_time": "2022-04-08T10:58:56.045Z"
   },
   {
    "duration": 87,
    "start_time": "2022-04-08T11:00:54.201Z"
   },
   {
    "duration": 20,
    "start_time": "2022-04-08T11:01:43.474Z"
   },
   {
    "duration": 6,
    "start_time": "2022-04-08T11:03:09.994Z"
   },
   {
    "duration": 96,
    "start_time": "2022-04-08T11:03:38.297Z"
   },
   {
    "duration": 3,
    "start_time": "2022-04-08T11:04:40.893Z"
   },
   {
    "duration": 23,
    "start_time": "2022-04-08T11:05:02.750Z"
   },
   {
    "duration": 237,
    "start_time": "2022-04-08T11:06:21.918Z"
   },
   {
    "duration": 22,
    "start_time": "2022-04-08T11:08:15.260Z"
   },
   {
    "duration": 5,
    "start_time": "2022-04-08T11:09:36.673Z"
   },
   {
    "duration": 17,
    "start_time": "2022-04-08T11:10:48.094Z"
   },
   {
    "duration": 3,
    "start_time": "2022-04-08T11:11:24.745Z"
   },
   {
    "duration": 7,
    "start_time": "2022-04-08T11:11:40.410Z"
   },
   {
    "duration": 12,
    "start_time": "2022-04-08T11:12:17.628Z"
   },
   {
    "duration": 15,
    "start_time": "2022-04-08T11:14:10.074Z"
   },
   {
    "duration": 19,
    "start_time": "2022-04-08T11:14:53.561Z"
   },
   {
    "duration": 21,
    "start_time": "2022-04-08T11:15:37.243Z"
   },
   {
    "duration": 9,
    "start_time": "2022-04-08T11:16:43.755Z"
   },
   {
    "duration": 21,
    "start_time": "2022-04-08T11:17:19.553Z"
   },
   {
    "duration": 6,
    "start_time": "2022-04-08T11:18:24.299Z"
   },
   {
    "duration": 6,
    "start_time": "2022-04-08T11:19:46.826Z"
   },
   {
    "duration": 6,
    "start_time": "2022-04-08T11:20:13.401Z"
   },
   {
    "duration": 7,
    "start_time": "2022-04-08T11:20:34.617Z"
   },
   {
    "duration": 10,
    "start_time": "2022-04-08T11:20:55.914Z"
   },
   {
    "duration": 6,
    "start_time": "2022-04-08T11:21:16.635Z"
   },
   {
    "duration": 3,
    "start_time": "2022-04-08T11:21:24.521Z"
   },
   {
    "duration": 6,
    "start_time": "2022-04-08T11:21:39.450Z"
   },
   {
    "duration": 6,
    "start_time": "2022-04-08T11:22:09.386Z"
   },
   {
    "duration": 6,
    "start_time": "2022-04-08T11:22:30.043Z"
   },
   {
    "duration": 10,
    "start_time": "2022-04-08T11:22:49.738Z"
   },
   {
    "duration": 45,
    "start_time": "2022-04-08T11:24:09.814Z"
   },
   {
    "duration": 5,
    "start_time": "2022-04-08T11:28:38.427Z"
   },
   {
    "duration": 511,
    "start_time": "2022-04-08T11:29:00.284Z"
   },
   {
    "duration": 106,
    "start_time": "2022-04-08T11:29:00.798Z"
   },
   {
    "duration": 19,
    "start_time": "2022-04-08T11:29:00.906Z"
   },
   {
    "duration": 28,
    "start_time": "2022-04-08T11:29:00.928Z"
   },
   {
    "duration": 32,
    "start_time": "2022-04-08T11:29:00.958Z"
   },
   {
    "duration": 23,
    "start_time": "2022-04-08T11:29:00.992Z"
   },
   {
    "duration": 7,
    "start_time": "2022-04-08T11:29:01.017Z"
   },
   {
    "duration": 20,
    "start_time": "2022-04-08T11:29:01.026Z"
   },
   {
    "duration": 40,
    "start_time": "2022-04-08T11:29:01.049Z"
   },
   {
    "duration": 11,
    "start_time": "2022-04-08T11:29:01.093Z"
   },
   {
    "duration": 18,
    "start_time": "2022-04-08T11:29:01.106Z"
   },
   {
    "duration": 63,
    "start_time": "2022-04-08T11:29:01.126Z"
   },
   {
    "duration": 22,
    "start_time": "2022-04-08T11:29:01.191Z"
   },
   {
    "duration": 8,
    "start_time": "2022-04-08T11:29:01.215Z"
   },
   {
    "duration": 24,
    "start_time": "2022-04-08T11:29:01.225Z"
   },
   {
    "duration": 73,
    "start_time": "2022-04-08T11:29:01.251Z"
   },
   {
    "duration": 5,
    "start_time": "2022-04-08T11:29:01.327Z"
   },
   {
    "duration": 22,
    "start_time": "2022-04-08T11:29:52.188Z"
   },
   {
    "duration": 21,
    "start_time": "2022-04-08T11:30:23.199Z"
   },
   {
    "duration": 23,
    "start_time": "2022-04-08T11:31:31.108Z"
   },
   {
    "duration": 23,
    "start_time": "2022-04-08T11:33:31.186Z"
   },
   {
    "duration": 19,
    "start_time": "2022-04-08T11:33:54.786Z"
   },
   {
    "duration": 102,
    "start_time": "2022-04-08T11:34:05.949Z"
   },
   {
    "duration": 28,
    "start_time": "2022-04-08T11:34:34.973Z"
   },
   {
    "duration": 52,
    "start_time": "2022-04-08T11:35:34.838Z"
   },
   {
    "duration": 19,
    "start_time": "2022-04-08T11:36:31.581Z"
   },
   {
    "duration": 11,
    "start_time": "2022-04-08T11:36:54.348Z"
   },
   {
    "duration": 24,
    "start_time": "2022-04-08T11:37:16.476Z"
   },
   {
    "duration": 29,
    "start_time": "2022-04-08T11:38:03.117Z"
   },
   {
    "duration": 52,
    "start_time": "2022-04-08T11:38:48.604Z"
   },
   {
    "duration": 523,
    "start_time": "2022-04-08T11:41:38.697Z"
   },
   {
    "duration": 102,
    "start_time": "2022-04-08T11:41:39.223Z"
   },
   {
    "duration": 19,
    "start_time": "2022-04-08T11:41:39.327Z"
   },
   {
    "duration": 8,
    "start_time": "2022-04-08T11:41:39.349Z"
   },
   {
    "duration": 45,
    "start_time": "2022-04-08T11:41:39.359Z"
   },
   {
    "duration": 25,
    "start_time": "2022-04-08T11:41:39.406Z"
   },
   {
    "duration": 6,
    "start_time": "2022-04-08T11:41:39.433Z"
   },
   {
    "duration": 52,
    "start_time": "2022-04-08T11:41:39.441Z"
   },
   {
    "duration": 9,
    "start_time": "2022-04-08T11:41:39.495Z"
   },
   {
    "duration": 12,
    "start_time": "2022-04-08T11:41:39.508Z"
   },
   {
    "duration": 13,
    "start_time": "2022-04-08T11:41:39.523Z"
   },
   {
    "duration": 55,
    "start_time": "2022-04-08T11:41:39.539Z"
   },
   {
    "duration": 22,
    "start_time": "2022-04-08T11:41:39.596Z"
   },
   {
    "duration": 7,
    "start_time": "2022-04-08T11:41:39.620Z"
   },
   {
    "duration": 22,
    "start_time": "2022-04-08T11:41:39.629Z"
   },
   {
    "duration": 43,
    "start_time": "2022-04-08T11:41:39.683Z"
   },
   {
    "duration": 5,
    "start_time": "2022-04-08T11:41:39.728Z"
   },
   {
    "duration": 52,
    "start_time": "2022-04-08T11:41:39.735Z"
   },
   {
    "duration": 22,
    "start_time": "2022-04-08T11:41:39.789Z"
   },
   {
    "duration": 21,
    "start_time": "2022-04-08T11:41:39.813Z"
   },
   {
    "duration": 48,
    "start_time": "2022-04-08T11:41:39.836Z"
   },
   {
    "duration": 29,
    "start_time": "2022-04-08T11:41:39.887Z"
   },
   {
    "duration": 84,
    "start_time": "2022-04-08T11:41:39.918Z"
   },
   {
    "duration": 23,
    "start_time": "2022-04-08T11:41:40.004Z"
   },
   {
    "duration": 12,
    "start_time": "2022-04-08T11:41:40.029Z"
   },
   {
    "duration": 61,
    "start_time": "2022-04-08T11:41:40.044Z"
   },
   {
    "duration": 37,
    "start_time": "2022-04-08T11:41:40.107Z"
   },
   {
    "duration": 67,
    "start_time": "2022-04-08T11:41:40.148Z"
   },
   {
    "duration": 11,
    "start_time": "2022-04-08T11:41:40.217Z"
   },
   {
    "duration": 112,
    "start_time": "2022-04-08T11:42:02.373Z"
   },
   {
    "duration": 26,
    "start_time": "2022-04-08T11:42:16.813Z"
   },
   {
    "duration": 11,
    "start_time": "2022-04-08T11:42:40.428Z"
   },
   {
    "duration": 6,
    "start_time": "2022-04-08T11:42:57.805Z"
   },
   {
    "duration": 18,
    "start_time": "2022-04-08T11:43:16.285Z"
   },
   {
    "duration": 11,
    "start_time": "2022-04-08T11:44:47.877Z"
   },
   {
    "duration": 5,
    "start_time": "2022-04-08T11:45:34.045Z"
   },
   {
    "duration": 10,
    "start_time": "2022-04-08T11:46:20.749Z"
   },
   {
    "duration": 10,
    "start_time": "2022-04-08T11:47:25.885Z"
   },
   {
    "duration": 4,
    "start_time": "2022-04-08T11:48:00.893Z"
   },
   {
    "duration": 5,
    "start_time": "2022-04-08T11:49:10.749Z"
   },
   {
    "duration": 6,
    "start_time": "2022-04-08T11:49:38.677Z"
   },
   {
    "duration": 5,
    "start_time": "2022-04-08T11:50:01.116Z"
   },
   {
    "duration": 4,
    "start_time": "2022-04-08T11:50:09.396Z"
   },
   {
    "duration": 6,
    "start_time": "2022-04-08T11:50:23.407Z"
   },
   {
    "duration": 5,
    "start_time": "2022-04-08T11:51:06.814Z"
   },
   {
    "duration": 29,
    "start_time": "2022-04-08T11:51:45.187Z"
   },
   {
    "duration": 10,
    "start_time": "2022-04-08T11:52:10.793Z"
   },
   {
    "duration": 16,
    "start_time": "2022-04-08T11:52:39.647Z"
   },
   {
    "duration": 21,
    "start_time": "2022-04-08T11:53:42.798Z"
   },
   {
    "duration": 19,
    "start_time": "2022-04-08T11:53:53.552Z"
   },
   {
    "duration": 15,
    "start_time": "2022-04-08T11:54:24.277Z"
   },
   {
    "duration": 4,
    "start_time": "2022-04-08T11:56:32.382Z"
   },
   {
    "duration": 102,
    "start_time": "2022-04-08T11:57:17.774Z"
   },
   {
    "duration": 5,
    "start_time": "2022-04-08T11:57:26.706Z"
   },
   {
    "duration": 5,
    "start_time": "2022-04-08T11:57:49.910Z"
   },
   {
    "duration": 5,
    "start_time": "2022-04-08T11:58:11.852Z"
   },
   {
    "duration": 6,
    "start_time": "2022-04-08T11:58:34.012Z"
   },
   {
    "duration": 134,
    "start_time": "2022-04-08T11:58:52.973Z"
   },
   {
    "duration": 6,
    "start_time": "2022-04-08T11:58:56.765Z"
   },
   {
    "duration": 37,
    "start_time": "2022-04-08T11:59:38.668Z"
   },
   {
    "duration": 79,
    "start_time": "2022-04-08T12:00:28.444Z"
   },
   {
    "duration": 32,
    "start_time": "2022-04-08T12:00:44.596Z"
   },
   {
    "duration": 10,
    "start_time": "2022-04-08T12:01:18.164Z"
   },
   {
    "duration": 12,
    "start_time": "2022-04-08T12:01:39.453Z"
   },
   {
    "duration": 15,
    "start_time": "2022-04-08T12:02:14.873Z"
   },
   {
    "duration": 12,
    "start_time": "2022-04-08T12:02:47.966Z"
   },
   {
    "duration": 14,
    "start_time": "2022-04-08T12:03:09.469Z"
   },
   {
    "duration": 22,
    "start_time": "2022-04-08T12:03:39.036Z"
   },
   {
    "duration": 19,
    "start_time": "2022-04-08T12:04:43.964Z"
   },
   {
    "duration": 167,
    "start_time": "2022-04-08T12:04:52.624Z"
   },
   {
    "duration": 23,
    "start_time": "2022-04-08T12:05:16.269Z"
   },
   {
    "duration": 5,
    "start_time": "2022-04-08T12:05:37.316Z"
   },
   {
    "duration": 6,
    "start_time": "2022-04-08T12:06:05.078Z"
   },
   {
    "duration": 5,
    "start_time": "2022-04-08T12:06:25.406Z"
   },
   {
    "duration": 6,
    "start_time": "2022-04-08T12:06:46.078Z"
   },
   {
    "duration": 25,
    "start_time": "2022-04-08T12:07:05.597Z"
   },
   {
    "duration": 20,
    "start_time": "2022-04-08T12:07:26.797Z"
   },
   {
    "duration": 13,
    "start_time": "2022-04-08T12:08:18.277Z"
   },
   {
    "duration": 22,
    "start_time": "2022-04-08T12:08:40.558Z"
   },
   {
    "duration": 20,
    "start_time": "2022-04-08T12:09:19.711Z"
   },
   {
    "duration": 16,
    "start_time": "2022-04-08T12:10:28.029Z"
   },
   {
    "duration": 38,
    "start_time": "2022-04-08T12:14:03.884Z"
   },
   {
    "duration": 51,
    "start_time": "2022-04-08T12:15:31.342Z"
   },
   {
    "duration": 22,
    "start_time": "2022-04-08T12:15:58.414Z"
   },
   {
    "duration": 32,
    "start_time": "2022-04-08T12:16:56.145Z"
   },
   {
    "duration": 21,
    "start_time": "2022-04-08T12:17:18.157Z"
   },
   {
    "duration": 899,
    "start_time": "2022-04-08T12:18:38.317Z"
   },
   {
    "duration": 110,
    "start_time": "2022-04-08T12:20:32.511Z"
   },
   {
    "duration": 531,
    "start_time": "2022-04-08T12:32:21.753Z"
   },
   {
    "duration": 101,
    "start_time": "2022-04-08T12:32:22.286Z"
   },
   {
    "duration": 19,
    "start_time": "2022-04-08T12:32:22.393Z"
   },
   {
    "duration": 10,
    "start_time": "2022-04-08T12:32:22.415Z"
   },
   {
    "duration": 38,
    "start_time": "2022-04-08T12:32:22.427Z"
   },
   {
    "duration": 34,
    "start_time": "2022-04-08T12:32:22.473Z"
   },
   {
    "duration": 7,
    "start_time": "2022-04-08T12:32:22.510Z"
   },
   {
    "duration": 22,
    "start_time": "2022-04-08T12:32:22.519Z"
   },
   {
    "duration": 19,
    "start_time": "2022-04-08T12:32:22.567Z"
   },
   {
    "duration": 11,
    "start_time": "2022-04-08T12:32:22.641Z"
   },
   {
    "duration": 26,
    "start_time": "2022-04-08T12:32:22.655Z"
   },
   {
    "duration": 18,
    "start_time": "2022-04-08T12:32:22.683Z"
   },
   {
    "duration": 27,
    "start_time": "2022-04-08T12:32:22.704Z"
   },
   {
    "duration": 8,
    "start_time": "2022-04-08T12:32:22.733Z"
   },
   {
    "duration": 53,
    "start_time": "2022-04-08T12:32:22.743Z"
   },
   {
    "duration": 44,
    "start_time": "2022-04-08T12:32:22.798Z"
   },
   {
    "duration": 5,
    "start_time": "2022-04-08T12:32:22.845Z"
   },
   {
    "duration": 46,
    "start_time": "2022-04-08T12:32:22.852Z"
   },
   {
    "duration": 23,
    "start_time": "2022-04-08T12:32:22.900Z"
   },
   {
    "duration": 29,
    "start_time": "2022-04-08T12:32:22.925Z"
   },
   {
    "duration": 19,
    "start_time": "2022-04-08T12:32:22.985Z"
   },
   {
    "duration": 49,
    "start_time": "2022-04-08T12:32:23.007Z"
   },
   {
    "duration": 64,
    "start_time": "2022-04-08T12:32:23.058Z"
   },
   {
    "duration": 20,
    "start_time": "2022-04-08T12:32:23.125Z"
   },
   {
    "duration": 37,
    "start_time": "2022-04-08T12:32:23.148Z"
   },
   {
    "duration": 38,
    "start_time": "2022-04-08T12:32:23.187Z"
   },
   {
    "duration": 37,
    "start_time": "2022-04-08T12:32:23.228Z"
   },
   {
    "duration": 61,
    "start_time": "2022-04-08T12:32:23.268Z"
   },
   {
    "duration": 9,
    "start_time": "2022-04-08T12:32:23.331Z"
   },
   {
    "duration": 45,
    "start_time": "2022-04-08T12:32:23.343Z"
   },
   {
    "duration": 41,
    "start_time": "2022-04-08T12:32:23.390Z"
   },
   {
    "duration": 37,
    "start_time": "2022-04-08T12:32:23.433Z"
   },
   {
    "duration": 27,
    "start_time": "2022-04-08T12:32:23.472Z"
   },
   {
    "duration": 24,
    "start_time": "2022-04-08T12:32:23.501Z"
   },
   {
    "duration": 25,
    "start_time": "2022-04-08T12:32:23.527Z"
   },
   {
    "duration": 18,
    "start_time": "2022-04-08T12:32:23.554Z"
   },
   {
    "duration": 15,
    "start_time": "2022-04-08T12:32:23.574Z"
   },
   {
    "duration": 22,
    "start_time": "2022-04-08T12:32:23.592Z"
   },
   {
    "duration": 14,
    "start_time": "2022-04-08T12:32:23.616Z"
   },
   {
    "duration": 8,
    "start_time": "2022-04-08T12:32:23.632Z"
   },
   {
    "duration": 47,
    "start_time": "2022-04-08T12:32:23.643Z"
   },
   {
    "duration": 15,
    "start_time": "2022-04-08T12:32:23.693Z"
   },
   {
    "duration": 31,
    "start_time": "2022-04-08T12:32:23.713Z"
   },
   {
    "duration": 15,
    "start_time": "2022-04-08T12:32:23.746Z"
   },
   {
    "duration": 5,
    "start_time": "2022-04-08T12:32:24.527Z"
   },
   {
    "duration": 16,
    "start_time": "2022-04-08T12:32:24.535Z"
   },
   {
    "duration": 8,
    "start_time": "2022-04-08T12:32:24.553Z"
   },
   {
    "duration": 10,
    "start_time": "2022-04-08T12:32:24.564Z"
   },
   {
    "duration": 7,
    "start_time": "2022-04-08T12:32:24.578Z"
   },
   {
    "duration": 14,
    "start_time": "2022-04-08T12:32:24.587Z"
   },
   {
    "duration": 45,
    "start_time": "2022-04-08T12:32:24.603Z"
   },
   {
    "duration": 11,
    "start_time": "2022-04-08T12:32:24.650Z"
   },
   {
    "duration": 31,
    "start_time": "2022-04-08T12:32:24.663Z"
   },
   {
    "duration": 37,
    "start_time": "2022-04-08T12:32:24.696Z"
   },
   {
    "duration": 12,
    "start_time": "2022-04-08T12:32:24.736Z"
   },
   {
    "duration": 39,
    "start_time": "2022-04-08T12:32:24.750Z"
   },
   {
    "duration": 22,
    "start_time": "2022-04-08T12:32:24.791Z"
   },
   {
    "duration": 101,
    "start_time": "2022-04-08T12:32:24.817Z"
   },
   {
    "duration": 22,
    "start_time": "2022-04-08T12:32:24.920Z"
   },
   {
    "duration": 4,
    "start_time": "2022-04-08T12:32:24.944Z"
   },
   {
    "duration": 11,
    "start_time": "2022-04-08T12:32:24.950Z"
   },
   {
    "duration": 10,
    "start_time": "2022-04-08T12:32:24.963Z"
   },
   {
    "duration": 6,
    "start_time": "2022-04-08T12:32:24.984Z"
   },
   {
    "duration": 32,
    "start_time": "2022-04-08T12:32:24.992Z"
   },
   {
    "duration": 22,
    "start_time": "2022-04-08T12:32:25.027Z"
   },
   {
    "duration": 38,
    "start_time": "2022-04-08T12:32:25.051Z"
   },
   {
    "duration": 21,
    "start_time": "2022-04-08T12:32:25.091Z"
   },
   {
    "duration": 19,
    "start_time": "2022-04-08T12:32:25.114Z"
   },
   {
    "duration": 51,
    "start_time": "2022-04-08T12:32:25.135Z"
   },
   {
    "duration": 42,
    "start_time": "2022-04-08T12:32:25.188Z"
   },
   {
    "duration": 53,
    "start_time": "2022-04-08T12:32:25.232Z"
   },
   {
    "duration": 20,
    "start_time": "2022-04-08T12:32:25.287Z"
   },
   {
    "duration": 49,
    "start_time": "2022-04-08T12:32:25.309Z"
   },
   {
    "duration": 36,
    "start_time": "2022-04-08T12:32:25.360Z"
   },
   {
    "duration": 642,
    "start_time": "2022-04-08T12:32:25.398Z"
   },
   {
    "duration": 484,
    "start_time": "2022-07-22T18:42:58.346Z"
   },
   {
    "duration": 445,
    "start_time": "2022-07-22T18:42:58.831Z"
   },
   {
    "duration": 17,
    "start_time": "2022-07-22T18:42:59.279Z"
   },
   {
    "duration": 8,
    "start_time": "2022-07-22T18:42:59.298Z"
   },
   {
    "duration": 22,
    "start_time": "2022-07-22T18:42:59.308Z"
   },
   {
    "duration": 38,
    "start_time": "2022-07-22T18:42:59.332Z"
   },
   {
    "duration": 5,
    "start_time": "2022-07-22T18:42:59.371Z"
   },
   {
    "duration": 12,
    "start_time": "2022-07-22T18:42:59.378Z"
   },
   {
    "duration": 5,
    "start_time": "2022-07-22T18:42:59.392Z"
   },
   {
    "duration": 8,
    "start_time": "2022-07-22T18:42:59.401Z"
   },
   {
    "duration": 52,
    "start_time": "2022-07-22T18:42:59.411Z"
   },
   {
    "duration": 13,
    "start_time": "2022-07-22T18:42:59.465Z"
   },
   {
    "duration": 18,
    "start_time": "2022-07-22T18:42:59.482Z"
   },
   {
    "duration": 7,
    "start_time": "2022-07-22T18:42:59.502Z"
   },
   {
    "duration": 46,
    "start_time": "2022-07-22T18:42:59.511Z"
   },
   {
    "duration": 37,
    "start_time": "2022-07-22T18:42:59.559Z"
   },
   {
    "duration": 5,
    "start_time": "2022-07-22T18:42:59.598Z"
   },
   {
    "duration": 40,
    "start_time": "2022-07-22T18:42:59.605Z"
   },
   {
    "duration": 28,
    "start_time": "2022-07-22T18:42:59.648Z"
   },
   {
    "duration": 16,
    "start_time": "2022-07-22T18:42:59.678Z"
   },
   {
    "duration": 13,
    "start_time": "2022-07-22T18:42:59.696Z"
   },
   {
    "duration": 55,
    "start_time": "2022-07-22T18:42:59.710Z"
   },
   {
    "duration": 34,
    "start_time": "2022-07-22T18:42:59.767Z"
   },
   {
    "duration": 15,
    "start_time": "2022-07-22T18:42:59.802Z"
   },
   {
    "duration": 40,
    "start_time": "2022-07-22T18:42:59.819Z"
   },
   {
    "duration": 23,
    "start_time": "2022-07-22T18:42:59.862Z"
   },
   {
    "duration": 27,
    "start_time": "2022-07-22T18:42:59.887Z"
   },
   {
    "duration": 52,
    "start_time": "2022-07-22T18:42:59.919Z"
   },
   {
    "duration": 8,
    "start_time": "2022-07-22T18:42:59.972Z"
   },
   {
    "duration": 24,
    "start_time": "2022-07-22T18:42:59.981Z"
   },
   {
    "duration": 14,
    "start_time": "2022-07-22T18:43:00.007Z"
   },
   {
    "duration": 44,
    "start_time": "2022-07-22T18:43:00.022Z"
   },
   {
    "duration": 18,
    "start_time": "2022-07-22T18:43:00.068Z"
   },
   {
    "duration": 25,
    "start_time": "2022-07-22T18:43:00.088Z"
   },
   {
    "duration": 16,
    "start_time": "2022-07-22T18:43:00.115Z"
   },
   {
    "duration": 30,
    "start_time": "2022-07-22T18:43:00.134Z"
   },
   {
    "duration": 25,
    "start_time": "2022-07-22T18:43:00.166Z"
   },
   {
    "duration": 24,
    "start_time": "2022-07-22T18:43:00.193Z"
   },
   {
    "duration": 19,
    "start_time": "2022-07-22T18:43:00.219Z"
   },
   {
    "duration": 28,
    "start_time": "2022-07-22T18:43:00.240Z"
   },
   {
    "duration": 33,
    "start_time": "2022-07-22T18:43:00.270Z"
   },
   {
    "duration": 21,
    "start_time": "2022-07-22T18:43:00.305Z"
   },
   {
    "duration": 43,
    "start_time": "2022-07-22T18:43:00.328Z"
   },
   {
    "duration": 26,
    "start_time": "2022-07-22T18:43:00.373Z"
   },
   {
    "duration": 25,
    "start_time": "2022-07-22T18:43:00.401Z"
   },
   {
    "duration": 44,
    "start_time": "2022-07-22T18:43:00.428Z"
   },
   {
    "duration": 50,
    "start_time": "2022-07-22T18:43:00.473Z"
   },
   {
    "duration": 30,
    "start_time": "2022-07-22T18:43:00.524Z"
   },
   {
    "duration": 37,
    "start_time": "2022-07-22T18:43:00.561Z"
   },
   {
    "duration": 42,
    "start_time": "2022-07-22T18:43:00.600Z"
   },
   {
    "duration": 58,
    "start_time": "2022-07-22T18:43:00.644Z"
   },
   {
    "duration": 8,
    "start_time": "2022-07-22T18:43:00.704Z"
   },
   {
    "duration": 13,
    "start_time": "2022-07-22T18:43:00.713Z"
   },
   {
    "duration": 32,
    "start_time": "2022-07-22T18:43:00.728Z"
   },
   {
    "duration": 22,
    "start_time": "2022-07-22T18:43:00.762Z"
   },
   {
    "duration": 29,
    "start_time": "2022-07-22T18:43:00.786Z"
   },
   {
    "duration": 19,
    "start_time": "2022-07-22T18:43:00.817Z"
   },
   {
    "duration": 52,
    "start_time": "2022-07-22T18:43:00.837Z"
   },
   {
    "duration": 29,
    "start_time": "2022-07-22T18:43:00.891Z"
   },
   {
    "duration": 4,
    "start_time": "2022-07-22T18:43:00.922Z"
   },
   {
    "duration": 13,
    "start_time": "2022-07-22T18:43:00.927Z"
   },
   {
    "duration": 24,
    "start_time": "2022-07-22T18:43:00.941Z"
   },
   {
    "duration": 21,
    "start_time": "2022-07-22T18:43:00.966Z"
   },
   {
    "duration": 21,
    "start_time": "2022-07-22T18:43:00.989Z"
   },
   {
    "duration": 16,
    "start_time": "2022-07-22T18:43:01.012Z"
   },
   {
    "duration": 18,
    "start_time": "2022-07-22T18:43:01.030Z"
   },
   {
    "duration": 30,
    "start_time": "2022-07-22T18:43:01.055Z"
   },
   {
    "duration": 56,
    "start_time": "2022-07-22T18:43:01.087Z"
   },
   {
    "duration": 20,
    "start_time": "2022-07-22T18:43:01.146Z"
   },
   {
    "duration": 35,
    "start_time": "2022-07-22T18:43:01.168Z"
   },
   {
    "duration": 21,
    "start_time": "2022-07-22T18:43:01.205Z"
   },
   {
    "duration": 34,
    "start_time": "2022-07-22T18:43:01.228Z"
   },
   {
    "duration": 21,
    "start_time": "2022-07-22T18:43:01.263Z"
   },
   {
    "duration": 14,
    "start_time": "2022-07-22T18:43:01.285Z"
   },
   {
    "duration": 635,
    "start_time": "2022-07-22T18:43:01.301Z"
   },
   {
    "duration": 6660,
    "start_time": "2022-07-22T18:43:47.338Z"
   },
   {
    "duration": 77,
    "start_time": "2022-07-22T18:44:10.247Z"
   }
  ],
  "kernelspec": {
   "display_name": "Python 3 (ipykernel)",
   "language": "python",
   "name": "python3"
  },
  "language_info": {
   "codemirror_mode": {
    "name": "ipython",
    "version": 3
   },
   "file_extension": ".py",
   "mimetype": "text/x-python",
   "name": "python",
   "nbconvert_exporter": "python",
   "pygments_lexer": "ipython3",
   "version": "3.9.5"
  },
  "toc": {
   "base_numbering": 1,
   "nav_menu": {},
   "number_sections": false,
   "sideBar": true,
   "skip_h1_title": false,
   "title_cell": "Table of Contents",
   "title_sidebar": "Contents",
   "toc_cell": false,
   "toc_position": {},
   "toc_section_display": true,
   "toc_window_display": false
  }
 },
 "nbformat": 4,
 "nbformat_minor": 5
}
