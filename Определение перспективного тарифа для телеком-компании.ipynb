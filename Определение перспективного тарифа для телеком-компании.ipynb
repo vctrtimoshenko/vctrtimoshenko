{
 "cells": [
  {
   "cell_type": "markdown",
   "metadata": {},
   "source": [
    "# Определение перспективного тарифа для телеком компании\n",
    "Описание проекта\n",
    "«Мегалайн» — федерального оператора сотовой связи. Клиентам предлагают два тарифных плана: «Смарт» и «Ультра». Чтобы скорректировать рекламный бюджет, коммерческий департамент хочет понять, какой тариф приносит больше денег.\n",
    "\n",
    "Нужно предварительный анализ тарифов на небольшой выборке клиентов. В распоряжении данные 500 пользователей «Мегалайна»: кто они, откуда, каким тарифом пользуются, сколько звонков и сообщений каждый отправил за 2018 год.\n",
    "\n",
    "Нужно проанализировать поведение клиентов и сделать вывод — какой тариф лучше.\n",
    "\n",
    "**Описание тарифов**\n",
    "Тариф «Смарт»\n",
    "\n",
    "Ежемесячная плата: 550 рублей<br>\n",
    "Включено 500 минут разговора, 50 сообщений и 15 Гб интернет-трафика<br>\n",
    "Стоимость услуг сверх тарифного пакета:<br>\n",
    "минута разговора: 3 рубля<br>\n",
    "сообщение: 3 рубля<br>\n",
    "1 Гб интернет-трафика: 200 рублей<br>\n",
    "Тариф «Ультра»<br>\n",
    "\n",
    "Ежемесячная плата: 1950 рублей<br>\n",
    "Включено 3000 минут разговора, 1000 сообщений и 30 Гб интернет-трафика<br>\n",
    "Стоимость услуг сверх тарифного пакета:<br>\n",
    "минута разговора: 1 рубль<br>\n",
    "сообщение: 1 рубль<br>\n",
    "1 Гб интернет-трафика: 150 рублей<br>\n",
    "Внимание: «Мегалайн» всегда округляет вверх значения минут и мегабайтов. Если пользователь проговорил всего 1 секунду, в тарифе засчитывается целая минута.<br>\n",
    "\n",
    "**Описание данных**\n",
    "\n",
    "Таблица users (информация о пользователях):<br>\n",
    "user_id — уникальный идентификатор пользователя<br>\n",
    "first_name — имя пользователя<br>\n",
    "last_name — фамилия пользователя<br>\n",
    "age — возраст пользователя (годы)<br>\n",
    "reg_date — дата подключения тарифа (день, месяц, год)<br>\n",
    "churn_date — дата прекращения пользования тарифом (если значение пропущено, то тариф ещё действовал на момент выгрузки данных)\n",
    "city — город проживания пользователя<br>\n",
    "tariff — название тарифного плана<br>\n",
    "\n",
    "**Таблица calls (информация о звонках):<br>**\n",
    "id — уникальный номер звонка<br>\n",
    "call_date — дата звонка<br>\n",
    "duration — длительность звонка в минутах<br>\n",
    "user_id — идентификатор пользователя, сделавшего звонок<br>\n",
    "\n",
    "**Таблица messages (информация о сообщениях):<br>**\n",
    "id — уникальный номер сообщения<br>\n",
    "message_date — дата сообщения<br>\n",
    "user_id — идентификатор пользователя, отправившего сообщение<br>\n",
    "\n",
    "**Таблица internet (информация об интернет-сессиях):<br>**\n",
    "id — уникальный номер сессии<br>\n",
    "mb_used — объём потраченного за сессию интернет-трафика (в мегабайтах)<br>\n",
    "session_date — дата интернет-сессии<br>\n",
    "user_id — идентификатор пользователя<br>\n",
    "\n",
    "**Таблица tariffs (информация о тарифах):<br>**\n",
    "tariff_name — название тарифа<br>\n",
    "rub_monthly_fee — ежемесячная абонентская плата в рублях<br>\n",
    "minutes_included — количество минут разговора в месяц, включённых в абонентскую плату<br>\n",
    "messages_included — количество сообщений в месяц, включённых в абонентскую плату<br>\n",
    "mb_per_month_included — объём интернет-трафика, включённого в абонентскую плату (в мегабайтах)<br>\n",
    "rub_per_minute — стоимость минуты разговора сверх тарифного пакета (например, если в тарифе 100 минут разговора в месяц, то со 101 минуты будет взиматься плата)<br>\n",
    "rub_per_message — стоимость отправки сообщения сверх тарифного пакета<br>\n",
    "rub_per_gb — стоимость дополнительного гигабайта интернет-трафика сверх тарифного пакета (1 гигабайт = 1024 мегабайта)<br>\n",
    "\n"
   ]
  },
  {
   "cell_type": "markdown",
   "metadata": {},
   "source": [
    "# Общая информация\n",
    "\n",
    "**Изучение данных из файла tariffs**"
   ]
  },
  {
   "cell_type": "code",
   "execution_count": 91,
   "metadata": {
    "scrolled": true
   },
   "outputs": [],
   "source": [
    "#импортируем необходимые библиотеки\n",
    "import pandas as pd\n",
    "from IPython.display import display\n",
    "from functools import reduce\n",
    "import numpy as np\n",
    "import scipy.stats as st\n",
    "import matplotlib.pyplot as plt\n",
    "import seaborn as sns\n",
    "import math\n",
    "import numpy\n"
   ]
  },
  {
   "cell_type": "code",
   "execution_count": 92,
   "metadata": {},
   "outputs": [
    {
     "data": {
      "text/html": [
       "<div>\n",
       "<style scoped>\n",
       "    .dataframe tbody tr th:only-of-type {\n",
       "        vertical-align: middle;\n",
       "    }\n",
       "\n",
       "    .dataframe tbody tr th {\n",
       "        vertical-align: top;\n",
       "    }\n",
       "\n",
       "    .dataframe thead th {\n",
       "        text-align: right;\n",
       "    }\n",
       "</style>\n",
       "<table border=\"1\" class=\"dataframe\">\n",
       "  <thead>\n",
       "    <tr style=\"text-align: right;\">\n",
       "      <th></th>\n",
       "      <th>messages_included</th>\n",
       "      <th>mb_per_month_included</th>\n",
       "      <th>minutes_included</th>\n",
       "      <th>rub_monthly_fee</th>\n",
       "      <th>rub_per_gb</th>\n",
       "      <th>rub_per_message</th>\n",
       "      <th>rub_per_minute</th>\n",
       "      <th>tariff_name</th>\n",
       "    </tr>\n",
       "  </thead>\n",
       "  <tbody>\n",
       "    <tr>\n",
       "      <th>0</th>\n",
       "      <td>50</td>\n",
       "      <td>15360</td>\n",
       "      <td>500</td>\n",
       "      <td>550</td>\n",
       "      <td>200</td>\n",
       "      <td>3</td>\n",
       "      <td>3</td>\n",
       "      <td>smart</td>\n",
       "    </tr>\n",
       "    <tr>\n",
       "      <th>1</th>\n",
       "      <td>1000</td>\n",
       "      <td>30720</td>\n",
       "      <td>3000</td>\n",
       "      <td>1950</td>\n",
       "      <td>150</td>\n",
       "      <td>1</td>\n",
       "      <td>1</td>\n",
       "      <td>ultra</td>\n",
       "    </tr>\n",
       "  </tbody>\n",
       "</table>\n",
       "</div>"
      ],
      "text/plain": [
       "   messages_included  mb_per_month_included  minutes_included  \\\n",
       "0                 50                  15360               500   \n",
       "1               1000                  30720              3000   \n",
       "\n",
       "   rub_monthly_fee  rub_per_gb  rub_per_message  rub_per_minute tariff_name  \n",
       "0              550         200                3               3       smart  \n",
       "1             1950         150                1               1       ultra  "
      ]
     },
     "metadata": {},
     "output_type": "display_data"
    }
   ],
   "source": [
    "tariffs = pd.read_csv('/datasets/tariffs.csv')\n",
    "display(tariffs.head())"
   ]
  },
  {
   "cell_type": "markdown",
   "metadata": {},
   "source": [
    "<div class=\"alert alert-success\">\n",
    "<b>✔️ Комментарий ревьюера v2:</b> \n",
    "\n",
    "Отлично, увидел.\n",
    "</div>"
   ]
  },
  {
   "cell_type": "markdown",
   "metadata": {},
   "source": [
    "Для удобства переведем мегабайты в гигабайты, чтобы вести все дальнейшие расчеты в ГБ, т.к. сверх тарифа идет ст-ть ГБ. 2. Поменяем название столбца 'rub_monthly_fee' на 'price_month' для удобного чтения и порядок столбцов для наглядности."
   ]
  },
  {
   "cell_type": "code",
   "execution_count": 93,
   "metadata": {},
   "outputs": [
    {
     "data": {
      "text/html": [
       "<div>\n",
       "<style scoped>\n",
       "    .dataframe tbody tr th:only-of-type {\n",
       "        vertical-align: middle;\n",
       "    }\n",
       "\n",
       "    .dataframe tbody tr th {\n",
       "        vertical-align: top;\n",
       "    }\n",
       "\n",
       "    .dataframe thead th {\n",
       "        text-align: right;\n",
       "    }\n",
       "</style>\n",
       "<table border=\"1\" class=\"dataframe\">\n",
       "  <thead>\n",
       "    <tr style=\"text-align: right;\">\n",
       "      <th></th>\n",
       "      <th>tariff_name</th>\n",
       "      <th>messages_included</th>\n",
       "      <th>gb_included</th>\n",
       "      <th>minutes_included</th>\n",
       "      <th>price_month</th>\n",
       "      <th>rub_per_gb</th>\n",
       "      <th>rub_per_message</th>\n",
       "      <th>rub_per_minute</th>\n",
       "    </tr>\n",
       "  </thead>\n",
       "  <tbody>\n",
       "    <tr>\n",
       "      <th>0</th>\n",
       "      <td>smart</td>\n",
       "      <td>50</td>\n",
       "      <td>15</td>\n",
       "      <td>500</td>\n",
       "      <td>550</td>\n",
       "      <td>200</td>\n",
       "      <td>3</td>\n",
       "      <td>3</td>\n",
       "    </tr>\n",
       "    <tr>\n",
       "      <th>1</th>\n",
       "      <td>ultra</td>\n",
       "      <td>1000</td>\n",
       "      <td>30</td>\n",
       "      <td>3000</td>\n",
       "      <td>1950</td>\n",
       "      <td>150</td>\n",
       "      <td>1</td>\n",
       "      <td>1</td>\n",
       "    </tr>\n",
       "  </tbody>\n",
       "</table>\n",
       "</div>"
      ],
      "text/plain": [
       "  tariff_name  messages_included  gb_included  minutes_included  price_month  \\\n",
       "0       smart                 50           15               500          550   \n",
       "1       ultra               1000           30              3000         1950   \n",
       "\n",
       "   rub_per_gb  rub_per_message  rub_per_minute  \n",
       "0         200                3               3  \n",
       "1         150                1               1  "
      ]
     },
     "metadata": {},
     "output_type": "display_data"
    }
   ],
   "source": [
    "tariffs['gb_included']=(tariffs['mb_per_month_included']/1024).astype('int64')\n",
    "tariffs = tariffs.rename(columns={'rub_monthly_fee': 'price_month'})\n",
    "tariffs=tariffs[['tariff_name', 'messages_included', 'gb_included', 'minutes_included', 'price_month', 'rub_per_gb', 'rub_per_message', 'rub_per_minute']]\n",
    "display(tariffs.head())"
   ]
  },
  {
   "cell_type": "markdown",
   "metadata": {},
   "source": [
    "<div class=\"alert alert-success\">\n",
    "<b>✔️ Комментарий ревьюера:</b> \n",
    "\n",
    "Здорово, все четко и ясно)\n",
    "</div>"
   ]
  },
  {
   "cell_type": "markdown",
   "metadata": {},
   "source": [
    "# Изучение данных из файла calls"
   ]
  },
  {
   "cell_type": "code",
   "execution_count": 94,
   "metadata": {},
   "outputs": [
    {
     "data": {
      "text/html": [
       "<div>\n",
       "<style scoped>\n",
       "    .dataframe tbody tr th:only-of-type {\n",
       "        vertical-align: middle;\n",
       "    }\n",
       "\n",
       "    .dataframe tbody tr th {\n",
       "        vertical-align: top;\n",
       "    }\n",
       "\n",
       "    .dataframe thead th {\n",
       "        text-align: right;\n",
       "    }\n",
       "</style>\n",
       "<table border=\"1\" class=\"dataframe\">\n",
       "  <thead>\n",
       "    <tr style=\"text-align: right;\">\n",
       "      <th></th>\n",
       "      <th>id</th>\n",
       "      <th>call_date</th>\n",
       "      <th>duration</th>\n",
       "      <th>user_id</th>\n",
       "    </tr>\n",
       "  </thead>\n",
       "  <tbody>\n",
       "    <tr>\n",
       "      <th>0</th>\n",
       "      <td>1000_0</td>\n",
       "      <td>2018-07-25</td>\n",
       "      <td>0.00</td>\n",
       "      <td>1000</td>\n",
       "    </tr>\n",
       "    <tr>\n",
       "      <th>1</th>\n",
       "      <td>1000_1</td>\n",
       "      <td>2018-08-17</td>\n",
       "      <td>0.00</td>\n",
       "      <td>1000</td>\n",
       "    </tr>\n",
       "    <tr>\n",
       "      <th>2</th>\n",
       "      <td>1000_2</td>\n",
       "      <td>2018-06-11</td>\n",
       "      <td>2.85</td>\n",
       "      <td>1000</td>\n",
       "    </tr>\n",
       "    <tr>\n",
       "      <th>3</th>\n",
       "      <td>1000_3</td>\n",
       "      <td>2018-09-21</td>\n",
       "      <td>13.80</td>\n",
       "      <td>1000</td>\n",
       "    </tr>\n",
       "    <tr>\n",
       "      <th>4</th>\n",
       "      <td>1000_4</td>\n",
       "      <td>2018-12-15</td>\n",
       "      <td>5.18</td>\n",
       "      <td>1000</td>\n",
       "    </tr>\n",
       "  </tbody>\n",
       "</table>\n",
       "</div>"
      ],
      "text/plain": [
       "       id   call_date  duration  user_id\n",
       "0  1000_0  2018-07-25      0.00     1000\n",
       "1  1000_1  2018-08-17      0.00     1000\n",
       "2  1000_2  2018-06-11      2.85     1000\n",
       "3  1000_3  2018-09-21     13.80     1000\n",
       "4  1000_4  2018-12-15      5.18     1000"
      ]
     },
     "metadata": {},
     "output_type": "display_data"
    },
    {
     "name": "stdout",
     "output_type": "stream",
     "text": [
      "<class 'pandas.core.frame.DataFrame'>\n",
      "RangeIndex: 202607 entries, 0 to 202606\n",
      "Data columns (total 4 columns):\n",
      " #   Column     Non-Null Count   Dtype  \n",
      "---  ------     --------------   -----  \n",
      " 0   id         202607 non-null  object \n",
      " 1   call_date  202607 non-null  object \n",
      " 2   duration   202607 non-null  float64\n",
      " 3   user_id    202607 non-null  int64  \n",
      "dtypes: float64(1), int64(1), object(2)\n",
      "memory usage: 6.2+ MB\n"
     ]
    },
    {
     "data": {
      "text/html": [
       "<div>\n",
       "<style scoped>\n",
       "    .dataframe tbody tr th:only-of-type {\n",
       "        vertical-align: middle;\n",
       "    }\n",
       "\n",
       "    .dataframe tbody tr th {\n",
       "        vertical-align: top;\n",
       "    }\n",
       "\n",
       "    .dataframe thead th {\n",
       "        text-align: right;\n",
       "    }\n",
       "</style>\n",
       "<table border=\"1\" class=\"dataframe\">\n",
       "  <thead>\n",
       "    <tr style=\"text-align: right;\">\n",
       "      <th></th>\n",
       "      <th>duration</th>\n",
       "      <th>user_id</th>\n",
       "    </tr>\n",
       "  </thead>\n",
       "  <tbody>\n",
       "    <tr>\n",
       "      <th>count</th>\n",
       "      <td>202607.000000</td>\n",
       "      <td>202607.000000</td>\n",
       "    </tr>\n",
       "    <tr>\n",
       "      <th>mean</th>\n",
       "      <td>6.755887</td>\n",
       "      <td>1253.940619</td>\n",
       "    </tr>\n",
       "    <tr>\n",
       "      <th>std</th>\n",
       "      <td>5.843365</td>\n",
       "      <td>144.722751</td>\n",
       "    </tr>\n",
       "    <tr>\n",
       "      <th>min</th>\n",
       "      <td>0.000000</td>\n",
       "      <td>1000.000000</td>\n",
       "    </tr>\n",
       "    <tr>\n",
       "      <th>25%</th>\n",
       "      <td>1.300000</td>\n",
       "      <td>1126.000000</td>\n",
       "    </tr>\n",
       "    <tr>\n",
       "      <th>50%</th>\n",
       "      <td>6.000000</td>\n",
       "      <td>1260.000000</td>\n",
       "    </tr>\n",
       "    <tr>\n",
       "      <th>75%</th>\n",
       "      <td>10.700000</td>\n",
       "      <td>1379.000000</td>\n",
       "    </tr>\n",
       "    <tr>\n",
       "      <th>max</th>\n",
       "      <td>38.000000</td>\n",
       "      <td>1499.000000</td>\n",
       "    </tr>\n",
       "  </tbody>\n",
       "</table>\n",
       "</div>"
      ],
      "text/plain": [
       "            duration        user_id\n",
       "count  202607.000000  202607.000000\n",
       "mean        6.755887    1253.940619\n",
       "std         5.843365     144.722751\n",
       "min         0.000000    1000.000000\n",
       "25%         1.300000    1126.000000\n",
       "50%         6.000000    1260.000000\n",
       "75%        10.700000    1379.000000\n",
       "max        38.000000    1499.000000"
      ]
     },
     "execution_count": 94,
     "metadata": {},
     "output_type": "execute_result"
    }
   ],
   "source": [
    "calls = pd.read_csv('/datasets/calls.csv')\n",
    "display(calls.head())\n",
    "calls.info()\n",
    "calls.describe()"
   ]
  },
  {
   "cell_type": "code",
   "execution_count": 95,
   "metadata": {},
   "outputs": [
    {
     "data": {
      "text/plain": [
       "39613"
      ]
     },
     "execution_count": 95,
     "metadata": {},
     "output_type": "execute_result"
    }
   ],
   "source": [
    "calls.query('duration == 0')['duration'].count()"
   ]
  },
  {
   "cell_type": "markdown",
   "metadata": {},
   "source": [
    "1. Есть звонки продолжительностью 0 минут, это, скорее всего, неотвеченные<br> \n",
    "2. Не будем их убирать, они никак не повлияют.<br>\n",
    "3. Пропущенных значений нет.<br>\n",
    "4. Надо перевести время в формат даты, чтобы потом разделить по месяцам.<br>\n",
    "5. Время звонка округлить до целого в большую сторону.<br> \n",
    "6. Добавим столбец с месяцем.<br> \n",
    "7. Переведем время в int.<br> \n",
    "8. Оставим только нужные столбцы - идентиф.пользователя, месяц и время звонка.<br> \n",
    "9. Сгруппируем полученную таблицу по id пользователя и месяца.<br>"
   ]
  },
  {
   "cell_type": "markdown",
   "metadata": {},
   "source": [
    "# Предобработка данных calls"
   ]
  },
  {
   "cell_type": "code",
   "execution_count": 96,
   "metadata": {
    "scrolled": true
   },
   "outputs": [
    {
     "name": "stdout",
     "output_type": "stream",
     "text": [
      "<class 'pandas.core.frame.DataFrame'>\n",
      "Int64Index: 202607 entries, 0 to 202606\n",
      "Data columns (total 4 columns):\n",
      " #   Column     Non-Null Count   Dtype  \n",
      "---  ------     --------------   -----  \n",
      " 0   id         202607 non-null  object \n",
      " 1   call_date  202607 non-null  object \n",
      " 2   duration   202607 non-null  float64\n",
      " 3   user_id    202607 non-null  int64  \n",
      "dtypes: float64(1), int64(1), object(2)\n",
      "memory usage: 7.7+ MB\n"
     ]
    }
   ],
   "source": [
    "calls = calls.drop_duplicates() # удалим дубликаты в таблице\n",
    "calls.info() # проверим кол-во оставшихся строк"
   ]
  },
  {
   "cell_type": "code",
   "execution_count": 97,
   "metadata": {},
   "outputs": [],
   "source": [
    "calls['call_date'] = pd.to_datetime(calls['call_date'], format='%Y-%m-%d')\n",
    "calls['month'] = calls['call_date'].dt.month #добавим месяц\n",
    "calls['duration'] = numpy.ceil(calls['duration']).astype('Int64') #округляем до целого в большую сторону"
   ]
  },
  {
   "cell_type": "markdown",
   "metadata": {},
   "source": [
    "<div class=\"alert alert-success\">\n",
    "<b>✔️ Комментарий ревьюера v3:</b> \n",
    "\n",
    "Увидел, отлично)\n",
    "</div>"
   ]
  },
  {
   "cell_type": "code",
   "execution_count": 98,
   "metadata": {},
   "outputs": [
    {
     "data": {
      "text/html": [
       "<div>\n",
       "<style scoped>\n",
       "    .dataframe tbody tr th:only-of-type {\n",
       "        vertical-align: middle;\n",
       "    }\n",
       "\n",
       "    .dataframe tbody tr th {\n",
       "        vertical-align: top;\n",
       "    }\n",
       "\n",
       "    .dataframe thead th {\n",
       "        text-align: right;\n",
       "    }\n",
       "</style>\n",
       "<table border=\"1\" class=\"dataframe\">\n",
       "  <thead>\n",
       "    <tr style=\"text-align: right;\">\n",
       "      <th></th>\n",
       "      <th>id</th>\n",
       "      <th>call_date</th>\n",
       "      <th>duration</th>\n",
       "      <th>user_id</th>\n",
       "      <th>month</th>\n",
       "    </tr>\n",
       "  </thead>\n",
       "  <tbody>\n",
       "    <tr>\n",
       "      <th>0</th>\n",
       "      <td>1000_0</td>\n",
       "      <td>2018-07-25</td>\n",
       "      <td>0</td>\n",
       "      <td>1000</td>\n",
       "      <td>7</td>\n",
       "    </tr>\n",
       "    <tr>\n",
       "      <th>1</th>\n",
       "      <td>1000_1</td>\n",
       "      <td>2018-08-17</td>\n",
       "      <td>0</td>\n",
       "      <td>1000</td>\n",
       "      <td>8</td>\n",
       "    </tr>\n",
       "    <tr>\n",
       "      <th>2</th>\n",
       "      <td>1000_2</td>\n",
       "      <td>2018-06-11</td>\n",
       "      <td>3</td>\n",
       "      <td>1000</td>\n",
       "      <td>6</td>\n",
       "    </tr>\n",
       "    <tr>\n",
       "      <th>3</th>\n",
       "      <td>1000_3</td>\n",
       "      <td>2018-09-21</td>\n",
       "      <td>14</td>\n",
       "      <td>1000</td>\n",
       "      <td>9</td>\n",
       "    </tr>\n",
       "    <tr>\n",
       "      <th>4</th>\n",
       "      <td>1000_4</td>\n",
       "      <td>2018-12-15</td>\n",
       "      <td>6</td>\n",
       "      <td>1000</td>\n",
       "      <td>12</td>\n",
       "    </tr>\n",
       "  </tbody>\n",
       "</table>\n",
       "</div>"
      ],
      "text/plain": [
       "       id  call_date  duration  user_id  month\n",
       "0  1000_0 2018-07-25         0     1000      7\n",
       "1  1000_1 2018-08-17         0     1000      8\n",
       "2  1000_2 2018-06-11         3     1000      6\n",
       "3  1000_3 2018-09-21        14     1000      9\n",
       "4  1000_4 2018-12-15         6     1000     12"
      ]
     },
     "metadata": {},
     "output_type": "display_data"
    },
    {
     "name": "stdout",
     "output_type": "stream",
     "text": [
      "<class 'pandas.core.frame.DataFrame'>\n",
      "Int64Index: 202607 entries, 0 to 202606\n",
      "Data columns (total 5 columns):\n",
      " #   Column     Non-Null Count   Dtype         \n",
      "---  ------     --------------   -----         \n",
      " 0   id         202607 non-null  object        \n",
      " 1   call_date  202607 non-null  datetime64[ns]\n",
      " 2   duration   202607 non-null  Int64         \n",
      " 3   user_id    202607 non-null  int64         \n",
      " 4   month      202607 non-null  int64         \n",
      "dtypes: Int64(1), datetime64[ns](1), int64(2), object(1)\n",
      "memory usage: 9.5+ MB\n"
     ]
    }
   ],
   "source": [
    "display(calls.head())\n",
    "calls.info()"
   ]
  },
  {
   "cell_type": "code",
   "execution_count": 99,
   "metadata": {},
   "outputs": [
    {
     "name": "stdout",
     "output_type": "stream",
     "text": [
      "<class 'pandas.core.frame.DataFrame'>\n",
      "Int64Index: 202607 entries, 0 to 202606\n",
      "Data columns (total 3 columns):\n",
      " #   Column    Non-Null Count   Dtype\n",
      "---  ------    --------------   -----\n",
      " 0   user_id   202607 non-null  int64\n",
      " 1   month     202607 non-null  int64\n",
      " 2   duration  202607 non-null  Int64\n",
      "dtypes: Int64(1), int64(2)\n",
      "memory usage: 6.4 MB\n"
     ]
    }
   ],
   "source": [
    "calls=calls[['user_id', 'month', 'duration']]\n",
    "calls.info()"
   ]
  },
  {
   "cell_type": "code",
   "execution_count": 100,
   "metadata": {},
   "outputs": [
    {
     "data": {
      "text/html": [
       "<div>\n",
       "<style scoped>\n",
       "    .dataframe tbody tr th:only-of-type {\n",
       "        vertical-align: middle;\n",
       "    }\n",
       "\n",
       "    .dataframe tbody tr th {\n",
       "        vertical-align: top;\n",
       "    }\n",
       "\n",
       "    .dataframe thead th {\n",
       "        text-align: right;\n",
       "    }\n",
       "</style>\n",
       "<table border=\"1\" class=\"dataframe\">\n",
       "  <thead>\n",
       "    <tr style=\"text-align: right;\">\n",
       "      <th></th>\n",
       "      <th>user_id</th>\n",
       "      <th>month</th>\n",
       "      <th>sum_minut</th>\n",
       "    </tr>\n",
       "  </thead>\n",
       "  <tbody>\n",
       "    <tr>\n",
       "      <th>0</th>\n",
       "      <td>1000</td>\n",
       "      <td>5</td>\n",
       "      <td>159</td>\n",
       "    </tr>\n",
       "    <tr>\n",
       "      <th>1</th>\n",
       "      <td>1000</td>\n",
       "      <td>6</td>\n",
       "      <td>172</td>\n",
       "    </tr>\n",
       "    <tr>\n",
       "      <th>2</th>\n",
       "      <td>1000</td>\n",
       "      <td>7</td>\n",
       "      <td>340</td>\n",
       "    </tr>\n",
       "    <tr>\n",
       "      <th>3</th>\n",
       "      <td>1000</td>\n",
       "      <td>8</td>\n",
       "      <td>408</td>\n",
       "    </tr>\n",
       "    <tr>\n",
       "      <th>4</th>\n",
       "      <td>1000</td>\n",
       "      <td>9</td>\n",
       "      <td>466</td>\n",
       "    </tr>\n",
       "  </tbody>\n",
       "</table>\n",
       "</div>"
      ],
      "text/plain": [
       "   user_id  month  sum_minut\n",
       "0     1000      5        159\n",
       "1     1000      6        172\n",
       "2     1000      7        340\n",
       "3     1000      8        408\n",
       "4     1000      9        466"
      ]
     },
     "metadata": {},
     "output_type": "display_data"
    },
    {
     "name": "stdout",
     "output_type": "stream",
     "text": [
      "<class 'pandas.core.frame.DataFrame'>\n",
      "RangeIndex: 3174 entries, 0 to 3173\n",
      "Data columns (total 3 columns):\n",
      " #   Column     Non-Null Count  Dtype\n",
      "---  ------     --------------  -----\n",
      " 0   user_id    3174 non-null   int64\n",
      " 1   month      3174 non-null   int64\n",
      " 2   sum_minut  3174 non-null   Int64\n",
      "dtypes: Int64(1), int64(2)\n",
      "memory usage: 77.6 KB\n"
     ]
    }
   ],
   "source": [
    "calls_pivot = calls.pivot_table(index=['user_id', 'month'], values='duration', aggfunc='sum').reset_index()     \n",
    "calls_pivot = calls_pivot.rename(columns={'duration': 'sum_minut'})\n",
    "display(calls_pivot.head())\n",
    "calls_pivot.info()"
   ]
  },
  {
   "cell_type": "markdown",
   "metadata": {},
   "source": [
    "1. Данные по звонкам преобразованы <br>\n",
    "2. Таблица содержит идентиф.пользователя, месяц и сумму минут за месяц.<br> \n",
    "3. Строки сократились до 3174.<br>"
   ]
  },
  {
   "cell_type": "markdown",
   "metadata": {},
   "source": [
    "<div class=\"alert alert-success\">\n",
    "<b>✔️ Комментарий ревьюера:</b> \n",
    "    \n",
    "Отличное решение!\n",
    "</div>"
   ]
  },
  {
   "cell_type": "markdown",
   "metadata": {},
   "source": [
    "# Изучение данных из файла messages"
   ]
  },
  {
   "cell_type": "code",
   "execution_count": 101,
   "metadata": {},
   "outputs": [
    {
     "data": {
      "text/html": [
       "<div>\n",
       "<style scoped>\n",
       "    .dataframe tbody tr th:only-of-type {\n",
       "        vertical-align: middle;\n",
       "    }\n",
       "\n",
       "    .dataframe tbody tr th {\n",
       "        vertical-align: top;\n",
       "    }\n",
       "\n",
       "    .dataframe thead th {\n",
       "        text-align: right;\n",
       "    }\n",
       "</style>\n",
       "<table border=\"1\" class=\"dataframe\">\n",
       "  <thead>\n",
       "    <tr style=\"text-align: right;\">\n",
       "      <th></th>\n",
       "      <th>id</th>\n",
       "      <th>message_date</th>\n",
       "      <th>user_id</th>\n",
       "    </tr>\n",
       "  </thead>\n",
       "  <tbody>\n",
       "    <tr>\n",
       "      <th>0</th>\n",
       "      <td>1000_0</td>\n",
       "      <td>2018-06-27</td>\n",
       "      <td>1000</td>\n",
       "    </tr>\n",
       "    <tr>\n",
       "      <th>1</th>\n",
       "      <td>1000_1</td>\n",
       "      <td>2018-10-08</td>\n",
       "      <td>1000</td>\n",
       "    </tr>\n",
       "    <tr>\n",
       "      <th>2</th>\n",
       "      <td>1000_2</td>\n",
       "      <td>2018-08-04</td>\n",
       "      <td>1000</td>\n",
       "    </tr>\n",
       "    <tr>\n",
       "      <th>3</th>\n",
       "      <td>1000_3</td>\n",
       "      <td>2018-06-16</td>\n",
       "      <td>1000</td>\n",
       "    </tr>\n",
       "    <tr>\n",
       "      <th>4</th>\n",
       "      <td>1000_4</td>\n",
       "      <td>2018-12-05</td>\n",
       "      <td>1000</td>\n",
       "    </tr>\n",
       "  </tbody>\n",
       "</table>\n",
       "</div>"
      ],
      "text/plain": [
       "       id message_date  user_id\n",
       "0  1000_0   2018-06-27     1000\n",
       "1  1000_1   2018-10-08     1000\n",
       "2  1000_2   2018-08-04     1000\n",
       "3  1000_3   2018-06-16     1000\n",
       "4  1000_4   2018-12-05     1000"
      ]
     },
     "metadata": {},
     "output_type": "display_data"
    },
    {
     "name": "stdout",
     "output_type": "stream",
     "text": [
      "<class 'pandas.core.frame.DataFrame'>\n",
      "RangeIndex: 123036 entries, 0 to 123035\n",
      "Data columns (total 3 columns):\n",
      " #   Column        Non-Null Count   Dtype \n",
      "---  ------        --------------   ----- \n",
      " 0   id            123036 non-null  object\n",
      " 1   message_date  123036 non-null  object\n",
      " 2   user_id       123036 non-null  int64 \n",
      "dtypes: int64(1), object(2)\n",
      "memory usage: 2.8+ MB\n"
     ]
    }
   ],
   "source": [
    "messages = pd.read_csv('/datasets/messages.csv')\n",
    "display(messages.head())\n",
    "messages.info()"
   ]
  },
  {
   "cell_type": "markdown",
   "metadata": {},
   "source": [
    "1. Пропущенных значений нет. \n",
    "2. Надо перевести время в формат даты, чтобы потом разделить по месяцам. \n",
    "3. Добавим столбец с месяцем. \n",
    "4. Сгруппируем полученную таблицу по id пользователя и месяцам."
   ]
  },
  {
   "cell_type": "markdown",
   "metadata": {},
   "source": [
    "# Предобработка данных messages"
   ]
  },
  {
   "cell_type": "code",
   "execution_count": 102,
   "metadata": {},
   "outputs": [
    {
     "name": "stdout",
     "output_type": "stream",
     "text": [
      "<class 'pandas.core.frame.DataFrame'>\n",
      "Int64Index: 123036 entries, 0 to 123035\n",
      "Data columns (total 3 columns):\n",
      " #   Column        Non-Null Count   Dtype \n",
      "---  ------        --------------   ----- \n",
      " 0   id            123036 non-null  object\n",
      " 1   message_date  123036 non-null  object\n",
      " 2   user_id       123036 non-null  int64 \n",
      "dtypes: int64(1), object(2)\n",
      "memory usage: 3.8+ MB\n"
     ]
    }
   ],
   "source": [
    "messages = messages.drop_duplicates() # удалим дубликаты в таблице\n",
    "messages.info() # проверим кол-во оставшихся строк"
   ]
  },
  {
   "cell_type": "code",
   "execution_count": 103,
   "metadata": {},
   "outputs": [
    {
     "data": {
      "text/html": [
       "<div>\n",
       "<style scoped>\n",
       "    .dataframe tbody tr th:only-of-type {\n",
       "        vertical-align: middle;\n",
       "    }\n",
       "\n",
       "    .dataframe tbody tr th {\n",
       "        vertical-align: top;\n",
       "    }\n",
       "\n",
       "    .dataframe thead th {\n",
       "        text-align: right;\n",
       "    }\n",
       "</style>\n",
       "<table border=\"1\" class=\"dataframe\">\n",
       "  <thead>\n",
       "    <tr style=\"text-align: right;\">\n",
       "      <th></th>\n",
       "      <th>id</th>\n",
       "      <th>message_date</th>\n",
       "      <th>user_id</th>\n",
       "      <th>month</th>\n",
       "    </tr>\n",
       "  </thead>\n",
       "  <tbody>\n",
       "    <tr>\n",
       "      <th>0</th>\n",
       "      <td>1000_0</td>\n",
       "      <td>2018-06-27</td>\n",
       "      <td>1000</td>\n",
       "      <td>6</td>\n",
       "    </tr>\n",
       "    <tr>\n",
       "      <th>1</th>\n",
       "      <td>1000_1</td>\n",
       "      <td>2018-10-08</td>\n",
       "      <td>1000</td>\n",
       "      <td>10</td>\n",
       "    </tr>\n",
       "    <tr>\n",
       "      <th>2</th>\n",
       "      <td>1000_2</td>\n",
       "      <td>2018-08-04</td>\n",
       "      <td>1000</td>\n",
       "      <td>8</td>\n",
       "    </tr>\n",
       "    <tr>\n",
       "      <th>3</th>\n",
       "      <td>1000_3</td>\n",
       "      <td>2018-06-16</td>\n",
       "      <td>1000</td>\n",
       "      <td>6</td>\n",
       "    </tr>\n",
       "    <tr>\n",
       "      <th>4</th>\n",
       "      <td>1000_4</td>\n",
       "      <td>2018-12-05</td>\n",
       "      <td>1000</td>\n",
       "      <td>12</td>\n",
       "    </tr>\n",
       "  </tbody>\n",
       "</table>\n",
       "</div>"
      ],
      "text/plain": [
       "       id message_date  user_id  month\n",
       "0  1000_0   2018-06-27     1000      6\n",
       "1  1000_1   2018-10-08     1000     10\n",
       "2  1000_2   2018-08-04     1000      8\n",
       "3  1000_3   2018-06-16     1000      6\n",
       "4  1000_4   2018-12-05     1000     12"
      ]
     },
     "metadata": {},
     "output_type": "display_data"
    },
    {
     "name": "stdout",
     "output_type": "stream",
     "text": [
      "<class 'pandas.core.frame.DataFrame'>\n",
      "Int64Index: 123036 entries, 0 to 123035\n",
      "Data columns (total 4 columns):\n",
      " #   Column        Non-Null Count   Dtype         \n",
      "---  ------        --------------   -----         \n",
      " 0   id            123036 non-null  object        \n",
      " 1   message_date  123036 non-null  datetime64[ns]\n",
      " 2   user_id       123036 non-null  int64         \n",
      " 3   month         123036 non-null  int64         \n",
      "dtypes: datetime64[ns](1), int64(2), object(1)\n",
      "memory usage: 4.7+ MB\n"
     ]
    }
   ],
   "source": [
    "messages['message_date'] = pd.to_datetime(messages['message_date'], format='%Y-%m-%d')\n",
    "messages['month'] = messages['message_date'].dt.month #добавим месяц\n",
    "display(messages.head())\n",
    "messages.info()"
   ]
  },
  {
   "cell_type": "code",
   "execution_count": 104,
   "metadata": {},
   "outputs": [
    {
     "data": {
      "text/html": [
       "<div>\n",
       "<style scoped>\n",
       "    .dataframe tbody tr th:only-of-type {\n",
       "        vertical-align: middle;\n",
       "    }\n",
       "\n",
       "    .dataframe tbody tr th {\n",
       "        vertical-align: top;\n",
       "    }\n",
       "\n",
       "    .dataframe thead th {\n",
       "        text-align: right;\n",
       "    }\n",
       "</style>\n",
       "<table border=\"1\" class=\"dataframe\">\n",
       "  <thead>\n",
       "    <tr style=\"text-align: right;\">\n",
       "      <th></th>\n",
       "      <th>user_id</th>\n",
       "      <th>month</th>\n",
       "      <th>message_date</th>\n",
       "    </tr>\n",
       "  </thead>\n",
       "  <tbody>\n",
       "    <tr>\n",
       "      <th>0</th>\n",
       "      <td>1000</td>\n",
       "      <td>5</td>\n",
       "      <td>22</td>\n",
       "    </tr>\n",
       "    <tr>\n",
       "      <th>1</th>\n",
       "      <td>1000</td>\n",
       "      <td>6</td>\n",
       "      <td>60</td>\n",
       "    </tr>\n",
       "    <tr>\n",
       "      <th>2</th>\n",
       "      <td>1000</td>\n",
       "      <td>7</td>\n",
       "      <td>75</td>\n",
       "    </tr>\n",
       "    <tr>\n",
       "      <th>3</th>\n",
       "      <td>1000</td>\n",
       "      <td>8</td>\n",
       "      <td>81</td>\n",
       "    </tr>\n",
       "    <tr>\n",
       "      <th>4</th>\n",
       "      <td>1000</td>\n",
       "      <td>9</td>\n",
       "      <td>57</td>\n",
       "    </tr>\n",
       "  </tbody>\n",
       "</table>\n",
       "</div>"
      ],
      "text/plain": [
       "   user_id  month  message_date\n",
       "0     1000      5            22\n",
       "1     1000      6            60\n",
       "2     1000      7            75\n",
       "3     1000      8            81\n",
       "4     1000      9            57"
      ]
     },
     "metadata": {},
     "output_type": "display_data"
    },
    {
     "name": "stdout",
     "output_type": "stream",
     "text": [
      "<class 'pandas.core.frame.DataFrame'>\n",
      "RangeIndex: 2717 entries, 0 to 2716\n",
      "Data columns (total 3 columns):\n",
      " #   Column        Non-Null Count  Dtype\n",
      "---  ------        --------------  -----\n",
      " 0   user_id       2717 non-null   int64\n",
      " 1   month         2717 non-null   int64\n",
      " 2   message_date  2717 non-null   int64\n",
      "dtypes: int64(3)\n",
      "memory usage: 63.8 KB\n"
     ]
    }
   ],
   "source": [
    "messages_pivot = messages.pivot_table(index=['user_id', 'month'], values='message_date', aggfunc='count').reset_index()     \n",
    "display(messages_pivot.head())\n",
    "messages_pivot.info()"
   ]
  },
  {
   "cell_type": "code",
   "execution_count": 105,
   "metadata": {},
   "outputs": [
    {
     "data": {
      "text/html": [
       "<div>\n",
       "<style scoped>\n",
       "    .dataframe tbody tr th:only-of-type {\n",
       "        vertical-align: middle;\n",
       "    }\n",
       "\n",
       "    .dataframe tbody tr th {\n",
       "        vertical-align: top;\n",
       "    }\n",
       "\n",
       "    .dataframe thead th {\n",
       "        text-align: right;\n",
       "    }\n",
       "</style>\n",
       "<table border=\"1\" class=\"dataframe\">\n",
       "  <thead>\n",
       "    <tr style=\"text-align: right;\">\n",
       "      <th></th>\n",
       "      <th>user_id</th>\n",
       "      <th>month</th>\n",
       "      <th>sum_message</th>\n",
       "    </tr>\n",
       "  </thead>\n",
       "  <tbody>\n",
       "    <tr>\n",
       "      <th>0</th>\n",
       "      <td>1000</td>\n",
       "      <td>5</td>\n",
       "      <td>22</td>\n",
       "    </tr>\n",
       "    <tr>\n",
       "      <th>1</th>\n",
       "      <td>1000</td>\n",
       "      <td>6</td>\n",
       "      <td>60</td>\n",
       "    </tr>\n",
       "    <tr>\n",
       "      <th>2</th>\n",
       "      <td>1000</td>\n",
       "      <td>7</td>\n",
       "      <td>75</td>\n",
       "    </tr>\n",
       "    <tr>\n",
       "      <th>3</th>\n",
       "      <td>1000</td>\n",
       "      <td>8</td>\n",
       "      <td>81</td>\n",
       "    </tr>\n",
       "    <tr>\n",
       "      <th>4</th>\n",
       "      <td>1000</td>\n",
       "      <td>9</td>\n",
       "      <td>57</td>\n",
       "    </tr>\n",
       "  </tbody>\n",
       "</table>\n",
       "</div>"
      ],
      "text/plain": [
       "   user_id  month  sum_message\n",
       "0     1000      5           22\n",
       "1     1000      6           60\n",
       "2     1000      7           75\n",
       "3     1000      8           81\n",
       "4     1000      9           57"
      ]
     },
     "execution_count": 105,
     "metadata": {},
     "output_type": "execute_result"
    }
   ],
   "source": [
    "messages_pivot = messages_pivot.rename(columns={'message_date': 'sum_message'}) #поменяем название для удобства\n",
    "#чтобы название соответствовало содержимому\n",
    "messages_pivot.head()"
   ]
  },
  {
   "cell_type": "markdown",
   "metadata": {},
   "source": [
    "1. Данные по кол-ву сообщений преобразованы \n",
    "2. Таблица содержит идентиф.пользователя, месяц и кол-во сообщений за месяц по каждому абоненту. \n",
    "3. Строки сократились до 2717."
   ]
  },
  {
   "cell_type": "markdown",
   "metadata": {},
   "source": [
    "<div class=\"alert alert-success\">\n",
    "<b>✔️ Комментарий ревьюера:</b> \n",
    "    \n",
    "Супер, данные по сообщениям обработаны и агрегированы верно!)\n",
    "</div>"
   ]
  },
  {
   "cell_type": "markdown",
   "metadata": {},
   "source": [
    "# Изучение данных из файла internet"
   ]
  },
  {
   "cell_type": "code",
   "execution_count": 106,
   "metadata": {},
   "outputs": [
    {
     "data": {
      "text/plain": [
       "0          112.95\n",
       "1         1052.81\n",
       "2         1197.26\n",
       "3          550.27\n",
       "4          302.56\n",
       "           ...   \n",
       "149391     318.90\n",
       "149392     490.13\n",
       "149393       0.00\n",
       "149394    1246.32\n",
       "149395     544.37\n",
       "Name: mb_used, Length: 149396, dtype: float64"
      ]
     },
     "metadata": {},
     "output_type": "display_data"
    },
    {
     "data": {
      "text/plain": [
       "count    149396.000000\n",
       "mean        370.192426\n",
       "std         278.300951\n",
       "min           0.000000\n",
       "25%         138.187500\n",
       "50%         348.015000\n",
       "75%         559.552500\n",
       "max        1724.830000\n",
       "Name: mb_used, dtype: float64"
      ]
     },
     "metadata": {},
     "output_type": "display_data"
    },
    {
     "name": "stdout",
     "output_type": "stream",
     "text": [
      "<class 'pandas.core.frame.DataFrame'>\n",
      "RangeIndex: 149396 entries, 0 to 149395\n",
      "Data columns (total 5 columns):\n",
      " #   Column        Non-Null Count   Dtype  \n",
      "---  ------        --------------   -----  \n",
      " 0   Unnamed: 0    149396 non-null  int64  \n",
      " 1   id            149396 non-null  object \n",
      " 2   mb_used       149396 non-null  float64\n",
      " 3   session_date  149396 non-null  object \n",
      " 4   user_id       149396 non-null  int64  \n",
      "dtypes: float64(1), int64(2), object(2)\n",
      "memory usage: 5.7+ MB\n"
     ]
    }
   ],
   "source": [
    "internet = pd.read_csv('/datasets/internet.csv')\n",
    "display(internet['mb_used'])\n",
    "display(internet['mb_used'].describe())\n",
    "internet.info()"
   ]
  },
  {
   "cell_type": "markdown",
   "metadata": {},
   "source": [
    "1. Пропущенных значений нет. \n",
    "2. Надо перевести время в формат даты, чтобы потом разделить по месяцам.\n",
    "3. Добавим столбец с месяцем. \n",
    "4. Интернет переведем в ГБ, т.к. перерасход начисляется за гигабайты и преобразуем в int с округлением в большую сторону. \n",
    "5. Сгруппируем полученную таблицу по id пользователя и месяцам."
   ]
  },
  {
   "cell_type": "code",
   "execution_count": 107,
   "metadata": {},
   "outputs": [
    {
     "data": {
      "text/html": [
       "<div>\n",
       "<style scoped>\n",
       "    .dataframe tbody tr th:only-of-type {\n",
       "        vertical-align: middle;\n",
       "    }\n",
       "\n",
       "    .dataframe tbody tr th {\n",
       "        vertical-align: top;\n",
       "    }\n",
       "\n",
       "    .dataframe thead th {\n",
       "        text-align: right;\n",
       "    }\n",
       "</style>\n",
       "<table border=\"1\" class=\"dataframe\">\n",
       "  <thead>\n",
       "    <tr style=\"text-align: right;\">\n",
       "      <th></th>\n",
       "      <th>Unnamed: 0</th>\n",
       "      <th>id</th>\n",
       "      <th>mb_used</th>\n",
       "      <th>session_date</th>\n",
       "      <th>user_id</th>\n",
       "    </tr>\n",
       "  </thead>\n",
       "  <tbody>\n",
       "    <tr>\n",
       "      <th>0</th>\n",
       "      <td>0</td>\n",
       "      <td>1000_0</td>\n",
       "      <td>112.95</td>\n",
       "      <td>2018-11-25</td>\n",
       "      <td>1000</td>\n",
       "    </tr>\n",
       "    <tr>\n",
       "      <th>1</th>\n",
       "      <td>1</td>\n",
       "      <td>1000_1</td>\n",
       "      <td>1052.81</td>\n",
       "      <td>2018-09-07</td>\n",
       "      <td>1000</td>\n",
       "    </tr>\n",
       "    <tr>\n",
       "      <th>2</th>\n",
       "      <td>2</td>\n",
       "      <td>1000_2</td>\n",
       "      <td>1197.26</td>\n",
       "      <td>2018-06-25</td>\n",
       "      <td>1000</td>\n",
       "    </tr>\n",
       "    <tr>\n",
       "      <th>3</th>\n",
       "      <td>3</td>\n",
       "      <td>1000_3</td>\n",
       "      <td>550.27</td>\n",
       "      <td>2018-08-22</td>\n",
       "      <td>1000</td>\n",
       "    </tr>\n",
       "    <tr>\n",
       "      <th>4</th>\n",
       "      <td>4</td>\n",
       "      <td>1000_4</td>\n",
       "      <td>302.56</td>\n",
       "      <td>2018-09-24</td>\n",
       "      <td>1000</td>\n",
       "    </tr>\n",
       "    <tr>\n",
       "      <th>5</th>\n",
       "      <td>5</td>\n",
       "      <td>1000_5</td>\n",
       "      <td>399.97</td>\n",
       "      <td>2018-10-02</td>\n",
       "      <td>1000</td>\n",
       "    </tr>\n",
       "    <tr>\n",
       "      <th>6</th>\n",
       "      <td>6</td>\n",
       "      <td>1000_6</td>\n",
       "      <td>540.08</td>\n",
       "      <td>2018-09-07</td>\n",
       "      <td>1000</td>\n",
       "    </tr>\n",
       "    <tr>\n",
       "      <th>7</th>\n",
       "      <td>7</td>\n",
       "      <td>1000_7</td>\n",
       "      <td>415.70</td>\n",
       "      <td>2018-07-11</td>\n",
       "      <td>1000</td>\n",
       "    </tr>\n",
       "    <tr>\n",
       "      <th>8</th>\n",
       "      <td>8</td>\n",
       "      <td>1000_8</td>\n",
       "      <td>505.40</td>\n",
       "      <td>2018-10-08</td>\n",
       "      <td>1000</td>\n",
       "    </tr>\n",
       "    <tr>\n",
       "      <th>9</th>\n",
       "      <td>9</td>\n",
       "      <td>1000_9</td>\n",
       "      <td>345.54</td>\n",
       "      <td>2018-09-03</td>\n",
       "      <td>1000</td>\n",
       "    </tr>\n",
       "  </tbody>\n",
       "</table>\n",
       "</div>"
      ],
      "text/plain": [
       "   Unnamed: 0      id  mb_used session_date  user_id\n",
       "0           0  1000_0   112.95   2018-11-25     1000\n",
       "1           1  1000_1  1052.81   2018-09-07     1000\n",
       "2           2  1000_2  1197.26   2018-06-25     1000\n",
       "3           3  1000_3   550.27   2018-08-22     1000\n",
       "4           4  1000_4   302.56   2018-09-24     1000\n",
       "5           5  1000_5   399.97   2018-10-02     1000\n",
       "6           6  1000_6   540.08   2018-09-07     1000\n",
       "7           7  1000_7   415.70   2018-07-11     1000\n",
       "8           8  1000_8   505.40   2018-10-08     1000\n",
       "9           9  1000_9   345.54   2018-09-03     1000"
      ]
     },
     "execution_count": 107,
     "metadata": {},
     "output_type": "execute_result"
    }
   ],
   "source": [
    "internet.head(10)"
   ]
  },
  {
   "cell_type": "code",
   "execution_count": 108,
   "metadata": {},
   "outputs": [
    {
     "data": {
      "text/html": [
       "<div>\n",
       "<style scoped>\n",
       "    .dataframe tbody tr th:only-of-type {\n",
       "        vertical-align: middle;\n",
       "    }\n",
       "\n",
       "    .dataframe tbody tr th {\n",
       "        vertical-align: top;\n",
       "    }\n",
       "\n",
       "    .dataframe thead th {\n",
       "        text-align: right;\n",
       "    }\n",
       "</style>\n",
       "<table border=\"1\" class=\"dataframe\">\n",
       "  <thead>\n",
       "    <tr style=\"text-align: right;\">\n",
       "      <th></th>\n",
       "      <th>Unnamed: 0</th>\n",
       "      <th>id</th>\n",
       "      <th>mb_used</th>\n",
       "      <th>session_date</th>\n",
       "      <th>user_id</th>\n",
       "      <th>month</th>\n",
       "    </tr>\n",
       "  </thead>\n",
       "  <tbody>\n",
       "    <tr>\n",
       "      <th>0</th>\n",
       "      <td>0</td>\n",
       "      <td>1000_0</td>\n",
       "      <td>112.95</td>\n",
       "      <td>2018-11-25</td>\n",
       "      <td>1000</td>\n",
       "      <td>11</td>\n",
       "    </tr>\n",
       "    <tr>\n",
       "      <th>1</th>\n",
       "      <td>1</td>\n",
       "      <td>1000_1</td>\n",
       "      <td>1052.81</td>\n",
       "      <td>2018-09-07</td>\n",
       "      <td>1000</td>\n",
       "      <td>9</td>\n",
       "    </tr>\n",
       "    <tr>\n",
       "      <th>2</th>\n",
       "      <td>2</td>\n",
       "      <td>1000_2</td>\n",
       "      <td>1197.26</td>\n",
       "      <td>2018-06-25</td>\n",
       "      <td>1000</td>\n",
       "      <td>6</td>\n",
       "    </tr>\n",
       "    <tr>\n",
       "      <th>3</th>\n",
       "      <td>3</td>\n",
       "      <td>1000_3</td>\n",
       "      <td>550.27</td>\n",
       "      <td>2018-08-22</td>\n",
       "      <td>1000</td>\n",
       "      <td>8</td>\n",
       "    </tr>\n",
       "    <tr>\n",
       "      <th>4</th>\n",
       "      <td>4</td>\n",
       "      <td>1000_4</td>\n",
       "      <td>302.56</td>\n",
       "      <td>2018-09-24</td>\n",
       "      <td>1000</td>\n",
       "      <td>9</td>\n",
       "    </tr>\n",
       "  </tbody>\n",
       "</table>\n",
       "</div>"
      ],
      "text/plain": [
       "   Unnamed: 0      id  mb_used session_date  user_id  month\n",
       "0           0  1000_0   112.95   2018-11-25     1000     11\n",
       "1           1  1000_1  1052.81   2018-09-07     1000      9\n",
       "2           2  1000_2  1197.26   2018-06-25     1000      6\n",
       "3           3  1000_3   550.27   2018-08-22     1000      8\n",
       "4           4  1000_4   302.56   2018-09-24     1000      9"
      ]
     },
     "execution_count": 108,
     "metadata": {},
     "output_type": "execute_result"
    }
   ],
   "source": [
    "internet = internet.drop_duplicates() # удалим дубликаты в таблице\n",
    "internet['session_date'] = pd.to_datetime(internet['session_date'], format='%Y-%m-%d')\n",
    "#добавим месяц\n",
    "internet['month'] = internet['session_date'].dt.month \n",
    "#internet['gb_used']=internet['mb_used'] / 1024\n",
    "# округляю количество мб до целого большего\n",
    "#internet['mb_used']=round(internet['mb_used'].astype('int64')+0.45)\n",
    "#internet['gb_used'] = numpy.ceil(internet['gb_used']).astype('Int64')\n",
    "internet.head()"
   ]
  },
  {
   "cell_type": "markdown",
   "metadata": {},
   "source": [
    "<div class=\"alert alert-success\">\n",
    "<b>✔️ Комментарий ревьюера v2:</b> \n",
    "\n",
    "Все верно, на данном шаге переводить и округлять мегабайты немного неправильно, потому что в дальнейшем при обработке данных такие цифры считаются немного неверно)\n",
    "</div>"
   ]
  },
  {
   "cell_type": "code",
   "execution_count": 109,
   "metadata": {},
   "outputs": [
    {
     "name": "stdout",
     "output_type": "stream",
     "text": [
      "<class 'pandas.core.frame.DataFrame'>\n",
      "Int64Index: 149396 entries, 0 to 149395\n",
      "Data columns (total 3 columns):\n",
      " #   Column   Non-Null Count   Dtype  \n",
      "---  ------   --------------   -----  \n",
      " 0   user_id  149396 non-null  int64  \n",
      " 1   month    149396 non-null  int64  \n",
      " 2   mb_used  149396 non-null  float64\n",
      "dtypes: float64(1), int64(2)\n",
      "memory usage: 4.6 MB\n"
     ]
    }
   ],
   "source": [
    "internet=internet[['user_id', 'month', 'mb_used']]\n",
    "internet.info()"
   ]
  },
  {
   "cell_type": "code",
   "execution_count": 110,
   "metadata": {},
   "outputs": [
    {
     "data": {
      "text/html": [
       "<div>\n",
       "<style scoped>\n",
       "    .dataframe tbody tr th:only-of-type {\n",
       "        vertical-align: middle;\n",
       "    }\n",
       "\n",
       "    .dataframe tbody tr th {\n",
       "        vertical-align: top;\n",
       "    }\n",
       "\n",
       "    .dataframe thead th {\n",
       "        text-align: right;\n",
       "    }\n",
       "</style>\n",
       "<table border=\"1\" class=\"dataframe\">\n",
       "  <thead>\n",
       "    <tr style=\"text-align: right;\">\n",
       "      <th></th>\n",
       "      <th>user_id</th>\n",
       "      <th>month</th>\n",
       "      <th>mb_used</th>\n",
       "    </tr>\n",
       "  </thead>\n",
       "  <tbody>\n",
       "    <tr>\n",
       "      <th>0</th>\n",
       "      <td>1000</td>\n",
       "      <td>5</td>\n",
       "      <td>2253.49</td>\n",
       "    </tr>\n",
       "    <tr>\n",
       "      <th>1</th>\n",
       "      <td>1000</td>\n",
       "      <td>6</td>\n",
       "      <td>23233.77</td>\n",
       "    </tr>\n",
       "    <tr>\n",
       "      <th>2</th>\n",
       "      <td>1000</td>\n",
       "      <td>7</td>\n",
       "      <td>14003.64</td>\n",
       "    </tr>\n",
       "    <tr>\n",
       "      <th>3</th>\n",
       "      <td>1000</td>\n",
       "      <td>8</td>\n",
       "      <td>14055.93</td>\n",
       "    </tr>\n",
       "    <tr>\n",
       "      <th>4</th>\n",
       "      <td>1000</td>\n",
       "      <td>9</td>\n",
       "      <td>14568.91</td>\n",
       "    </tr>\n",
       "  </tbody>\n",
       "</table>\n",
       "</div>"
      ],
      "text/plain": [
       "   user_id  month   mb_used\n",
       "0     1000      5   2253.49\n",
       "1     1000      6  23233.77\n",
       "2     1000      7  14003.64\n",
       "3     1000      8  14055.93\n",
       "4     1000      9  14568.91"
      ]
     },
     "metadata": {},
     "output_type": "display_data"
    },
    {
     "name": "stdout",
     "output_type": "stream",
     "text": [
      "<class 'pandas.core.frame.DataFrame'>\n",
      "RangeIndex: 3203 entries, 0 to 3202\n",
      "Data columns (total 3 columns):\n",
      " #   Column   Non-Null Count  Dtype  \n",
      "---  ------   --------------  -----  \n",
      " 0   user_id  3203 non-null   int64  \n",
      " 1   month    3203 non-null   int64  \n",
      " 2   mb_used  3203 non-null   float64\n",
      "dtypes: float64(1), int64(2)\n",
      "memory usage: 75.2 KB\n"
     ]
    }
   ],
   "source": [
    "internet_pivot = internet.pivot_table(index=['user_id', 'month'], values='mb_used', aggfunc='sum').reset_index()     \n",
    "display(internet_pivot.head())\n",
    "internet_pivot.info()"
   ]
  },
  {
   "cell_type": "code",
   "execution_count": 111,
   "metadata": {},
   "outputs": [
    {
     "data": {
      "text/html": [
       "<div>\n",
       "<style scoped>\n",
       "    .dataframe tbody tr th:only-of-type {\n",
       "        vertical-align: middle;\n",
       "    }\n",
       "\n",
       "    .dataframe tbody tr th {\n",
       "        vertical-align: top;\n",
       "    }\n",
       "\n",
       "    .dataframe thead th {\n",
       "        text-align: right;\n",
       "    }\n",
       "</style>\n",
       "<table border=\"1\" class=\"dataframe\">\n",
       "  <thead>\n",
       "    <tr style=\"text-align: right;\">\n",
       "      <th></th>\n",
       "      <th>user_id</th>\n",
       "      <th>month</th>\n",
       "      <th>sum_mb</th>\n",
       "    </tr>\n",
       "  </thead>\n",
       "  <tbody>\n",
       "    <tr>\n",
       "      <th>0</th>\n",
       "      <td>1000</td>\n",
       "      <td>5</td>\n",
       "      <td>2253.49</td>\n",
       "    </tr>\n",
       "    <tr>\n",
       "      <th>1</th>\n",
       "      <td>1000</td>\n",
       "      <td>6</td>\n",
       "      <td>23233.77</td>\n",
       "    </tr>\n",
       "    <tr>\n",
       "      <th>2</th>\n",
       "      <td>1000</td>\n",
       "      <td>7</td>\n",
       "      <td>14003.64</td>\n",
       "    </tr>\n",
       "    <tr>\n",
       "      <th>3</th>\n",
       "      <td>1000</td>\n",
       "      <td>8</td>\n",
       "      <td>14055.93</td>\n",
       "    </tr>\n",
       "    <tr>\n",
       "      <th>4</th>\n",
       "      <td>1000</td>\n",
       "      <td>9</td>\n",
       "      <td>14568.91</td>\n",
       "    </tr>\n",
       "  </tbody>\n",
       "</table>\n",
       "</div>"
      ],
      "text/plain": [
       "   user_id  month    sum_mb\n",
       "0     1000      5   2253.49\n",
       "1     1000      6  23233.77\n",
       "2     1000      7  14003.64\n",
       "3     1000      8  14055.93\n",
       "4     1000      9  14568.91"
      ]
     },
     "execution_count": 111,
     "metadata": {},
     "output_type": "execute_result"
    }
   ],
   "source": [
    "internet_pivot = internet_pivot.rename(columns={'mb_used': 'sum_mb'}) \n",
    "internet_pivot.head()"
   ]
  },
  {
   "cell_type": "markdown",
   "metadata": {},
   "source": [
    "1. Данные по кол-ву ГБ преобразованы \n",
    "2. Таблица содержит идентиф.пользователя, месяц и кол-во ГБ за месяц по каждому абоненту. \n",
    "3. Строки сократились до 3203."
   ]
  },
  {
   "cell_type": "markdown",
   "metadata": {},
   "source": [
    "<div class=\"alert alert-success\">\n",
    "<b>✔️ Комментарий ревьюера v4:</b> \n",
    "\n",
    "В ячейку ниже добавляем перевод мегабайтов в гигабайты (после всех преобразований ранее) и округление.\n",
    "</div>\n",
    "\n"
   ]
  },
  {
   "cell_type": "code",
   "execution_count": 123,
   "metadata": {},
   "outputs": [
    {
     "data": {
      "text/html": [
       "<div>\n",
       "<style scoped>\n",
       "    .dataframe tbody tr th:only-of-type {\n",
       "        vertical-align: middle;\n",
       "    }\n",
       "\n",
       "    .dataframe tbody tr th {\n",
       "        vertical-align: top;\n",
       "    }\n",
       "\n",
       "    .dataframe thead th {\n",
       "        text-align: right;\n",
       "    }\n",
       "</style>\n",
       "<table border=\"1\" class=\"dataframe\">\n",
       "  <thead>\n",
       "    <tr style=\"text-align: right;\">\n",
       "      <th></th>\n",
       "      <th>user_id</th>\n",
       "      <th>month</th>\n",
       "      <th>sum_gb</th>\n",
       "    </tr>\n",
       "  </thead>\n",
       "  <tbody>\n",
       "    <tr>\n",
       "      <th>0</th>\n",
       "      <td>1000</td>\n",
       "      <td>5</td>\n",
       "      <td>1.0</td>\n",
       "    </tr>\n",
       "    <tr>\n",
       "      <th>1</th>\n",
       "      <td>1000</td>\n",
       "      <td>6</td>\n",
       "      <td>1.0</td>\n",
       "    </tr>\n",
       "    <tr>\n",
       "      <th>2</th>\n",
       "      <td>1000</td>\n",
       "      <td>7</td>\n",
       "      <td>1.0</td>\n",
       "    </tr>\n",
       "    <tr>\n",
       "      <th>3</th>\n",
       "      <td>1000</td>\n",
       "      <td>8</td>\n",
       "      <td>1.0</td>\n",
       "    </tr>\n",
       "    <tr>\n",
       "      <th>4</th>\n",
       "      <td>1000</td>\n",
       "      <td>9</td>\n",
       "      <td>1.0</td>\n",
       "    </tr>\n",
       "  </tbody>\n",
       "</table>\n",
       "</div>"
      ],
      "text/plain": [
       "   user_id  month  sum_gb\n",
       "0     1000      5     1.0\n",
       "1     1000      6     1.0\n",
       "2     1000      7     1.0\n",
       "3     1000      8     1.0\n",
       "4     1000      9     1.0"
      ]
     },
     "execution_count": 123,
     "metadata": {},
     "output_type": "execute_result"
    }
   ],
   "source": [
    "###### КОД РЕВЬЮЕРА ######\n",
    "internet_pivot['sum_mb'] /= 1024\n",
    "internet_pivot['sum_mb'] = np.ceil(internet_pivot['sum_mb'])\n",
    "internet_pivot = internet_pivot.rename(columns={'sum_mb': 'sum_gb'})\n",
    "internet_pivot.head()\n",
    "###### КОД РЕВЬЮЕРА ######"
   ]
  },
  {
   "cell_type": "markdown",
   "metadata": {},
   "source": [
    "# Изучение данных из файла users"
   ]
  },
  {
   "cell_type": "code",
   "execution_count": 124,
   "metadata": {},
   "outputs": [
    {
     "data": {
      "text/html": [
       "<div>\n",
       "<style scoped>\n",
       "    .dataframe tbody tr th:only-of-type {\n",
       "        vertical-align: middle;\n",
       "    }\n",
       "\n",
       "    .dataframe tbody tr th {\n",
       "        vertical-align: top;\n",
       "    }\n",
       "\n",
       "    .dataframe thead th {\n",
       "        text-align: right;\n",
       "    }\n",
       "</style>\n",
       "<table border=\"1\" class=\"dataframe\">\n",
       "  <thead>\n",
       "    <tr style=\"text-align: right;\">\n",
       "      <th></th>\n",
       "      <th>user_id</th>\n",
       "      <th>age</th>\n",
       "      <th>churn_date</th>\n",
       "      <th>city</th>\n",
       "      <th>first_name</th>\n",
       "      <th>last_name</th>\n",
       "      <th>reg_date</th>\n",
       "      <th>tariff</th>\n",
       "    </tr>\n",
       "  </thead>\n",
       "  <tbody>\n",
       "    <tr>\n",
       "      <th>0</th>\n",
       "      <td>1000</td>\n",
       "      <td>52</td>\n",
       "      <td>NaN</td>\n",
       "      <td>Краснодар</td>\n",
       "      <td>Рафаил</td>\n",
       "      <td>Верещагин</td>\n",
       "      <td>2018-05-25</td>\n",
       "      <td>ultra</td>\n",
       "    </tr>\n",
       "    <tr>\n",
       "      <th>1</th>\n",
       "      <td>1001</td>\n",
       "      <td>41</td>\n",
       "      <td>NaN</td>\n",
       "      <td>Москва</td>\n",
       "      <td>Иван</td>\n",
       "      <td>Ежов</td>\n",
       "      <td>2018-11-01</td>\n",
       "      <td>smart</td>\n",
       "    </tr>\n",
       "    <tr>\n",
       "      <th>2</th>\n",
       "      <td>1002</td>\n",
       "      <td>59</td>\n",
       "      <td>NaN</td>\n",
       "      <td>Стерлитамак</td>\n",
       "      <td>Евгений</td>\n",
       "      <td>Абрамович</td>\n",
       "      <td>2018-06-17</td>\n",
       "      <td>smart</td>\n",
       "    </tr>\n",
       "    <tr>\n",
       "      <th>3</th>\n",
       "      <td>1003</td>\n",
       "      <td>23</td>\n",
       "      <td>NaN</td>\n",
       "      <td>Москва</td>\n",
       "      <td>Белла</td>\n",
       "      <td>Белякова</td>\n",
       "      <td>2018-08-17</td>\n",
       "      <td>ultra</td>\n",
       "    </tr>\n",
       "    <tr>\n",
       "      <th>4</th>\n",
       "      <td>1004</td>\n",
       "      <td>68</td>\n",
       "      <td>NaN</td>\n",
       "      <td>Новокузнецк</td>\n",
       "      <td>Татьяна</td>\n",
       "      <td>Авдеенко</td>\n",
       "      <td>2018-05-14</td>\n",
       "      <td>ultra</td>\n",
       "    </tr>\n",
       "  </tbody>\n",
       "</table>\n",
       "</div>"
      ],
      "text/plain": [
       "   user_id  age churn_date         city first_name  last_name    reg_date  \\\n",
       "0     1000   52        NaN    Краснодар     Рафаил  Верещагин  2018-05-25   \n",
       "1     1001   41        NaN       Москва       Иван       Ежов  2018-11-01   \n",
       "2     1002   59        NaN  Стерлитамак    Евгений  Абрамович  2018-06-17   \n",
       "3     1003   23        NaN       Москва      Белла   Белякова  2018-08-17   \n",
       "4     1004   68        NaN  Новокузнецк    Татьяна   Авдеенко  2018-05-14   \n",
       "\n",
       "  tariff  \n",
       "0  ultra  \n",
       "1  smart  \n",
       "2  smart  \n",
       "3  ultra  \n",
       "4  ultra  "
      ]
     },
     "metadata": {},
     "output_type": "display_data"
    },
    {
     "name": "stdout",
     "output_type": "stream",
     "text": [
      "<class 'pandas.core.frame.DataFrame'>\n",
      "RangeIndex: 500 entries, 0 to 499\n",
      "Data columns (total 8 columns):\n",
      " #   Column      Non-Null Count  Dtype \n",
      "---  ------      --------------  ----- \n",
      " 0   user_id     500 non-null    int64 \n",
      " 1   age         500 non-null    int64 \n",
      " 2   churn_date  38 non-null     object\n",
      " 3   city        500 non-null    object\n",
      " 4   first_name  500 non-null    object\n",
      " 5   last_name   500 non-null    object\n",
      " 6   reg_date    500 non-null    object\n",
      " 7   tariff      500 non-null    object\n",
      "dtypes: int64(2), object(6)\n",
      "memory usage: 31.4+ KB\n"
     ]
    }
   ],
   "source": [
    "users = pd.read_csv('/datasets/users.csv')\n",
    "display(users.head())\n",
    "users.info()"
   ]
  },
  {
   "cell_type": "markdown",
   "metadata": {},
   "source": [
    "1. Есть пропущенные значения в дате прекращения тарифа, т.к. большинство тарифов еще действовало. \n",
    "2. Оставляем только нужные для анализа столбцы - идентиф.абонента, тариф и город."
   ]
  },
  {
   "cell_type": "markdown",
   "metadata": {},
   "source": [
    "# Предобработка данных users"
   ]
  },
  {
   "cell_type": "code",
   "execution_count": 125,
   "metadata": {},
   "outputs": [],
   "source": [
    "users['reg_date'] = pd.to_datetime(users['reg_date'], format = '%Y-%m-%d')\n",
    "users['churn_date'] = pd.to_datetime(users['churn_date'], format = '%Y-%m-%d')"
   ]
  },
  {
   "cell_type": "code",
   "execution_count": 126,
   "metadata": {},
   "outputs": [
    {
     "data": {
      "text/html": [
       "<div>\n",
       "<style scoped>\n",
       "    .dataframe tbody tr th:only-of-type {\n",
       "        vertical-align: middle;\n",
       "    }\n",
       "\n",
       "    .dataframe tbody tr th {\n",
       "        vertical-align: top;\n",
       "    }\n",
       "\n",
       "    .dataframe thead th {\n",
       "        text-align: right;\n",
       "    }\n",
       "</style>\n",
       "<table border=\"1\" class=\"dataframe\">\n",
       "  <thead>\n",
       "    <tr style=\"text-align: right;\">\n",
       "      <th></th>\n",
       "      <th>user_id</th>\n",
       "      <th>age</th>\n",
       "      <th>churn_date</th>\n",
       "      <th>city</th>\n",
       "      <th>first_name</th>\n",
       "      <th>last_name</th>\n",
       "      <th>reg_date</th>\n",
       "      <th>tariff</th>\n",
       "    </tr>\n",
       "  </thead>\n",
       "  <tbody>\n",
       "    <tr>\n",
       "      <th>0</th>\n",
       "      <td>1000</td>\n",
       "      <td>52</td>\n",
       "      <td>NaT</td>\n",
       "      <td>Краснодар</td>\n",
       "      <td>Рафаил</td>\n",
       "      <td>Верещагин</td>\n",
       "      <td>2018-05-25</td>\n",
       "      <td>ultra</td>\n",
       "    </tr>\n",
       "    <tr>\n",
       "      <th>1</th>\n",
       "      <td>1001</td>\n",
       "      <td>41</td>\n",
       "      <td>NaT</td>\n",
       "      <td>Москва</td>\n",
       "      <td>Иван</td>\n",
       "      <td>Ежов</td>\n",
       "      <td>2018-11-01</td>\n",
       "      <td>smart</td>\n",
       "    </tr>\n",
       "    <tr>\n",
       "      <th>2</th>\n",
       "      <td>1002</td>\n",
       "      <td>59</td>\n",
       "      <td>NaT</td>\n",
       "      <td>Стерлитамак</td>\n",
       "      <td>Евгений</td>\n",
       "      <td>Абрамович</td>\n",
       "      <td>2018-06-17</td>\n",
       "      <td>smart</td>\n",
       "    </tr>\n",
       "    <tr>\n",
       "      <th>3</th>\n",
       "      <td>1003</td>\n",
       "      <td>23</td>\n",
       "      <td>NaT</td>\n",
       "      <td>Москва</td>\n",
       "      <td>Белла</td>\n",
       "      <td>Белякова</td>\n",
       "      <td>2018-08-17</td>\n",
       "      <td>ultra</td>\n",
       "    </tr>\n",
       "    <tr>\n",
       "      <th>4</th>\n",
       "      <td>1004</td>\n",
       "      <td>68</td>\n",
       "      <td>NaT</td>\n",
       "      <td>Новокузнецк</td>\n",
       "      <td>Татьяна</td>\n",
       "      <td>Авдеенко</td>\n",
       "      <td>2018-05-14</td>\n",
       "      <td>ultra</td>\n",
       "    </tr>\n",
       "    <tr>\n",
       "      <th>5</th>\n",
       "      <td>1005</td>\n",
       "      <td>67</td>\n",
       "      <td>NaT</td>\n",
       "      <td>Набережные Челны</td>\n",
       "      <td>Афанасий</td>\n",
       "      <td>Горлов</td>\n",
       "      <td>2018-01-25</td>\n",
       "      <td>smart</td>\n",
       "    </tr>\n",
       "    <tr>\n",
       "      <th>6</th>\n",
       "      <td>1006</td>\n",
       "      <td>21</td>\n",
       "      <td>NaT</td>\n",
       "      <td>Ульяновск</td>\n",
       "      <td>Леонид</td>\n",
       "      <td>Ермолаев</td>\n",
       "      <td>2018-02-26</td>\n",
       "      <td>smart</td>\n",
       "    </tr>\n",
       "    <tr>\n",
       "      <th>7</th>\n",
       "      <td>1007</td>\n",
       "      <td>65</td>\n",
       "      <td>NaT</td>\n",
       "      <td>Москва</td>\n",
       "      <td>Юна</td>\n",
       "      <td>Березина</td>\n",
       "      <td>2018-04-19</td>\n",
       "      <td>smart</td>\n",
       "    </tr>\n",
       "    <tr>\n",
       "      <th>8</th>\n",
       "      <td>1008</td>\n",
       "      <td>63</td>\n",
       "      <td>NaT</td>\n",
       "      <td>Челябинск</td>\n",
       "      <td>Рустэм</td>\n",
       "      <td>Пономарёв</td>\n",
       "      <td>2018-12-19</td>\n",
       "      <td>smart</td>\n",
       "    </tr>\n",
       "    <tr>\n",
       "      <th>9</th>\n",
       "      <td>1009</td>\n",
       "      <td>24</td>\n",
       "      <td>NaT</td>\n",
       "      <td>Пермь</td>\n",
       "      <td>Василиса</td>\n",
       "      <td>Блинова</td>\n",
       "      <td>2018-03-22</td>\n",
       "      <td>smart</td>\n",
       "    </tr>\n",
       "  </tbody>\n",
       "</table>\n",
       "</div>"
      ],
      "text/plain": [
       "   user_id  age churn_date              city first_name  last_name   reg_date  \\\n",
       "0     1000   52        NaT         Краснодар     Рафаил  Верещагин 2018-05-25   \n",
       "1     1001   41        NaT            Москва       Иван       Ежов 2018-11-01   \n",
       "2     1002   59        NaT       Стерлитамак    Евгений  Абрамович 2018-06-17   \n",
       "3     1003   23        NaT            Москва      Белла   Белякова 2018-08-17   \n",
       "4     1004   68        NaT       Новокузнецк    Татьяна   Авдеенко 2018-05-14   \n",
       "5     1005   67        NaT  Набережные Челны   Афанасий     Горлов 2018-01-25   \n",
       "6     1006   21        NaT         Ульяновск     Леонид   Ермолаев 2018-02-26   \n",
       "7     1007   65        NaT            Москва        Юна   Березина 2018-04-19   \n",
       "8     1008   63        NaT         Челябинск     Рустэм  Пономарёв 2018-12-19   \n",
       "9     1009   24        NaT             Пермь   Василиса    Блинова 2018-03-22   \n",
       "\n",
       "  tariff  \n",
       "0  ultra  \n",
       "1  smart  \n",
       "2  smart  \n",
       "3  ultra  \n",
       "4  ultra  \n",
       "5  smart  \n",
       "6  smart  \n",
       "7  smart  \n",
       "8  smart  \n",
       "9  smart  "
      ]
     },
     "execution_count": 126,
     "metadata": {},
     "output_type": "execute_result"
    }
   ],
   "source": [
    "users.head(10)"
   ]
  },
  {
   "cell_type": "markdown",
   "metadata": {},
   "source": [
    "<div class=\"alert alert-success\">\n",
    "<b>✔️ Комментарий ревьюера v3:</b> \n",
    "\n",
    "Молодец, хорошо!\n",
    "</div>"
   ]
  },
  {
   "cell_type": "markdown",
   "metadata": {},
   "source": [
    "# Объединение таблиц"
   ]
  },
  {
   "cell_type": "code",
   "execution_count": 127,
   "metadata": {},
   "outputs": [
    {
     "data": {
      "text/html": [
       "<div>\n",
       "<style scoped>\n",
       "    .dataframe tbody tr th:only-of-type {\n",
       "        vertical-align: middle;\n",
       "    }\n",
       "\n",
       "    .dataframe tbody tr th {\n",
       "        vertical-align: top;\n",
       "    }\n",
       "\n",
       "    .dataframe thead th {\n",
       "        text-align: right;\n",
       "    }\n",
       "</style>\n",
       "<table border=\"1\" class=\"dataframe\">\n",
       "  <thead>\n",
       "    <tr style=\"text-align: right;\">\n",
       "      <th></th>\n",
       "      <th>user_id</th>\n",
       "      <th>month</th>\n",
       "      <th>sum_minut</th>\n",
       "      <th>sum_message</th>\n",
       "    </tr>\n",
       "  </thead>\n",
       "  <tbody>\n",
       "    <tr>\n",
       "      <th>0</th>\n",
       "      <td>1000</td>\n",
       "      <td>5</td>\n",
       "      <td>159</td>\n",
       "      <td>22.0</td>\n",
       "    </tr>\n",
       "    <tr>\n",
       "      <th>1</th>\n",
       "      <td>1000</td>\n",
       "      <td>6</td>\n",
       "      <td>172</td>\n",
       "      <td>60.0</td>\n",
       "    </tr>\n",
       "    <tr>\n",
       "      <th>2</th>\n",
       "      <td>1000</td>\n",
       "      <td>7</td>\n",
       "      <td>340</td>\n",
       "      <td>75.0</td>\n",
       "    </tr>\n",
       "    <tr>\n",
       "      <th>3</th>\n",
       "      <td>1000</td>\n",
       "      <td>8</td>\n",
       "      <td>408</td>\n",
       "      <td>81.0</td>\n",
       "    </tr>\n",
       "    <tr>\n",
       "      <th>4</th>\n",
       "      <td>1000</td>\n",
       "      <td>9</td>\n",
       "      <td>466</td>\n",
       "      <td>57.0</td>\n",
       "    </tr>\n",
       "  </tbody>\n",
       "</table>\n",
       "</div>"
      ],
      "text/plain": [
       "   user_id  month  sum_minut  sum_message\n",
       "0     1000      5        159         22.0\n",
       "1     1000      6        172         60.0\n",
       "2     1000      7        340         75.0\n",
       "3     1000      8        408         81.0\n",
       "4     1000      9        466         57.0"
      ]
     },
     "metadata": {},
     "output_type": "display_data"
    },
    {
     "name": "stdout",
     "output_type": "stream",
     "text": [
      "<class 'pandas.core.frame.DataFrame'>\n",
      "Int64Index: 3213 entries, 0 to 3212\n",
      "Data columns (total 4 columns):\n",
      " #   Column       Non-Null Count  Dtype  \n",
      "---  ------       --------------  -----  \n",
      " 0   user_id      3213 non-null   int64  \n",
      " 1   month        3213 non-null   int64  \n",
      " 2   sum_minut    3174 non-null   Int64  \n",
      " 3   sum_message  2717 non-null   float64\n",
      "dtypes: Int64(1), float64(1), int64(2)\n",
      "memory usage: 128.6 KB\n"
     ]
    }
   ],
   "source": [
    "#Обьеденяем таблицы звонков и сообщений\n",
    "data=calls_pivot.merge(messages_pivot, on=['user_id', 'month'], how='outer')\n",
    "display(data.head())\n",
    "data.info()"
   ]
  },
  {
   "cell_type": "code",
   "execution_count": 128,
   "metadata": {},
   "outputs": [
    {
     "data": {
      "text/html": [
       "<div>\n",
       "<style scoped>\n",
       "    .dataframe tbody tr th:only-of-type {\n",
       "        vertical-align: middle;\n",
       "    }\n",
       "\n",
       "    .dataframe tbody tr th {\n",
       "        vertical-align: top;\n",
       "    }\n",
       "\n",
       "    .dataframe thead th {\n",
       "        text-align: right;\n",
       "    }\n",
       "</style>\n",
       "<table border=\"1\" class=\"dataframe\">\n",
       "  <thead>\n",
       "    <tr style=\"text-align: right;\">\n",
       "      <th></th>\n",
       "      <th>user_id</th>\n",
       "      <th>month</th>\n",
       "      <th>sum_minut</th>\n",
       "      <th>sum_message</th>\n",
       "      <th>sum_gb</th>\n",
       "    </tr>\n",
       "  </thead>\n",
       "  <tbody>\n",
       "    <tr>\n",
       "      <th>0</th>\n",
       "      <td>1000</td>\n",
       "      <td>5</td>\n",
       "      <td>159</td>\n",
       "      <td>22.0</td>\n",
       "      <td>1.0</td>\n",
       "    </tr>\n",
       "    <tr>\n",
       "      <th>1</th>\n",
       "      <td>1000</td>\n",
       "      <td>6</td>\n",
       "      <td>172</td>\n",
       "      <td>60.0</td>\n",
       "      <td>1.0</td>\n",
       "    </tr>\n",
       "    <tr>\n",
       "      <th>2</th>\n",
       "      <td>1000</td>\n",
       "      <td>7</td>\n",
       "      <td>340</td>\n",
       "      <td>75.0</td>\n",
       "      <td>1.0</td>\n",
       "    </tr>\n",
       "    <tr>\n",
       "      <th>3</th>\n",
       "      <td>1000</td>\n",
       "      <td>8</td>\n",
       "      <td>408</td>\n",
       "      <td>81.0</td>\n",
       "      <td>1.0</td>\n",
       "    </tr>\n",
       "    <tr>\n",
       "      <th>4</th>\n",
       "      <td>1000</td>\n",
       "      <td>9</td>\n",
       "      <td>466</td>\n",
       "      <td>57.0</td>\n",
       "      <td>1.0</td>\n",
       "    </tr>\n",
       "  </tbody>\n",
       "</table>\n",
       "</div>"
      ],
      "text/plain": [
       "   user_id  month  sum_minut  sum_message  sum_gb\n",
       "0     1000      5        159         22.0     1.0\n",
       "1     1000      6        172         60.0     1.0\n",
       "2     1000      7        340         75.0     1.0\n",
       "3     1000      8        408         81.0     1.0\n",
       "4     1000      9        466         57.0     1.0"
      ]
     },
     "metadata": {},
     "output_type": "display_data"
    },
    {
     "name": "stdout",
     "output_type": "stream",
     "text": [
      "<class 'pandas.core.frame.DataFrame'>\n",
      "Int64Index: 3214 entries, 0 to 3213\n",
      "Data columns (total 5 columns):\n",
      " #   Column       Non-Null Count  Dtype  \n",
      "---  ------       --------------  -----  \n",
      " 0   user_id      3214 non-null   int64  \n",
      " 1   month        3214 non-null   int64  \n",
      " 2   sum_minut    3174 non-null   Int64  \n",
      " 3   sum_message  2717 non-null   float64\n",
      " 4   sum_gb       3203 non-null   float64\n",
      "dtypes: Int64(1), float64(2), int64(2)\n",
      "memory usage: 153.8 KB\n"
     ]
    }
   ],
   "source": [
    "#Объединим полученную таблицу с таблицей интернета\n",
    "data=data.merge(internet_pivot, on=['user_id', 'month'], how='outer')\n",
    "display(data.head())\n",
    "data.info()"
   ]
  },
  {
   "cell_type": "code",
   "execution_count": 129,
   "metadata": {},
   "outputs": [
    {
     "data": {
      "text/html": [
       "<div>\n",
       "<style scoped>\n",
       "    .dataframe tbody tr th:only-of-type {\n",
       "        vertical-align: middle;\n",
       "    }\n",
       "\n",
       "    .dataframe tbody tr th {\n",
       "        vertical-align: top;\n",
       "    }\n",
       "\n",
       "    .dataframe thead th {\n",
       "        text-align: right;\n",
       "    }\n",
       "</style>\n",
       "<table border=\"1\" class=\"dataframe\">\n",
       "  <thead>\n",
       "    <tr style=\"text-align: right;\">\n",
       "      <th></th>\n",
       "      <th>user_id</th>\n",
       "      <th>month</th>\n",
       "      <th>sum_minut</th>\n",
       "      <th>sum_message</th>\n",
       "      <th>sum_gb</th>\n",
       "      <th>age</th>\n",
       "      <th>churn_date</th>\n",
       "      <th>city</th>\n",
       "      <th>first_name</th>\n",
       "      <th>last_name</th>\n",
       "      <th>reg_date</th>\n",
       "      <th>tariff</th>\n",
       "    </tr>\n",
       "  </thead>\n",
       "  <tbody>\n",
       "    <tr>\n",
       "      <th>0</th>\n",
       "      <td>1000</td>\n",
       "      <td>5.0</td>\n",
       "      <td>159</td>\n",
       "      <td>22.0</td>\n",
       "      <td>1.0</td>\n",
       "      <td>52</td>\n",
       "      <td>NaT</td>\n",
       "      <td>Краснодар</td>\n",
       "      <td>Рафаил</td>\n",
       "      <td>Верещагин</td>\n",
       "      <td>2018-05-25</td>\n",
       "      <td>ultra</td>\n",
       "    </tr>\n",
       "    <tr>\n",
       "      <th>1</th>\n",
       "      <td>1000</td>\n",
       "      <td>6.0</td>\n",
       "      <td>172</td>\n",
       "      <td>60.0</td>\n",
       "      <td>1.0</td>\n",
       "      <td>52</td>\n",
       "      <td>NaT</td>\n",
       "      <td>Краснодар</td>\n",
       "      <td>Рафаил</td>\n",
       "      <td>Верещагин</td>\n",
       "      <td>2018-05-25</td>\n",
       "      <td>ultra</td>\n",
       "    </tr>\n",
       "    <tr>\n",
       "      <th>2</th>\n",
       "      <td>1000</td>\n",
       "      <td>7.0</td>\n",
       "      <td>340</td>\n",
       "      <td>75.0</td>\n",
       "      <td>1.0</td>\n",
       "      <td>52</td>\n",
       "      <td>NaT</td>\n",
       "      <td>Краснодар</td>\n",
       "      <td>Рафаил</td>\n",
       "      <td>Верещагин</td>\n",
       "      <td>2018-05-25</td>\n",
       "      <td>ultra</td>\n",
       "    </tr>\n",
       "    <tr>\n",
       "      <th>3</th>\n",
       "      <td>1000</td>\n",
       "      <td>8.0</td>\n",
       "      <td>408</td>\n",
       "      <td>81.0</td>\n",
       "      <td>1.0</td>\n",
       "      <td>52</td>\n",
       "      <td>NaT</td>\n",
       "      <td>Краснодар</td>\n",
       "      <td>Рафаил</td>\n",
       "      <td>Верещагин</td>\n",
       "      <td>2018-05-25</td>\n",
       "      <td>ultra</td>\n",
       "    </tr>\n",
       "    <tr>\n",
       "      <th>4</th>\n",
       "      <td>1000</td>\n",
       "      <td>9.0</td>\n",
       "      <td>466</td>\n",
       "      <td>57.0</td>\n",
       "      <td>1.0</td>\n",
       "      <td>52</td>\n",
       "      <td>NaT</td>\n",
       "      <td>Краснодар</td>\n",
       "      <td>Рафаил</td>\n",
       "      <td>Верещагин</td>\n",
       "      <td>2018-05-25</td>\n",
       "      <td>ultra</td>\n",
       "    </tr>\n",
       "  </tbody>\n",
       "</table>\n",
       "</div>"
      ],
      "text/plain": [
       "   user_id  month  sum_minut  sum_message  sum_gb  age churn_date       city  \\\n",
       "0     1000    5.0        159         22.0     1.0   52        NaT  Краснодар   \n",
       "1     1000    6.0        172         60.0     1.0   52        NaT  Краснодар   \n",
       "2     1000    7.0        340         75.0     1.0   52        NaT  Краснодар   \n",
       "3     1000    8.0        408         81.0     1.0   52        NaT  Краснодар   \n",
       "4     1000    9.0        466         57.0     1.0   52        NaT  Краснодар   \n",
       "\n",
       "  first_name  last_name   reg_date tariff  \n",
       "0     Рафаил  Верещагин 2018-05-25  ultra  \n",
       "1     Рафаил  Верещагин 2018-05-25  ultra  \n",
       "2     Рафаил  Верещагин 2018-05-25  ultra  \n",
       "3     Рафаил  Верещагин 2018-05-25  ultra  \n",
       "4     Рафаил  Верещагин 2018-05-25  ultra  "
      ]
     },
     "metadata": {},
     "output_type": "display_data"
    },
    {
     "name": "stdout",
     "output_type": "stream",
     "text": [
      "<class 'pandas.core.frame.DataFrame'>\n",
      "Int64Index: 3216 entries, 0 to 3215\n",
      "Data columns (total 12 columns):\n",
      " #   Column       Non-Null Count  Dtype         \n",
      "---  ------       --------------  -----         \n",
      " 0   user_id      3216 non-null   int64         \n",
      " 1   month        3214 non-null   float64       \n",
      " 2   sum_minut    3174 non-null   Int64         \n",
      " 3   sum_message  2717 non-null   float64       \n",
      " 4   sum_gb       3203 non-null   float64       \n",
      " 5   age          3216 non-null   int64         \n",
      " 6   churn_date   189 non-null    datetime64[ns]\n",
      " 7   city         3216 non-null   object        \n",
      " 8   first_name   3216 non-null   object        \n",
      " 9   last_name    3216 non-null   object        \n",
      " 10  reg_date     3216 non-null   datetime64[ns]\n",
      " 11  tariff       3216 non-null   object        \n",
      "dtypes: Int64(1), datetime64[ns](2), float64(3), int64(2), object(4)\n",
      "memory usage: 329.8+ KB\n"
     ]
    }
   ],
   "source": [
    "#Объединим полученную таблицу с таблицей абонентов\n",
    "data=data.merge(users, on=['user_id'], how='outer')\n",
    "display(data.head())\n",
    "data.info()"
   ]
  },
  {
   "cell_type": "markdown",
   "metadata": {},
   "source": [
    "<div class=\"alert alert-success\">\n",
    "<b>✔️ Комментарий ревьюера:</b> \n",
    "\n",
    "Все объединения таблиц ты произвел правильно, молодец! Не забывай, что нам не всегда стоит использовать `outer`.\n",
    "</div>"
   ]
  },
  {
   "cell_type": "markdown",
   "metadata": {},
   "source": [
    "В итоговой таблице есть попущенные значения и float - Заменим отсутствующие значения на 0 и переведем количественные столбцы в int"
   ]
  },
  {
   "cell_type": "code",
   "execution_count": 130,
   "metadata": {
    "scrolled": true
   },
   "outputs": [],
   "source": [
    "data = data.fillna(\n",
    "    {\n",
    "        'sum_message':0,\n",
    "        'sum_minut':0,\n",
    "        'sum_gb':0,\n",
    "        'month':0,\n",
    "        }\n",
    ")\n",
    "\n",
    "data = data.astype(\n",
    "    {\n",
    "        'sum_message':'int',\n",
    "        'sum_minut':'int',\n",
    "        'sum_gb':'int',\n",
    "        'month':'int',\n",
    "        }\n",
    ")\n",
    "data=data.query('month > 0')"
   ]
  },
  {
   "cell_type": "code",
   "execution_count": 131,
   "metadata": {},
   "outputs": [
    {
     "data": {
      "text/html": [
       "<div>\n",
       "<style scoped>\n",
       "    .dataframe tbody tr th:only-of-type {\n",
       "        vertical-align: middle;\n",
       "    }\n",
       "\n",
       "    .dataframe tbody tr th {\n",
       "        vertical-align: top;\n",
       "    }\n",
       "\n",
       "    .dataframe thead th {\n",
       "        text-align: right;\n",
       "    }\n",
       "</style>\n",
       "<table border=\"1\" class=\"dataframe\">\n",
       "  <thead>\n",
       "    <tr style=\"text-align: right;\">\n",
       "      <th></th>\n",
       "      <th>user_id</th>\n",
       "      <th>month</th>\n",
       "      <th>sum_minut</th>\n",
       "      <th>sum_message</th>\n",
       "      <th>sum_gb</th>\n",
       "      <th>age</th>\n",
       "      <th>churn_date</th>\n",
       "      <th>city</th>\n",
       "      <th>first_name</th>\n",
       "      <th>last_name</th>\n",
       "      <th>reg_date</th>\n",
       "      <th>tariff</th>\n",
       "    </tr>\n",
       "  </thead>\n",
       "  <tbody>\n",
       "    <tr>\n",
       "      <th>0</th>\n",
       "      <td>1000</td>\n",
       "      <td>5</td>\n",
       "      <td>159</td>\n",
       "      <td>22</td>\n",
       "      <td>1</td>\n",
       "      <td>52</td>\n",
       "      <td>NaT</td>\n",
       "      <td>Краснодар</td>\n",
       "      <td>Рафаил</td>\n",
       "      <td>Верещагин</td>\n",
       "      <td>2018-05-25</td>\n",
       "      <td>ultra</td>\n",
       "    </tr>\n",
       "    <tr>\n",
       "      <th>1</th>\n",
       "      <td>1000</td>\n",
       "      <td>6</td>\n",
       "      <td>172</td>\n",
       "      <td>60</td>\n",
       "      <td>1</td>\n",
       "      <td>52</td>\n",
       "      <td>NaT</td>\n",
       "      <td>Краснодар</td>\n",
       "      <td>Рафаил</td>\n",
       "      <td>Верещагин</td>\n",
       "      <td>2018-05-25</td>\n",
       "      <td>ultra</td>\n",
       "    </tr>\n",
       "    <tr>\n",
       "      <th>2</th>\n",
       "      <td>1000</td>\n",
       "      <td>7</td>\n",
       "      <td>340</td>\n",
       "      <td>75</td>\n",
       "      <td>1</td>\n",
       "      <td>52</td>\n",
       "      <td>NaT</td>\n",
       "      <td>Краснодар</td>\n",
       "      <td>Рафаил</td>\n",
       "      <td>Верещагин</td>\n",
       "      <td>2018-05-25</td>\n",
       "      <td>ultra</td>\n",
       "    </tr>\n",
       "    <tr>\n",
       "      <th>3</th>\n",
       "      <td>1000</td>\n",
       "      <td>8</td>\n",
       "      <td>408</td>\n",
       "      <td>81</td>\n",
       "      <td>1</td>\n",
       "      <td>52</td>\n",
       "      <td>NaT</td>\n",
       "      <td>Краснодар</td>\n",
       "      <td>Рафаил</td>\n",
       "      <td>Верещагин</td>\n",
       "      <td>2018-05-25</td>\n",
       "      <td>ultra</td>\n",
       "    </tr>\n",
       "    <tr>\n",
       "      <th>4</th>\n",
       "      <td>1000</td>\n",
       "      <td>9</td>\n",
       "      <td>466</td>\n",
       "      <td>57</td>\n",
       "      <td>1</td>\n",
       "      <td>52</td>\n",
       "      <td>NaT</td>\n",
       "      <td>Краснодар</td>\n",
       "      <td>Рафаил</td>\n",
       "      <td>Верещагин</td>\n",
       "      <td>2018-05-25</td>\n",
       "      <td>ultra</td>\n",
       "    </tr>\n",
       "  </tbody>\n",
       "</table>\n",
       "</div>"
      ],
      "text/plain": [
       "   user_id  month  sum_minut  sum_message  sum_gb  age churn_date       city  \\\n",
       "0     1000      5        159           22       1   52        NaT  Краснодар   \n",
       "1     1000      6        172           60       1   52        NaT  Краснодар   \n",
       "2     1000      7        340           75       1   52        NaT  Краснодар   \n",
       "3     1000      8        408           81       1   52        NaT  Краснодар   \n",
       "4     1000      9        466           57       1   52        NaT  Краснодар   \n",
       "\n",
       "  first_name  last_name   reg_date tariff  \n",
       "0     Рафаил  Верещагин 2018-05-25  ultra  \n",
       "1     Рафаил  Верещагин 2018-05-25  ultra  \n",
       "2     Рафаил  Верещагин 2018-05-25  ultra  \n",
       "3     Рафаил  Верещагин 2018-05-25  ultra  \n",
       "4     Рафаил  Верещагин 2018-05-25  ultra  "
      ]
     },
     "metadata": {},
     "output_type": "display_data"
    },
    {
     "name": "stdout",
     "output_type": "stream",
     "text": [
      "<class 'pandas.core.frame.DataFrame'>\n",
      "Int64Index: 3214 entries, 0 to 3213\n",
      "Data columns (total 12 columns):\n",
      " #   Column       Non-Null Count  Dtype         \n",
      "---  ------       --------------  -----         \n",
      " 0   user_id      3214 non-null   int64         \n",
      " 1   month        3214 non-null   int64         \n",
      " 2   sum_minut    3214 non-null   int64         \n",
      " 3   sum_message  3214 non-null   int64         \n",
      " 4   sum_gb       3214 non-null   int64         \n",
      " 5   age          3214 non-null   int64         \n",
      " 6   churn_date   187 non-null    datetime64[ns]\n",
      " 7   city         3214 non-null   object        \n",
      " 8   first_name   3214 non-null   object        \n",
      " 9   last_name    3214 non-null   object        \n",
      " 10  reg_date     3214 non-null   datetime64[ns]\n",
      " 11  tariff       3214 non-null   object        \n",
      "dtypes: datetime64[ns](2), int64(6), object(4)\n",
      "memory usage: 326.4+ KB\n"
     ]
    }
   ],
   "source": [
    "display(data.head())\n",
    "data.info()"
   ]
  },
  {
   "cell_type": "markdown",
   "metadata": {},
   "source": [
    "Итоговая таблица преобразована - В ней содержится вся информация по минутам, сообщениям и гигабайтам, по каждому абоненту ежемесячно."
   ]
  },
  {
   "cell_type": "markdown",
   "metadata": {},
   "source": [
    "# Помесячная выручка с каждого пользователя"
   ]
  },
  {
   "cell_type": "code",
   "execution_count": 132,
   "metadata": {},
   "outputs": [
    {
     "data": {
      "text/html": [
       "<div>\n",
       "<style scoped>\n",
       "    .dataframe tbody tr th:only-of-type {\n",
       "        vertical-align: middle;\n",
       "    }\n",
       "\n",
       "    .dataframe tbody tr th {\n",
       "        vertical-align: top;\n",
       "    }\n",
       "\n",
       "    .dataframe thead th {\n",
       "        text-align: right;\n",
       "    }\n",
       "</style>\n",
       "<table border=\"1\" class=\"dataframe\">\n",
       "  <thead>\n",
       "    <tr style=\"text-align: right;\">\n",
       "      <th></th>\n",
       "      <th>tariff_name</th>\n",
       "      <th>messages_included</th>\n",
       "      <th>gb_included</th>\n",
       "      <th>minutes_included</th>\n",
       "      <th>price_month</th>\n",
       "      <th>rub_per_gb</th>\n",
       "      <th>rub_per_message</th>\n",
       "      <th>rub_per_minute</th>\n",
       "    </tr>\n",
       "  </thead>\n",
       "  <tbody>\n",
       "    <tr>\n",
       "      <th>0</th>\n",
       "      <td>smart</td>\n",
       "      <td>50</td>\n",
       "      <td>15</td>\n",
       "      <td>500</td>\n",
       "      <td>550</td>\n",
       "      <td>200</td>\n",
       "      <td>3</td>\n",
       "      <td>3</td>\n",
       "    </tr>\n",
       "    <tr>\n",
       "      <th>1</th>\n",
       "      <td>ultra</td>\n",
       "      <td>1000</td>\n",
       "      <td>30</td>\n",
       "      <td>3000</td>\n",
       "      <td>1950</td>\n",
       "      <td>150</td>\n",
       "      <td>1</td>\n",
       "      <td>1</td>\n",
       "    </tr>\n",
       "  </tbody>\n",
       "</table>\n",
       "</div>"
      ],
      "text/plain": [
       "  tariff_name  messages_included  gb_included  minutes_included  price_month  \\\n",
       "0       smart                 50           15               500          550   \n",
       "1       ultra               1000           30              3000         1950   \n",
       "\n",
       "   rub_per_gb  rub_per_message  rub_per_minute  \n",
       "0         200                3               3  \n",
       "1         150                1               1  "
      ]
     },
     "execution_count": 132,
     "metadata": {},
     "output_type": "execute_result"
    }
   ],
   "source": [
    "tariffs.head()"
   ]
  },
  {
   "cell_type": "code",
   "execution_count": 133,
   "metadata": {},
   "outputs": [],
   "source": [
    "def price(df):\n",
    "    sum_minut = df['sum_minut']\n",
    "    sum_message = df['sum_message']\n",
    "    sum_gb = df['sum_gb']\n",
    "    tariff = df['tariff']\n",
    "    if tariff == 'smart':\n",
    "        if sum_minut > 500:\n",
    "            price_min=(sum_minut-500)*3 #стоимость минут потраченных сверх тарифа\n",
    "        else:\n",
    "            price_min = 0\n",
    "        if sum_message > 50:\n",
    "            price_message=(sum_message-50)*3 #стоимость сообщений потраченных сверх тарифа\n",
    "        else:\n",
    "            price_message = 0\n",
    "        if sum_gb > 15:\n",
    "            price_gb=(sum_gb-15)*200 #стоимость гб потраченных сверх тарифа\n",
    "        else:\n",
    "            price_gb = 0\n",
    "        return price_min + price_message + price_gb + 550 #цена за месяц: тариф + потраченное сверху\n",
    "    elif tariff == 'ultra':\n",
    "        if sum_minut > 3000:\n",
    "            price_min=sum_minut-3000 #стоимость минут потраченных сверх тарифа\n",
    "        else:\n",
    "            price_min = 0\n",
    "        if sum_message > 1000:\n",
    "            price_message=sum_message-1000 #стоимость сообщений потраченных сверх тарифа\n",
    "        else:\n",
    "            price_message = 0\n",
    "        if sum_gb > 30:\n",
    "            price_gb=(sum_gb-30)*150 #стоимость гб потраченных сверх тарифа\n",
    "        else:\n",
    "            price_gb = 0\n",
    "        return price_min + price_message + price_gb + 1950 #цена за месяц: тариф + потраченное сверху\n",
    "            \n",
    "  \n",
    "   \n",
    "data['price_month'] =  data.apply(price, axis=1) #новый столбец, функцию ко всей строке"
   ]
  },
  {
   "cell_type": "code",
   "execution_count": 134,
   "metadata": {},
   "outputs": [
    {
     "data": {
      "text/html": [
       "<div>\n",
       "<style scoped>\n",
       "    .dataframe tbody tr th:only-of-type {\n",
       "        vertical-align: middle;\n",
       "    }\n",
       "\n",
       "    .dataframe tbody tr th {\n",
       "        vertical-align: top;\n",
       "    }\n",
       "\n",
       "    .dataframe thead th {\n",
       "        text-align: right;\n",
       "    }\n",
       "</style>\n",
       "<table border=\"1\" class=\"dataframe\">\n",
       "  <thead>\n",
       "    <tr style=\"text-align: right;\">\n",
       "      <th></th>\n",
       "      <th>user_id</th>\n",
       "      <th>month</th>\n",
       "      <th>sum_minut</th>\n",
       "      <th>sum_message</th>\n",
       "      <th>sum_gb</th>\n",
       "      <th>age</th>\n",
       "      <th>churn_date</th>\n",
       "      <th>city</th>\n",
       "      <th>first_name</th>\n",
       "      <th>last_name</th>\n",
       "      <th>reg_date</th>\n",
       "      <th>tariff</th>\n",
       "      <th>price_month</th>\n",
       "    </tr>\n",
       "  </thead>\n",
       "  <tbody>\n",
       "    <tr>\n",
       "      <th>0</th>\n",
       "      <td>1000</td>\n",
       "      <td>5</td>\n",
       "      <td>159</td>\n",
       "      <td>22</td>\n",
       "      <td>1</td>\n",
       "      <td>52</td>\n",
       "      <td>NaT</td>\n",
       "      <td>Краснодар</td>\n",
       "      <td>Рафаил</td>\n",
       "      <td>Верещагин</td>\n",
       "      <td>2018-05-25</td>\n",
       "      <td>ultra</td>\n",
       "      <td>1950</td>\n",
       "    </tr>\n",
       "    <tr>\n",
       "      <th>1</th>\n",
       "      <td>1000</td>\n",
       "      <td>6</td>\n",
       "      <td>172</td>\n",
       "      <td>60</td>\n",
       "      <td>1</td>\n",
       "      <td>52</td>\n",
       "      <td>NaT</td>\n",
       "      <td>Краснодар</td>\n",
       "      <td>Рафаил</td>\n",
       "      <td>Верещагин</td>\n",
       "      <td>2018-05-25</td>\n",
       "      <td>ultra</td>\n",
       "      <td>1950</td>\n",
       "    </tr>\n",
       "    <tr>\n",
       "      <th>2</th>\n",
       "      <td>1000</td>\n",
       "      <td>7</td>\n",
       "      <td>340</td>\n",
       "      <td>75</td>\n",
       "      <td>1</td>\n",
       "      <td>52</td>\n",
       "      <td>NaT</td>\n",
       "      <td>Краснодар</td>\n",
       "      <td>Рафаил</td>\n",
       "      <td>Верещагин</td>\n",
       "      <td>2018-05-25</td>\n",
       "      <td>ultra</td>\n",
       "      <td>1950</td>\n",
       "    </tr>\n",
       "    <tr>\n",
       "      <th>3</th>\n",
       "      <td>1000</td>\n",
       "      <td>8</td>\n",
       "      <td>408</td>\n",
       "      <td>81</td>\n",
       "      <td>1</td>\n",
       "      <td>52</td>\n",
       "      <td>NaT</td>\n",
       "      <td>Краснодар</td>\n",
       "      <td>Рафаил</td>\n",
       "      <td>Верещагин</td>\n",
       "      <td>2018-05-25</td>\n",
       "      <td>ultra</td>\n",
       "      <td>1950</td>\n",
       "    </tr>\n",
       "    <tr>\n",
       "      <th>4</th>\n",
       "      <td>1000</td>\n",
       "      <td>9</td>\n",
       "      <td>466</td>\n",
       "      <td>57</td>\n",
       "      <td>1</td>\n",
       "      <td>52</td>\n",
       "      <td>NaT</td>\n",
       "      <td>Краснодар</td>\n",
       "      <td>Рафаил</td>\n",
       "      <td>Верещагин</td>\n",
       "      <td>2018-05-25</td>\n",
       "      <td>ultra</td>\n",
       "      <td>1950</td>\n",
       "    </tr>\n",
       "  </tbody>\n",
       "</table>\n",
       "</div>"
      ],
      "text/plain": [
       "   user_id  month  sum_minut  sum_message  sum_gb  age churn_date       city  \\\n",
       "0     1000      5        159           22       1   52        NaT  Краснодар   \n",
       "1     1000      6        172           60       1   52        NaT  Краснодар   \n",
       "2     1000      7        340           75       1   52        NaT  Краснодар   \n",
       "3     1000      8        408           81       1   52        NaT  Краснодар   \n",
       "4     1000      9        466           57       1   52        NaT  Краснодар   \n",
       "\n",
       "  first_name  last_name   reg_date tariff  price_month  \n",
       "0     Рафаил  Верещагин 2018-05-25  ultra         1950  \n",
       "1     Рафаил  Верещагин 2018-05-25  ultra         1950  \n",
       "2     Рафаил  Верещагин 2018-05-25  ultra         1950  \n",
       "3     Рафаил  Верещагин 2018-05-25  ultra         1950  \n",
       "4     Рафаил  Верещагин 2018-05-25  ultra         1950  "
      ]
     },
     "metadata": {},
     "output_type": "display_data"
    },
    {
     "name": "stdout",
     "output_type": "stream",
     "text": [
      "<class 'pandas.core.frame.DataFrame'>\n",
      "Int64Index: 3214 entries, 0 to 3213\n",
      "Data columns (total 13 columns):\n",
      " #   Column       Non-Null Count  Dtype         \n",
      "---  ------       --------------  -----         \n",
      " 0   user_id      3214 non-null   int64         \n",
      " 1   month        3214 non-null   int64         \n",
      " 2   sum_minut    3214 non-null   int64         \n",
      " 3   sum_message  3214 non-null   int64         \n",
      " 4   sum_gb       3214 non-null   int64         \n",
      " 5   age          3214 non-null   int64         \n",
      " 6   churn_date   187 non-null    datetime64[ns]\n",
      " 7   city         3214 non-null   object        \n",
      " 8   first_name   3214 non-null   object        \n",
      " 9   last_name    3214 non-null   object        \n",
      " 10  reg_date     3214 non-null   datetime64[ns]\n",
      " 11  tariff       3214 non-null   object        \n",
      " 12  price_month  3214 non-null   int64         \n",
      "dtypes: datetime64[ns](2), int64(7), object(4)\n",
      "memory usage: 351.5+ KB\n"
     ]
    }
   ],
   "source": [
    "#проверим результат\n",
    "display(data.head()) \n",
    "data.info()"
   ]
  },
  {
   "cell_type": "markdown",
   "metadata": {},
   "source": [
    "**Вывод**: Вот такая таблица готова к анализу"
   ]
  },
  {
   "cell_type": "markdown",
   "metadata": {},
   "source": [
    "# Анализ результатов"
   ]
  },
  {
   "cell_type": "code",
   "execution_count": 135,
   "metadata": {},
   "outputs": [
    {
     "data": {
      "text/html": [
       "<div>\n",
       "<style scoped>\n",
       "    .dataframe tbody tr th:only-of-type {\n",
       "        vertical-align: middle;\n",
       "    }\n",
       "\n",
       "    .dataframe tbody tr th {\n",
       "        vertical-align: top;\n",
       "    }\n",
       "\n",
       "    .dataframe thead th {\n",
       "        text-align: right;\n",
       "    }\n",
       "</style>\n",
       "<table border=\"1\" class=\"dataframe\">\n",
       "  <thead>\n",
       "    <tr style=\"text-align: right;\">\n",
       "      <th></th>\n",
       "      <th>tariff_name</th>\n",
       "      <th>messages_included</th>\n",
       "      <th>gb_included</th>\n",
       "      <th>minutes_included</th>\n",
       "      <th>price_month</th>\n",
       "      <th>rub_per_gb</th>\n",
       "      <th>rub_per_message</th>\n",
       "      <th>rub_per_minute</th>\n",
       "    </tr>\n",
       "  </thead>\n",
       "  <tbody>\n",
       "    <tr>\n",
       "      <th>0</th>\n",
       "      <td>smart</td>\n",
       "      <td>50</td>\n",
       "      <td>15</td>\n",
       "      <td>500</td>\n",
       "      <td>550</td>\n",
       "      <td>200</td>\n",
       "      <td>3</td>\n",
       "      <td>3</td>\n",
       "    </tr>\n",
       "    <tr>\n",
       "      <th>1</th>\n",
       "      <td>ultra</td>\n",
       "      <td>1000</td>\n",
       "      <td>30</td>\n",
       "      <td>3000</td>\n",
       "      <td>1950</td>\n",
       "      <td>150</td>\n",
       "      <td>1</td>\n",
       "      <td>1</td>\n",
       "    </tr>\n",
       "  </tbody>\n",
       "</table>\n",
       "</div>"
      ],
      "text/plain": [
       "  tariff_name  messages_included  gb_included  minutes_included  price_month  \\\n",
       "0       smart                 50           15               500          550   \n",
       "1       ultra               1000           30              3000         1950   \n",
       "\n",
       "   rub_per_gb  rub_per_message  rub_per_minute  \n",
       "0         200                3               3  \n",
       "1         150                1               1  "
      ]
     },
     "execution_count": 135,
     "metadata": {},
     "output_type": "execute_result"
    }
   ],
   "source": [
    "tariffs.head()"
   ]
  },
  {
   "cell_type": "markdown",
   "metadata": {},
   "source": [
    "# Анализ тарифа ULTRA"
   ]
  },
  {
   "cell_type": "code",
   "execution_count": 136,
   "metadata": {},
   "outputs": [
    {
     "data": {
      "text/html": [
       "<div>\n",
       "<style scoped>\n",
       "    .dataframe tbody tr th:only-of-type {\n",
       "        vertical-align: middle;\n",
       "    }\n",
       "\n",
       "    .dataframe tbody tr th {\n",
       "        vertical-align: top;\n",
       "    }\n",
       "\n",
       "    .dataframe thead th {\n",
       "        text-align: right;\n",
       "    }\n",
       "</style>\n",
       "<table border=\"1\" class=\"dataframe\">\n",
       "  <thead>\n",
       "    <tr style=\"text-align: right;\">\n",
       "      <th></th>\n",
       "      <th>user_id</th>\n",
       "      <th>month</th>\n",
       "      <th>sum_minut</th>\n",
       "      <th>sum_message</th>\n",
       "      <th>sum_gb</th>\n",
       "      <th>age</th>\n",
       "      <th>price_month</th>\n",
       "    </tr>\n",
       "  </thead>\n",
       "  <tbody>\n",
       "    <tr>\n",
       "      <th>count</th>\n",
       "      <td>985.000000</td>\n",
       "      <td>985.000000</td>\n",
       "      <td>985.000000</td>\n",
       "      <td>985.000000</td>\n",
       "      <td>985.000000</td>\n",
       "      <td>985.000000</td>\n",
       "      <td>985.0</td>\n",
       "    </tr>\n",
       "    <tr>\n",
       "      <th>mean</th>\n",
       "      <td>1263.094416</td>\n",
       "      <td>8.250761</td>\n",
       "      <td>526.623350</td>\n",
       "      <td>49.363452</td>\n",
       "      <td>0.988832</td>\n",
       "      <td>46.834518</td>\n",
       "      <td>1950.0</td>\n",
       "    </tr>\n",
       "    <tr>\n",
       "      <th>std</th>\n",
       "      <td>140.694908</td>\n",
       "      <td>2.871762</td>\n",
       "      <td>317.606098</td>\n",
       "      <td>47.804457</td>\n",
       "      <td>0.105138</td>\n",
       "      <td>17.107979</td>\n",
       "      <td>0.0</td>\n",
       "    </tr>\n",
       "    <tr>\n",
       "      <th>min</th>\n",
       "      <td>1000.000000</td>\n",
       "      <td>1.000000</td>\n",
       "      <td>0.000000</td>\n",
       "      <td>0.000000</td>\n",
       "      <td>0.000000</td>\n",
       "      <td>18.000000</td>\n",
       "      <td>1950.0</td>\n",
       "    </tr>\n",
       "    <tr>\n",
       "      <th>25%</th>\n",
       "      <td>1143.000000</td>\n",
       "      <td>6.000000</td>\n",
       "      <td>284.000000</td>\n",
       "      <td>6.000000</td>\n",
       "      <td>1.000000</td>\n",
       "      <td>30.000000</td>\n",
       "      <td>1950.0</td>\n",
       "    </tr>\n",
       "    <tr>\n",
       "      <th>50%</th>\n",
       "      <td>1277.000000</td>\n",
       "      <td>9.000000</td>\n",
       "      <td>518.000000</td>\n",
       "      <td>38.000000</td>\n",
       "      <td>1.000000</td>\n",
       "      <td>45.000000</td>\n",
       "      <td>1950.0</td>\n",
       "    </tr>\n",
       "    <tr>\n",
       "      <th>75%</th>\n",
       "      <td>1381.000000</td>\n",
       "      <td>11.000000</td>\n",
       "      <td>752.000000</td>\n",
       "      <td>79.000000</td>\n",
       "      <td>1.000000</td>\n",
       "      <td>63.000000</td>\n",
       "      <td>1950.0</td>\n",
       "    </tr>\n",
       "    <tr>\n",
       "      <th>max</th>\n",
       "      <td>1495.000000</td>\n",
       "      <td>12.000000</td>\n",
       "      <td>1673.000000</td>\n",
       "      <td>224.000000</td>\n",
       "      <td>1.000000</td>\n",
       "      <td>75.000000</td>\n",
       "      <td>1950.0</td>\n",
       "    </tr>\n",
       "  </tbody>\n",
       "</table>\n",
       "</div>"
      ],
      "text/plain": [
       "           user_id       month    sum_minut  sum_message      sum_gb  \\\n",
       "count   985.000000  985.000000   985.000000   985.000000  985.000000   \n",
       "mean   1263.094416    8.250761   526.623350    49.363452    0.988832   \n",
       "std     140.694908    2.871762   317.606098    47.804457    0.105138   \n",
       "min    1000.000000    1.000000     0.000000     0.000000    0.000000   \n",
       "25%    1143.000000    6.000000   284.000000     6.000000    1.000000   \n",
       "50%    1277.000000    9.000000   518.000000    38.000000    1.000000   \n",
       "75%    1381.000000   11.000000   752.000000    79.000000    1.000000   \n",
       "max    1495.000000   12.000000  1673.000000   224.000000    1.000000   \n",
       "\n",
       "              age  price_month  \n",
       "count  985.000000        985.0  \n",
       "mean    46.834518       1950.0  \n",
       "std     17.107979          0.0  \n",
       "min     18.000000       1950.0  \n",
       "25%     30.000000       1950.0  \n",
       "50%     45.000000       1950.0  \n",
       "75%     63.000000       1950.0  \n",
       "max     75.000000       1950.0  "
      ]
     },
     "execution_count": 136,
     "metadata": {},
     "output_type": "execute_result"
    }
   ],
   "source": [
    "ultra=data.query('tariff == \"ultra\"')\n",
    "ultra.describe()"
   ]
  },
  {
   "cell_type": "code",
   "execution_count": 137,
   "metadata": {},
   "outputs": [
    {
     "data": {
      "text/plain": [
       "0"
      ]
     },
     "execution_count": 137,
     "metadata": {},
     "output_type": "execute_result"
    }
   ],
   "source": [
    "user_ultra_30 = ultra.query('sum_gb>30')['sum_gb'].count()\n",
    "user_ultra_30 "
   ]
  },
  {
   "cell_type": "code",
   "execution_count": 138,
   "metadata": {},
   "outputs": [
    {
     "data": {
      "text/plain": [
       "0.0"
      ]
     },
     "execution_count": 138,
     "metadata": {},
     "output_type": "execute_result"
    }
   ],
   "source": [
    "user_ultra_30 / 985"
   ]
  },
  {
   "cell_type": "markdown",
   "metadata": {},
   "source": [
    "Вывод пользователи тарифа Ультра потребляют больше услуг и платят больше. Пользователи тарифа смарт не хватает выделенногообьема услуг, им приходиться докупать."
   ]
  },
  {
   "cell_type": "markdown",
   "metadata": {},
   "source": [
    "<div class=\"alert alert-success\">\n",
    "<b>✔️ Комментарий ревьюера v3:</b> \n",
    "\n",
    "Хорошо, принимается.\n",
    "</div>"
   ]
  },
  {
   "cell_type": "code",
   "execution_count": 139,
   "metadata": {},
   "outputs": [
    {
     "data": {
      "text/html": [
       "<div>\n",
       "<style scoped>\n",
       "    .dataframe tbody tr th:only-of-type {\n",
       "        vertical-align: middle;\n",
       "    }\n",
       "\n",
       "    .dataframe tbody tr th {\n",
       "        vertical-align: top;\n",
       "    }\n",
       "\n",
       "    .dataframe thead th {\n",
       "        text-align: right;\n",
       "    }\n",
       "</style>\n",
       "<table border=\"1\" class=\"dataframe\">\n",
       "  <thead>\n",
       "    <tr style=\"text-align: right;\">\n",
       "      <th></th>\n",
       "      <th>user_id</th>\n",
       "      <th>month</th>\n",
       "      <th>sum_minut</th>\n",
       "      <th>sum_message</th>\n",
       "      <th>sum_gb</th>\n",
       "      <th>age</th>\n",
       "      <th>churn_date</th>\n",
       "      <th>city</th>\n",
       "      <th>first_name</th>\n",
       "      <th>last_name</th>\n",
       "      <th>reg_date</th>\n",
       "      <th>tariff</th>\n",
       "      <th>price_month</th>\n",
       "    </tr>\n",
       "  </thead>\n",
       "  <tbody>\n",
       "    <tr>\n",
       "      <th>0</th>\n",
       "      <td>1000</td>\n",
       "      <td>5</td>\n",
       "      <td>159</td>\n",
       "      <td>22</td>\n",
       "      <td>1</td>\n",
       "      <td>52</td>\n",
       "      <td>NaT</td>\n",
       "      <td>Краснодар</td>\n",
       "      <td>Рафаил</td>\n",
       "      <td>Верещагин</td>\n",
       "      <td>2018-05-25</td>\n",
       "      <td>ultra</td>\n",
       "      <td>1950</td>\n",
       "    </tr>\n",
       "    <tr>\n",
       "      <th>1</th>\n",
       "      <td>1000</td>\n",
       "      <td>6</td>\n",
       "      <td>172</td>\n",
       "      <td>60</td>\n",
       "      <td>1</td>\n",
       "      <td>52</td>\n",
       "      <td>NaT</td>\n",
       "      <td>Краснодар</td>\n",
       "      <td>Рафаил</td>\n",
       "      <td>Верещагин</td>\n",
       "      <td>2018-05-25</td>\n",
       "      <td>ultra</td>\n",
       "      <td>1950</td>\n",
       "    </tr>\n",
       "    <tr>\n",
       "      <th>2</th>\n",
       "      <td>1000</td>\n",
       "      <td>7</td>\n",
       "      <td>340</td>\n",
       "      <td>75</td>\n",
       "      <td>1</td>\n",
       "      <td>52</td>\n",
       "      <td>NaT</td>\n",
       "      <td>Краснодар</td>\n",
       "      <td>Рафаил</td>\n",
       "      <td>Верещагин</td>\n",
       "      <td>2018-05-25</td>\n",
       "      <td>ultra</td>\n",
       "      <td>1950</td>\n",
       "    </tr>\n",
       "    <tr>\n",
       "      <th>3</th>\n",
       "      <td>1000</td>\n",
       "      <td>8</td>\n",
       "      <td>408</td>\n",
       "      <td>81</td>\n",
       "      <td>1</td>\n",
       "      <td>52</td>\n",
       "      <td>NaT</td>\n",
       "      <td>Краснодар</td>\n",
       "      <td>Рафаил</td>\n",
       "      <td>Верещагин</td>\n",
       "      <td>2018-05-25</td>\n",
       "      <td>ultra</td>\n",
       "      <td>1950</td>\n",
       "    </tr>\n",
       "    <tr>\n",
       "      <th>4</th>\n",
       "      <td>1000</td>\n",
       "      <td>9</td>\n",
       "      <td>466</td>\n",
       "      <td>57</td>\n",
       "      <td>1</td>\n",
       "      <td>52</td>\n",
       "      <td>NaT</td>\n",
       "      <td>Краснодар</td>\n",
       "      <td>Рафаил</td>\n",
       "      <td>Верещагин</td>\n",
       "      <td>2018-05-25</td>\n",
       "      <td>ultra</td>\n",
       "      <td>1950</td>\n",
       "    </tr>\n",
       "  </tbody>\n",
       "</table>\n",
       "</div>"
      ],
      "text/plain": [
       "   user_id  month  sum_minut  sum_message  sum_gb  age churn_date       city  \\\n",
       "0     1000      5        159           22       1   52        NaT  Краснодар   \n",
       "1     1000      6        172           60       1   52        NaT  Краснодар   \n",
       "2     1000      7        340           75       1   52        NaT  Краснодар   \n",
       "3     1000      8        408           81       1   52        NaT  Краснодар   \n",
       "4     1000      9        466           57       1   52        NaT  Краснодар   \n",
       "\n",
       "  first_name  last_name   reg_date tariff  price_month  \n",
       "0     Рафаил  Верещагин 2018-05-25  ultra         1950  \n",
       "1     Рафаил  Верещагин 2018-05-25  ultra         1950  \n",
       "2     Рафаил  Верещагин 2018-05-25  ultra         1950  \n",
       "3     Рафаил  Верещагин 2018-05-25  ultra         1950  \n",
       "4     Рафаил  Верещагин 2018-05-25  ultra         1950  "
      ]
     },
     "execution_count": 139,
     "metadata": {},
     "output_type": "execute_result"
    }
   ],
   "source": [
    "ultra.head()"
   ]
  },
  {
   "cell_type": "markdown",
   "metadata": {},
   "source": [
    "# Анализ ULTRA - минуты"
   ]
  },
  {
   "cell_type": "code",
   "execution_count": 140,
   "metadata": {},
   "outputs": [
    {
     "name": "stdout",
     "output_type": "stream",
     "text": [
      "Дисперсия -  100873.63339730098\n",
      "Отклонение -  317.6060978591264\n",
      "Среднее -  526.6233502538071\n"
     ]
    }
   ],
   "source": [
    "import numpy as np\n",
    "variance = np.var(ultra['sum_minut'], ddof=1)\n",
    "print('Дисперсия - ', variance)\n",
    "print('Отклонение - ', np.sqrt(variance))\n",
    "print('Среднее - ', ultra['sum_minut'].mean())"
   ]
  },
  {
   "cell_type": "markdown",
   "metadata": {},
   "source": [
    "<div class=\"alert alert-success\">\n",
    "<b>✔️ Комментарий ревьюера:</b> \n",
    "\n",
    "Отлично, очень лаконично и понятно)\n",
    "</div>"
   ]
  },
  {
   "cell_type": "code",
   "execution_count": 141,
   "metadata": {},
   "outputs": [
    {
     "data": {
      "text/plain": [
       "Text(0.5, 1.0, 'Анализ минут УЛЬТРА')"
      ]
     },
     "execution_count": 141,
     "metadata": {},
     "output_type": "execute_result"
    },
    {
     "data": {
      "image/png": "[encoded data removed]",
      "text/plain": [
       "<Figure size 432x288 with 1 Axes>"
      ]
     },
     "metadata": {
      "needs_background": "light"
     },
     "output_type": "display_data"
    }
   ],
   "source": [
    "ultra['sum_minut'].hist(bins = 50, color = 'orange')\n",
    "plt.ylabel(\"Кол-во сообщений в месяц\")\n",
    "plt.xlabel(\"Частота\")\n",
    "plt.title(\"Анализ минут УЛЬТРА\")"
   ]
  },
  {
   "cell_type": "markdown",
   "metadata": {},
   "source": [
    "Распределение скошено влево, распределение мультимодальное - Половина абонентов используют до 500 минут в месяц из возможных 3000 минут и 25% абонентов пользуются только 9% минут от лимита. - Часть пользователей минимально пользуются минутами, другие приложения с помощью интернета заменяют связь."
   ]
  },
  {
   "cell_type": "markdown",
   "metadata": {},
   "source": [
    "# Анализ ULTRA - сообщения"
   ]
  },
  {
   "cell_type": "code",
   "execution_count": 142,
   "metadata": {},
   "outputs": [
    {
     "data": {
      "text/plain": [
       "Text(0.5, 1.0, 'Анализ сообщений УЛЬТРА')"
      ]
     },
     "execution_count": 142,
     "metadata": {},
     "output_type": "execute_result"
    },
    {
     "data": {
      "image/png": "[encoded data removed]",
      "text/plain": [
       "<Figure size 432x288 with 1 Axes>"
      ]
     },
     "metadata": {
      "needs_background": "light"
     },
     "output_type": "display_data"
    }
   ],
   "source": [
    "ultra['sum_message'].hist(bins = 50, color = 'blue')\n",
    "plt.ylabel(\"Кол-во сообщений в месяц\")\n",
    "plt.xlabel(\"Частота\")\n",
    "plt.title(\"Анализ сообщений УЛЬТРА\")"
   ]
  },
  {
   "cell_type": "code",
   "execution_count": 143,
   "metadata": {},
   "outputs": [
    {
     "name": "stdout",
     "output_type": "stream",
     "text": [
      "Дисперсия -  2285.2661425446736\n",
      "Отклонение -  47.804457350174715\n",
      "Среднее -  49.36345177664975\n"
     ]
    }
   ],
   "source": [
    "variance = np.var(ultra['sum_message'], ddof=1)\n",
    "print('Дисперсия - ', variance)\n",
    "print('Отклонение - ', np.sqrt(variance))\n",
    "print('Среднее - ', ultra['sum_message'].mean())"
   ]
  },
  {
   "cell_type": "markdown",
   "metadata": {},
   "source": [
    "По тарифу УЛЬТРА лимит сообщений в месяц - 1000      - Распределение скошено влево, 50% абонентов используют в месяц до 38 сообщений, что около 4% от лимита. - 25% абонентов отправляют до 6 сообщений в месяц, что меньше 1% от лимита, на графике это выглядит как выброс. - обычные сообщения часто заменяются телеграмом, ватсапом и др, т.е. посредством интернета. - сообщения меньше всего интересуют клиентов.     "
   ]
  },
  {
   "cell_type": "markdown",
   "metadata": {},
   "source": [
    "<div class=\"alert alert-success\">\n",
    "<b>✔️ Комментарий ревьюера:</b> \n",
    "\n",
    "Отличный вывод!\n",
    "</div>"
   ]
  },
  {
   "cell_type": "markdown",
   "metadata": {},
   "source": [
    "# Анализ ULTRA - интернет"
   ]
  },
  {
   "cell_type": "code",
   "execution_count": 144,
   "metadata": {},
   "outputs": [
    {
     "name": "stdout",
     "output_type": "stream",
     "text": [
      "Дисперсия -  0.011054021707729768\n",
      "Отклонение -  0.1051381077808126\n",
      "Среднее -  0.9888324873096447\n"
     ]
    }
   ],
   "source": [
    "variance = np.var(ultra['sum_gb'], ddof=1)\n",
    "print('Дисперсия - ', variance)\n",
    "print('Отклонение - ', np.sqrt(variance))\n",
    "print('Среднее - ', ultra['sum_gb'].mean())"
   ]
  },
  {
   "cell_type": "code",
   "execution_count": 145,
   "metadata": {},
   "outputs": [
    {
     "data": {
      "text/plain": [
       "Text(0.5, 1.0, 'Кол-во ГБ в месяц')"
      ]
     },
     "execution_count": 145,
     "metadata": {},
     "output_type": "execute_result"
    },
    {
     "data": {
      "image/png": "[encoded data removed]",
      "text/plain": [
       "<Figure size 432x288 with 1 Axes>"
      ]
     },
     "metadata": {
      "needs_background": "light"
     },
     "output_type": "display_data"
    }
   ],
   "source": [
    "ultra['sum_gb'].hist(bins = 50,color = 'green')\n",
    "plt.ylabel(\"Кол-во ГБ в месяц\") \n",
    "plt.xlabel(\"Частота\")\n",
    "plt.title(\"Кол-во ГБ в месяц\")"
   ]
  },
  {
   "cell_type": "markdown",
   "metadata": {},
   "source": [
    "По тарифу УЛЬТРА лимит интернета - 30 гб - Распределение нормальное, т.к. интернетом пользуются полноценно, звонки и сообщения часто через приложения и соответственно при помощи интернета. - Лимит интернета является почти средним в этом распределении.     - 30 гб чуть ниже среднего, больше половины абонентов превышают лимит, очень выгодная ситуация для сотового оператора.     "
   ]
  },
  {
   "cell_type": "code",
   "execution_count": 146,
   "metadata": {},
   "outputs": [
    {
     "data": {
      "text/plain": [
       "0.0"
      ]
     },
     "execution_count": 146,
     "metadata": {},
     "output_type": "execute_result"
    }
   ],
   "source": [
    "gb_ultra=(1-1950*(ultra['month'].count()) /ultra['price_month'].sum())*100\n",
    "gb_ultra"
   ]
  },
  {
   "cell_type": "markdown",
   "metadata": {},
   "source": [
    "49% от выручки по тарифу УЛЬТРА составляет дополнительный интернет      - минуты входят в стоимость, никто из абонентов не тратит доп.минуты, - сообщения входят в стоимость, никто из абонентов не тратит доп.сообщения, - половину выручки по тарифу составляет дополнительный интернет.     "
   ]
  },
  {
   "cell_type": "markdown",
   "metadata": {},
   "source": [
    "# Анализ тарифа SMART"
   ]
  },
  {
   "cell_type": "code",
   "execution_count": 147,
   "metadata": {},
   "outputs": [
    {
     "data": {
      "text/html": [
       "<div>\n",
       "<style scoped>\n",
       "    .dataframe tbody tr th:only-of-type {\n",
       "        vertical-align: middle;\n",
       "    }\n",
       "\n",
       "    .dataframe tbody tr th {\n",
       "        vertical-align: top;\n",
       "    }\n",
       "\n",
       "    .dataframe thead th {\n",
       "        text-align: right;\n",
       "    }\n",
       "</style>\n",
       "<table border=\"1\" class=\"dataframe\">\n",
       "  <thead>\n",
       "    <tr style=\"text-align: right;\">\n",
       "      <th></th>\n",
       "      <th>tariff_name</th>\n",
       "      <th>messages_included</th>\n",
       "      <th>gb_included</th>\n",
       "      <th>minutes_included</th>\n",
       "      <th>price_month</th>\n",
       "      <th>rub_per_gb</th>\n",
       "      <th>rub_per_message</th>\n",
       "      <th>rub_per_minute</th>\n",
       "    </tr>\n",
       "  </thead>\n",
       "  <tbody>\n",
       "    <tr>\n",
       "      <th>0</th>\n",
       "      <td>smart</td>\n",
       "      <td>50</td>\n",
       "      <td>15</td>\n",
       "      <td>500</td>\n",
       "      <td>550</td>\n",
       "      <td>200</td>\n",
       "      <td>3</td>\n",
       "      <td>3</td>\n",
       "    </tr>\n",
       "    <tr>\n",
       "      <th>1</th>\n",
       "      <td>ultra</td>\n",
       "      <td>1000</td>\n",
       "      <td>30</td>\n",
       "      <td>3000</td>\n",
       "      <td>1950</td>\n",
       "      <td>150</td>\n",
       "      <td>1</td>\n",
       "      <td>1</td>\n",
       "    </tr>\n",
       "  </tbody>\n",
       "</table>\n",
       "</div>"
      ],
      "text/plain": [
       "  tariff_name  messages_included  gb_included  minutes_included  price_month  \\\n",
       "0       smart                 50           15               500          550   \n",
       "1       ultra               1000           30              3000         1950   \n",
       "\n",
       "   rub_per_gb  rub_per_message  rub_per_minute  \n",
       "0         200                3               3  \n",
       "1         150                1               1  "
      ]
     },
     "execution_count": 147,
     "metadata": {},
     "output_type": "execute_result"
    }
   ],
   "source": [
    "tariffs"
   ]
  },
  {
   "cell_type": "code",
   "execution_count": 148,
   "metadata": {},
   "outputs": [
    {
     "data": {
      "text/html": [
       "<div>\n",
       "<style scoped>\n",
       "    .dataframe tbody tr th:only-of-type {\n",
       "        vertical-align: middle;\n",
       "    }\n",
       "\n",
       "    .dataframe tbody tr th {\n",
       "        vertical-align: top;\n",
       "    }\n",
       "\n",
       "    .dataframe thead th {\n",
       "        text-align: right;\n",
       "    }\n",
       "</style>\n",
       "<table border=\"1\" class=\"dataframe\">\n",
       "  <thead>\n",
       "    <tr style=\"text-align: right;\">\n",
       "      <th></th>\n",
       "      <th>user_id</th>\n",
       "      <th>month</th>\n",
       "      <th>sum_minut</th>\n",
       "      <th>sum_message</th>\n",
       "      <th>sum_gb</th>\n",
       "      <th>age</th>\n",
       "      <th>price_month</th>\n",
       "    </tr>\n",
       "  </thead>\n",
       "  <tbody>\n",
       "    <tr>\n",
       "      <th>count</th>\n",
       "      <td>2229.000000</td>\n",
       "      <td>2229.000000</td>\n",
       "      <td>2229.000000</td>\n",
       "      <td>2229.000000</td>\n",
       "      <td>2229.000000</td>\n",
       "      <td>2229.000000</td>\n",
       "      <td>2229.000000</td>\n",
       "    </tr>\n",
       "    <tr>\n",
       "      <th>mean</th>\n",
       "      <td>1246.506505</td>\n",
       "      <td>8.346792</td>\n",
       "      <td>417.934948</td>\n",
       "      <td>33.384029</td>\n",
       "      <td>0.999103</td>\n",
       "      <td>46.556303</td>\n",
       "      <td>692.216689</td>\n",
       "    </tr>\n",
       "    <tr>\n",
       "      <th>std</th>\n",
       "      <td>146.119496</td>\n",
       "      <td>2.920316</td>\n",
       "      <td>190.313730</td>\n",
       "      <td>28.227876</td>\n",
       "      <td>0.029948</td>\n",
       "      <td>16.353371</td>\n",
       "      <td>261.019619</td>\n",
       "    </tr>\n",
       "    <tr>\n",
       "      <th>min</th>\n",
       "      <td>1001.000000</td>\n",
       "      <td>1.000000</td>\n",
       "      <td>0.000000</td>\n",
       "      <td>0.000000</td>\n",
       "      <td>0.000000</td>\n",
       "      <td>18.000000</td>\n",
       "      <td>550.000000</td>\n",
       "    </tr>\n",
       "    <tr>\n",
       "      <th>25%</th>\n",
       "      <td>1121.000000</td>\n",
       "      <td>6.000000</td>\n",
       "      <td>282.000000</td>\n",
       "      <td>10.000000</td>\n",
       "      <td>1.000000</td>\n",
       "      <td>32.000000</td>\n",
       "      <td>550.000000</td>\n",
       "    </tr>\n",
       "    <tr>\n",
       "      <th>50%</th>\n",
       "      <td>1239.000000</td>\n",
       "      <td>9.000000</td>\n",
       "      <td>422.000000</td>\n",
       "      <td>28.000000</td>\n",
       "      <td>1.000000</td>\n",
       "      <td>47.000000</td>\n",
       "      <td>550.000000</td>\n",
       "    </tr>\n",
       "    <tr>\n",
       "      <th>75%</th>\n",
       "      <td>1376.000000</td>\n",
       "      <td>11.000000</td>\n",
       "      <td>545.000000</td>\n",
       "      <td>51.000000</td>\n",
       "      <td>1.000000</td>\n",
       "      <td>62.000000</td>\n",
       "      <td>715.000000</td>\n",
       "    </tr>\n",
       "    <tr>\n",
       "      <th>max</th>\n",
       "      <td>1499.000000</td>\n",
       "      <td>12.000000</td>\n",
       "      <td>1435.000000</td>\n",
       "      <td>143.000000</td>\n",
       "      <td>1.000000</td>\n",
       "      <td>75.000000</td>\n",
       "      <td>3397.000000</td>\n",
       "    </tr>\n",
       "  </tbody>\n",
       "</table>\n",
       "</div>"
      ],
      "text/plain": [
       "           user_id        month    sum_minut  sum_message       sum_gb  \\\n",
       "count  2229.000000  2229.000000  2229.000000  2229.000000  2229.000000   \n",
       "mean   1246.506505     8.346792   417.934948    33.384029     0.999103   \n",
       "std     146.119496     2.920316   190.313730    28.227876     0.029948   \n",
       "min    1001.000000     1.000000     0.000000     0.000000     0.000000   \n",
       "25%    1121.000000     6.000000   282.000000    10.000000     1.000000   \n",
       "50%    1239.000000     9.000000   422.000000    28.000000     1.000000   \n",
       "75%    1376.000000    11.000000   545.000000    51.000000     1.000000   \n",
       "max    1499.000000    12.000000  1435.000000   143.000000     1.000000   \n",
       "\n",
       "               age  price_month  \n",
       "count  2229.000000  2229.000000  \n",
       "mean     46.556303   692.216689  \n",
       "std      16.353371   261.019619  \n",
       "min      18.000000   550.000000  \n",
       "25%      32.000000   550.000000  \n",
       "50%      47.000000   550.000000  \n",
       "75%      62.000000   715.000000  \n",
       "max      75.000000  3397.000000  "
      ]
     },
     "execution_count": 148,
     "metadata": {},
     "output_type": "execute_result"
    }
   ],
   "source": [
    "data_smart=data.query('tariff == \"smart\"')\n",
    "data_smart.describe()"
   ]
  },
  {
   "cell_type": "code",
   "execution_count": 149,
   "metadata": {},
   "outputs": [
    {
     "data": {
      "text/plain": [
       "0"
      ]
     },
     "execution_count": 149,
     "metadata": {},
     "output_type": "execute_result"
    }
   ],
   "source": [
    "user_smart_15 = data_smart.query('sum_gb>15')['sum_gb'].count()\n",
    "user_smart_15"
   ]
  },
  {
   "cell_type": "markdown",
   "metadata": {},
   "source": [
    "**2113 раз был превышен лимит 15 ГБ**"
   ]
  },
  {
   "cell_type": "code",
   "execution_count": 150,
   "metadata": {},
   "outputs": [
    {
     "data": {
      "text/plain": [
       "0.0"
      ]
     },
     "execution_count": 150,
     "metadata": {},
     "output_type": "execute_result"
    }
   ],
   "source": [
    "user_smart_15/2229"
   ]
  },
  {
   "cell_type": "markdown",
   "metadata": {},
   "source": [
    "**в 95% наблюдений был превышен лимит 15 ГБ**"
   ]
  },
  {
   "cell_type": "code",
   "execution_count": 151,
   "metadata": {},
   "outputs": [
    {
     "data": {
      "text/plain": [
       "0"
      ]
     },
     "execution_count": 151,
     "metadata": {},
     "output_type": "execute_result"
    }
   ],
   "source": [
    "user_smart_30 = data_smart.query('sum_gb>30')['sum_gb'].count()\n",
    "user_smart_30"
   ]
  },
  {
   "cell_type": "markdown",
   "metadata": {},
   "source": [
    "**1803 раз был превышен лимит 30 ГБ**"
   ]
  },
  {
   "cell_type": "code",
   "execution_count": 152,
   "metadata": {},
   "outputs": [
    {
     "data": {
      "text/plain": [
       "0.0"
      ]
     },
     "execution_count": 152,
     "metadata": {},
     "output_type": "execute_result"
    }
   ],
   "source": [
    "user_smart_30/2229"
   ]
  },
  {
   "cell_type": "markdown",
   "metadata": {},
   "source": [
    "**в 81% наблюдений был превышен лимит 30 ГБ**   "
   ]
  },
  {
   "cell_type": "markdown",
   "metadata": {},
   "source": [
    "**В тариф СМАРТ входит 50 сообщений, 15 ГБ, 500 минут, абонент плата - 550 руб.**      - 25% абонентов используют доп.сообщения, - Больше 75% абонентов используют дополнительный интернет, - Средний показатель ежемес.объема интернета почти в 3 раза превышает лимит. - Более 25% абонентов используют дополнительные минуты. - Средний ежемесячный чек в 11 раз превышает абонентскую плату. - 94% наблюдений - больше 15 ГБ, т.е. вышли за лимит - 81% - больше 30 ГБ, это необходимо для сравнения с поведением абонементов УЛЬТРА    "
   ]
  },
  {
   "cell_type": "markdown",
   "metadata": {},
   "source": [
    "<div class=\"alert alert-success\">\n",
    "<b>✔️ Комментарий ревьюера:</b> \n",
    "\n",
    "Очень здорово, хороший вывод)\n",
    "</div>"
   ]
  },
  {
   "cell_type": "markdown",
   "metadata": {},
   "source": [
    "# Анализ SMART минуты"
   ]
  },
  {
   "cell_type": "code",
   "execution_count": 153,
   "metadata": {},
   "outputs": [
    {
     "name": "stdout",
     "output_type": "stream",
     "text": [
      "Дисперсия -  0.011054021707729768\n",
      "Отклонение -  0.1051381077808126\n",
      "Среднее -  417.9349484073576\n"
     ]
    }
   ],
   "source": [
    "ariance = np.var(data_smart['sum_minut'], ddof=1)\n",
    "print('Дисперсия - ', variance)\n",
    "print('Отклонение - ', np.sqrt(variance))\n",
    "print('Среднее - ', data_smart['sum_minut'].mean())"
   ]
  },
  {
   "cell_type": "code",
   "execution_count": 154,
   "metadata": {},
   "outputs": [
    {
     "data": {
      "text/plain": [
       "Text(0.5, 1.0, 'Анализ минут СМАРТ')"
      ]
     },
     "execution_count": 154,
     "metadata": {},
     "output_type": "execute_result"
    },
    {
     "data": {
      "image/png": "[encoded data removed]",
      "text/plain": [
       "<Figure size 432x288 with 1 Axes>"
      ]
     },
     "metadata": {
      "needs_background": "light"
     },
     "output_type": "display_data"
    }
   ],
   "source": [
    "data_smart['sum_minut'].hist(bins = 50, color = 'orange')\n",
    "plt.ylabel(\"Кол-во сообщений в месяц\")\n",
    "plt.xlabel(\"Частота\")\n",
    "plt.title(\"Анализ минут СМАРТ\")"
   ]
  },
  {
   "cell_type": "markdown",
   "metadata": {},
   "source": [
    "Распределение нормальное - Среднее кол-во минут стремится к ежемесячному лимиту и при этом среднее отклонение составляет 35% от лимита - Абоненты не укладываются в лимит, и оплачивают доп.минуты.\n",
    "\n",
    "Посчитаем % отношение выручки от доп.минут к общей выручке   "
   ]
  },
  {
   "cell_type": "code",
   "execution_count": 155,
   "metadata": {},
   "outputs": [
    {
     "name": "stdout",
     "output_type": "stream",
     "text": [
      "92739\n"
     ]
    },
    {
     "data": {
      "text/plain": [
       "0.2269399241404625"
      ]
     },
     "execution_count": 155,
     "metadata": {},
     "output_type": "execute_result"
    }
   ],
   "source": [
    "min_smart=data_smart.query('sum_minut > 500')['sum_minut'].sum() - data_smart.query('sum_minut > 500')['sum_minut'].count() * 500\n",
    "print(min_smart) #кол-во дополнительных минут\n",
    "(min_smart*3)/(2229*550)"
   ]
  },
  {
   "cell_type": "markdown",
   "metadata": {},
   "source": [
    "**Выручка от доп.минут составляет 22,3% к абоненской плате**        "
   ]
  },
  {
   "cell_type": "markdown",
   "metadata": {},
   "source": [
    "# Анализ SMART сообщения"
   ]
  },
  {
   "cell_type": "code",
   "execution_count": 156,
   "metadata": {},
   "outputs": [
    {
     "name": "stdout",
     "output_type": "stream",
     "text": [
      "Дисперсия -  796.8129584480083\n",
      "Отклонение -  28.22787555676141\n",
      "Среднее -  33.384028712427096\n"
     ]
    }
   ],
   "source": [
    "variance = np.var(data_smart['sum_message'], ddof=1)\n",
    "print('Дисперсия - ', variance)\n",
    "print('Отклонение - ', np.sqrt(variance))\n",
    "print('Среднее - ', data_smart['sum_message'].mean())"
   ]
  },
  {
   "cell_type": "code",
   "execution_count": 157,
   "metadata": {},
   "outputs": [
    {
     "data": {
      "text/plain": [
       "Text(0.5, 1.0, 'Анализ сообщений СМАРТ')"
      ]
     },
     "execution_count": 157,
     "metadata": {},
     "output_type": "execute_result"
    },
    {
     "data": {
      "image/png": "[encoded data removed]",
      "text/plain": [
       "<Figure size 432x288 with 1 Axes>"
      ]
     },
     "metadata": {
      "needs_background": "light"
     },
     "output_type": "display_data"
    }
   ],
   "source": [
    "data_smart['sum_message'].hist(bins = 50, color = 'blue')\n",
    "plt.ylabel(\"Кол-во сообщений в месяц\")\n",
    "plt.xlabel(\"Частота\")\n",
    "plt.title(\"Анализ сообщений СМАРТ\")"
   ]
  },
  {
   "cell_type": "markdown",
   "metadata": {},
   "source": [
    "Распределение скошено влево - 25% от всех месяцев использовали менее 10 сообщений, при наличии интернета сообщения становятся менее востребованными. - 75% - укладывались в лимит 50 сообщений - и только 25% пользовались доп.сообщениями. - Среднее немного больше среднего по лимиту (т.е. 25 сообщений из 50) - И с учетом отклонения 28, большая часть наблюдений укладывается в лимит."
   ]
  },
  {
   "cell_type": "code",
   "execution_count": 158,
   "metadata": {},
   "outputs": [
    {
     "name": "stdout",
     "output_type": "stream",
     "text": [
      "12928\n"
     ]
    },
    {
     "data": {
      "text/plain": [
       "0.03163587421999266"
      ]
     },
     "execution_count": 158,
     "metadata": {},
     "output_type": "execute_result"
    }
   ],
   "source": [
    "mess_smart=data_smart.query('sum_message > 50')['sum_message'].sum() - data_smart.query('sum_message > 50')['sum_message'].count() * 50\n",
    "print(mess_smart) #кол-во дополнительных сообщений\n",
    "(mess_smart*3)/(2229*550)"
   ]
  },
  {
   "cell_type": "markdown",
   "metadata": {},
   "source": [
    "**Выручка от доп.сообщений составляет 3% к абонентской плате**"
   ]
  },
  {
   "cell_type": "code",
   "execution_count": 159,
   "metadata": {},
   "outputs": [
    {
     "name": "stdout",
     "output_type": "stream",
     "text": [
      "12928\n"
     ]
    },
    {
     "data": {
      "text/plain": [
       "2.513624865598454"
      ]
     },
     "execution_count": 159,
     "metadata": {},
     "output_type": "execute_result"
    }
   ],
   "source": [
    "mess_smart=data_smart.query('sum_message > 50')['sum_message'].sum() - data_smart.query('sum_message > 50')['sum_message'].count() * 50\n",
    "print(mess_smart) #кол-во дополнительных сообщений\n",
    "((mess_smart*3)/data_smart['price_month'].sum())*100"
   ]
  },
  {
   "cell_type": "markdown",
   "metadata": {},
   "source": [
    "**Выручка от доп.сообщений составляет 0,3% ко всей выручке по тарифу**"
   ]
  },
  {
   "cell_type": "markdown",
   "metadata": {},
   "source": [
    "<div class=\"alert alert-success\">\n",
    "<b>✔️ Комментарий ревьюера:</b> \n",
    "\n",
    "Хорошо, что ты решил посчитать такие интересные показатели, они помогут в дальнейшем при выборе наиболее прибыльного тарифа.\n",
    "</div>"
   ]
  },
  {
   "cell_type": "markdown",
   "metadata": {},
   "source": [
    "# Анализ SMART интернет"
   ]
  },
  {
   "cell_type": "code",
   "execution_count": 160,
   "metadata": {},
   "outputs": [
    {
     "name": "stdout",
     "output_type": "stream",
     "text": [
      "Дисперсия -  0.0008968606253619458\n",
      "Отклонение -  0.029947631381495695\n",
      "Среднее -  0.9991027366532077\n"
     ]
    }
   ],
   "source": [
    "variance = np.var(data_smart['sum_gb'], ddof=1)\n",
    "print('Дисперсия - ', variance)\n",
    "print('Отклонение - ', np.sqrt(variance))\n",
    "print('Среднее - ', data_smart['sum_gb'].mean())"
   ]
  },
  {
   "cell_type": "code",
   "execution_count": 161,
   "metadata": {},
   "outputs": [
    {
     "data": {
      "text/plain": [
       "Text(0.5, 1.0, 'Анализ интернета СМАРТ')"
      ]
     },
     "execution_count": 161,
     "metadata": {},
     "output_type": "execute_result"
    },
    {
     "data": {
      "image/png": "[encoded data removed]",
      "text/plain": [
       "<Figure size 432x288 with 1 Axes>"
      ]
     },
     "metadata": {
      "needs_background": "light"
     },
     "output_type": "display_data"
    }
   ],
   "source": [
    "data_smart['sum_gb'].hist(bins = 50,color = 'green')\n",
    "plt.ylabel(\"Кол-во сообщений в месяц\")\n",
    "plt.xlabel(\"Частота\")\n",
    "plt.title(\"Анализ интернета СМАРТ\")"
   ]
  },
  {
   "cell_type": "markdown",
   "metadata": {},
   "source": [
    "Распределение нормальное - 15 гб входящих в лимит ниже среднего, менее 25% наблюдений укладываются в лимит, это очень выгодная ситуация для сотового оператора. - Чем ниже среднего лимит, тем больше прибыли."
   ]
  },
  {
   "cell_type": "code",
   "execution_count": 162,
   "metadata": {},
   "outputs": [
    {
     "name": "stdout",
     "output_type": "stream",
     "text": [
      "0\n"
     ]
    },
    {
     "data": {
      "text/plain": [
       "0.0"
      ]
     },
     "execution_count": 162,
     "metadata": {},
     "output_type": "execute_result"
    }
   ],
   "source": [
    "gb_smart=data_smart.query('sum_gb > 15')['sum_gb'].sum() - data_smart.query('sum_gb > 15')['sum_gb'].count() * 15\n",
    "print(gb_smart) #кол-во дополнительных gb\n",
    "((gb_smart*200)/data_smart['price_month'].sum())*100"
   ]
  },
  {
   "cell_type": "markdown",
   "metadata": {},
   "source": [
    "Выручка от доп.gb интернета в 10 раз!!! больше выручки от тарифа по лимиту \n",
    "\n",
    "Вывод:\n",
    "Пользователи тарифа Smart часто не вклиниваются в лимиты, чаще всего по кол-ству минут и очень много по лимиту мегабайт.\n",
    "Пользователи тарифа Ultra практически не превышают лимитов, кроме мегабайт интернета.\n",
    "Пользователи двух тарифов используют примерно одинаковые объемы интернета, особенно на пиках графиков.\n",
    "В двух тарифак довольно много либо не пользуются отправкой сообщений, либо же используют в небольших кол-ствах до 5-10 сообщений.\n",
    "Пользователи тарифа Ultra чаще всего не используют весь лимит по звонкам и сообщениям.\n",
    "\n"
   ]
  },
  {
   "cell_type": "markdown",
   "metadata": {},
   "source": [
    "<div class=\"alert alert-success\">\n",
    "<b>✔️ Комментарий ревьюера v3:</b> \n",
    "\n",
    "Супер, молодец!\n",
    "</div>"
   ]
  },
  {
   "cell_type": "markdown",
   "metadata": {},
   "source": [
    "# Проверка гипотез\n",
    "\n",
    "1.Средняя выручка пользователей тарифов «Ультра» и «Смарт» различаются\n",
    "\n",
    "Формируем гиротезы:\n",
    "\n",
    "H0 -Средняя выручка пользователей тарифов «Ультра» и «Смарт» равна.\n",
    "H1 - Средняя выручка пользователей тарифов «Ультра» и «Смарт» различаются.\n",
    "Критический уровень статистической значимости 5%."
   ]
  },
  {
   "cell_type": "markdown",
   "metadata": {},
   "source": [
    "<div class=\"alert alert-success\">\n",
    "<b>✔️ Комментарий ревьюера v2:</b> \n",
    "\n",
    "Теперь все верно, гипотезы сформулировал правильно.\n",
    "</div>\n"
   ]
  },
  {
   "cell_type": "code",
   "execution_count": 163,
   "metadata": {},
   "outputs": [
    {
     "name": "stdout",
     "output_type": "stream",
     "text": [
      "p-значение: 0.0\n",
      "Отвергаем нулевую гипотезу\n"
     ]
    }
   ],
   "source": [
    "alpha = 0.05\n",
    "results = st.ttest_ind(ultra['price_month'], data_smart['price_month'], equal_var = False)\n",
    "print('p-значение:', results.pvalue)\n",
    "if results.pvalue < alpha:\n",
    "    print('Отвергаем нулевую гипотезу')\n",
    "else:\n",
    "    print('Не получилось отвергнуть нулевую гипотезу') "
   ]
  },
  {
   "cell_type": "markdown",
   "metadata": {},
   "source": [
    "p-значение очень маленькое - 3 деленное на 10 в 132 степени - Очень маленькая вероятность того что средние выручки равны. "
   ]
  },
  {
   "cell_type": "markdown",
   "metadata": {},
   "source": [
    "# Средняя выручка Москва и другие города"
   ]
  },
  {
   "cell_type": "code",
   "execution_count": 164,
   "metadata": {},
   "outputs": [
    {
     "data": {
      "text/html": [
       "<div>\n",
       "<style scoped>\n",
       "    .dataframe tbody tr th:only-of-type {\n",
       "        vertical-align: middle;\n",
       "    }\n",
       "\n",
       "    .dataframe tbody tr th {\n",
       "        vertical-align: top;\n",
       "    }\n",
       "\n",
       "    .dataframe thead th {\n",
       "        text-align: right;\n",
       "    }\n",
       "</style>\n",
       "<table border=\"1\" class=\"dataframe\">\n",
       "  <thead>\n",
       "    <tr style=\"text-align: right;\">\n",
       "      <th></th>\n",
       "      <th>user_id</th>\n",
       "      <th>month</th>\n",
       "      <th>sum_minut</th>\n",
       "      <th>sum_message</th>\n",
       "      <th>sum_gb</th>\n",
       "      <th>age</th>\n",
       "      <th>churn_date</th>\n",
       "      <th>city</th>\n",
       "      <th>first_name</th>\n",
       "      <th>last_name</th>\n",
       "      <th>reg_date</th>\n",
       "      <th>tariff</th>\n",
       "      <th>price_month</th>\n",
       "    </tr>\n",
       "  </thead>\n",
       "  <tbody>\n",
       "    <tr>\n",
       "      <th>0</th>\n",
       "      <td>1000</td>\n",
       "      <td>5</td>\n",
       "      <td>159</td>\n",
       "      <td>22</td>\n",
       "      <td>1</td>\n",
       "      <td>52</td>\n",
       "      <td>NaT</td>\n",
       "      <td>Краснодар</td>\n",
       "      <td>Рафаил</td>\n",
       "      <td>Верещагин</td>\n",
       "      <td>2018-05-25</td>\n",
       "      <td>ultra</td>\n",
       "      <td>1950</td>\n",
       "    </tr>\n",
       "    <tr>\n",
       "      <th>1</th>\n",
       "      <td>1000</td>\n",
       "      <td>6</td>\n",
       "      <td>172</td>\n",
       "      <td>60</td>\n",
       "      <td>1</td>\n",
       "      <td>52</td>\n",
       "      <td>NaT</td>\n",
       "      <td>Краснодар</td>\n",
       "      <td>Рафаил</td>\n",
       "      <td>Верещагин</td>\n",
       "      <td>2018-05-25</td>\n",
       "      <td>ultra</td>\n",
       "      <td>1950</td>\n",
       "    </tr>\n",
       "    <tr>\n",
       "      <th>2</th>\n",
       "      <td>1000</td>\n",
       "      <td>7</td>\n",
       "      <td>340</td>\n",
       "      <td>75</td>\n",
       "      <td>1</td>\n",
       "      <td>52</td>\n",
       "      <td>NaT</td>\n",
       "      <td>Краснодар</td>\n",
       "      <td>Рафаил</td>\n",
       "      <td>Верещагин</td>\n",
       "      <td>2018-05-25</td>\n",
       "      <td>ultra</td>\n",
       "      <td>1950</td>\n",
       "    </tr>\n",
       "    <tr>\n",
       "      <th>3</th>\n",
       "      <td>1000</td>\n",
       "      <td>8</td>\n",
       "      <td>408</td>\n",
       "      <td>81</td>\n",
       "      <td>1</td>\n",
       "      <td>52</td>\n",
       "      <td>NaT</td>\n",
       "      <td>Краснодар</td>\n",
       "      <td>Рафаил</td>\n",
       "      <td>Верещагин</td>\n",
       "      <td>2018-05-25</td>\n",
       "      <td>ultra</td>\n",
       "      <td>1950</td>\n",
       "    </tr>\n",
       "    <tr>\n",
       "      <th>4</th>\n",
       "      <td>1000</td>\n",
       "      <td>9</td>\n",
       "      <td>466</td>\n",
       "      <td>57</td>\n",
       "      <td>1</td>\n",
       "      <td>52</td>\n",
       "      <td>NaT</td>\n",
       "      <td>Краснодар</td>\n",
       "      <td>Рафаил</td>\n",
       "      <td>Верещагин</td>\n",
       "      <td>2018-05-25</td>\n",
       "      <td>ultra</td>\n",
       "      <td>1950</td>\n",
       "    </tr>\n",
       "  </tbody>\n",
       "</table>\n",
       "</div>"
      ],
      "text/plain": [
       "   user_id  month  sum_minut  sum_message  sum_gb  age churn_date       city  \\\n",
       "0     1000      5        159           22       1   52        NaT  Краснодар   \n",
       "1     1000      6        172           60       1   52        NaT  Краснодар   \n",
       "2     1000      7        340           75       1   52        NaT  Краснодар   \n",
       "3     1000      8        408           81       1   52        NaT  Краснодар   \n",
       "4     1000      9        466           57       1   52        NaT  Краснодар   \n",
       "\n",
       "  first_name  last_name   reg_date tariff  price_month  \n",
       "0     Рафаил  Верещагин 2018-05-25  ultra         1950  \n",
       "1     Рафаил  Верещагин 2018-05-25  ultra         1950  \n",
       "2     Рафаил  Верещагин 2018-05-25  ultra         1950  \n",
       "3     Рафаил  Верещагин 2018-05-25  ultra         1950  \n",
       "4     Рафаил  Верещагин 2018-05-25  ultra         1950  "
      ]
     },
     "execution_count": 164,
     "metadata": {},
     "output_type": "execute_result"
    }
   ],
   "source": [
    "data.head()"
   ]
  },
  {
   "cell_type": "code",
   "execution_count": 165,
   "metadata": {},
   "outputs": [
    {
     "name": "stdout",
     "output_type": "stream",
     "text": [
      "Уникальные значения в столбце city\n",
      "Москва             611\n",
      "Санкт-Петербург    270\n",
      "Новосибирск         98\n",
      "Уфа                 95\n",
      "Краснодар           86\n",
      "                  ... \n",
      "Сургут               6\n",
      "Нижневартовск        6\n",
      "Кемерово             5\n",
      "Химки                5\n",
      "Иваново              2\n",
      "Name: city, Length: 76, dtype: int64\n"
     ]
    }
   ],
   "source": [
    "print('Уникальные значения в столбце city')\n",
    "print(data['city'].value_counts())"
   ]
  },
  {
   "cell_type": "markdown",
   "metadata": {},
   "source": [
    "Средняя выручка по Москве и др.городам равны 5397 руб. и 5537 руб. - Средние выручки и действительно равны, есть небольшое различие - Пусть нулевая гипотеза звучит так - средние выручки равны - Альтернативная - не равны   "
   ]
  },
  {
   "cell_type": "markdown",
   "metadata": {},
   "source": [
    "<div class=\"alert alert-success\">\n",
    "<b>✔️ Комментарий ревьюера:</b> \n",
    "\n",
    "Гипотезы сформулированы верно.\n",
    "</div>"
   ]
  },
  {
   "cell_type": "code",
   "execution_count": 166,
   "metadata": {},
   "outputs": [
    {
     "data": {
      "text/html": [
       "<div>\n",
       "<style scoped>\n",
       "    .dataframe tbody tr th:only-of-type {\n",
       "        vertical-align: middle;\n",
       "    }\n",
       "\n",
       "    .dataframe tbody tr th {\n",
       "        vertical-align: top;\n",
       "    }\n",
       "\n",
       "    .dataframe thead th {\n",
       "        text-align: right;\n",
       "    }\n",
       "</style>\n",
       "<table border=\"1\" class=\"dataframe\">\n",
       "  <thead>\n",
       "    <tr style=\"text-align: right;\">\n",
       "      <th></th>\n",
       "      <th>user_id</th>\n",
       "      <th>month</th>\n",
       "      <th>sum_minut</th>\n",
       "      <th>sum_message</th>\n",
       "      <th>sum_gb</th>\n",
       "      <th>age</th>\n",
       "      <th>price_month</th>\n",
       "    </tr>\n",
       "  </thead>\n",
       "  <tbody>\n",
       "    <tr>\n",
       "      <th>count</th>\n",
       "      <td>611.000000</td>\n",
       "      <td>611.000000</td>\n",
       "      <td>611.000000</td>\n",
       "      <td>611.000000</td>\n",
       "      <td>611.0</td>\n",
       "      <td>611.000000</td>\n",
       "      <td>611.000000</td>\n",
       "    </tr>\n",
       "    <tr>\n",
       "      <th>mean</th>\n",
       "      <td>1268.872340</td>\n",
       "      <td>8.432079</td>\n",
       "      <td>469.150573</td>\n",
       "      <td>37.877250</td>\n",
       "      <td>1.0</td>\n",
       "      <td>44.906710</td>\n",
       "      <td>1147.859247</td>\n",
       "    </tr>\n",
       "    <tr>\n",
       "      <th>std</th>\n",
       "      <td>137.530432</td>\n",
       "      <td>2.888057</td>\n",
       "      <td>241.535044</td>\n",
       "      <td>37.160304</td>\n",
       "      <td>0.0</td>\n",
       "      <td>17.414978</td>\n",
       "      <td>640.861925</td>\n",
       "    </tr>\n",
       "    <tr>\n",
       "      <th>min</th>\n",
       "      <td>1001.000000</td>\n",
       "      <td>1.000000</td>\n",
       "      <td>0.000000</td>\n",
       "      <td>0.000000</td>\n",
       "      <td>1.0</td>\n",
       "      <td>18.000000</td>\n",
       "      <td>550.000000</td>\n",
       "    </tr>\n",
       "    <tr>\n",
       "      <th>25%</th>\n",
       "      <td>1171.000000</td>\n",
       "      <td>6.000000</td>\n",
       "      <td>304.000000</td>\n",
       "      <td>6.500000</td>\n",
       "      <td>1.0</td>\n",
       "      <td>29.000000</td>\n",
       "      <td>550.000000</td>\n",
       "    </tr>\n",
       "    <tr>\n",
       "      <th>50%</th>\n",
       "      <td>1291.000000</td>\n",
       "      <td>9.000000</td>\n",
       "      <td>453.000000</td>\n",
       "      <td>29.000000</td>\n",
       "      <td>1.0</td>\n",
       "      <td>43.000000</td>\n",
       "      <td>784.000000</td>\n",
       "    </tr>\n",
       "    <tr>\n",
       "      <th>75%</th>\n",
       "      <td>1385.000000</td>\n",
       "      <td>11.000000</td>\n",
       "      <td>620.500000</td>\n",
       "      <td>57.000000</td>\n",
       "      <td>1.0</td>\n",
       "      <td>58.000000</td>\n",
       "      <td>1950.000000</td>\n",
       "    </tr>\n",
       "    <tr>\n",
       "      <th>max</th>\n",
       "      <td>1490.000000</td>\n",
       "      <td>12.000000</td>\n",
       "      <td>1321.000000</td>\n",
       "      <td>191.000000</td>\n",
       "      <td>1.0</td>\n",
       "      <td>75.000000</td>\n",
       "      <td>2116.000000</td>\n",
       "    </tr>\n",
       "  </tbody>\n",
       "</table>\n",
       "</div>"
      ],
      "text/plain": [
       "           user_id       month    sum_minut  sum_message  sum_gb         age  \\\n",
       "count   611.000000  611.000000   611.000000   611.000000   611.0  611.000000   \n",
       "mean   1268.872340    8.432079   469.150573    37.877250     1.0   44.906710   \n",
       "std     137.530432    2.888057   241.535044    37.160304     0.0   17.414978   \n",
       "min    1001.000000    1.000000     0.000000     0.000000     1.0   18.000000   \n",
       "25%    1171.000000    6.000000   304.000000     6.500000     1.0   29.000000   \n",
       "50%    1291.000000    9.000000   453.000000    29.000000     1.0   43.000000   \n",
       "75%    1385.000000   11.000000   620.500000    57.000000     1.0   58.000000   \n",
       "max    1490.000000   12.000000  1321.000000   191.000000     1.0   75.000000   \n",
       "\n",
       "       price_month  \n",
       "count   611.000000  \n",
       "mean   1147.859247  \n",
       "std     640.861925  \n",
       "min     550.000000  \n",
       "25%     550.000000  \n",
       "50%     784.000000  \n",
       "75%    1950.000000  \n",
       "max    2116.000000  "
      ]
     },
     "execution_count": 166,
     "metadata": {},
     "output_type": "execute_result"
    }
   ],
   "source": [
    "data_msk=data.query('city == \"Москва\"')\n",
    "data_msk.describe()"
   ]
  },
  {
   "cell_type": "code",
   "execution_count": 167,
   "metadata": {},
   "outputs": [
    {
     "data": {
      "text/html": [
       "<div>\n",
       "<style scoped>\n",
       "    .dataframe tbody tr th:only-of-type {\n",
       "        vertical-align: middle;\n",
       "    }\n",
       "\n",
       "    .dataframe tbody tr th {\n",
       "        vertical-align: top;\n",
       "    }\n",
       "\n",
       "    .dataframe thead th {\n",
       "        text-align: right;\n",
       "    }\n",
       "</style>\n",
       "<table border=\"1\" class=\"dataframe\">\n",
       "  <thead>\n",
       "    <tr style=\"text-align: right;\">\n",
       "      <th></th>\n",
       "      <th>user_id</th>\n",
       "      <th>month</th>\n",
       "      <th>sum_minut</th>\n",
       "      <th>sum_message</th>\n",
       "      <th>sum_gb</th>\n",
       "      <th>age</th>\n",
       "      <th>price_month</th>\n",
       "    </tr>\n",
       "  </thead>\n",
       "  <tbody>\n",
       "    <tr>\n",
       "      <th>count</th>\n",
       "      <td>2603.000000</td>\n",
       "      <td>2603.000000</td>\n",
       "      <td>2603.000000</td>\n",
       "      <td>2603.000000</td>\n",
       "      <td>2603.000000</td>\n",
       "      <td>2603.000000</td>\n",
       "      <td>2603.000000</td>\n",
       "    </tr>\n",
       "    <tr>\n",
       "      <th>mean</th>\n",
       "      <td>1247.533615</td>\n",
       "      <td>8.290434</td>\n",
       "      <td>447.041875</td>\n",
       "      <td>38.376104</td>\n",
       "      <td>0.995006</td>\n",
       "      <td>47.048790</td>\n",
       "      <td>1061.221283</td>\n",
       "    </tr>\n",
       "    <tr>\n",
       "      <th>std</th>\n",
       "      <td>146.011387</td>\n",
       "      <td>2.909368</td>\n",
       "      <td>241.852152</td>\n",
       "      <td>35.913289</td>\n",
       "      <td>0.070507</td>\n",
       "      <td>16.362308</td>\n",
       "      <td>613.162639</td>\n",
       "    </tr>\n",
       "    <tr>\n",
       "      <th>min</th>\n",
       "      <td>1000.000000</td>\n",
       "      <td>1.000000</td>\n",
       "      <td>0.000000</td>\n",
       "      <td>0.000000</td>\n",
       "      <td>0.000000</td>\n",
       "      <td>18.000000</td>\n",
       "      <td>550.000000</td>\n",
       "    </tr>\n",
       "    <tr>\n",
       "      <th>25%</th>\n",
       "      <td>1120.000000</td>\n",
       "      <td>6.000000</td>\n",
       "      <td>280.500000</td>\n",
       "      <td>9.500000</td>\n",
       "      <td>1.000000</td>\n",
       "      <td>34.000000</td>\n",
       "      <td>550.000000</td>\n",
       "    </tr>\n",
       "    <tr>\n",
       "      <th>50%</th>\n",
       "      <td>1241.000000</td>\n",
       "      <td>9.000000</td>\n",
       "      <td>440.000000</td>\n",
       "      <td>30.000000</td>\n",
       "      <td>1.000000</td>\n",
       "      <td>47.000000</td>\n",
       "      <td>676.000000</td>\n",
       "    </tr>\n",
       "    <tr>\n",
       "      <th>75%</th>\n",
       "      <td>1377.000000</td>\n",
       "      <td>11.000000</td>\n",
       "      <td>584.000000</td>\n",
       "      <td>57.000000</td>\n",
       "      <td>1.000000</td>\n",
       "      <td>62.000000</td>\n",
       "      <td>1950.000000</td>\n",
       "    </tr>\n",
       "    <tr>\n",
       "      <th>max</th>\n",
       "      <td>1499.000000</td>\n",
       "      <td>12.000000</td>\n",
       "      <td>1673.000000</td>\n",
       "      <td>224.000000</td>\n",
       "      <td>1.000000</td>\n",
       "      <td>75.000000</td>\n",
       "      <td>3397.000000</td>\n",
       "    </tr>\n",
       "  </tbody>\n",
       "</table>\n",
       "</div>"
      ],
      "text/plain": [
       "           user_id        month    sum_minut  sum_message       sum_gb  \\\n",
       "count  2603.000000  2603.000000  2603.000000  2603.000000  2603.000000   \n",
       "mean   1247.533615     8.290434   447.041875    38.376104     0.995006   \n",
       "std     146.011387     2.909368   241.852152    35.913289     0.070507   \n",
       "min    1000.000000     1.000000     0.000000     0.000000     0.000000   \n",
       "25%    1120.000000     6.000000   280.500000     9.500000     1.000000   \n",
       "50%    1241.000000     9.000000   440.000000    30.000000     1.000000   \n",
       "75%    1377.000000    11.000000   584.000000    57.000000     1.000000   \n",
       "max    1499.000000    12.000000  1673.000000   224.000000     1.000000   \n",
       "\n",
       "               age  price_month  \n",
       "count  2603.000000  2603.000000  \n",
       "mean     47.048790  1061.221283  \n",
       "std      16.362308   613.162639  \n",
       "min      18.000000   550.000000  \n",
       "25%      34.000000   550.000000  \n",
       "50%      47.000000   676.000000  \n",
       "75%      62.000000  1950.000000  \n",
       "max      75.000000  3397.000000  "
      ]
     },
     "execution_count": 167,
     "metadata": {},
     "output_type": "execute_result"
    }
   ],
   "source": [
    "data_no_msk=data.query('city != \"Москва\"')\n",
    "data_no_msk.describe()"
   ]
  },
  {
   "cell_type": "code",
   "execution_count": 168,
   "metadata": {},
   "outputs": [
    {
     "name": "stdout",
     "output_type": "stream",
     "text": [
      "p-значение: 0.0018497307474415958\n",
      "Отвергаем нулевую гипотезу\n"
     ]
    }
   ],
   "source": [
    "alpha = 0.05\n",
    "results = st.ttest_ind(data_msk['price_month'], data_no_msk['price_month'])\n",
    "print('p-значение:', results.pvalue)\n",
    "if results.pvalue < alpha:\n",
    "    print('Отвергаем нулевую гипотезу')\n",
    "else:\n",
    "    print('Не получилось отвергнуть нулевую гипотезу') "
   ]
  },
  {
   "cell_type": "markdown",
   "metadata": {},
   "source": [
    "Вывод: Вероятность составляет 28% - не получилось отвергнуть нулевую гиротезу. Можем сказать, что выручка по Москве и других регионам, по тарифу Смарт, почти не различается. Вернее, только исходя из проверки гипотезы мы не можем сказать, что больше, — только что количество выручки почти одинаково и входит в диапазон статистической значимости. Потому что гипотеза-то наша двухсторонняя: мы не знаем, в какую сторону оно отличается. Однако посчитав среднее количество выручки для Москвы и других регионов, с уверенностью можем сказать: выручка не отличается существенно."
   ]
  },
  {
   "cell_type": "markdown",
   "metadata": {},
   "source": [
    "<div class=\"alert alert-success\">\n",
    "<b>✔️ Комментарий ревьюера v3:</b> \n",
    "\n",
    "Вижу, отличный вывод!\n",
    "</div>"
   ]
  },
  {
   "cell_type": "markdown",
   "metadata": {},
   "source": [
    "# Общий вывод\n",
    "\n",
    "**Краткий обзор проведённой работы** \n",
    "1. Данные со звонками, сообщениями и интернетом, пользователями не содержали пропущенных значений, дубликатов не было. В таблице звонков была продолжительность 0.0 минут, это неотвеченные звонки , не имеет смысла их убирать, т.к. для анализа суммируем сумму минут за месяц.<br> \n",
    "2. Было проанализировано два тарифа Смарт и Ультра. - В СМАРТ входит 50 сообщений, 500 минут, 15 ГБ, абон.плата – 550 руб. - В УЛЬТРА входит 1000 сообщений, 3000 минут, 30 ГБ, абон.плата – 1950 руб.<br> \n",
    "\n",
    "**Анализ тарифов сотового оператора** \n",
    "\n",
    "1. Абоненты в обоих тарифах используют интернет значительно больше лимита. - В Ультра в среднем – 38 ГБ, максимально – 98 ГБ. - 63% из всех месяцев у абонентов УЛЬТРА был превышен лимит ГБ, т.е. было более 30 ГБ - В Смарте в среднем – 42 ГБ, максимально – 101 ГБ. - 94% из всех месяцев у абонентов СМАРТ - больше 15 ГБ, т.е. вышли за лимит - 81% из всех месяцев абоненты СМАРТ использовали более 30 ГБ.<br>\n",
    "2. Т.е. в лимиты обоих тарифов входит существенная разница по минутам и сообщениям, а интернет отличатся на 15ГБ. Фактически абоненты обоих тарифов тратят похожее кол-во минут, сообщений абоненты Ультра тратят в среднем немного больше. А интернет абоненты Смарта тратят больше и при этом он для них по более дорогой цене. Более 81% месяцев по тарифу Смарт превышают лимит ГБ в два раза, т.е. за дополнительные 15 ГБ платят 3000. А это значит, что эти 81% - как минимум приносят оператору 3550 рублей при тех же условиях что и тариф УЛЬТРА. Т.е. вместо 1950 получается 3550. А если еще рассмотреть превышение 30 ГБ, то для сотового оператора абоненты Смарта становятся еще более выгодными, ведь они платят по 200 руб. за ГБ, а Ультра 150 руб. за ГБ. 3. Доп.минуты от абонентов Смарт также приносят прибыль сотовому оператору, а именно 22% от выручке по абон.плате. Получается что тариф, который дешевле почти в 4 раза выручки приносит больше, - средняя выручка от абонента в месяц: - УЛЬТРА – 3844 руб. - СМАРТ – 6247 руб.<br>\n",
    "\n",
    "**Анализ тарифов и проверка гипотез показывает**, что различие это не случайное, а закономерное. Поведение пользователей двух тарифов мало отличается , а расценки разные, отсюда и разность в выручке. Средняя выручка по Москве и другим регионам практически не отличается.<br> \n",
    "\n",
    "\n",
    "**Рекомендация** \n",
    "\n",
    "Тариф Смарт приносит больше денег, а значит и корректировать рекламный бюджет надо в его пользу.\n"
   ]
  },
  {
   "cell_type": "markdown",
   "metadata": {},
   "source": [
    "<div class=\"alert alert-success\">\n",
    "<b>✔️ Комментарий ревьюера:</b> \n",
    "\n",
    "Отличный вывод, ты хорошо обосновал, почему один тариф для оператора приносит больше, чем другой.\n",
    "</div>"
   ]
  },
  {
   "cell_type": "code",
   "execution_count": null,
   "metadata": {},
   "outputs": [],
   "source": []
  }
 ],
 "metadata": {
  "ExecuteTimeLog": [
   {
    "duration": 1846,
    "start_time": "2022-04-27T09:16:22.947Z"
   },
   {
    "duration": 16,
    "start_time": "2022-04-27T09:17:48.195Z"
   },
   {
    "duration": 21,
    "start_time": "2022-04-27T09:18:03.947Z"
   },
   {
    "duration": 51,
    "start_time": "2022-04-27T09:28:37.058Z"
   },
   {
    "duration": 7,
    "start_time": "2022-04-27T09:28:46.708Z"
   },
   {
    "duration": 2,
    "start_time": "2022-04-27T09:29:56.748Z"
   },
   {
    "duration": 8,
    "start_time": "2022-04-27T09:30:24.469Z"
   },
   {
    "duration": 19,
    "start_time": "2022-04-27T09:30:35.246Z"
   },
   {
    "duration": 2,
    "start_time": "2022-04-27T09:30:51.966Z"
   },
   {
    "duration": 16,
    "start_time": "2022-04-27T09:31:53.219Z"
   },
   {
    "duration": 9,
    "start_time": "2022-04-27T09:32:19.740Z"
   },
   {
    "duration": 9,
    "start_time": "2022-04-27T09:34:08.820Z"
   },
   {
    "duration": 9,
    "start_time": "2022-04-27T09:34:23.012Z"
   },
   {
    "duration": 39,
    "start_time": "2022-04-27T09:36:21.892Z"
   },
   {
    "duration": 10,
    "start_time": "2022-04-27T09:36:36.207Z"
   },
   {
    "duration": 8,
    "start_time": "2022-04-27T09:38:26.064Z"
   },
   {
    "duration": 18,
    "start_time": "2022-04-27T09:38:41.528Z"
   },
   {
    "duration": 21,
    "start_time": "2022-04-27T09:51:24.756Z"
   },
   {
    "duration": 93,
    "start_time": "2022-04-27T09:53:12.584Z"
   },
   {
    "duration": 11,
    "start_time": "2022-04-27T09:53:35.495Z"
   },
   {
    "duration": 193,
    "start_time": "2022-04-27T09:54:31.604Z"
   },
   {
    "duration": 8,
    "start_time": "2022-04-27T09:54:44.464Z"
   },
   {
    "duration": 11,
    "start_time": "2022-04-27T09:54:48.644Z"
   },
   {
    "duration": 128,
    "start_time": "2022-04-27T09:55:47.594Z"
   },
   {
    "duration": 116,
    "start_time": "2022-04-27T09:57:24.712Z"
   },
   {
    "duration": 53,
    "start_time": "2022-04-27T09:58:16.118Z"
   },
   {
    "duration": 24,
    "start_time": "2022-04-27T09:58:31.662Z"
   },
   {
    "duration": 18,
    "start_time": "2022-04-27T09:58:50.475Z"
   },
   {
    "duration": 4,
    "start_time": "2022-04-27T09:59:19.638Z"
   },
   {
    "duration": 23,
    "start_time": "2022-04-27T09:59:27.422Z"
   },
   {
    "duration": 22,
    "start_time": "2022-04-27T09:59:41.874Z"
   },
   {
    "duration": 21,
    "start_time": "2022-04-27T09:59:46.246Z"
   },
   {
    "duration": 28,
    "start_time": "2022-04-27T10:00:10.445Z"
   },
   {
    "duration": 93,
    "start_time": "2022-04-27T10:01:23.660Z"
   },
   {
    "duration": 61,
    "start_time": "2022-04-27T10:02:35.338Z"
   },
   {
    "duration": 55,
    "start_time": "2022-04-27T10:03:01.406Z"
   },
   {
    "duration": 28,
    "start_time": "2022-04-27T10:03:28.467Z"
   },
   {
    "duration": 8,
    "start_time": "2022-04-27T10:03:49.452Z"
   },
   {
    "duration": 162,
    "start_time": "2022-04-27T10:04:16.916Z"
   },
   {
    "duration": 129,
    "start_time": "2022-04-27T10:04:58.023Z"
   },
   {
    "duration": 172,
    "start_time": "2022-04-27T10:05:22.624Z"
   },
   {
    "duration": 118,
    "start_time": "2022-04-27T10:06:42.274Z"
   },
   {
    "duration": 8,
    "start_time": "2022-04-27T10:06:52.946Z"
   },
   {
    "duration": 13,
    "start_time": "2022-04-27T10:07:06.725Z"
   },
   {
    "duration": 29,
    "start_time": "2022-04-27T10:07:30.377Z"
   },
   {
    "duration": 7,
    "start_time": "2022-04-27T10:07:52.015Z"
   },
   {
    "duration": 31,
    "start_time": "2022-04-27T10:09:04.543Z"
   },
   {
    "duration": 16,
    "start_time": "2022-04-27T10:10:16.362Z"
   },
   {
    "duration": 19,
    "start_time": "2022-04-27T10:10:58.421Z"
   },
   {
    "duration": 11,
    "start_time": "2022-04-27T10:12:14.702Z"
   },
   {
    "duration": 8,
    "start_time": "2022-04-27T10:12:27.735Z"
   },
   {
    "duration": 18,
    "start_time": "2022-04-27T10:12:39.527Z"
   },
   {
    "duration": 20,
    "start_time": "2022-04-27T10:13:14.525Z"
   },
   {
    "duration": 20,
    "start_time": "2022-04-27T10:13:38.974Z"
   },
   {
    "duration": 10,
    "start_time": "2022-04-27T10:14:12.907Z"
   },
   {
    "duration": 16,
    "start_time": "2022-04-27T10:14:23.493Z"
   },
   {
    "duration": 10,
    "start_time": "2022-04-27T10:15:13.807Z"
   },
   {
    "duration": 72,
    "start_time": "2022-04-27T10:15:43.639Z"
   },
   {
    "duration": 17,
    "start_time": "2022-04-27T10:16:10.052Z"
   },
   {
    "duration": 2,
    "start_time": "2022-04-27T10:17:37.059Z"
   },
   {
    "duration": 8,
    "start_time": "2022-04-27T10:17:55.359Z"
   },
   {
    "duration": 2,
    "start_time": "2022-04-27T10:18:14.151Z"
   },
   {
    "duration": 24,
    "start_time": "2022-04-27T10:18:39.435Z"
   },
   {
    "duration": 6,
    "start_time": "2022-04-27T10:19:00.319Z"
   },
   {
    "duration": 4,
    "start_time": "2022-04-27T10:19:08.452Z"
   },
   {
    "duration": 8,
    "start_time": "2022-04-27T10:19:40.737Z"
   },
   {
    "duration": 5,
    "start_time": "2022-04-27T10:20:08.552Z"
   },
   {
    "duration": 184,
    "start_time": "2022-04-27T10:20:27.182Z"
   },
   {
    "duration": 1098,
    "start_time": "2022-04-27T10:22:38.471Z"
   },
   {
    "duration": 13,
    "start_time": "2022-04-27T10:22:39.570Z"
   },
   {
    "duration": 177,
    "start_time": "2022-04-27T10:22:39.584Z"
   },
   {
    "duration": 9,
    "start_time": "2022-04-27T10:22:39.763Z"
   },
   {
    "duration": 138,
    "start_time": "2022-04-27T10:22:39.774Z"
   },
   {
    "duration": 55,
    "start_time": "2022-04-27T10:22:39.913Z"
   },
   {
    "duration": 23,
    "start_time": "2022-04-27T10:22:39.969Z"
   },
   {
    "duration": 30,
    "start_time": "2022-04-27T10:22:39.993Z"
   },
   {
    "duration": 29,
    "start_time": "2022-04-27T10:22:40.025Z"
   },
   {
    "duration": 102,
    "start_time": "2022-04-27T10:22:40.057Z"
   },
   {
    "duration": 70,
    "start_time": "2022-04-27T10:22:40.161Z"
   },
   {
    "duration": 46,
    "start_time": "2022-04-27T10:22:40.232Z"
   },
   {
    "duration": 26,
    "start_time": "2022-04-27T10:22:40.279Z"
   },
   {
    "duration": 8,
    "start_time": "2022-04-27T10:22:40.324Z"
   },
   {
    "duration": 146,
    "start_time": "2022-04-27T10:22:40.333Z"
   },
   {
    "duration": 117,
    "start_time": "2022-04-27T10:22:40.481Z"
   },
   {
    "duration": 14,
    "start_time": "2022-04-27T10:22:40.599Z"
   },
   {
    "duration": 28,
    "start_time": "2022-04-27T10:22:40.623Z"
   },
   {
    "duration": 8,
    "start_time": "2022-04-27T10:22:40.652Z"
   },
   {
    "duration": 37,
    "start_time": "2022-04-27T10:22:40.662Z"
   },
   {
    "duration": 30,
    "start_time": "2022-04-27T10:22:40.700Z"
   },
   {
    "duration": 20,
    "start_time": "2022-04-27T10:22:40.732Z"
   },
   {
    "duration": 21,
    "start_time": "2022-04-27T10:22:40.754Z"
   },
   {
    "duration": 48,
    "start_time": "2022-04-27T10:22:40.776Z"
   },
   {
    "duration": 12,
    "start_time": "2022-04-27T10:22:40.826Z"
   },
   {
    "duration": 16,
    "start_time": "2022-04-27T10:22:40.840Z"
   },
   {
    "duration": 8,
    "start_time": "2022-04-27T10:22:40.858Z"
   },
   {
    "duration": 83,
    "start_time": "2022-04-27T10:22:40.869Z"
   },
   {
    "duration": 17,
    "start_time": "2022-04-27T10:22:40.954Z"
   },
   {
    "duration": 8,
    "start_time": "2022-04-27T10:22:40.973Z"
   },
   {
    "duration": 42,
    "start_time": "2022-04-27T10:22:40.982Z"
   },
   {
    "duration": 7,
    "start_time": "2022-04-27T10:22:41.026Z"
   },
   {
    "duration": 7,
    "start_time": "2022-04-27T10:22:41.035Z"
   },
   {
    "duration": 14,
    "start_time": "2022-04-27T10:22:41.043Z"
   },
   {
    "duration": 6,
    "start_time": "2022-04-27T10:22:41.059Z"
   },
   {
    "duration": 218,
    "start_time": "2022-04-27T10:22:41.067Z"
   },
   {
    "duration": 182,
    "start_time": "2022-04-27T10:22:53.941Z"
   },
   {
    "duration": 91,
    "start_time": "2022-04-27T10:23:29.028Z"
   },
   {
    "duration": 198,
    "start_time": "2022-04-27T10:23:37.569Z"
   },
   {
    "duration": 9,
    "start_time": "2022-04-27T10:24:21.551Z"
   },
   {
    "duration": 182,
    "start_time": "2022-04-27T10:27:59.488Z"
   },
   {
    "duration": 2,
    "start_time": "2022-04-27T10:28:30.917Z"
   },
   {
    "duration": 9,
    "start_time": "2022-04-27T10:28:46.951Z"
   },
   {
    "duration": 172,
    "start_time": "2022-04-27T10:28:51.734Z"
   },
   {
    "duration": 9,
    "start_time": "2022-04-27T10:29:12.131Z"
   },
   {
    "duration": 9,
    "start_time": "2022-04-27T10:29:16.519Z"
   },
   {
    "duration": 5,
    "start_time": "2022-04-27T10:29:25.297Z"
   },
   {
    "duration": 9,
    "start_time": "2022-04-27T10:30:57.153Z"
   },
   {
    "duration": 129,
    "start_time": "2022-04-27T10:31:56.887Z"
   },
   {
    "duration": 132,
    "start_time": "2022-04-27T10:32:09.724Z"
   },
   {
    "duration": 131,
    "start_time": "2022-04-27T10:32:38.942Z"
   },
   {
    "duration": 128,
    "start_time": "2022-04-27T10:32:41.777Z"
   },
   {
    "duration": 124,
    "start_time": "2022-04-27T10:33:38.189Z"
   },
   {
    "duration": 135,
    "start_time": "2022-04-27T10:34:56.617Z"
   },
   {
    "duration": 133,
    "start_time": "2022-04-27T10:35:37.555Z"
   },
   {
    "duration": 142,
    "start_time": "2022-04-27T10:36:32.274Z"
   },
   {
    "duration": 17,
    "start_time": "2022-04-27T10:37:30.925Z"
   },
   {
    "duration": 21,
    "start_time": "2022-04-27T10:38:46.939Z"
   },
   {
    "duration": 1140,
    "start_time": "2022-04-27T10:38:52.820Z"
   },
   {
    "duration": 10,
    "start_time": "2022-04-27T10:38:53.962Z"
   },
   {
    "duration": 173,
    "start_time": "2022-04-27T10:38:53.974Z"
   },
   {
    "duration": 10,
    "start_time": "2022-04-27T10:38:54.149Z"
   },
   {
    "duration": 141,
    "start_time": "2022-04-27T10:38:54.161Z"
   },
   {
    "duration": 56,
    "start_time": "2022-04-27T10:38:54.304Z"
   },
   {
    "duration": 22,
    "start_time": "2022-04-27T10:38:54.361Z"
   },
   {
    "duration": 15,
    "start_time": "2022-04-27T10:38:54.385Z"
   },
   {
    "duration": 47,
    "start_time": "2022-04-27T10:38:54.402Z"
   },
   {
    "duration": 103,
    "start_time": "2022-04-27T10:38:54.452Z"
   },
   {
    "duration": 73,
    "start_time": "2022-04-27T10:38:54.556Z"
   },
   {
    "duration": 45,
    "start_time": "2022-04-27T10:38:54.631Z"
   },
   {
    "duration": 27,
    "start_time": "2022-04-27T10:38:54.677Z"
   },
   {
    "duration": 24,
    "start_time": "2022-04-27T10:38:54.705Z"
   },
   {
    "duration": 139,
    "start_time": "2022-04-27T10:38:54.731Z"
   },
   {
    "duration": 124,
    "start_time": "2022-04-27T10:38:54.871Z"
   },
   {
    "duration": 14,
    "start_time": "2022-04-27T10:38:54.997Z"
   },
   {
    "duration": 35,
    "start_time": "2022-04-27T10:38:55.012Z"
   },
   {
    "duration": 7,
    "start_time": "2022-04-27T10:38:55.048Z"
   },
   {
    "duration": 30,
    "start_time": "2022-04-27T10:38:55.057Z"
   },
   {
    "duration": 16,
    "start_time": "2022-04-27T10:38:55.088Z"
   },
   {
    "duration": 18,
    "start_time": "2022-04-27T10:38:55.124Z"
   },
   {
    "duration": 20,
    "start_time": "2022-04-27T10:38:55.143Z"
   },
   {
    "duration": 20,
    "start_time": "2022-04-27T10:38:55.164Z"
   },
   {
    "duration": 8,
    "start_time": "2022-04-27T10:38:55.186Z"
   },
   {
    "duration": 16,
    "start_time": "2022-04-27T10:38:55.223Z"
   },
   {
    "duration": 8,
    "start_time": "2022-04-27T10:38:55.241Z"
   },
   {
    "duration": 74,
    "start_time": "2022-04-27T10:38:55.252Z"
   },
   {
    "duration": 16,
    "start_time": "2022-04-27T10:38:55.327Z"
   },
   {
    "duration": 7,
    "start_time": "2022-04-27T10:38:55.344Z"
   },
   {
    "duration": 32,
    "start_time": "2022-04-27T10:38:55.353Z"
   },
   {
    "duration": 6,
    "start_time": "2022-04-27T10:38:55.387Z"
   },
   {
    "duration": 30,
    "start_time": "2022-04-27T10:38:55.394Z"
   },
   {
    "duration": 9,
    "start_time": "2022-04-27T10:38:55.425Z"
   },
   {
    "duration": 6,
    "start_time": "2022-04-27T10:38:55.435Z"
   },
   {
    "duration": 199,
    "start_time": "2022-04-27T10:38:55.443Z"
   },
   {
    "duration": 133,
    "start_time": "2022-04-27T10:38:55.644Z"
   },
   {
    "duration": 0,
    "start_time": "2022-04-27T10:38:55.779Z"
   },
   {
    "duration": 166,
    "start_time": "2022-04-27T10:39:18.223Z"
   },
   {
    "duration": 229,
    "start_time": "2022-04-27T10:50:48.475Z"
   },
   {
    "duration": 221,
    "start_time": "2022-04-27T10:51:22.990Z"
   },
   {
    "duration": 226,
    "start_time": "2022-04-27T10:51:38.000Z"
   },
   {
    "duration": 184,
    "start_time": "2022-04-27T10:52:11.266Z"
   },
   {
    "duration": 311,
    "start_time": "2022-04-27T10:53:03.359Z"
   },
   {
    "duration": 179,
    "start_time": "2022-04-27T10:53:49.416Z"
   },
   {
    "duration": 6,
    "start_time": "2022-04-27T10:54:50.571Z"
   },
   {
    "duration": 95,
    "start_time": "2022-04-27T10:56:17.114Z"
   },
   {
    "duration": 6,
    "start_time": "2022-04-27T10:56:25.698Z"
   },
   {
    "duration": 158,
    "start_time": "2022-04-27T10:57:12.536Z"
   },
   {
    "duration": 158,
    "start_time": "2022-04-27T10:58:01.470Z"
   },
   {
    "duration": 167,
    "start_time": "2022-04-27T10:58:17.109Z"
   },
   {
    "duration": 154,
    "start_time": "2022-04-27T10:58:28.105Z"
   },
   {
    "duration": 163,
    "start_time": "2022-04-27T10:58:50.168Z"
   },
   {
    "duration": 166,
    "start_time": "2022-04-27T10:59:09.105Z"
   },
   {
    "duration": 181,
    "start_time": "2022-04-27T10:59:33.094Z"
   },
   {
    "duration": 176,
    "start_time": "2022-04-27T11:00:05.335Z"
   },
   {
    "duration": 4,
    "start_time": "2022-04-27T11:00:42.204Z"
   },
   {
    "duration": 153,
    "start_time": "2022-04-27T11:00:47.881Z"
   },
   {
    "duration": 251,
    "start_time": "2022-04-27T11:00:56.298Z"
   },
   {
    "duration": 155,
    "start_time": "2022-04-27T11:01:02.658Z"
   },
   {
    "duration": 278,
    "start_time": "2022-04-27T11:01:45.745Z"
   },
   {
    "duration": 175,
    "start_time": "2022-04-27T11:02:14.981Z"
   },
   {
    "duration": 5,
    "start_time": "2022-04-27T11:03:18.916Z"
   },
   {
    "duration": 2,
    "start_time": "2022-04-27T11:03:48.130Z"
   },
   {
    "duration": 11,
    "start_time": "2022-04-27T11:04:02.846Z"
   },
   {
    "duration": 26,
    "start_time": "2022-04-27T11:04:17.543Z"
   },
   {
    "duration": 7,
    "start_time": "2022-04-27T11:04:35.631Z"
   },
   {
    "duration": 3,
    "start_time": "2022-04-27T11:04:59.084Z"
   },
   {
    "duration": 149,
    "start_time": "2022-04-27T11:05:10.204Z"
   },
   {
    "duration": 7,
    "start_time": "2022-04-27T11:05:35.463Z"
   },
   {
    "duration": 4,
    "start_time": "2022-04-27T11:05:56.879Z"
   },
   {
    "duration": 6,
    "start_time": "2022-04-27T11:07:02.077Z"
   },
   {
    "duration": 168,
    "start_time": "2022-04-27T11:07:58.961Z"
   },
   {
    "duration": 182,
    "start_time": "2022-04-27T11:08:06.401Z"
   },
   {
    "duration": 11,
    "start_time": "2022-04-27T11:08:49.236Z"
   },
   {
    "duration": 11,
    "start_time": "2022-04-27T11:09:34.527Z"
   },
   {
    "duration": 5,
    "start_time": "2022-04-27T11:10:15.301Z"
   },
   {
    "duration": 178,
    "start_time": "2022-04-27T11:10:55.667Z"
   },
   {
    "duration": 10,
    "start_time": "2022-04-27T11:11:14.533Z"
   },
   {
    "duration": 10,
    "start_time": "2022-04-27T11:11:45.484Z"
   },
   {
    "duration": 137,
    "start_time": "2022-04-27T11:12:02.038Z"
   },
   {
    "duration": 5,
    "start_time": "2022-04-27T11:12:26.206Z"
   },
   {
    "duration": 263,
    "start_time": "2022-04-27T11:12:59.860Z"
   },
   {
    "duration": 12,
    "start_time": "2022-04-27T11:13:19.650Z"
   },
   {
    "duration": 12,
    "start_time": "2022-04-27T11:15:22.207Z"
   },
   {
    "duration": 6,
    "start_time": "2022-04-27T11:15:33.482Z"
   },
   {
    "duration": 13,
    "start_time": "2022-04-27T11:16:36.804Z"
   },
   {
    "duration": 7,
    "start_time": "2022-04-27T11:16:46.318Z"
   },
   {
    "duration": 25,
    "start_time": "2022-04-27T11:17:58.658Z"
   },
   {
    "duration": 26,
    "start_time": "2022-04-27T11:18:39.139Z"
   },
   {
    "duration": 6,
    "start_time": "2022-04-27T11:19:07.336Z"
   },
   {
    "duration": 5,
    "start_time": "2022-04-27T11:19:19.317Z"
   },
   {
    "duration": 5,
    "start_time": "2022-04-27T11:19:27.634Z"
   },
   {
    "duration": 4,
    "start_time": "2022-04-27T11:19:45.487Z"
   },
   {
    "duration": 1148,
    "start_time": "2022-04-27T11:25:23.227Z"
   },
   {
    "duration": 12,
    "start_time": "2022-04-27T11:25:24.376Z"
   },
   {
    "duration": 187,
    "start_time": "2022-04-27T11:25:24.389Z"
   },
   {
    "duration": 11,
    "start_time": "2022-04-27T11:25:24.578Z"
   },
   {
    "duration": 139,
    "start_time": "2022-04-27T11:25:24.590Z"
   },
   {
    "duration": 51,
    "start_time": "2022-04-27T11:25:24.731Z"
   },
   {
    "duration": 41,
    "start_time": "2022-04-27T11:25:24.784Z"
   },
   {
    "duration": 17,
    "start_time": "2022-04-27T11:25:24.826Z"
   },
   {
    "duration": 28,
    "start_time": "2022-04-27T11:25:24.845Z"
   },
   {
    "duration": 113,
    "start_time": "2022-04-27T11:25:24.876Z"
   },
   {
    "duration": 69,
    "start_time": "2022-04-27T11:25:24.991Z"
   },
   {
    "duration": 48,
    "start_time": "2022-04-27T11:25:25.061Z"
   },
   {
    "duration": 29,
    "start_time": "2022-04-27T11:25:25.123Z"
   },
   {
    "duration": 7,
    "start_time": "2022-04-27T11:25:25.153Z"
   },
   {
    "duration": 149,
    "start_time": "2022-04-27T11:25:25.162Z"
   },
   {
    "duration": 121,
    "start_time": "2022-04-27T11:25:25.312Z"
   },
   {
    "duration": 15,
    "start_time": "2022-04-27T11:25:25.434Z"
   },
   {
    "duration": 28,
    "start_time": "2022-04-27T11:25:25.450Z"
   },
   {
    "duration": 8,
    "start_time": "2022-04-27T11:25:25.480Z"
   },
   {
    "duration": 51,
    "start_time": "2022-04-27T11:25:25.490Z"
   },
   {
    "duration": 16,
    "start_time": "2022-04-27T11:25:25.543Z"
   },
   {
    "duration": 25,
    "start_time": "2022-04-27T11:25:25.560Z"
   },
   {
    "duration": 46,
    "start_time": "2022-04-27T11:25:25.586Z"
   },
   {
    "duration": 21,
    "start_time": "2022-04-27T11:25:25.634Z"
   },
   {
    "duration": 12,
    "start_time": "2022-04-27T11:25:25.656Z"
   },
   {
    "duration": 47,
    "start_time": "2022-04-27T11:25:25.670Z"
   },
   {
    "duration": 13,
    "start_time": "2022-04-27T11:25:25.719Z"
   },
   {
    "duration": 55,
    "start_time": "2022-04-27T11:25:25.735Z"
   },
   {
    "duration": 16,
    "start_time": "2022-04-27T11:25:25.791Z"
   },
   {
    "duration": 96,
    "start_time": "2022-04-27T11:25:25.808Z"
   },
   {
    "duration": 0,
    "start_time": "2022-04-27T11:25:25.905Z"
   },
   {
    "duration": 0,
    "start_time": "2022-04-27T11:25:25.906Z"
   },
   {
    "duration": 0,
    "start_time": "2022-04-27T11:25:25.908Z"
   },
   {
    "duration": 0,
    "start_time": "2022-04-27T11:25:25.908Z"
   },
   {
    "duration": 0,
    "start_time": "2022-04-27T11:25:25.909Z"
   },
   {
    "duration": 0,
    "start_time": "2022-04-27T11:25:25.910Z"
   },
   {
    "duration": 0,
    "start_time": "2022-04-27T11:25:25.923Z"
   },
   {
    "duration": 0,
    "start_time": "2022-04-27T11:25:25.924Z"
   },
   {
    "duration": 0,
    "start_time": "2022-04-27T11:25:25.925Z"
   },
   {
    "duration": 0,
    "start_time": "2022-04-27T11:25:25.926Z"
   },
   {
    "duration": 0,
    "start_time": "2022-04-27T11:25:25.927Z"
   },
   {
    "duration": 0,
    "start_time": "2022-04-27T11:25:25.928Z"
   },
   {
    "duration": 0,
    "start_time": "2022-04-27T11:25:25.929Z"
   },
   {
    "duration": 0,
    "start_time": "2022-04-27T11:25:25.930Z"
   },
   {
    "duration": 0,
    "start_time": "2022-04-27T11:25:25.931Z"
   },
   {
    "duration": 0,
    "start_time": "2022-04-27T11:25:25.932Z"
   },
   {
    "duration": 0,
    "start_time": "2022-04-27T11:25:25.933Z"
   },
   {
    "duration": 0,
    "start_time": "2022-04-27T11:25:25.934Z"
   },
   {
    "duration": 0,
    "start_time": "2022-04-27T11:25:25.935Z"
   },
   {
    "duration": 0,
    "start_time": "2022-04-27T11:25:25.935Z"
   },
   {
    "duration": 0,
    "start_time": "2022-04-27T11:25:25.936Z"
   },
   {
    "duration": 0,
    "start_time": "2022-04-27T11:25:25.937Z"
   },
   {
    "duration": 0,
    "start_time": "2022-04-27T11:25:25.939Z"
   },
   {
    "duration": 0,
    "start_time": "2022-04-27T11:25:25.939Z"
   },
   {
    "duration": 0,
    "start_time": "2022-04-27T11:25:25.940Z"
   },
   {
    "duration": 0,
    "start_time": "2022-04-27T11:25:25.941Z"
   },
   {
    "duration": 0,
    "start_time": "2022-04-27T11:25:25.942Z"
   },
   {
    "duration": 0,
    "start_time": "2022-04-27T11:25:25.943Z"
   },
   {
    "duration": 0,
    "start_time": "2022-04-27T11:25:25.943Z"
   },
   {
    "duration": 0,
    "start_time": "2022-04-27T11:25:25.944Z"
   },
   {
    "duration": 1,
    "start_time": "2022-04-27T11:25:25.944Z"
   },
   {
    "duration": 0,
    "start_time": "2022-04-27T11:25:25.945Z"
   },
   {
    "duration": 0,
    "start_time": "2022-04-27T11:25:25.946Z"
   },
   {
    "duration": 7,
    "start_time": "2022-04-27T11:26:21.832Z"
   },
   {
    "duration": 8,
    "start_time": "2022-04-27T11:26:25.759Z"
   },
   {
    "duration": 1193,
    "start_time": "2022-04-27T11:26:37.189Z"
   },
   {
    "duration": 11,
    "start_time": "2022-04-27T11:26:38.385Z"
   },
   {
    "duration": 184,
    "start_time": "2022-04-27T11:26:38.400Z"
   },
   {
    "duration": 15,
    "start_time": "2022-04-27T11:26:38.585Z"
   },
   {
    "duration": 201,
    "start_time": "2022-04-27T11:26:38.602Z"
   },
   {
    "duration": 76,
    "start_time": "2022-04-27T11:26:38.805Z"
   },
   {
    "duration": 47,
    "start_time": "2022-04-27T11:26:38.883Z"
   },
   {
    "duration": 22,
    "start_time": "2022-04-27T11:26:38.932Z"
   },
   {
    "duration": 43,
    "start_time": "2022-04-27T11:26:38.958Z"
   },
   {
    "duration": 104,
    "start_time": "2022-04-27T11:26:39.003Z"
   },
   {
    "duration": 70,
    "start_time": "2022-04-27T11:26:39.109Z"
   },
   {
    "duration": 55,
    "start_time": "2022-04-27T11:26:39.180Z"
   },
   {
    "duration": 27,
    "start_time": "2022-04-27T11:26:39.237Z"
   },
   {
    "duration": 7,
    "start_time": "2022-04-27T11:26:39.265Z"
   },
   {
    "duration": 150,
    "start_time": "2022-04-27T11:26:39.273Z"
   },
   {
    "duration": 106,
    "start_time": "2022-04-27T11:26:39.425Z"
   },
   {
    "duration": 13,
    "start_time": "2022-04-27T11:26:39.533Z"
   },
   {
    "duration": 27,
    "start_time": "2022-04-27T11:26:39.547Z"
   },
   {
    "duration": 6,
    "start_time": "2022-04-27T11:26:39.576Z"
   },
   {
    "duration": 47,
    "start_time": "2022-04-27T11:26:39.584Z"
   },
   {
    "duration": 16,
    "start_time": "2022-04-27T11:26:39.633Z"
   },
   {
    "duration": 19,
    "start_time": "2022-04-27T11:26:39.651Z"
   },
   {
    "duration": 21,
    "start_time": "2022-04-27T11:26:39.671Z"
   },
   {
    "duration": 20,
    "start_time": "2022-04-27T11:26:39.724Z"
   },
   {
    "duration": 9,
    "start_time": "2022-04-27T11:26:39.746Z"
   },
   {
    "duration": 15,
    "start_time": "2022-04-27T11:26:39.756Z"
   },
   {
    "duration": 7,
    "start_time": "2022-04-27T11:26:39.776Z"
   },
   {
    "duration": 82,
    "start_time": "2022-04-27T11:26:39.784Z"
   },
   {
    "duration": 20,
    "start_time": "2022-04-27T11:26:39.868Z"
   },
   {
    "duration": 10,
    "start_time": "2022-04-27T11:26:39.889Z"
   },
   {
    "duration": 44,
    "start_time": "2022-04-27T11:26:39.901Z"
   },
   {
    "duration": 10,
    "start_time": "2022-04-27T11:26:39.947Z"
   },
   {
    "duration": 7,
    "start_time": "2022-04-27T11:26:39.959Z"
   },
   {
    "duration": 10,
    "start_time": "2022-04-27T11:26:39.968Z"
   },
   {
    "duration": 6,
    "start_time": "2022-04-27T11:26:39.979Z"
   },
   {
    "duration": 203,
    "start_time": "2022-04-27T11:26:39.986Z"
   },
   {
    "duration": 163,
    "start_time": "2022-04-27T11:26:40.191Z"
   },
   {
    "duration": 6,
    "start_time": "2022-04-27T11:26:40.356Z"
   },
   {
    "duration": 7,
    "start_time": "2022-04-27T11:26:40.363Z"
   },
   {
    "duration": 171,
    "start_time": "2022-04-27T11:26:40.371Z"
   },
   {
    "duration": 4,
    "start_time": "2022-04-27T11:26:40.544Z"
   },
   {
    "duration": 9,
    "start_time": "2022-04-27T11:26:40.550Z"
   },
   {
    "duration": 38,
    "start_time": "2022-04-27T11:26:40.561Z"
   },
   {
    "duration": 5,
    "start_time": "2022-04-27T11:26:40.601Z"
   },
   {
    "duration": 4,
    "start_time": "2022-04-27T11:26:40.623Z"
   },
   {
    "duration": 36,
    "start_time": "2022-04-27T11:26:40.629Z"
   },
   {
    "duration": 7,
    "start_time": "2022-04-27T11:26:40.666Z"
   },
   {
    "duration": 5,
    "start_time": "2022-04-27T11:26:40.675Z"
   },
   {
    "duration": 182,
    "start_time": "2022-04-27T11:26:40.682Z"
   },
   {
    "duration": 9,
    "start_time": "2022-04-27T11:26:40.865Z"
   },
   {
    "duration": 25,
    "start_time": "2022-04-27T11:26:40.876Z"
   },
   {
    "duration": 198,
    "start_time": "2022-04-27T11:26:40.902Z"
   },
   {
    "duration": 10,
    "start_time": "2022-04-27T11:26:41.102Z"
   },
   {
    "duration": 23,
    "start_time": "2022-04-27T11:26:41.113Z"
   },
   {
    "duration": 22,
    "start_time": "2022-04-27T11:26:41.137Z"
   },
   {
    "duration": 187,
    "start_time": "2022-04-27T11:26:41.160Z"
   },
   {
    "duration": 11,
    "start_time": "2022-04-27T11:26:41.348Z"
   },
   {
    "duration": 10,
    "start_time": "2022-04-27T11:26:41.360Z"
   },
   {
    "duration": 26,
    "start_time": "2022-04-27T11:26:41.372Z"
   },
   {
    "duration": 10,
    "start_time": "2022-04-27T11:26:41.399Z"
   },
   {
    "duration": 31,
    "start_time": "2022-04-27T11:26:41.411Z"
   },
   {
    "duration": 108,
    "start_time": "2022-04-27T11:26:41.444Z"
   },
   {
    "duration": 5,
    "start_time": "2022-04-27T11:26:41.554Z"
   },
   {
    "duration": 191,
    "start_time": "2022-04-27T11:28:15.054Z"
   },
   {
    "duration": 193,
    "start_time": "2022-04-27T11:28:36.767Z"
   },
   {
    "duration": 237,
    "start_time": "2022-04-27T11:28:55.789Z"
   },
   {
    "duration": 1225,
    "start_time": "2022-04-27T11:29:29.850Z"
   },
   {
    "duration": 11,
    "start_time": "2022-04-27T11:29:31.077Z"
   },
   {
    "duration": 202,
    "start_time": "2022-04-27T11:29:31.089Z"
   },
   {
    "duration": 11,
    "start_time": "2022-04-27T11:29:31.293Z"
   },
   {
    "duration": 152,
    "start_time": "2022-04-27T11:29:31.306Z"
   },
   {
    "duration": 52,
    "start_time": "2022-04-27T11:29:31.460Z"
   },
   {
    "duration": 30,
    "start_time": "2022-04-27T11:29:31.514Z"
   },
   {
    "duration": 16,
    "start_time": "2022-04-27T11:29:31.546Z"
   },
   {
    "duration": 28,
    "start_time": "2022-04-27T11:29:31.564Z"
   },
   {
    "duration": 117,
    "start_time": "2022-04-27T11:29:31.594Z"
   },
   {
    "duration": 66,
    "start_time": "2022-04-27T11:29:31.712Z"
   },
   {
    "duration": 61,
    "start_time": "2022-04-27T11:29:31.780Z"
   },
   {
    "duration": 27,
    "start_time": "2022-04-27T11:29:31.843Z"
   },
   {
    "duration": 8,
    "start_time": "2022-04-27T11:29:31.872Z"
   },
   {
    "duration": 150,
    "start_time": "2022-04-27T11:29:31.882Z"
   },
   {
    "duration": 116,
    "start_time": "2022-04-27T11:29:32.034Z"
   },
   {
    "duration": 15,
    "start_time": "2022-04-27T11:29:32.152Z"
   },
   {
    "duration": 28,
    "start_time": "2022-04-27T11:29:32.169Z"
   },
   {
    "duration": 30,
    "start_time": "2022-04-27T11:29:32.199Z"
   },
   {
    "duration": 29,
    "start_time": "2022-04-27T11:29:32.231Z"
   },
   {
    "duration": 17,
    "start_time": "2022-04-27T11:29:32.263Z"
   },
   {
    "duration": 43,
    "start_time": "2022-04-27T11:29:32.282Z"
   },
   {
    "duration": 22,
    "start_time": "2022-04-27T11:29:32.328Z"
   },
   {
    "duration": 22,
    "start_time": "2022-04-27T11:29:32.351Z"
   },
   {
    "duration": 10,
    "start_time": "2022-04-27T11:29:32.375Z"
   },
   {
    "duration": 48,
    "start_time": "2022-04-27T11:29:32.386Z"
   },
   {
    "duration": 9,
    "start_time": "2022-04-27T11:29:32.436Z"
   },
   {
    "duration": 73,
    "start_time": "2022-04-27T11:29:32.450Z"
   },
   {
    "duration": 18,
    "start_time": "2022-04-27T11:29:32.525Z"
   },
   {
    "duration": 8,
    "start_time": "2022-04-27T11:29:32.544Z"
   },
   {
    "duration": 25,
    "start_time": "2022-04-27T11:29:32.553Z"
   },
   {
    "duration": 6,
    "start_time": "2022-04-27T11:29:32.580Z"
   },
   {
    "duration": 7,
    "start_time": "2022-04-27T11:29:32.587Z"
   },
   {
    "duration": 9,
    "start_time": "2022-04-27T11:29:32.624Z"
   },
   {
    "duration": 8,
    "start_time": "2022-04-27T11:29:32.634Z"
   },
   {
    "duration": 220,
    "start_time": "2022-04-27T11:29:32.643Z"
   },
   {
    "duration": 180,
    "start_time": "2022-04-27T11:29:32.865Z"
   },
   {
    "duration": 6,
    "start_time": "2022-04-27T11:29:33.046Z"
   },
   {
    "duration": 9,
    "start_time": "2022-04-27T11:29:33.054Z"
   },
   {
    "duration": 192,
    "start_time": "2022-04-27T11:29:33.064Z"
   },
   {
    "duration": 5,
    "start_time": "2022-04-27T11:29:33.258Z"
   },
   {
    "duration": 16,
    "start_time": "2022-04-27T11:29:33.264Z"
   },
   {
    "duration": 27,
    "start_time": "2022-04-27T11:29:33.282Z"
   },
   {
    "duration": 17,
    "start_time": "2022-04-27T11:29:33.310Z"
   },
   {
    "duration": 10,
    "start_time": "2022-04-27T11:29:33.328Z"
   },
   {
    "duration": 18,
    "start_time": "2022-04-27T11:29:33.340Z"
   },
   {
    "duration": 14,
    "start_time": "2022-04-27T11:29:33.359Z"
   },
   {
    "duration": 13,
    "start_time": "2022-04-27T11:29:33.375Z"
   },
   {
    "duration": 194,
    "start_time": "2022-04-27T11:29:33.389Z"
   },
   {
    "duration": 10,
    "start_time": "2022-04-27T11:29:33.585Z"
   },
   {
    "duration": 7,
    "start_time": "2022-04-27T11:29:33.596Z"
   },
   {
    "duration": 204,
    "start_time": "2022-04-27T11:29:33.624Z"
   },
   {
    "duration": 10,
    "start_time": "2022-04-27T11:29:33.829Z"
   },
   {
    "duration": 13,
    "start_time": "2022-04-27T11:29:33.840Z"
   },
   {
    "duration": 5,
    "start_time": "2022-04-27T11:29:33.855Z"
   },
   {
    "duration": 194,
    "start_time": "2022-04-27T11:29:33.862Z"
   },
   {
    "duration": 11,
    "start_time": "2022-04-27T11:29:34.058Z"
   },
   {
    "duration": 6,
    "start_time": "2022-04-27T11:29:34.070Z"
   },
   {
    "duration": 13,
    "start_time": "2022-04-27T11:29:34.078Z"
   },
   {
    "duration": 31,
    "start_time": "2022-04-27T11:29:34.093Z"
   },
   {
    "duration": 27,
    "start_time": "2022-04-27T11:29:34.125Z"
   },
   {
    "duration": 104,
    "start_time": "2022-04-27T11:29:34.153Z"
   },
   {
    "duration": 5,
    "start_time": "2022-04-27T11:29:34.258Z"
   },
   {
    "duration": 1398,
    "start_time": "2022-04-28T13:29:18.540Z"
   },
   {
    "duration": 16,
    "start_time": "2022-04-28T13:29:19.940Z"
   },
   {
    "duration": 233,
    "start_time": "2022-04-28T13:29:19.958Z"
   },
   {
    "duration": 21,
    "start_time": "2022-04-28T13:29:20.193Z"
   },
   {
    "duration": 165,
    "start_time": "2022-04-28T13:29:20.216Z"
   },
   {
    "duration": 63,
    "start_time": "2022-04-28T13:29:20.383Z"
   },
   {
    "duration": 26,
    "start_time": "2022-04-28T13:29:20.448Z"
   },
   {
    "duration": 40,
    "start_time": "2022-04-28T13:29:20.476Z"
   },
   {
    "duration": 33,
    "start_time": "2022-04-28T13:29:20.518Z"
   },
   {
    "duration": 133,
    "start_time": "2022-04-28T13:29:20.554Z"
   },
   {
    "duration": 80,
    "start_time": "2022-04-28T13:29:20.688Z"
   },
   {
    "duration": 67,
    "start_time": "2022-04-28T13:29:20.770Z"
   },
   {
    "duration": 30,
    "start_time": "2022-04-28T13:29:20.839Z"
   },
   {
    "duration": 7,
    "start_time": "2022-04-28T13:29:20.871Z"
   },
   {
    "duration": 192,
    "start_time": "2022-04-28T13:29:20.880Z"
   },
   {
    "duration": 135,
    "start_time": "2022-04-28T13:29:21.074Z"
   },
   {
    "duration": 15,
    "start_time": "2022-04-28T13:29:21.211Z"
   },
   {
    "duration": 28,
    "start_time": "2022-04-28T13:29:21.228Z"
   },
   {
    "duration": 8,
    "start_time": "2022-04-28T13:29:21.258Z"
   },
   {
    "duration": 53,
    "start_time": "2022-04-28T13:29:21.268Z"
   },
   {
    "duration": 19,
    "start_time": "2022-04-28T13:29:21.322Z"
   },
   {
    "duration": 21,
    "start_time": "2022-04-28T13:29:21.342Z"
   },
   {
    "duration": 53,
    "start_time": "2022-04-28T13:29:21.364Z"
   },
   {
    "duration": 23,
    "start_time": "2022-04-28T13:29:21.419Z"
   },
   {
    "duration": 9,
    "start_time": "2022-04-28T13:29:21.444Z"
   },
   {
    "duration": 16,
    "start_time": "2022-04-28T13:29:21.455Z"
   },
   {
    "duration": 37,
    "start_time": "2022-04-28T13:29:21.472Z"
   },
   {
    "duration": 56,
    "start_time": "2022-04-28T13:29:21.514Z"
   },
   {
    "duration": 39,
    "start_time": "2022-04-28T13:29:21.572Z"
   },
   {
    "duration": 9,
    "start_time": "2022-04-28T13:29:21.612Z"
   },
   {
    "duration": 26,
    "start_time": "2022-04-28T13:29:21.623Z"
   },
   {
    "duration": 7,
    "start_time": "2022-04-28T13:29:21.651Z"
   },
   {
    "duration": 5,
    "start_time": "2022-04-28T13:29:21.659Z"
   },
   {
    "duration": 45,
    "start_time": "2022-04-28T13:29:21.666Z"
   },
   {
    "duration": 7,
    "start_time": "2022-04-28T13:29:21.713Z"
   },
   {
    "duration": 237,
    "start_time": "2022-04-28T13:29:21.722Z"
   },
   {
    "duration": 197,
    "start_time": "2022-04-28T13:29:21.961Z"
   },
   {
    "duration": 5,
    "start_time": "2022-04-28T13:29:22.160Z"
   },
   {
    "duration": 4,
    "start_time": "2022-04-28T13:29:22.167Z"
   },
   {
    "duration": 213,
    "start_time": "2022-04-28T13:29:22.173Z"
   },
   {
    "duration": 5,
    "start_time": "2022-04-28T13:29:22.388Z"
   },
   {
    "duration": 8,
    "start_time": "2022-04-28T13:29:22.408Z"
   },
   {
    "duration": 28,
    "start_time": "2022-04-28T13:29:22.418Z"
   },
   {
    "duration": 7,
    "start_time": "2022-04-28T13:29:22.448Z"
   },
   {
    "duration": 6,
    "start_time": "2022-04-28T13:29:22.456Z"
   },
   {
    "duration": 8,
    "start_time": "2022-04-28T13:29:22.463Z"
   },
   {
    "duration": 35,
    "start_time": "2022-04-28T13:29:22.473Z"
   },
   {
    "duration": 6,
    "start_time": "2022-04-28T13:29:22.510Z"
   },
   {
    "duration": 234,
    "start_time": "2022-04-28T13:29:22.518Z"
   },
   {
    "duration": 12,
    "start_time": "2022-04-28T13:29:22.754Z"
   },
   {
    "duration": 6,
    "start_time": "2022-04-28T13:29:22.768Z"
   },
   {
    "duration": 266,
    "start_time": "2022-04-28T13:29:22.776Z"
   },
   {
    "duration": 11,
    "start_time": "2022-04-28T13:29:23.043Z"
   },
   {
    "duration": 11,
    "start_time": "2022-04-28T13:29:23.056Z"
   },
   {
    "duration": 6,
    "start_time": "2022-04-28T13:29:23.069Z"
   },
   {
    "duration": 215,
    "start_time": "2022-04-28T13:29:23.107Z"
   },
   {
    "duration": 12,
    "start_time": "2022-04-28T13:29:23.324Z"
   },
   {
    "duration": 6,
    "start_time": "2022-04-28T13:29:23.338Z"
   },
   {
    "duration": 13,
    "start_time": "2022-04-28T13:29:23.345Z"
   },
   {
    "duration": 6,
    "start_time": "2022-04-28T13:29:23.360Z"
   },
   {
    "duration": 62,
    "start_time": "2022-04-28T13:29:23.367Z"
   },
   {
    "duration": 113,
    "start_time": "2022-04-28T13:29:23.431Z"
   },
   {
    "duration": 5,
    "start_time": "2022-04-28T13:29:23.546Z"
   },
   {
    "duration": 69,
    "start_time": "2022-04-28T14:03:29.805Z"
   },
   {
    "duration": 59,
    "start_time": "2022-04-28T14:11:24.061Z"
   },
   {
    "duration": 40,
    "start_time": "2022-05-04T05:59:07.541Z"
   },
   {
    "duration": 1349,
    "start_time": "2022-05-04T06:00:08.470Z"
   },
   {
    "duration": 4,
    "start_time": "2022-05-04T06:00:10.038Z"
   },
   {
    "duration": 37,
    "start_time": "2022-05-04T06:00:10.063Z"
   },
   {
    "duration": 11,
    "start_time": "2022-05-04T06:00:10.102Z"
   },
   {
    "duration": 217,
    "start_time": "2022-05-04T06:00:10.115Z"
   },
   {
    "duration": 12,
    "start_time": "2022-05-04T06:00:10.334Z"
   },
   {
    "duration": 156,
    "start_time": "2022-05-04T06:00:10.348Z"
   },
   {
    "duration": 53,
    "start_time": "2022-05-04T06:00:10.507Z"
   },
   {
    "duration": 46,
    "start_time": "2022-05-04T06:00:10.562Z"
   },
   {
    "duration": 18,
    "start_time": "2022-05-04T06:00:10.610Z"
   },
   {
    "duration": 28,
    "start_time": "2022-05-04T06:00:10.629Z"
   },
   {
    "duration": 117,
    "start_time": "2022-05-04T06:00:10.660Z"
   },
   {
    "duration": 73,
    "start_time": "2022-05-04T06:00:10.778Z"
   },
   {
    "duration": 56,
    "start_time": "2022-05-04T06:00:10.853Z"
   },
   {
    "duration": 26,
    "start_time": "2022-05-04T06:00:10.910Z"
   },
   {
    "duration": 6,
    "start_time": "2022-05-04T06:00:10.938Z"
   },
   {
    "duration": 174,
    "start_time": "2022-05-04T06:00:10.946Z"
   },
   {
    "duration": 121,
    "start_time": "2022-05-04T06:00:11.122Z"
   },
   {
    "duration": 12,
    "start_time": "2022-05-04T06:00:11.245Z"
   },
   {
    "duration": 50,
    "start_time": "2022-05-04T06:00:11.258Z"
   },
   {
    "duration": 7,
    "start_time": "2022-05-04T06:00:11.310Z"
   },
   {
    "duration": 43,
    "start_time": "2022-05-04T06:00:11.319Z"
   },
   {
    "duration": 15,
    "start_time": "2022-05-04T06:00:11.363Z"
   },
   {
    "duration": 28,
    "start_time": "2022-05-04T06:00:11.379Z"
   },
   {
    "duration": 18,
    "start_time": "2022-05-04T06:00:11.408Z"
   },
   {
    "duration": 20,
    "start_time": "2022-05-04T06:00:11.427Z"
   },
   {
    "duration": 8,
    "start_time": "2022-05-04T06:00:11.450Z"
   },
   {
    "duration": 45,
    "start_time": "2022-05-04T06:00:11.460Z"
   },
   {
    "duration": 8,
    "start_time": "2022-05-04T06:00:11.507Z"
   },
   {
    "duration": 49,
    "start_time": "2022-05-04T06:00:11.516Z"
   },
   {
    "duration": 33,
    "start_time": "2022-05-04T06:00:11.567Z"
   },
   {
    "duration": 7,
    "start_time": "2022-05-04T06:00:11.602Z"
   },
   {
    "duration": 33,
    "start_time": "2022-05-04T06:00:11.610Z"
   },
   {
    "duration": 6,
    "start_time": "2022-05-04T06:00:11.644Z"
   },
   {
    "duration": 18,
    "start_time": "2022-05-04T06:00:11.652Z"
   },
   {
    "duration": 12,
    "start_time": "2022-05-04T06:00:11.671Z"
   },
   {
    "duration": 15,
    "start_time": "2022-05-04T06:00:11.685Z"
   },
   {
    "duration": 183,
    "start_time": "2022-05-04T06:00:11.701Z"
   },
   {
    "duration": 148,
    "start_time": "2022-05-04T06:00:11.885Z"
   },
   {
    "duration": 5,
    "start_time": "2022-05-04T06:00:12.034Z"
   },
   {
    "duration": 10,
    "start_time": "2022-05-04T06:00:12.040Z"
   },
   {
    "duration": 161,
    "start_time": "2022-05-04T06:00:12.051Z"
   },
   {
    "duration": 4,
    "start_time": "2022-05-04T06:00:12.214Z"
   },
   {
    "duration": 17,
    "start_time": "2022-05-04T06:00:12.220Z"
   },
   {
    "duration": 30,
    "start_time": "2022-05-04T06:00:12.238Z"
   },
   {
    "duration": 6,
    "start_time": "2022-05-04T06:00:12.269Z"
   },
   {
    "duration": 6,
    "start_time": "2022-05-04T06:00:12.276Z"
   },
   {
    "duration": 19,
    "start_time": "2022-05-04T06:00:12.283Z"
   },
   {
    "duration": 5,
    "start_time": "2022-05-04T06:00:12.304Z"
   },
   {
    "duration": 8,
    "start_time": "2022-05-04T06:00:12.310Z"
   },
   {
    "duration": 183,
    "start_time": "2022-05-04T06:00:12.319Z"
   },
   {
    "duration": 9,
    "start_time": "2022-05-04T06:00:12.505Z"
   },
   {
    "duration": 6,
    "start_time": "2022-05-04T06:00:12.515Z"
   },
   {
    "duration": 191,
    "start_time": "2022-05-04T06:00:12.522Z"
   },
   {
    "duration": 9,
    "start_time": "2022-05-04T06:00:12.715Z"
   },
   {
    "duration": 9,
    "start_time": "2022-05-04T06:00:12.725Z"
   },
   {
    "duration": 4,
    "start_time": "2022-05-04T06:00:12.736Z"
   },
   {
    "duration": 189,
    "start_time": "2022-05-04T06:00:12.741Z"
   },
   {
    "duration": 10,
    "start_time": "2022-05-04T06:00:12.932Z"
   },
   {
    "duration": 6,
    "start_time": "2022-05-04T06:00:12.943Z"
   },
   {
    "duration": 21,
    "start_time": "2022-05-04T06:00:12.951Z"
   },
   {
    "duration": 9,
    "start_time": "2022-05-04T06:00:12.974Z"
   },
   {
    "duration": 33,
    "start_time": "2022-05-04T06:00:12.985Z"
   },
   {
    "duration": 100,
    "start_time": "2022-05-04T06:00:13.020Z"
   },
   {
    "duration": 4,
    "start_time": "2022-05-04T06:00:13.122Z"
   },
   {
    "duration": 3,
    "start_time": "2022-05-04T06:01:21.958Z"
   },
   {
    "duration": 3076,
    "start_time": "2022-05-04T06:01:30.615Z"
   },
   {
    "duration": 1140,
    "start_time": "2022-05-04T06:01:43.178Z"
   },
   {
    "duration": 23,
    "start_time": "2022-05-04T06:01:44.320Z"
   },
   {
    "duration": 11,
    "start_time": "2022-05-04T06:01:44.345Z"
   },
   {
    "duration": 185,
    "start_time": "2022-05-04T06:01:44.358Z"
   },
   {
    "duration": 11,
    "start_time": "2022-05-04T06:01:44.545Z"
   },
   {
    "duration": 142,
    "start_time": "2022-05-04T06:01:44.558Z"
   },
   {
    "duration": 52,
    "start_time": "2022-05-04T06:01:44.702Z"
   },
   {
    "duration": 23,
    "start_time": "2022-05-04T06:01:44.755Z"
   },
   {
    "duration": 16,
    "start_time": "2022-05-04T06:01:44.799Z"
   },
   {
    "duration": 24,
    "start_time": "2022-05-04T06:01:44.818Z"
   },
   {
    "duration": 102,
    "start_time": "2022-05-04T06:01:44.844Z"
   },
   {
    "duration": 61,
    "start_time": "2022-05-04T06:01:44.947Z"
   },
   {
    "duration": 45,
    "start_time": "2022-05-04T06:01:45.010Z"
   },
   {
    "duration": 45,
    "start_time": "2022-05-04T06:01:45.057Z"
   },
   {
    "duration": 7,
    "start_time": "2022-05-04T06:01:45.103Z"
   },
   {
    "duration": 143,
    "start_time": "2022-05-04T06:01:45.111Z"
   },
   {
    "duration": 108,
    "start_time": "2022-05-04T06:01:45.256Z"
   },
   {
    "duration": 11,
    "start_time": "2022-05-04T06:01:45.366Z"
   },
   {
    "duration": 38,
    "start_time": "2022-05-04T06:01:45.378Z"
   },
   {
    "duration": 6,
    "start_time": "2022-05-04T06:01:45.418Z"
   },
   {
    "duration": 43,
    "start_time": "2022-05-04T06:01:45.426Z"
   },
   {
    "duration": 16,
    "start_time": "2022-05-04T06:01:45.470Z"
   },
   {
    "duration": 23,
    "start_time": "2022-05-04T06:01:45.488Z"
   },
   {
    "duration": 20,
    "start_time": "2022-05-04T06:01:45.512Z"
   },
   {
    "duration": 20,
    "start_time": "2022-05-04T06:01:45.534Z"
   },
   {
    "duration": 9,
    "start_time": "2022-05-04T06:01:45.555Z"
   },
   {
    "duration": 44,
    "start_time": "2022-05-04T06:01:45.565Z"
   },
   {
    "duration": 6,
    "start_time": "2022-05-04T06:01:45.613Z"
   },
   {
    "duration": 47,
    "start_time": "2022-05-04T06:01:45.621Z"
   },
   {
    "duration": 30,
    "start_time": "2022-05-04T06:01:45.670Z"
   },
   {
    "duration": 7,
    "start_time": "2022-05-04T06:01:45.702Z"
   },
   {
    "duration": 23,
    "start_time": "2022-05-04T06:01:45.710Z"
   },
   {
    "duration": 6,
    "start_time": "2022-05-04T06:01:45.734Z"
   },
   {
    "duration": 5,
    "start_time": "2022-05-04T06:01:45.742Z"
   },
   {
    "duration": 8,
    "start_time": "2022-05-04T06:01:45.749Z"
   },
   {
    "duration": 5,
    "start_time": "2022-05-04T06:01:45.759Z"
   },
   {
    "duration": 198,
    "start_time": "2022-05-04T06:01:45.766Z"
   },
   {
    "duration": 154,
    "start_time": "2022-05-04T06:01:45.965Z"
   },
   {
    "duration": 6,
    "start_time": "2022-05-04T06:01:46.120Z"
   },
   {
    "duration": 8,
    "start_time": "2022-05-04T06:01:46.127Z"
   },
   {
    "duration": 166,
    "start_time": "2022-05-04T06:01:46.137Z"
   },
   {
    "duration": 4,
    "start_time": "2022-05-04T06:01:46.304Z"
   },
   {
    "duration": 9,
    "start_time": "2022-05-04T06:01:46.310Z"
   },
   {
    "duration": 26,
    "start_time": "2022-05-04T06:01:46.320Z"
   },
   {
    "duration": 6,
    "start_time": "2022-05-04T06:01:46.348Z"
   },
   {
    "duration": 5,
    "start_time": "2022-05-04T06:01:46.355Z"
   },
   {
    "duration": 8,
    "start_time": "2022-05-04T06:01:46.361Z"
   },
   {
    "duration": 30,
    "start_time": "2022-05-04T06:01:46.370Z"
   },
   {
    "duration": 4,
    "start_time": "2022-05-04T06:01:46.401Z"
   },
   {
    "duration": 176,
    "start_time": "2022-05-04T06:01:46.407Z"
   },
   {
    "duration": 9,
    "start_time": "2022-05-04T06:01:46.584Z"
   },
   {
    "duration": 8,
    "start_time": "2022-05-04T06:01:46.595Z"
   },
   {
    "duration": 179,
    "start_time": "2022-05-04T06:01:46.605Z"
   },
   {
    "duration": 14,
    "start_time": "2022-05-04T06:01:46.786Z"
   },
   {
    "duration": 10,
    "start_time": "2022-05-04T06:01:46.802Z"
   },
   {
    "duration": 4,
    "start_time": "2022-05-04T06:01:46.813Z"
   },
   {
    "duration": 177,
    "start_time": "2022-05-04T06:01:46.819Z"
   },
   {
    "duration": 9,
    "start_time": "2022-05-04T06:01:46.999Z"
   },
   {
    "duration": 10,
    "start_time": "2022-05-04T06:01:47.010Z"
   },
   {
    "duration": 14,
    "start_time": "2022-05-04T06:01:47.021Z"
   },
   {
    "duration": 8,
    "start_time": "2022-05-04T06:01:47.037Z"
   },
   {
    "duration": 23,
    "start_time": "2022-05-04T06:01:47.046Z"
   },
   {
    "duration": 99,
    "start_time": "2022-05-04T06:01:47.071Z"
   },
   {
    "duration": 5,
    "start_time": "2022-05-04T06:01:47.172Z"
   },
   {
    "duration": 3107,
    "start_time": "2022-05-04T06:03:21.466Z"
   },
   {
    "duration": 1141,
    "start_time": "2022-05-04T06:03:44.106Z"
   },
   {
    "duration": 24,
    "start_time": "2022-05-04T06:03:45.249Z"
   },
   {
    "duration": 11,
    "start_time": "2022-05-04T06:03:45.275Z"
   },
   {
    "duration": 186,
    "start_time": "2022-05-04T06:03:45.288Z"
   },
   {
    "duration": 27,
    "start_time": "2022-05-04T06:03:45.477Z"
   },
   {
    "duration": 131,
    "start_time": "2022-05-04T06:03:45.507Z"
   },
   {
    "duration": 50,
    "start_time": "2022-05-04T06:03:45.640Z"
   },
   {
    "duration": 27,
    "start_time": "2022-05-04T06:03:45.691Z"
   },
   {
    "duration": 15,
    "start_time": "2022-05-04T06:03:45.720Z"
   },
   {
    "duration": 26,
    "start_time": "2022-05-04T06:03:45.737Z"
   },
   {
    "duration": 116,
    "start_time": "2022-05-04T06:03:45.765Z"
   },
   {
    "duration": 70,
    "start_time": "2022-05-04T06:03:45.883Z"
   },
   {
    "duration": 57,
    "start_time": "2022-05-04T06:03:45.955Z"
   },
   {
    "duration": 26,
    "start_time": "2022-05-04T06:03:46.015Z"
   },
   {
    "duration": 8,
    "start_time": "2022-05-04T06:03:46.042Z"
   },
   {
    "duration": 159,
    "start_time": "2022-05-04T06:03:46.051Z"
   },
   {
    "duration": 110,
    "start_time": "2022-05-04T06:03:46.212Z"
   },
   {
    "duration": 14,
    "start_time": "2022-05-04T06:03:46.324Z"
   },
   {
    "duration": 27,
    "start_time": "2022-05-04T06:03:46.340Z"
   },
   {
    "duration": 32,
    "start_time": "2022-05-04T06:03:46.369Z"
   },
   {
    "duration": 45,
    "start_time": "2022-05-04T06:03:46.403Z"
   },
   {
    "duration": 17,
    "start_time": "2022-05-04T06:03:46.450Z"
   },
   {
    "duration": 18,
    "start_time": "2022-05-04T06:03:46.469Z"
   },
   {
    "duration": 29,
    "start_time": "2022-05-04T06:03:46.489Z"
   },
   {
    "duration": 21,
    "start_time": "2022-05-04T06:03:46.520Z"
   },
   {
    "duration": 9,
    "start_time": "2022-05-04T06:03:46.543Z"
   },
   {
    "duration": 14,
    "start_time": "2022-05-04T06:03:46.553Z"
   },
   {
    "duration": 36,
    "start_time": "2022-05-04T06:03:46.568Z"
   },
   {
    "duration": 48,
    "start_time": "2022-05-04T06:03:46.606Z"
   },
   {
    "duration": 14,
    "start_time": "2022-05-04T06:03:46.656Z"
   },
   {
    "duration": 7,
    "start_time": "2022-05-04T06:03:46.671Z"
   },
   {
    "duration": 22,
    "start_time": "2022-05-04T06:03:46.699Z"
   },
   {
    "duration": 5,
    "start_time": "2022-05-04T06:03:46.722Z"
   },
   {
    "duration": 7,
    "start_time": "2022-05-04T06:03:46.729Z"
   },
   {
    "duration": 10,
    "start_time": "2022-05-04T06:03:46.737Z"
   },
   {
    "duration": 6,
    "start_time": "2022-05-04T06:03:46.748Z"
   },
   {
    "duration": 195,
    "start_time": "2022-05-04T06:03:46.756Z"
   },
   {
    "duration": 151,
    "start_time": "2022-05-04T06:03:46.953Z"
   },
   {
    "duration": 5,
    "start_time": "2022-05-04T06:03:47.105Z"
   },
   {
    "duration": 7,
    "start_time": "2022-05-04T06:03:47.111Z"
   },
   {
    "duration": 162,
    "start_time": "2022-05-04T06:03:47.121Z"
   },
   {
    "duration": 4,
    "start_time": "2022-05-04T06:03:47.285Z"
   },
   {
    "duration": 15,
    "start_time": "2022-05-04T06:03:47.290Z"
   },
   {
    "duration": 27,
    "start_time": "2022-05-04T06:03:47.306Z"
   },
   {
    "duration": 5,
    "start_time": "2022-05-04T06:03:47.335Z"
   },
   {
    "duration": 10,
    "start_time": "2022-05-04T06:03:47.342Z"
   },
   {
    "duration": 8,
    "start_time": "2022-05-04T06:03:47.353Z"
   },
   {
    "duration": 4,
    "start_time": "2022-05-04T06:03:47.363Z"
   },
   {
    "duration": 6,
    "start_time": "2022-05-04T06:03:47.368Z"
   },
   {
    "duration": 173,
    "start_time": "2022-05-04T06:03:47.400Z"
   },
   {
    "duration": 9,
    "start_time": "2022-05-04T06:03:47.574Z"
   },
   {
    "duration": 17,
    "start_time": "2022-05-04T06:03:47.584Z"
   },
   {
    "duration": 186,
    "start_time": "2022-05-04T06:03:47.603Z"
   },
   {
    "duration": 11,
    "start_time": "2022-05-04T06:03:47.791Z"
   },
   {
    "duration": 7,
    "start_time": "2022-05-04T06:03:47.804Z"
   },
   {
    "duration": 4,
    "start_time": "2022-05-04T06:03:47.813Z"
   },
   {
    "duration": 196,
    "start_time": "2022-05-04T06:03:47.818Z"
   },
   {
    "duration": 9,
    "start_time": "2022-05-04T06:03:48.016Z"
   },
   {
    "duration": 6,
    "start_time": "2022-05-04T06:03:48.027Z"
   },
   {
    "duration": 13,
    "start_time": "2022-05-04T06:03:48.034Z"
   },
   {
    "duration": 7,
    "start_time": "2022-05-04T06:03:48.048Z"
   },
   {
    "duration": 23,
    "start_time": "2022-05-04T06:03:48.056Z"
   },
   {
    "duration": 102,
    "start_time": "2022-05-04T06:03:48.081Z"
   },
   {
    "duration": 15,
    "start_time": "2022-05-04T06:03:48.185Z"
   },
   {
    "duration": 3185,
    "start_time": "2022-05-04T06:08:59.386Z"
   },
   {
    "duration": 1152,
    "start_time": "2022-05-04T06:09:09.526Z"
   },
   {
    "duration": 23,
    "start_time": "2022-05-04T06:09:10.680Z"
   },
   {
    "duration": 10,
    "start_time": "2022-05-04T06:09:10.704Z"
   },
   {
    "duration": 186,
    "start_time": "2022-05-04T06:09:10.715Z"
   },
   {
    "duration": 9,
    "start_time": "2022-05-04T06:09:10.903Z"
   },
   {
    "duration": 130,
    "start_time": "2022-05-04T06:09:10.914Z"
   },
   {
    "duration": 58,
    "start_time": "2022-05-04T06:09:11.046Z"
   },
   {
    "duration": 23,
    "start_time": "2022-05-04T06:09:11.106Z"
   },
   {
    "duration": 15,
    "start_time": "2022-05-04T06:09:11.131Z"
   },
   {
    "duration": 26,
    "start_time": "2022-05-04T06:09:11.148Z"
   },
   {
    "duration": 93,
    "start_time": "2022-05-04T06:09:11.200Z"
   },
   {
    "duration": 53,
    "start_time": "2022-05-04T06:09:11.295Z"
   },
   {
    "duration": 51,
    "start_time": "2022-05-04T06:09:11.350Z"
   },
   {
    "duration": 23,
    "start_time": "2022-05-04T06:09:11.404Z"
   },
   {
    "duration": 7,
    "start_time": "2022-05-04T06:09:11.429Z"
   },
   {
    "duration": 143,
    "start_time": "2022-05-04T06:09:11.437Z"
   },
   {
    "duration": 109,
    "start_time": "2022-05-04T06:09:11.582Z"
   },
   {
    "duration": 16,
    "start_time": "2022-05-04T06:09:11.693Z"
   },
   {
    "duration": 24,
    "start_time": "2022-05-04T06:09:11.710Z"
   },
   {
    "duration": 6,
    "start_time": "2022-05-04T06:09:11.736Z"
   },
   {
    "duration": 40,
    "start_time": "2022-05-04T06:09:11.744Z"
   },
   {
    "duration": 3049,
    "start_time": "2022-05-04T06:09:11.785Z"
   },
   {
    "duration": 0,
    "start_time": "2022-05-04T06:09:14.837Z"
   },
   {
    "duration": 0,
    "start_time": "2022-05-04T06:09:14.838Z"
   },
   {
    "duration": 0,
    "start_time": "2022-05-04T06:09:14.841Z"
   },
   {
    "duration": 0,
    "start_time": "2022-05-04T06:09:14.842Z"
   },
   {
    "duration": 0,
    "start_time": "2022-05-04T06:09:14.842Z"
   },
   {
    "duration": 0,
    "start_time": "2022-05-04T06:09:14.843Z"
   },
   {
    "duration": 0,
    "start_time": "2022-05-04T06:09:14.844Z"
   },
   {
    "duration": 0,
    "start_time": "2022-05-04T06:09:14.845Z"
   },
   {
    "duration": 0,
    "start_time": "2022-05-04T06:09:14.846Z"
   },
   {
    "duration": 0,
    "start_time": "2022-05-04T06:09:14.847Z"
   },
   {
    "duration": 0,
    "start_time": "2022-05-04T06:09:14.848Z"
   },
   {
    "duration": 0,
    "start_time": "2022-05-04T06:09:14.849Z"
   },
   {
    "duration": 0,
    "start_time": "2022-05-04T06:09:14.850Z"
   },
   {
    "duration": 0,
    "start_time": "2022-05-04T06:09:14.851Z"
   },
   {
    "duration": 0,
    "start_time": "2022-05-04T06:09:14.852Z"
   },
   {
    "duration": 0,
    "start_time": "2022-05-04T06:09:14.853Z"
   },
   {
    "duration": 0,
    "start_time": "2022-05-04T06:09:14.854Z"
   },
   {
    "duration": 0,
    "start_time": "2022-05-04T06:09:14.855Z"
   },
   {
    "duration": 0,
    "start_time": "2022-05-04T06:09:14.856Z"
   },
   {
    "duration": 0,
    "start_time": "2022-05-04T06:09:14.856Z"
   },
   {
    "duration": 0,
    "start_time": "2022-05-04T06:09:14.857Z"
   },
   {
    "duration": 0,
    "start_time": "2022-05-04T06:09:14.858Z"
   },
   {
    "duration": 0,
    "start_time": "2022-05-04T06:09:14.859Z"
   },
   {
    "duration": 0,
    "start_time": "2022-05-04T06:09:14.860Z"
   },
   {
    "duration": 0,
    "start_time": "2022-05-04T06:09:14.861Z"
   },
   {
    "duration": 0,
    "start_time": "2022-05-04T06:09:14.862Z"
   },
   {
    "duration": 0,
    "start_time": "2022-05-04T06:09:14.863Z"
   },
   {
    "duration": 0,
    "start_time": "2022-05-04T06:09:14.864Z"
   },
   {
    "duration": 0,
    "start_time": "2022-05-04T06:09:14.865Z"
   },
   {
    "duration": 0,
    "start_time": "2022-05-04T06:09:14.866Z"
   },
   {
    "duration": 0,
    "start_time": "2022-05-04T06:09:14.867Z"
   },
   {
    "duration": 0,
    "start_time": "2022-05-04T06:09:14.868Z"
   },
   {
    "duration": 0,
    "start_time": "2022-05-04T06:09:14.869Z"
   },
   {
    "duration": 0,
    "start_time": "2022-05-04T06:09:14.870Z"
   },
   {
    "duration": 0,
    "start_time": "2022-05-04T06:09:14.871Z"
   },
   {
    "duration": 0,
    "start_time": "2022-05-04T06:09:14.872Z"
   },
   {
    "duration": 0,
    "start_time": "2022-05-04T06:09:14.873Z"
   },
   {
    "duration": 0,
    "start_time": "2022-05-04T06:09:14.874Z"
   },
   {
    "duration": 0,
    "start_time": "2022-05-04T06:09:14.875Z"
   },
   {
    "duration": 0,
    "start_time": "2022-05-04T06:09:14.901Z"
   },
   {
    "duration": 0,
    "start_time": "2022-05-04T06:09:14.902Z"
   },
   {
    "duration": 0,
    "start_time": "2022-05-04T06:09:14.903Z"
   },
   {
    "duration": 17,
    "start_time": "2022-05-04T06:09:39.927Z"
   },
   {
    "duration": 1129,
    "start_time": "2022-05-04T06:09:49.815Z"
   },
   {
    "duration": 34,
    "start_time": "2022-05-04T06:09:50.946Z"
   },
   {
    "duration": 10,
    "start_time": "2022-05-04T06:09:50.982Z"
   },
   {
    "duration": 185,
    "start_time": "2022-05-04T06:09:50.993Z"
   },
   {
    "duration": 19,
    "start_time": "2022-05-04T06:09:51.181Z"
   },
   {
    "duration": 125,
    "start_time": "2022-05-04T06:09:51.201Z"
   },
   {
    "duration": 47,
    "start_time": "2022-05-04T06:09:51.328Z"
   },
   {
    "duration": 34,
    "start_time": "2022-05-04T06:09:51.377Z"
   },
   {
    "duration": 16,
    "start_time": "2022-05-04T06:09:51.412Z"
   },
   {
    "duration": 25,
    "start_time": "2022-05-04T06:09:51.430Z"
   },
   {
    "duration": 106,
    "start_time": "2022-05-04T06:09:51.456Z"
   },
   {
    "duration": 61,
    "start_time": "2022-05-04T06:09:51.564Z"
   },
   {
    "duration": 44,
    "start_time": "2022-05-04T06:09:51.627Z"
   },
   {
    "duration": 40,
    "start_time": "2022-05-04T06:09:51.674Z"
   },
   {
    "duration": 6,
    "start_time": "2022-05-04T06:09:51.716Z"
   },
   {
    "duration": 153,
    "start_time": "2022-05-04T06:09:51.723Z"
   },
   {
    "duration": 104,
    "start_time": "2022-05-04T06:09:51.878Z"
   },
   {
    "duration": 16,
    "start_time": "2022-05-04T06:09:51.984Z"
   },
   {
    "duration": 27,
    "start_time": "2022-05-04T06:09:52.001Z"
   },
   {
    "duration": 7,
    "start_time": "2022-05-04T06:09:52.030Z"
   },
   {
    "duration": 55,
    "start_time": "2022-05-04T06:09:52.038Z"
   },
   {
    "duration": 15,
    "start_time": "2022-05-04T06:09:52.095Z"
   },
   {
    "duration": 17,
    "start_time": "2022-05-04T06:09:52.112Z"
   },
   {
    "duration": 23,
    "start_time": "2022-05-04T06:09:52.130Z"
   },
   {
    "duration": 20,
    "start_time": "2022-05-04T06:09:52.155Z"
   },
   {
    "duration": 30,
    "start_time": "2022-05-04T06:09:52.176Z"
   },
   {
    "duration": 14,
    "start_time": "2022-05-04T06:09:52.208Z"
   },
   {
    "duration": 8,
    "start_time": "2022-05-04T06:09:52.223Z"
   },
   {
    "duration": 61,
    "start_time": "2022-05-04T06:09:52.232Z"
   },
   {
    "duration": 15,
    "start_time": "2022-05-04T06:09:52.299Z"
   },
   {
    "duration": 6,
    "start_time": "2022-05-04T06:09:52.316Z"
   },
   {
    "duration": 30,
    "start_time": "2022-05-04T06:09:52.324Z"
   },
   {
    "duration": 6,
    "start_time": "2022-05-04T06:09:52.355Z"
   },
   {
    "duration": 14,
    "start_time": "2022-05-04T06:09:52.363Z"
   },
   {
    "duration": 24,
    "start_time": "2022-05-04T06:09:52.378Z"
   },
   {
    "duration": 9,
    "start_time": "2022-05-04T06:09:52.403Z"
   },
   {
    "duration": 176,
    "start_time": "2022-05-04T06:09:52.413Z"
   },
   {
    "duration": 148,
    "start_time": "2022-05-04T06:09:52.591Z"
   },
   {
    "duration": 5,
    "start_time": "2022-05-04T06:09:52.740Z"
   },
   {
    "duration": 8,
    "start_time": "2022-05-04T06:09:52.746Z"
   },
   {
    "duration": 162,
    "start_time": "2022-05-04T06:09:52.757Z"
   },
   {
    "duration": 4,
    "start_time": "2022-05-04T06:09:52.921Z"
   },
   {
    "duration": 21,
    "start_time": "2022-05-04T06:09:52.926Z"
   },
   {
    "duration": 25,
    "start_time": "2022-05-04T06:09:52.948Z"
   },
   {
    "duration": 5,
    "start_time": "2022-05-04T06:09:52.974Z"
   },
   {
    "duration": 7,
    "start_time": "2022-05-04T06:09:52.981Z"
   },
   {
    "duration": 12,
    "start_time": "2022-05-04T06:09:52.990Z"
   },
   {
    "duration": 7,
    "start_time": "2022-05-04T06:09:53.003Z"
   },
   {
    "duration": 7,
    "start_time": "2022-05-04T06:09:53.011Z"
   },
   {
    "duration": 177,
    "start_time": "2022-05-04T06:09:53.019Z"
   },
   {
    "duration": 9,
    "start_time": "2022-05-04T06:09:53.198Z"
   },
   {
    "duration": 5,
    "start_time": "2022-05-04T06:09:53.209Z"
   },
   {
    "duration": 191,
    "start_time": "2022-05-04T06:09:53.216Z"
   },
   {
    "duration": 8,
    "start_time": "2022-05-04T06:09:53.409Z"
   },
   {
    "duration": 24,
    "start_time": "2022-05-04T06:09:53.418Z"
   },
   {
    "duration": 20,
    "start_time": "2022-05-04T06:09:53.443Z"
   },
   {
    "duration": 204,
    "start_time": "2022-05-04T06:09:53.465Z"
   },
   {
    "duration": 10,
    "start_time": "2022-05-04T06:09:53.670Z"
   },
   {
    "duration": 19,
    "start_time": "2022-05-04T06:09:53.681Z"
   },
   {
    "duration": 11,
    "start_time": "2022-05-04T06:09:53.701Z"
   },
   {
    "duration": 8,
    "start_time": "2022-05-04T06:09:53.714Z"
   },
   {
    "duration": 23,
    "start_time": "2022-05-04T06:09:53.723Z"
   },
   {
    "duration": 98,
    "start_time": "2022-05-04T06:09:53.748Z"
   },
   {
    "duration": 5,
    "start_time": "2022-05-04T06:09:53.847Z"
   },
   {
    "duration": 95,
    "start_time": "2022-05-04T06:17:10.174Z"
   },
   {
    "duration": 11,
    "start_time": "2022-05-04T06:17:27.031Z"
   },
   {
    "duration": 3240,
    "start_time": "2022-05-04T06:17:39.942Z"
   },
   {
    "duration": 5,
    "start_time": "2022-05-04T06:21:05.831Z"
   },
   {
    "duration": 1170,
    "start_time": "2022-05-04T06:21:34.975Z"
   },
   {
    "duration": 23,
    "start_time": "2022-05-04T06:21:36.147Z"
   },
   {
    "duration": 11,
    "start_time": "2022-05-04T06:21:36.172Z"
   },
   {
    "duration": 189,
    "start_time": "2022-05-04T06:21:36.185Z"
   },
   {
    "duration": 31,
    "start_time": "2022-05-04T06:21:36.376Z"
   },
   {
    "duration": 135,
    "start_time": "2022-05-04T06:21:36.408Z"
   },
   {
    "duration": 58,
    "start_time": "2022-05-04T06:21:36.545Z"
   },
   {
    "duration": 24,
    "start_time": "2022-05-04T06:21:36.604Z"
   },
   {
    "duration": 16,
    "start_time": "2022-05-04T06:21:36.630Z"
   },
   {
    "duration": 53,
    "start_time": "2022-05-04T06:21:36.649Z"
   },
   {
    "duration": 99,
    "start_time": "2022-05-04T06:21:36.704Z"
   },
   {
    "duration": 56,
    "start_time": "2022-05-04T06:21:36.805Z"
   },
   {
    "duration": 56,
    "start_time": "2022-05-04T06:21:36.863Z"
   },
   {
    "duration": 23,
    "start_time": "2022-05-04T06:21:36.920Z"
   },
   {
    "duration": 6,
    "start_time": "2022-05-04T06:21:36.945Z"
   },
   {
    "duration": 150,
    "start_time": "2022-05-04T06:21:36.952Z"
   },
   {
    "duration": 110,
    "start_time": "2022-05-04T06:21:37.103Z"
   },
   {
    "duration": 12,
    "start_time": "2022-05-04T06:21:37.214Z"
   },
   {
    "duration": 23,
    "start_time": "2022-05-04T06:21:37.228Z"
   },
   {
    "duration": 6,
    "start_time": "2022-05-04T06:21:37.253Z"
   },
   {
    "duration": 41,
    "start_time": "2022-05-04T06:21:37.260Z"
   },
   {
    "duration": 15,
    "start_time": "2022-05-04T06:21:37.302Z"
   },
   {
    "duration": 16,
    "start_time": "2022-05-04T06:21:37.318Z"
   },
   {
    "duration": 18,
    "start_time": "2022-05-04T06:21:37.335Z"
   },
   {
    "duration": 46,
    "start_time": "2022-05-04T06:21:37.354Z"
   },
   {
    "duration": 8,
    "start_time": "2022-05-04T06:21:37.401Z"
   },
   {
    "duration": 13,
    "start_time": "2022-05-04T06:21:37.410Z"
   },
   {
    "duration": 6,
    "start_time": "2022-05-04T06:21:37.426Z"
   },
   {
    "duration": 5,
    "start_time": "2022-05-04T06:21:37.434Z"
   },
   {
    "duration": 17,
    "start_time": "2022-05-04T06:21:37.440Z"
   },
   {
    "duration": 6,
    "start_time": "2022-05-04T06:21:37.459Z"
   },
   {
    "duration": 45,
    "start_time": "2022-05-04T06:21:37.466Z"
   },
   {
    "duration": 5,
    "start_time": "2022-05-04T06:21:37.513Z"
   },
   {
    "duration": 12,
    "start_time": "2022-05-04T06:21:37.519Z"
   },
   {
    "duration": 8,
    "start_time": "2022-05-04T06:21:37.532Z"
   },
   {
    "duration": 6,
    "start_time": "2022-05-04T06:21:37.541Z"
   },
   {
    "duration": 188,
    "start_time": "2022-05-04T06:21:37.549Z"
   },
   {
    "duration": 151,
    "start_time": "2022-05-04T06:21:37.739Z"
   },
   {
    "duration": 8,
    "start_time": "2022-05-04T06:21:37.892Z"
   },
   {
    "duration": 5,
    "start_time": "2022-05-04T06:21:37.902Z"
   },
   {
    "duration": 164,
    "start_time": "2022-05-04T06:21:37.908Z"
   },
   {
    "duration": 3155,
    "start_time": "2022-05-04T06:21:38.073Z"
   },
   {
    "duration": 0,
    "start_time": "2022-05-04T06:21:41.230Z"
   },
   {
    "duration": 0,
    "start_time": "2022-05-04T06:21:41.231Z"
   },
   {
    "duration": 0,
    "start_time": "2022-05-04T06:21:41.232Z"
   },
   {
    "duration": 0,
    "start_time": "2022-05-04T06:21:41.233Z"
   },
   {
    "duration": 0,
    "start_time": "2022-05-04T06:21:41.234Z"
   },
   {
    "duration": 0,
    "start_time": "2022-05-04T06:21:41.235Z"
   },
   {
    "duration": 0,
    "start_time": "2022-05-04T06:21:41.236Z"
   },
   {
    "duration": 0,
    "start_time": "2022-05-04T06:21:41.236Z"
   },
   {
    "duration": 0,
    "start_time": "2022-05-04T06:21:41.237Z"
   },
   {
    "duration": 0,
    "start_time": "2022-05-04T06:21:41.238Z"
   },
   {
    "duration": 0,
    "start_time": "2022-05-04T06:21:41.239Z"
   },
   {
    "duration": 0,
    "start_time": "2022-05-04T06:21:41.241Z"
   },
   {
    "duration": 0,
    "start_time": "2022-05-04T06:21:41.242Z"
   },
   {
    "duration": 0,
    "start_time": "2022-05-04T06:21:41.243Z"
   },
   {
    "duration": 0,
    "start_time": "2022-05-04T06:21:41.244Z"
   },
   {
    "duration": 0,
    "start_time": "2022-05-04T06:21:41.245Z"
   },
   {
    "duration": 0,
    "start_time": "2022-05-04T06:21:41.246Z"
   },
   {
    "duration": 0,
    "start_time": "2022-05-04T06:21:41.247Z"
   },
   {
    "duration": 0,
    "start_time": "2022-05-04T06:21:41.248Z"
   },
   {
    "duration": 0,
    "start_time": "2022-05-04T06:21:41.248Z"
   },
   {
    "duration": 0,
    "start_time": "2022-05-04T06:21:41.249Z"
   },
   {
    "duration": 0,
    "start_time": "2022-05-04T06:21:41.251Z"
   },
   {
    "duration": 11,
    "start_time": "2022-05-04T06:22:40.072Z"
   },
   {
    "duration": 2897,
    "start_time": "2022-05-04T06:24:07.377Z"
   },
   {
    "duration": 4761,
    "start_time": "2022-05-04T06:24:22.625Z"
   },
   {
    "duration": 11,
    "start_time": "2022-05-04T06:26:14.743Z"
   },
   {
    "duration": 3366,
    "start_time": "2022-05-04T06:27:10.793Z"
   },
   {
    "duration": 18,
    "start_time": "2022-05-04T06:28:28.970Z"
   },
   {
    "duration": 21,
    "start_time": "2022-05-04T06:29:32.585Z"
   },
   {
    "duration": 50,
    "start_time": "2022-05-04T06:31:07.752Z"
   },
   {
    "duration": 1190,
    "start_time": "2022-05-04T06:33:34.781Z"
   },
   {
    "duration": 35,
    "start_time": "2022-05-04T06:33:35.973Z"
   },
   {
    "duration": 10,
    "start_time": "2022-05-04T06:33:36.009Z"
   },
   {
    "duration": 196,
    "start_time": "2022-05-04T06:33:36.021Z"
   },
   {
    "duration": 10,
    "start_time": "2022-05-04T06:33:36.219Z"
   },
   {
    "duration": 144,
    "start_time": "2022-05-04T06:33:36.231Z"
   },
   {
    "duration": 59,
    "start_time": "2022-05-04T06:33:36.377Z"
   },
   {
    "duration": 22,
    "start_time": "2022-05-04T06:33:36.438Z"
   },
   {
    "duration": 16,
    "start_time": "2022-05-04T06:33:36.461Z"
   },
   {
    "duration": 46,
    "start_time": "2022-05-04T06:33:36.478Z"
   },
   {
    "duration": 101,
    "start_time": "2022-05-04T06:33:36.525Z"
   },
   {
    "duration": 56,
    "start_time": "2022-05-04T06:33:36.628Z"
   },
   {
    "duration": 57,
    "start_time": "2022-05-04T06:33:36.685Z"
   },
   {
    "duration": 24,
    "start_time": "2022-05-04T06:33:36.745Z"
   },
   {
    "duration": 6,
    "start_time": "2022-05-04T06:33:36.771Z"
   },
   {
    "duration": 159,
    "start_time": "2022-05-04T06:33:36.779Z"
   },
   {
    "duration": 107,
    "start_time": "2022-05-04T06:33:36.940Z"
   },
   {
    "duration": 11,
    "start_time": "2022-05-04T06:33:37.048Z"
   },
   {
    "duration": 42,
    "start_time": "2022-05-04T06:33:37.061Z"
   },
   {
    "duration": 7,
    "start_time": "2022-05-04T06:33:37.104Z"
   },
   {
    "duration": 87,
    "start_time": "2022-05-04T06:33:37.112Z"
   },
   {
    "duration": 14,
    "start_time": "2022-05-04T06:33:37.200Z"
   },
   {
    "duration": 20,
    "start_time": "2022-05-04T06:33:37.216Z"
   },
   {
    "duration": 20,
    "start_time": "2022-05-04T06:33:37.237Z"
   },
   {
    "duration": 44,
    "start_time": "2022-05-04T06:33:37.259Z"
   },
   {
    "duration": 9,
    "start_time": "2022-05-04T06:33:37.305Z"
   },
   {
    "duration": 15,
    "start_time": "2022-05-04T06:33:37.316Z"
   },
   {
    "duration": 6,
    "start_time": "2022-05-04T06:33:37.333Z"
   },
   {
    "duration": 78,
    "start_time": "2022-05-04T06:33:37.340Z"
   },
   {
    "duration": 14,
    "start_time": "2022-05-04T06:33:37.420Z"
   },
   {
    "duration": 7,
    "start_time": "2022-05-04T06:33:37.436Z"
   },
   {
    "duration": 23,
    "start_time": "2022-05-04T06:33:37.444Z"
   },
   {
    "duration": 6,
    "start_time": "2022-05-04T06:33:37.468Z"
   },
   {
    "duration": 3,
    "start_time": "2022-05-04T06:33:37.501Z"
   },
   {
    "duration": 12,
    "start_time": "2022-05-04T06:33:37.505Z"
   },
   {
    "duration": 5,
    "start_time": "2022-05-04T06:33:37.518Z"
   },
   {
    "duration": 192,
    "start_time": "2022-05-04T06:33:37.524Z"
   },
   {
    "duration": 150,
    "start_time": "2022-05-04T06:33:37.717Z"
   },
   {
    "duration": 5,
    "start_time": "2022-05-04T06:33:37.868Z"
   },
   {
    "duration": 25,
    "start_time": "2022-05-04T06:33:37.875Z"
   },
   {
    "duration": 158,
    "start_time": "2022-05-04T06:33:37.904Z"
   },
   {
    "duration": 4,
    "start_time": "2022-05-04T06:33:38.063Z"
   },
   {
    "duration": 15,
    "start_time": "2022-05-04T06:33:38.069Z"
   },
   {
    "duration": 32,
    "start_time": "2022-05-04T06:33:38.086Z"
   },
   {
    "duration": 6,
    "start_time": "2022-05-04T06:33:38.119Z"
   },
   {
    "duration": 13,
    "start_time": "2022-05-04T06:33:38.126Z"
   },
   {
    "duration": 28,
    "start_time": "2022-05-04T06:33:38.140Z"
   },
   {
    "duration": 18,
    "start_time": "2022-05-04T06:33:38.170Z"
   },
   {
    "duration": 11,
    "start_time": "2022-05-04T06:33:38.189Z"
   },
   {
    "duration": 177,
    "start_time": "2022-05-04T06:33:38.201Z"
   },
   {
    "duration": 10,
    "start_time": "2022-05-04T06:33:38.380Z"
   },
   {
    "duration": 16,
    "start_time": "2022-05-04T06:33:38.391Z"
   },
   {
    "duration": 189,
    "start_time": "2022-05-04T06:33:38.408Z"
   },
   {
    "duration": 9,
    "start_time": "2022-05-04T06:33:38.599Z"
   },
   {
    "duration": 15,
    "start_time": "2022-05-04T06:33:38.610Z"
   },
   {
    "duration": 9,
    "start_time": "2022-05-04T06:33:38.626Z"
   },
   {
    "duration": 186,
    "start_time": "2022-05-04T06:33:38.636Z"
   },
   {
    "duration": 10,
    "start_time": "2022-05-04T06:33:38.824Z"
   },
   {
    "duration": 16,
    "start_time": "2022-05-04T06:33:38.835Z"
   },
   {
    "duration": 20,
    "start_time": "2022-05-04T06:33:38.853Z"
   },
   {
    "duration": 7,
    "start_time": "2022-05-04T06:33:38.875Z"
   },
   {
    "duration": 27,
    "start_time": "2022-05-04T06:33:38.884Z"
   },
   {
    "duration": 99,
    "start_time": "2022-05-04T06:33:38.912Z"
   },
   {
    "duration": 5,
    "start_time": "2022-05-04T06:33:39.013Z"
   },
   {
    "duration": 1174,
    "start_time": "2022-05-04T06:40:30.494Z"
   },
   {
    "duration": 25,
    "start_time": "2022-05-04T06:40:31.670Z"
   },
   {
    "duration": 12,
    "start_time": "2022-05-04T06:40:31.697Z"
   },
   {
    "duration": 197,
    "start_time": "2022-05-04T06:40:31.711Z"
   },
   {
    "duration": 10,
    "start_time": "2022-05-04T06:40:31.910Z"
   },
   {
    "duration": 140,
    "start_time": "2022-05-04T06:40:31.922Z"
   },
   {
    "duration": 58,
    "start_time": "2022-05-04T06:40:32.063Z"
   },
   {
    "duration": 22,
    "start_time": "2022-05-04T06:40:32.122Z"
   },
   {
    "duration": 22,
    "start_time": "2022-05-04T06:40:32.146Z"
   },
   {
    "duration": 42,
    "start_time": "2022-05-04T06:40:32.171Z"
   },
   {
    "duration": 101,
    "start_time": "2022-05-04T06:40:32.214Z"
   },
   {
    "duration": 57,
    "start_time": "2022-05-04T06:40:32.317Z"
   },
   {
    "duration": 61,
    "start_time": "2022-05-04T06:40:32.376Z"
   },
   {
    "duration": 25,
    "start_time": "2022-05-04T06:40:32.439Z"
   },
   {
    "duration": 7,
    "start_time": "2022-05-04T06:40:32.466Z"
   },
   {
    "duration": 155,
    "start_time": "2022-05-04T06:40:32.475Z"
   },
   {
    "duration": 121,
    "start_time": "2022-05-04T06:40:32.631Z"
   },
   {
    "duration": 12,
    "start_time": "2022-05-04T06:40:32.753Z"
   },
   {
    "duration": 40,
    "start_time": "2022-05-04T06:40:32.766Z"
   },
   {
    "duration": 6,
    "start_time": "2022-05-04T06:40:32.808Z"
   },
   {
    "duration": 54,
    "start_time": "2022-05-04T06:40:32.816Z"
   },
   {
    "duration": 15,
    "start_time": "2022-05-04T06:40:32.872Z"
   },
   {
    "duration": 17,
    "start_time": "2022-05-04T06:40:32.888Z"
   },
   {
    "duration": 18,
    "start_time": "2022-05-04T06:40:32.906Z"
   },
   {
    "duration": 19,
    "start_time": "2022-05-04T06:40:32.925Z"
   },
   {
    "duration": 8,
    "start_time": "2022-05-04T06:40:32.946Z"
   },
   {
    "duration": 15,
    "start_time": "2022-05-04T06:40:32.955Z"
   },
   {
    "duration": 7,
    "start_time": "2022-05-04T06:40:33.002Z"
   },
   {
    "duration": 48,
    "start_time": "2022-05-04T06:40:33.011Z"
   },
   {
    "duration": 14,
    "start_time": "2022-05-04T06:40:33.061Z"
   },
   {
    "duration": 24,
    "start_time": "2022-05-04T06:40:33.077Z"
   },
   {
    "duration": 23,
    "start_time": "2022-05-04T06:40:33.102Z"
   },
   {
    "duration": 5,
    "start_time": "2022-05-04T06:40:33.127Z"
   },
   {
    "duration": 6,
    "start_time": "2022-05-04T06:40:33.133Z"
   },
   {
    "duration": 10,
    "start_time": "2022-05-04T06:40:33.140Z"
   },
   {
    "duration": 6,
    "start_time": "2022-05-04T06:40:33.152Z"
   },
   {
    "duration": 207,
    "start_time": "2022-05-04T06:40:33.160Z"
   },
   {
    "duration": 157,
    "start_time": "2022-05-04T06:40:33.369Z"
   },
   {
    "duration": 4,
    "start_time": "2022-05-04T06:40:33.528Z"
   },
   {
    "duration": 7,
    "start_time": "2022-05-04T06:40:33.533Z"
   },
   {
    "duration": 165,
    "start_time": "2022-05-04T06:40:33.541Z"
   },
   {
    "duration": 4,
    "start_time": "2022-05-04T06:40:33.707Z"
   },
   {
    "duration": 9,
    "start_time": "2022-05-04T06:40:33.713Z"
   },
   {
    "duration": 23,
    "start_time": "2022-05-04T06:40:33.724Z"
   },
   {
    "duration": 6,
    "start_time": "2022-05-04T06:40:33.749Z"
   },
   {
    "duration": 7,
    "start_time": "2022-05-04T06:40:33.756Z"
   },
   {
    "duration": 8,
    "start_time": "2022-05-04T06:40:33.764Z"
   },
   {
    "duration": 29,
    "start_time": "2022-05-04T06:40:33.773Z"
   },
   {
    "duration": 6,
    "start_time": "2022-05-04T06:40:33.803Z"
   },
   {
    "duration": 176,
    "start_time": "2022-05-04T06:40:33.811Z"
   },
   {
    "duration": 13,
    "start_time": "2022-05-04T06:40:33.988Z"
   },
   {
    "duration": 9,
    "start_time": "2022-05-04T06:40:34.002Z"
   },
   {
    "duration": 179,
    "start_time": "2022-05-04T06:40:34.012Z"
   },
   {
    "duration": 13,
    "start_time": "2022-05-04T06:40:34.192Z"
   },
   {
    "duration": 11,
    "start_time": "2022-05-04T06:40:34.207Z"
   },
   {
    "duration": 4,
    "start_time": "2022-05-04T06:40:34.220Z"
   },
   {
    "duration": 186,
    "start_time": "2022-05-04T06:40:34.226Z"
   },
   {
    "duration": 9,
    "start_time": "2022-05-04T06:40:34.414Z"
   },
   {
    "duration": 6,
    "start_time": "2022-05-04T06:40:34.425Z"
   },
   {
    "duration": 16,
    "start_time": "2022-05-04T06:40:34.432Z"
   },
   {
    "duration": 7,
    "start_time": "2022-05-04T06:40:34.450Z"
   },
   {
    "duration": 43,
    "start_time": "2022-05-04T06:40:34.458Z"
   },
   {
    "duration": 103,
    "start_time": "2022-05-04T06:40:34.503Z"
   },
   {
    "duration": 4,
    "start_time": "2022-05-04T06:40:34.608Z"
   },
   {
    "duration": 1764,
    "start_time": "2022-05-04T08:57:16.147Z"
   },
   {
    "duration": 32,
    "start_time": "2022-05-04T08:57:17.915Z"
   },
   {
    "duration": 17,
    "start_time": "2022-05-04T08:57:17.949Z"
   },
   {
    "duration": 271,
    "start_time": "2022-05-04T08:57:17.968Z"
   },
   {
    "duration": 13,
    "start_time": "2022-05-04T08:57:18.243Z"
   },
   {
    "duration": 209,
    "start_time": "2022-05-04T08:57:18.258Z"
   },
   {
    "duration": 86,
    "start_time": "2022-05-04T08:57:18.469Z"
   },
   {
    "duration": 46,
    "start_time": "2022-05-04T08:57:18.558Z"
   },
   {
    "duration": 23,
    "start_time": "2022-05-04T08:57:18.606Z"
   },
   {
    "duration": 67,
    "start_time": "2022-05-04T08:57:18.631Z"
   },
   {
    "duration": 150,
    "start_time": "2022-05-04T08:57:18.700Z"
   },
   {
    "duration": 104,
    "start_time": "2022-05-04T08:57:18.852Z"
   },
   {
    "duration": 80,
    "start_time": "2022-05-04T08:57:18.958Z"
   },
   {
    "duration": 60,
    "start_time": "2022-05-04T08:57:19.042Z"
   },
   {
    "duration": 10,
    "start_time": "2022-05-04T08:57:19.105Z"
   },
   {
    "duration": 202,
    "start_time": "2022-05-04T08:57:19.117Z"
   },
   {
    "duration": 199,
    "start_time": "2022-05-04T08:57:19.321Z"
   },
   {
    "duration": 19,
    "start_time": "2022-05-04T08:57:19.522Z"
   },
   {
    "duration": 66,
    "start_time": "2022-05-04T08:57:19.543Z"
   },
   {
    "duration": 10,
    "start_time": "2022-05-04T08:57:19.611Z"
   },
   {
    "duration": 42,
    "start_time": "2022-05-04T08:57:19.623Z"
   },
   {
    "duration": 36,
    "start_time": "2022-05-04T08:57:19.667Z"
   },
   {
    "duration": 29,
    "start_time": "2022-05-04T08:57:19.705Z"
   },
   {
    "duration": 64,
    "start_time": "2022-05-04T08:57:19.736Z"
   },
   {
    "duration": 32,
    "start_time": "2022-05-04T08:57:19.802Z"
   },
   {
    "duration": 14,
    "start_time": "2022-05-04T08:57:19.836Z"
   },
   {
    "duration": 23,
    "start_time": "2022-05-04T08:57:19.882Z"
   },
   {
    "duration": 11,
    "start_time": "2022-05-04T08:57:19.907Z"
   },
   {
    "duration": 121,
    "start_time": "2022-05-04T08:57:19.920Z"
   },
   {
    "duration": 25,
    "start_time": "2022-05-04T08:57:20.043Z"
   },
   {
    "duration": 11,
    "start_time": "2022-05-04T08:57:20.082Z"
   },
   {
    "duration": 41,
    "start_time": "2022-05-04T08:57:20.095Z"
   },
   {
    "duration": 9,
    "start_time": "2022-05-04T08:57:20.138Z"
   },
   {
    "duration": 34,
    "start_time": "2022-05-04T08:57:20.149Z"
   },
   {
    "duration": 13,
    "start_time": "2022-05-04T08:57:20.185Z"
   },
   {
    "duration": 8,
    "start_time": "2022-05-04T08:57:20.200Z"
   },
   {
    "duration": 354,
    "start_time": "2022-05-04T08:57:20.210Z"
   },
   {
    "duration": 281,
    "start_time": "2022-05-04T08:57:20.566Z"
   },
   {
    "duration": 6,
    "start_time": "2022-05-04T08:57:20.849Z"
   },
   {
    "duration": 27,
    "start_time": "2022-05-04T08:57:20.857Z"
   },
   {
    "duration": 306,
    "start_time": "2022-05-04T08:57:20.890Z"
   },
   {
    "duration": 6,
    "start_time": "2022-05-04T08:57:21.198Z"
   },
   {
    "duration": 26,
    "start_time": "2022-05-04T08:57:21.207Z"
   },
   {
    "duration": 57,
    "start_time": "2022-05-04T08:57:21.235Z"
   },
   {
    "duration": 9,
    "start_time": "2022-05-04T08:57:21.294Z"
   },
   {
    "duration": 17,
    "start_time": "2022-05-04T08:57:21.305Z"
   },
   {
    "duration": 29,
    "start_time": "2022-05-04T08:57:21.324Z"
   },
   {
    "duration": 9,
    "start_time": "2022-05-04T08:57:21.355Z"
   },
   {
    "duration": 17,
    "start_time": "2022-05-04T08:57:21.366Z"
   },
   {
    "duration": 330,
    "start_time": "2022-05-04T08:57:21.385Z"
   },
   {
    "duration": 15,
    "start_time": "2022-05-04T08:57:21.717Z"
   },
   {
    "duration": 12,
    "start_time": "2022-05-04T08:57:21.734Z"
   },
   {
    "duration": 345,
    "start_time": "2022-05-04T08:57:21.748Z"
   },
   {
    "duration": 14,
    "start_time": "2022-05-04T08:57:22.095Z"
   },
   {
    "duration": 14,
    "start_time": "2022-05-04T08:57:22.111Z"
   },
   {
    "duration": 7,
    "start_time": "2022-05-04T08:57:22.127Z"
   },
   {
    "duration": 369,
    "start_time": "2022-05-04T08:57:22.136Z"
   },
   {
    "duration": 13,
    "start_time": "2022-05-04T08:57:22.507Z"
   },
   {
    "duration": 8,
    "start_time": "2022-05-04T08:57:22.523Z"
   },
   {
    "duration": 49,
    "start_time": "2022-05-04T08:57:22.534Z"
   },
   {
    "duration": 11,
    "start_time": "2022-05-04T08:57:22.585Z"
   },
   {
    "duration": 43,
    "start_time": "2022-05-04T08:57:22.598Z"
   },
   {
    "duration": 140,
    "start_time": "2022-05-04T08:57:22.643Z"
   },
   {
    "duration": 6,
    "start_time": "2022-05-04T08:57:22.785Z"
   },
   {
    "duration": 35,
    "start_time": "2022-05-04T08:58:09.088Z"
   },
   {
    "duration": 7,
    "start_time": "2022-05-04T08:58:44.025Z"
   },
   {
    "duration": 103,
    "start_time": "2022-05-04T09:03:11.479Z"
   },
   {
    "duration": 73,
    "start_time": "2022-05-04T09:30:55.135Z"
   },
   {
    "duration": 1880,
    "start_time": "2022-05-04T09:31:13.725Z"
   },
   {
    "duration": 32,
    "start_time": "2022-05-04T09:31:15.607Z"
   },
   {
    "duration": 20,
    "start_time": "2022-05-04T09:31:15.641Z"
   },
   {
    "duration": 261,
    "start_time": "2022-05-04T09:31:15.682Z"
   },
   {
    "duration": 15,
    "start_time": "2022-05-04T09:31:15.945Z"
   },
   {
    "duration": 223,
    "start_time": "2022-05-04T09:31:15.962Z"
   },
   {
    "duration": 77,
    "start_time": "2022-05-04T09:31:16.187Z"
   },
   {
    "duration": 47,
    "start_time": "2022-05-04T09:31:16.266Z"
   },
   {
    "duration": 24,
    "start_time": "2022-05-04T09:31:16.315Z"
   },
   {
    "duration": 74,
    "start_time": "2022-05-04T09:31:16.342Z"
   },
   {
    "duration": 138,
    "start_time": "2022-05-04T09:31:16.418Z"
   },
   {
    "duration": 97,
    "start_time": "2022-05-04T09:31:16.558Z"
   },
   {
    "duration": 82,
    "start_time": "2022-05-04T09:31:16.657Z"
   },
   {
    "duration": 54,
    "start_time": "2022-05-04T09:31:16.741Z"
   },
   {
    "duration": 10,
    "start_time": "2022-05-04T09:31:16.797Z"
   },
   {
    "duration": 215,
    "start_time": "2022-05-04T09:31:16.808Z"
   },
   {
    "duration": 201,
    "start_time": "2022-05-04T09:31:17.025Z"
   },
   {
    "duration": 18,
    "start_time": "2022-05-04T09:31:17.228Z"
   },
   {
    "duration": 62,
    "start_time": "2022-05-04T09:31:17.248Z"
   },
   {
    "duration": 11,
    "start_time": "2022-05-04T09:31:17.312Z"
   },
   {
    "duration": 44,
    "start_time": "2022-05-04T09:31:17.325Z"
   },
   {
    "duration": 25,
    "start_time": "2022-05-04T09:31:17.382Z"
   },
   {
    "duration": 28,
    "start_time": "2022-05-04T09:31:17.409Z"
   },
   {
    "duration": 66,
    "start_time": "2022-05-04T09:31:17.439Z"
   },
   {
    "duration": 33,
    "start_time": "2022-05-04T09:31:17.507Z"
   },
   {
    "duration": 42,
    "start_time": "2022-05-04T09:31:17.542Z"
   },
   {
    "duration": 23,
    "start_time": "2022-05-04T09:31:17.586Z"
   },
   {
    "duration": 11,
    "start_time": "2022-05-04T09:31:17.615Z"
   },
   {
    "duration": 123,
    "start_time": "2022-05-04T09:31:17.628Z"
   },
   {
    "duration": 32,
    "start_time": "2022-05-04T09:31:17.753Z"
   },
   {
    "duration": 12,
    "start_time": "2022-05-04T09:31:17.787Z"
   },
   {
    "duration": 39,
    "start_time": "2022-05-04T09:31:17.801Z"
   },
   {
    "duration": 9,
    "start_time": "2022-05-04T09:31:17.842Z"
   },
   {
    "duration": 6,
    "start_time": "2022-05-04T09:31:17.882Z"
   },
   {
    "duration": 13,
    "start_time": "2022-05-04T09:31:17.890Z"
   },
   {
    "duration": 8,
    "start_time": "2022-05-04T09:31:17.905Z"
   },
   {
    "duration": 360,
    "start_time": "2022-05-04T09:31:17.915Z"
   },
   {
    "duration": 288,
    "start_time": "2022-05-04T09:31:18.277Z"
   },
   {
    "duration": 17,
    "start_time": "2022-05-04T09:31:18.567Z"
   },
   {
    "duration": 12,
    "start_time": "2022-05-04T09:31:18.586Z"
   },
   {
    "duration": 312,
    "start_time": "2022-05-04T09:31:18.600Z"
   },
   {
    "duration": 6,
    "start_time": "2022-05-04T09:31:18.915Z"
   },
   {
    "duration": 15,
    "start_time": "2022-05-04T09:31:18.923Z"
   },
   {
    "duration": 60,
    "start_time": "2022-05-04T09:31:18.940Z"
   },
   {
    "duration": 9,
    "start_time": "2022-05-04T09:31:19.002Z"
   },
   {
    "duration": 9,
    "start_time": "2022-05-04T09:31:19.013Z"
   },
   {
    "duration": 12,
    "start_time": "2022-05-04T09:31:19.024Z"
   },
   {
    "duration": 7,
    "start_time": "2022-05-04T09:31:19.038Z"
   },
   {
    "duration": 39,
    "start_time": "2022-05-04T09:31:19.047Z"
   },
   {
    "duration": 334,
    "start_time": "2022-05-04T09:31:19.089Z"
   },
   {
    "duration": 14,
    "start_time": "2022-05-04T09:31:19.425Z"
   },
   {
    "duration": 15,
    "start_time": "2022-05-04T09:31:19.441Z"
   },
   {
    "duration": 349,
    "start_time": "2022-05-04T09:31:19.458Z"
   },
   {
    "duration": 14,
    "start_time": "2022-05-04T09:31:19.809Z"
   },
   {
    "duration": 15,
    "start_time": "2022-05-04T09:31:19.825Z"
   },
   {
    "duration": 9,
    "start_time": "2022-05-04T09:31:19.842Z"
   },
   {
    "duration": 347,
    "start_time": "2022-05-04T09:31:19.882Z"
   },
   {
    "duration": 15,
    "start_time": "2022-05-04T09:31:20.231Z"
   },
   {
    "duration": 9,
    "start_time": "2022-05-04T09:31:20.249Z"
   },
   {
    "duration": 36,
    "start_time": "2022-05-04T09:31:20.260Z"
   },
   {
    "duration": 10,
    "start_time": "2022-05-04T09:31:20.298Z"
   },
   {
    "duration": 43,
    "start_time": "2022-05-04T09:31:20.310Z"
   },
   {
    "duration": 157,
    "start_time": "2022-05-04T09:31:20.355Z"
   },
   {
    "duration": 6,
    "start_time": "2022-05-04T09:31:20.515Z"
   },
   {
    "duration": 11,
    "start_time": "2022-05-04T09:34:59.658Z"
   },
   {
    "duration": 16,
    "start_time": "2022-05-04T09:35:18.276Z"
   },
   {
    "duration": 1902,
    "start_time": "2022-05-04T09:37:34.426Z"
   },
   {
    "duration": 1513,
    "start_time": "2022-05-04T09:38:42.039Z"
   },
   {
    "duration": 30,
    "start_time": "2022-05-04T09:38:43.555Z"
   },
   {
    "duration": 18,
    "start_time": "2022-05-04T09:38:43.587Z"
   },
   {
    "duration": 277,
    "start_time": "2022-05-04T09:38:43.608Z"
   },
   {
    "duration": 14,
    "start_time": "2022-05-04T09:38:43.887Z"
   },
   {
    "duration": 220,
    "start_time": "2022-05-04T09:38:43.904Z"
   },
   {
    "duration": 97,
    "start_time": "2022-05-04T09:38:44.127Z"
   },
   {
    "duration": 36,
    "start_time": "2022-05-04T09:38:44.226Z"
   },
   {
    "duration": 24,
    "start_time": "2022-05-04T09:38:44.281Z"
   },
   {
    "duration": 44,
    "start_time": "2022-05-04T09:38:44.309Z"
   },
   {
    "duration": 137,
    "start_time": "2022-05-04T09:38:44.381Z"
   },
   {
    "duration": 104,
    "start_time": "2022-05-04T09:38:44.520Z"
   },
   {
    "duration": 91,
    "start_time": "2022-05-04T09:38:44.627Z"
   },
   {
    "duration": 42,
    "start_time": "2022-05-04T09:38:44.720Z"
   },
   {
    "duration": 28,
    "start_time": "2022-05-04T09:38:44.763Z"
   },
   {
    "duration": 223,
    "start_time": "2022-05-04T09:38:44.793Z"
   },
   {
    "duration": 206,
    "start_time": "2022-05-04T09:38:45.018Z"
   },
   {
    "duration": 20,
    "start_time": "2022-05-04T09:38:45.226Z"
   },
   {
    "duration": 64,
    "start_time": "2022-05-04T09:38:45.249Z"
   },
   {
    "duration": 11,
    "start_time": "2022-05-04T09:38:45.315Z"
   },
   {
    "duration": 57,
    "start_time": "2022-05-04T09:38:45.327Z"
   },
   {
    "duration": 8,
    "start_time": "2022-05-04T09:38:45.386Z"
   },
   {
    "duration": 31,
    "start_time": "2022-05-04T09:38:45.397Z"
   },
   {
    "duration": 66,
    "start_time": "2022-05-04T09:38:45.430Z"
   },
   {
    "duration": 47,
    "start_time": "2022-05-04T09:38:45.498Z"
   },
   {
    "duration": 47,
    "start_time": "2022-05-04T09:38:45.547Z"
   },
   {
    "duration": 32,
    "start_time": "2022-05-04T09:38:45.597Z"
   },
   {
    "duration": 46,
    "start_time": "2022-05-04T09:38:45.636Z"
   },
   {
    "duration": 130,
    "start_time": "2022-05-04T09:38:45.684Z"
   },
   {
    "duration": 32,
    "start_time": "2022-05-04T09:38:45.817Z"
   },
   {
    "duration": 32,
    "start_time": "2022-05-04T09:38:45.852Z"
   },
   {
    "duration": 44,
    "start_time": "2022-05-04T09:38:45.886Z"
   },
   {
    "duration": 10,
    "start_time": "2022-05-04T09:38:45.932Z"
   },
   {
    "duration": 13,
    "start_time": "2022-05-04T09:38:45.944Z"
   },
   {
    "duration": 39,
    "start_time": "2022-05-04T09:38:45.959Z"
   },
   {
    "duration": 9,
    "start_time": "2022-05-04T09:38:46.001Z"
   },
   {
    "duration": 355,
    "start_time": "2022-05-04T09:38:46.012Z"
   },
   {
    "duration": 388,
    "start_time": "2022-05-04T09:38:46.369Z"
   },
   {
    "duration": 6,
    "start_time": "2022-05-04T09:38:46.759Z"
   },
   {
    "duration": 22,
    "start_time": "2022-05-04T09:38:46.767Z"
   },
   {
    "duration": 311,
    "start_time": "2022-05-04T09:38:46.791Z"
   },
   {
    "duration": 7,
    "start_time": "2022-05-04T09:38:47.104Z"
   },
   {
    "duration": 17,
    "start_time": "2022-05-04T09:38:47.113Z"
   },
   {
    "duration": 65,
    "start_time": "2022-05-04T09:38:47.132Z"
   },
   {
    "duration": 10,
    "start_time": "2022-05-04T09:38:47.199Z"
   },
   {
    "duration": 10,
    "start_time": "2022-05-04T09:38:47.212Z"
   },
   {
    "duration": 14,
    "start_time": "2022-05-04T09:38:47.224Z"
   },
   {
    "duration": 8,
    "start_time": "2022-05-04T09:38:47.240Z"
   },
   {
    "duration": 34,
    "start_time": "2022-05-04T09:38:47.250Z"
   },
   {
    "duration": 394,
    "start_time": "2022-05-04T09:38:47.286Z"
   },
   {
    "duration": 15,
    "start_time": "2022-05-04T09:38:47.682Z"
   },
   {
    "duration": 10,
    "start_time": "2022-05-04T09:38:47.700Z"
   },
   {
    "duration": 647,
    "start_time": "2022-05-04T09:38:47.713Z"
   },
   {
    "duration": 26,
    "start_time": "2022-05-04T09:38:48.363Z"
   },
   {
    "duration": 18,
    "start_time": "2022-05-04T09:38:48.392Z"
   },
   {
    "duration": 10,
    "start_time": "2022-05-04T09:38:48.412Z"
   },
   {
    "duration": 402,
    "start_time": "2022-05-04T09:38:48.424Z"
   },
   {
    "duration": 16,
    "start_time": "2022-05-04T09:38:48.828Z"
   },
   {
    "duration": 12,
    "start_time": "2022-05-04T09:38:48.847Z"
   },
   {
    "duration": 20,
    "start_time": "2022-05-04T09:38:48.881Z"
   },
   {
    "duration": 11,
    "start_time": "2022-05-04T09:38:48.903Z"
   },
   {
    "duration": 154,
    "start_time": "2022-05-04T09:38:48.917Z"
   },
   {
    "duration": 48,
    "start_time": "2022-05-04T09:38:49.073Z"
   },
   {
    "duration": 7,
    "start_time": "2022-05-04T09:38:49.123Z"
   },
   {
    "duration": 17,
    "start_time": "2022-05-04T09:39:57.384Z"
   },
   {
    "duration": 2010,
    "start_time": "2022-05-04T10:07:13.676Z"
   },
   {
    "duration": 31,
    "start_time": "2022-05-04T10:07:15.689Z"
   },
   {
    "duration": 21,
    "start_time": "2022-05-04T10:07:15.723Z"
   },
   {
    "duration": 295,
    "start_time": "2022-05-04T10:07:15.747Z"
   },
   {
    "duration": 14,
    "start_time": "2022-05-04T10:07:16.044Z"
   },
   {
    "duration": 201,
    "start_time": "2022-05-04T10:07:16.082Z"
   },
   {
    "duration": 79,
    "start_time": "2022-05-04T10:07:16.285Z"
   },
   {
    "duration": 48,
    "start_time": "2022-05-04T10:07:16.366Z"
   },
   {
    "duration": 23,
    "start_time": "2022-05-04T10:07:16.417Z"
   },
   {
    "duration": 70,
    "start_time": "2022-05-04T10:07:16.444Z"
   },
   {
    "duration": 148,
    "start_time": "2022-05-04T10:07:16.517Z"
   },
   {
    "duration": 104,
    "start_time": "2022-05-04T10:07:16.667Z"
   },
   {
    "duration": 73,
    "start_time": "2022-05-04T10:07:16.782Z"
   },
   {
    "duration": 60,
    "start_time": "2022-05-04T10:07:16.858Z"
   },
   {
    "duration": 12,
    "start_time": "2022-05-04T10:07:16.921Z"
   },
   {
    "duration": 222,
    "start_time": "2022-05-04T10:07:16.935Z"
   },
   {
    "duration": 198,
    "start_time": "2022-05-04T10:07:17.160Z"
   },
   {
    "duration": 27,
    "start_time": "2022-05-04T10:07:17.360Z"
   },
   {
    "duration": 40,
    "start_time": "2022-05-04T10:07:17.389Z"
   },
   {
    "duration": 11,
    "start_time": "2022-05-04T10:07:17.431Z"
   },
   {
    "duration": 64,
    "start_time": "2022-05-04T10:07:17.444Z"
   },
   {
    "duration": 7,
    "start_time": "2022-05-04T10:07:17.510Z"
   },
   {
    "duration": 24,
    "start_time": "2022-05-04T10:07:17.519Z"
   },
   {
    "duration": 48,
    "start_time": "2022-05-04T10:07:17.545Z"
   },
   {
    "duration": 33,
    "start_time": "2022-05-04T10:07:17.595Z"
   },
   {
    "duration": 75,
    "start_time": "2022-05-04T10:07:17.629Z"
   },
   {
    "duration": 16,
    "start_time": "2022-05-04T10:07:17.706Z"
   },
   {
    "duration": 62,
    "start_time": "2022-05-04T10:07:17.728Z"
   },
   {
    "duration": 12,
    "start_time": "2022-05-04T10:07:17.793Z"
   },
   {
    "duration": 128,
    "start_time": "2022-05-04T10:07:17.807Z"
   },
   {
    "duration": 45,
    "start_time": "2022-05-04T10:07:17.937Z"
   },
   {
    "duration": 12,
    "start_time": "2022-05-04T10:07:17.984Z"
   },
   {
    "duration": 45,
    "start_time": "2022-05-04T10:07:17.998Z"
   },
   {
    "duration": 10,
    "start_time": "2022-05-04T10:07:18.045Z"
   },
   {
    "duration": 29,
    "start_time": "2022-05-04T10:07:18.057Z"
   },
   {
    "duration": 23,
    "start_time": "2022-05-04T10:07:18.088Z"
   },
   {
    "duration": 10,
    "start_time": "2022-05-04T10:07:18.113Z"
   },
   {
    "duration": 354,
    "start_time": "2022-05-04T10:07:18.126Z"
   },
   {
    "duration": 293,
    "start_time": "2022-05-04T10:07:18.483Z"
   },
   {
    "duration": 8,
    "start_time": "2022-05-04T10:07:18.778Z"
   },
   {
    "duration": 8,
    "start_time": "2022-05-04T10:07:18.788Z"
   },
   {
    "duration": 349,
    "start_time": "2022-05-04T10:07:18.798Z"
   },
   {
    "duration": 7,
    "start_time": "2022-05-04T10:07:19.149Z"
   },
   {
    "duration": 26,
    "start_time": "2022-05-04T10:07:19.158Z"
   },
   {
    "duration": 43,
    "start_time": "2022-05-04T10:07:19.186Z"
   },
   {
    "duration": 11,
    "start_time": "2022-05-04T10:07:19.231Z"
   },
   {
    "duration": 38,
    "start_time": "2022-05-04T10:07:19.244Z"
   },
   {
    "duration": 14,
    "start_time": "2022-05-04T10:07:19.284Z"
   },
   {
    "duration": 7,
    "start_time": "2022-05-04T10:07:19.301Z"
   },
   {
    "duration": 9,
    "start_time": "2022-05-04T10:07:19.310Z"
   },
   {
    "duration": 472,
    "start_time": "2022-05-04T10:07:19.322Z"
   },
   {
    "duration": 15,
    "start_time": "2022-05-04T10:07:19.796Z"
   },
   {
    "duration": 9,
    "start_time": "2022-05-04T10:07:19.814Z"
   },
   {
    "duration": 343,
    "start_time": "2022-05-04T10:07:19.825Z"
   },
   {
    "duration": 21,
    "start_time": "2022-05-04T10:07:20.170Z"
   },
   {
    "duration": 15,
    "start_time": "2022-05-04T10:07:20.193Z"
   },
   {
    "duration": 8,
    "start_time": "2022-05-04T10:07:20.210Z"
   },
   {
    "duration": 374,
    "start_time": "2022-05-04T10:07:20.220Z"
   },
   {
    "duration": 19,
    "start_time": "2022-05-04T10:07:20.597Z"
   },
   {
    "duration": 7,
    "start_time": "2022-05-04T10:07:20.619Z"
   },
   {
    "duration": 55,
    "start_time": "2022-05-04T10:07:20.628Z"
   },
   {
    "duration": 18,
    "start_time": "2022-05-04T10:07:20.686Z"
   },
   {
    "duration": 131,
    "start_time": "2022-05-04T10:07:20.706Z"
   },
   {
    "duration": 54,
    "start_time": "2022-05-04T10:07:20.839Z"
   },
   {
    "duration": 7,
    "start_time": "2022-05-04T10:07:20.896Z"
   },
   {
    "duration": 1556,
    "start_time": "2022-05-04T10:26:09.861Z"
   },
   {
    "duration": 30,
    "start_time": "2022-05-04T10:26:11.420Z"
   },
   {
    "duration": 34,
    "start_time": "2022-05-04T10:26:11.452Z"
   },
   {
    "duration": 304,
    "start_time": "2022-05-04T10:26:11.488Z"
   },
   {
    "duration": 14,
    "start_time": "2022-05-04T10:26:11.794Z"
   },
   {
    "duration": 243,
    "start_time": "2022-05-04T10:26:11.810Z"
   },
   {
    "duration": 117,
    "start_time": "2022-05-04T10:26:12.056Z"
   },
   {
    "duration": 34,
    "start_time": "2022-05-04T10:26:12.181Z"
   },
   {
    "duration": 25,
    "start_time": "2022-05-04T10:26:12.217Z"
   },
   {
    "duration": 42,
    "start_time": "2022-05-04T10:26:12.281Z"
   },
   {
    "duration": 163,
    "start_time": "2022-05-04T10:26:12.325Z"
   },
   {
    "duration": 115,
    "start_time": "2022-05-04T10:26:12.490Z"
   },
   {
    "duration": 108,
    "start_time": "2022-05-04T10:26:12.607Z"
   },
   {
    "duration": 39,
    "start_time": "2022-05-04T10:26:12.717Z"
   },
   {
    "duration": 10,
    "start_time": "2022-05-04T10:26:12.781Z"
   },
   {
    "duration": 228,
    "start_time": "2022-05-04T10:26:12.793Z"
   },
   {
    "duration": 266,
    "start_time": "2022-05-04T10:26:13.024Z"
   },
   {
    "duration": 18,
    "start_time": "2022-05-04T10:26:13.292Z"
   },
   {
    "duration": 40,
    "start_time": "2022-05-04T10:26:13.312Z"
   },
   {
    "duration": 12,
    "start_time": "2022-05-04T10:26:13.382Z"
   },
   {
    "duration": 41,
    "start_time": "2022-05-04T10:26:13.396Z"
   },
   {
    "duration": 8,
    "start_time": "2022-05-04T10:26:13.439Z"
   },
   {
    "duration": 37,
    "start_time": "2022-05-04T10:26:13.449Z"
   },
   {
    "duration": 30,
    "start_time": "2022-05-04T10:26:13.489Z"
   },
   {
    "duration": 61,
    "start_time": "2022-05-04T10:26:13.521Z"
   },
   {
    "duration": 42,
    "start_time": "2022-05-04T10:26:13.584Z"
   },
   {
    "duration": 16,
    "start_time": "2022-05-04T10:26:13.629Z"
   },
   {
    "duration": 96,
    "start_time": "2022-05-04T10:26:13.652Z"
   },
   {
    "duration": 51,
    "start_time": "2022-05-04T10:26:13.750Z"
   },
   {
    "duration": 111,
    "start_time": "2022-05-04T10:26:13.803Z"
   },
   {
    "duration": 35,
    "start_time": "2022-05-04T10:26:13.916Z"
   },
   {
    "duration": 33,
    "start_time": "2022-05-04T10:26:13.953Z"
   },
   {
    "duration": 47,
    "start_time": "2022-05-04T10:26:13.988Z"
   },
   {
    "duration": 12,
    "start_time": "2022-05-04T10:26:14.037Z"
   },
   {
    "duration": 33,
    "start_time": "2022-05-04T10:26:14.051Z"
   },
   {
    "duration": 25,
    "start_time": "2022-05-04T10:26:14.086Z"
   },
   {
    "duration": 13,
    "start_time": "2022-05-04T10:26:14.113Z"
   },
   {
    "duration": 350,
    "start_time": "2022-05-04T10:26:14.128Z"
   },
   {
    "duration": 291,
    "start_time": "2022-05-04T10:26:14.480Z"
   },
   {
    "duration": 12,
    "start_time": "2022-05-04T10:26:14.773Z"
   },
   {
    "duration": 11,
    "start_time": "2022-05-04T10:26:14.787Z"
   },
   {
    "duration": 311,
    "start_time": "2022-05-04T10:26:14.801Z"
   },
   {
    "duration": 8,
    "start_time": "2022-05-04T10:26:15.115Z"
   },
   {
    "duration": 20,
    "start_time": "2022-05-04T10:26:15.126Z"
   },
   {
    "duration": 64,
    "start_time": "2022-05-04T10:26:15.149Z"
   },
   {
    "duration": 11,
    "start_time": "2022-05-04T10:26:15.216Z"
   },
   {
    "duration": 10,
    "start_time": "2022-05-04T10:26:15.230Z"
   },
   {
    "duration": 39,
    "start_time": "2022-05-04T10:26:15.243Z"
   },
   {
    "duration": 6,
    "start_time": "2022-05-04T10:26:15.284Z"
   },
   {
    "duration": 12,
    "start_time": "2022-05-04T10:26:15.292Z"
   },
   {
    "duration": 345,
    "start_time": "2022-05-04T10:26:15.306Z"
   },
   {
    "duration": 28,
    "start_time": "2022-05-04T10:26:15.654Z"
   },
   {
    "duration": 7,
    "start_time": "2022-05-04T10:26:15.684Z"
   },
   {
    "duration": 347,
    "start_time": "2022-05-04T10:26:15.693Z"
   },
   {
    "duration": 15,
    "start_time": "2022-05-04T10:26:16.042Z"
   },
   {
    "duration": 33,
    "start_time": "2022-05-04T10:26:16.060Z"
   },
   {
    "duration": 7,
    "start_time": "2022-05-04T10:26:16.096Z"
   },
   {
    "duration": 357,
    "start_time": "2022-05-04T10:26:16.105Z"
   },
   {
    "duration": 26,
    "start_time": "2022-05-04T10:26:16.464Z"
   },
   {
    "duration": 7,
    "start_time": "2022-05-04T10:26:16.493Z"
   },
   {
    "duration": 26,
    "start_time": "2022-05-04T10:26:16.503Z"
   },
   {
    "duration": 14,
    "start_time": "2022-05-04T10:26:16.532Z"
   },
   {
    "duration": 155,
    "start_time": "2022-05-04T10:26:16.548Z"
   },
   {
    "duration": 44,
    "start_time": "2022-05-04T10:26:16.705Z"
   },
   {
    "duration": 30,
    "start_time": "2022-05-04T10:26:16.752Z"
   },
   {
    "duration": 1094,
    "start_time": "2022-05-04T18:05:43.623Z"
   },
   {
    "duration": 34,
    "start_time": "2022-05-04T18:05:44.719Z"
   },
   {
    "duration": 10,
    "start_time": "2022-05-04T18:05:44.754Z"
   },
   {
    "duration": 177,
    "start_time": "2022-05-04T18:05:44.765Z"
   },
   {
    "duration": 8,
    "start_time": "2022-05-04T18:05:44.943Z"
   },
   {
    "duration": 126,
    "start_time": "2022-05-04T18:05:44.953Z"
   },
   {
    "duration": 51,
    "start_time": "2022-05-04T18:05:45.081Z"
   },
   {
    "duration": 20,
    "start_time": "2022-05-04T18:05:45.133Z"
   },
   {
    "duration": 14,
    "start_time": "2022-05-04T18:05:45.155Z"
   },
   {
    "duration": 42,
    "start_time": "2022-05-04T18:05:45.171Z"
   },
   {
    "duration": 99,
    "start_time": "2022-05-04T18:05:45.215Z"
   },
   {
    "duration": 54,
    "start_time": "2022-05-04T18:05:45.315Z"
   },
   {
    "duration": 54,
    "start_time": "2022-05-04T18:05:45.371Z"
   },
   {
    "duration": 21,
    "start_time": "2022-05-04T18:05:45.427Z"
   },
   {
    "duration": 6,
    "start_time": "2022-05-04T18:05:45.449Z"
   },
   {
    "duration": 151,
    "start_time": "2022-05-04T18:05:45.456Z"
   },
   {
    "duration": 105,
    "start_time": "2022-05-04T18:05:45.608Z"
   },
   {
    "duration": 11,
    "start_time": "2022-05-04T18:05:45.714Z"
   },
   {
    "duration": 25,
    "start_time": "2022-05-04T18:05:45.726Z"
   },
   {
    "duration": 7,
    "start_time": "2022-05-04T18:05:45.752Z"
   },
   {
    "duration": 55,
    "start_time": "2022-05-04T18:05:45.760Z"
   },
   {
    "duration": 5,
    "start_time": "2022-05-04T18:05:45.816Z"
   },
   {
    "duration": 13,
    "start_time": "2022-05-04T18:05:45.822Z"
   },
   {
    "duration": 24,
    "start_time": "2022-05-04T18:05:45.836Z"
   },
   {
    "duration": 18,
    "start_time": "2022-05-04T18:05:45.861Z"
   },
   {
    "duration": 40,
    "start_time": "2022-05-04T18:05:45.880Z"
   },
   {
    "duration": 9,
    "start_time": "2022-05-04T18:05:45.921Z"
   },
   {
    "duration": 16,
    "start_time": "2022-05-04T18:05:45.933Z"
   },
   {
    "duration": 7,
    "start_time": "2022-05-04T18:05:45.950Z"
   },
   {
    "duration": 82,
    "start_time": "2022-05-04T18:05:45.958Z"
   },
   {
    "duration": 18,
    "start_time": "2022-05-04T18:05:46.042Z"
   },
   {
    "duration": 7,
    "start_time": "2022-05-04T18:05:46.062Z"
   },
   {
    "duration": 44,
    "start_time": "2022-05-04T18:05:46.070Z"
   },
   {
    "duration": 6,
    "start_time": "2022-05-04T18:05:46.115Z"
   },
   {
    "duration": 6,
    "start_time": "2022-05-04T18:05:46.123Z"
   },
   {
    "duration": 11,
    "start_time": "2022-05-04T18:05:46.130Z"
   },
   {
    "duration": 7,
    "start_time": "2022-05-04T18:05:46.142Z"
   },
   {
    "duration": 204,
    "start_time": "2022-05-04T18:05:46.150Z"
   },
   {
    "duration": 158,
    "start_time": "2022-05-04T18:05:46.356Z"
   },
   {
    "duration": 5,
    "start_time": "2022-05-04T18:05:46.516Z"
   },
   {
    "duration": 6,
    "start_time": "2022-05-04T18:05:46.522Z"
   },
   {
    "duration": 170,
    "start_time": "2022-05-04T18:05:46.530Z"
   },
   {
    "duration": 5,
    "start_time": "2022-05-04T18:05:46.701Z"
   },
   {
    "duration": 11,
    "start_time": "2022-05-04T18:05:46.707Z"
   },
   {
    "duration": 24,
    "start_time": "2022-05-04T18:05:46.720Z"
   },
   {
    "duration": 5,
    "start_time": "2022-05-04T18:05:46.746Z"
   },
   {
    "duration": 4,
    "start_time": "2022-05-04T18:05:46.753Z"
   },
   {
    "duration": 7,
    "start_time": "2022-05-04T18:05:46.758Z"
   },
   {
    "duration": 4,
    "start_time": "2022-05-04T18:05:46.767Z"
   },
   {
    "duration": 29,
    "start_time": "2022-05-04T18:05:46.773Z"
   },
   {
    "duration": 182,
    "start_time": "2022-05-04T18:05:46.804Z"
   },
   {
    "duration": 19,
    "start_time": "2022-05-04T18:05:46.988Z"
   },
   {
    "duration": 15,
    "start_time": "2022-05-04T18:05:47.010Z"
   },
   {
    "duration": 165,
    "start_time": "2022-05-04T18:05:47.026Z"
   },
   {
    "duration": 15,
    "start_time": "2022-05-04T18:05:47.193Z"
   },
   {
    "duration": 16,
    "start_time": "2022-05-04T18:05:47.209Z"
   },
   {
    "duration": 5,
    "start_time": "2022-05-04T18:05:47.227Z"
   },
   {
    "duration": 178,
    "start_time": "2022-05-04T18:05:47.234Z"
   },
   {
    "duration": 9,
    "start_time": "2022-05-04T18:05:47.413Z"
   },
   {
    "duration": 5,
    "start_time": "2022-05-04T18:05:47.423Z"
   },
   {
    "duration": 17,
    "start_time": "2022-05-04T18:05:47.429Z"
   },
   {
    "duration": 7,
    "start_time": "2022-05-04T18:05:47.447Z"
   },
   {
    "duration": 135,
    "start_time": "2022-05-04T18:05:47.456Z"
   },
   {
    "duration": 41,
    "start_time": "2022-05-04T18:05:47.592Z"
   },
   {
    "duration": 5,
    "start_time": "2022-05-04T18:05:47.635Z"
   },
   {
    "duration": 15,
    "start_time": "2022-05-04T18:06:41.788Z"
   },
   {
    "duration": 52,
    "start_time": "2022-05-04T18:46:45.790Z"
   },
   {
    "duration": 1342,
    "start_time": "2022-05-04T18:46:55.687Z"
   },
   {
    "duration": 26,
    "start_time": "2022-05-04T18:46:57.031Z"
   },
   {
    "duration": 12,
    "start_time": "2022-05-04T18:46:57.058Z"
   },
   {
    "duration": 219,
    "start_time": "2022-05-04T18:46:57.072Z"
   },
   {
    "duration": 11,
    "start_time": "2022-05-04T18:46:57.293Z"
   },
   {
    "duration": 152,
    "start_time": "2022-05-04T18:46:57.305Z"
   },
   {
    "duration": 55,
    "start_time": "2022-05-04T18:46:57.459Z"
   },
   {
    "duration": 38,
    "start_time": "2022-05-04T18:46:57.515Z"
   },
   {
    "duration": 18,
    "start_time": "2022-05-04T18:46:57.554Z"
   },
   {
    "duration": 30,
    "start_time": "2022-05-04T18:46:57.574Z"
   },
   {
    "duration": 109,
    "start_time": "2022-05-04T18:46:57.633Z"
   },
   {
    "duration": 66,
    "start_time": "2022-05-04T18:46:57.744Z"
   },
   {
    "duration": 64,
    "start_time": "2022-05-04T18:46:57.812Z"
   },
   {
    "duration": 29,
    "start_time": "2022-05-04T18:46:57.878Z"
   },
   {
    "duration": 31,
    "start_time": "2022-05-04T18:46:57.909Z"
   },
   {
    "duration": 164,
    "start_time": "2022-05-04T18:46:57.941Z"
   },
   {
    "duration": 122,
    "start_time": "2022-05-04T18:46:58.107Z"
   },
   {
    "duration": 12,
    "start_time": "2022-05-04T18:46:58.234Z"
   },
   {
    "duration": 31,
    "start_time": "2022-05-04T18:46:58.248Z"
   },
   {
    "duration": 8,
    "start_time": "2022-05-04T18:46:58.281Z"
   },
   {
    "duration": 52,
    "start_time": "2022-05-04T18:46:58.291Z"
   },
   {
    "duration": 2949,
    "start_time": "2022-05-04T18:46:58.345Z"
   },
   {
    "duration": 0,
    "start_time": "2022-05-04T18:47:01.299Z"
   },
   {
    "duration": 0,
    "start_time": "2022-05-04T18:47:01.301Z"
   },
   {
    "duration": 0,
    "start_time": "2022-05-04T18:47:01.302Z"
   },
   {
    "duration": 0,
    "start_time": "2022-05-04T18:47:01.303Z"
   },
   {
    "duration": 0,
    "start_time": "2022-05-04T18:47:01.305Z"
   },
   {
    "duration": 0,
    "start_time": "2022-05-04T18:47:01.306Z"
   },
   {
    "duration": 0,
    "start_time": "2022-05-04T18:47:01.307Z"
   },
   {
    "duration": 0,
    "start_time": "2022-05-04T18:47:01.308Z"
   },
   {
    "duration": 0,
    "start_time": "2022-05-04T18:47:01.310Z"
   },
   {
    "duration": 0,
    "start_time": "2022-05-04T18:47:01.311Z"
   },
   {
    "duration": 0,
    "start_time": "2022-05-04T18:47:01.312Z"
   },
   {
    "duration": 0,
    "start_time": "2022-05-04T18:47:01.313Z"
   },
   {
    "duration": 0,
    "start_time": "2022-05-04T18:47:01.314Z"
   },
   {
    "duration": 0,
    "start_time": "2022-05-04T18:47:01.315Z"
   },
   {
    "duration": 0,
    "start_time": "2022-05-04T18:47:01.317Z"
   },
   {
    "duration": 0,
    "start_time": "2022-05-04T18:47:01.317Z"
   },
   {
    "duration": 0,
    "start_time": "2022-05-04T18:47:01.319Z"
   },
   {
    "duration": 0,
    "start_time": "2022-05-04T18:47:01.320Z"
   },
   {
    "duration": 0,
    "start_time": "2022-05-04T18:47:01.321Z"
   },
   {
    "duration": 0,
    "start_time": "2022-05-04T18:47:01.322Z"
   },
   {
    "duration": 0,
    "start_time": "2022-05-04T18:47:01.323Z"
   },
   {
    "duration": 0,
    "start_time": "2022-05-04T18:47:01.324Z"
   },
   {
    "duration": 0,
    "start_time": "2022-05-04T18:47:01.325Z"
   },
   {
    "duration": 0,
    "start_time": "2022-05-04T18:47:01.326Z"
   },
   {
    "duration": 0,
    "start_time": "2022-05-04T18:47:01.327Z"
   },
   {
    "duration": 0,
    "start_time": "2022-05-04T18:47:01.328Z"
   },
   {
    "duration": 0,
    "start_time": "2022-05-04T18:47:01.329Z"
   },
   {
    "duration": 0,
    "start_time": "2022-05-04T18:47:01.330Z"
   },
   {
    "duration": 0,
    "start_time": "2022-05-04T18:47:01.331Z"
   },
   {
    "duration": 0,
    "start_time": "2022-05-04T18:47:01.333Z"
   },
   {
    "duration": 0,
    "start_time": "2022-05-04T18:47:01.334Z"
   },
   {
    "duration": 0,
    "start_time": "2022-05-04T18:47:01.335Z"
   },
   {
    "duration": 0,
    "start_time": "2022-05-04T18:47:01.336Z"
   },
   {
    "duration": 0,
    "start_time": "2022-05-04T18:47:01.337Z"
   },
   {
    "duration": 0,
    "start_time": "2022-05-04T18:47:01.338Z"
   },
   {
    "duration": 0,
    "start_time": "2022-05-04T18:47:01.339Z"
   },
   {
    "duration": 0,
    "start_time": "2022-05-04T18:47:01.340Z"
   },
   {
    "duration": 0,
    "start_time": "2022-05-04T18:47:01.341Z"
   },
   {
    "duration": 0,
    "start_time": "2022-05-04T18:47:01.342Z"
   },
   {
    "duration": 0,
    "start_time": "2022-05-04T18:47:01.344Z"
   },
   {
    "duration": 0,
    "start_time": "2022-05-04T18:47:01.345Z"
   },
   {
    "duration": 0,
    "start_time": "2022-05-04T18:47:01.346Z"
   },
   {
    "duration": 0,
    "start_time": "2022-05-04T18:47:01.347Z"
   },
   {
    "duration": 0,
    "start_time": "2022-05-04T18:47:01.348Z"
   },
   {
    "duration": 2882,
    "start_time": "2022-05-04T18:49:16.599Z"
   },
   {
    "duration": 1258,
    "start_time": "2022-05-04T18:52:47.385Z"
   },
   {
    "duration": 24,
    "start_time": "2022-05-04T18:52:48.645Z"
   },
   {
    "duration": 14,
    "start_time": "2022-05-04T18:52:48.671Z"
   },
   {
    "duration": 217,
    "start_time": "2022-05-04T18:52:48.687Z"
   },
   {
    "duration": 11,
    "start_time": "2022-05-04T18:52:48.906Z"
   },
   {
    "duration": 144,
    "start_time": "2022-05-04T18:52:48.932Z"
   },
   {
    "duration": 68,
    "start_time": "2022-05-04T18:52:49.078Z"
   },
   {
    "duration": 25,
    "start_time": "2022-05-04T18:52:49.148Z"
   },
   {
    "duration": 19,
    "start_time": "2022-05-04T18:52:49.174Z"
   },
   {
    "duration": 56,
    "start_time": "2022-05-04T18:52:49.196Z"
   },
   {
    "duration": 112,
    "start_time": "2022-05-04T18:52:49.254Z"
   },
   {
    "duration": 80,
    "start_time": "2022-05-04T18:52:49.368Z"
   },
   {
    "duration": 55,
    "start_time": "2022-05-04T18:52:49.450Z"
   },
   {
    "duration": 45,
    "start_time": "2022-05-04T18:52:49.507Z"
   },
   {
    "duration": 7,
    "start_time": "2022-05-04T18:52:49.554Z"
   },
   {
    "duration": 181,
    "start_time": "2022-05-04T18:52:49.563Z"
   },
   {
    "duration": 127,
    "start_time": "2022-05-04T18:52:49.746Z"
   },
   {
    "duration": 13,
    "start_time": "2022-05-04T18:52:49.875Z"
   },
   {
    "duration": 48,
    "start_time": "2022-05-04T18:52:49.890Z"
   },
   {
    "duration": 9,
    "start_time": "2022-05-04T18:52:49.940Z"
   },
   {
    "duration": 49,
    "start_time": "2022-05-04T18:52:49.950Z"
   },
   {
    "duration": 6,
    "start_time": "2022-05-04T18:52:50.001Z"
   },
   {
    "duration": 18,
    "start_time": "2022-05-04T18:52:50.008Z"
   },
   {
    "duration": 25,
    "start_time": "2022-05-04T18:52:50.028Z"
   },
   {
    "duration": 24,
    "start_time": "2022-05-04T18:52:50.055Z"
   },
   {
    "duration": 56,
    "start_time": "2022-05-04T18:52:50.081Z"
   },
   {
    "duration": 12,
    "start_time": "2022-05-04T18:52:50.139Z"
   },
   {
    "duration": 26,
    "start_time": "2022-05-04T18:52:50.155Z"
   },
   {
    "duration": 13,
    "start_time": "2022-05-04T18:52:50.183Z"
   },
   {
    "duration": 109,
    "start_time": "2022-05-04T18:52:50.198Z"
   },
   {
    "duration": 33,
    "start_time": "2022-05-04T18:52:50.309Z"
   },
   {
    "duration": 9,
    "start_time": "2022-05-04T18:52:50.343Z"
   },
   {
    "duration": 46,
    "start_time": "2022-05-04T18:52:50.354Z"
   },
   {
    "duration": 8,
    "start_time": "2022-05-04T18:52:50.402Z"
   },
   {
    "duration": 25,
    "start_time": "2022-05-04T18:52:50.411Z"
   },
   {
    "duration": 18,
    "start_time": "2022-05-04T18:52:50.438Z"
   },
   {
    "duration": 17,
    "start_time": "2022-05-04T18:52:50.458Z"
   },
   {
    "duration": 238,
    "start_time": "2022-05-04T18:52:50.477Z"
   },
   {
    "duration": 205,
    "start_time": "2022-05-04T18:52:50.717Z"
   },
   {
    "duration": 13,
    "start_time": "2022-05-04T18:52:50.923Z"
   },
   {
    "duration": 9,
    "start_time": "2022-05-04T18:52:50.938Z"
   },
   {
    "duration": 210,
    "start_time": "2022-05-04T18:52:50.949Z"
   },
   {
    "duration": 4,
    "start_time": "2022-05-04T18:52:51.161Z"
   },
   {
    "duration": 11,
    "start_time": "2022-05-04T18:52:51.167Z"
   },
   {
    "duration": 34,
    "start_time": "2022-05-04T18:52:51.180Z"
   },
   {
    "duration": 22,
    "start_time": "2022-05-04T18:52:51.215Z"
   },
   {
    "duration": 5,
    "start_time": "2022-05-04T18:52:51.239Z"
   },
   {
    "duration": 10,
    "start_time": "2022-05-04T18:52:51.245Z"
   },
   {
    "duration": 9,
    "start_time": "2022-05-04T18:52:51.256Z"
   },
   {
    "duration": 11,
    "start_time": "2022-05-04T18:52:51.267Z"
   },
   {
    "duration": 246,
    "start_time": "2022-05-04T18:52:51.279Z"
   },
   {
    "duration": 15,
    "start_time": "2022-05-04T18:52:51.527Z"
   },
   {
    "duration": 9,
    "start_time": "2022-05-04T18:52:51.543Z"
   },
   {
    "duration": 238,
    "start_time": "2022-05-04T18:52:51.553Z"
   },
   {
    "duration": 11,
    "start_time": "2022-05-04T18:52:51.792Z"
   },
   {
    "duration": 29,
    "start_time": "2022-05-04T18:52:51.805Z"
   },
   {
    "duration": 5,
    "start_time": "2022-05-04T18:52:51.836Z"
   },
   {
    "duration": 244,
    "start_time": "2022-05-04T18:52:51.842Z"
   },
   {
    "duration": 12,
    "start_time": "2022-05-04T18:52:52.087Z"
   },
   {
    "duration": 7,
    "start_time": "2022-05-04T18:52:52.100Z"
   },
   {
    "duration": 34,
    "start_time": "2022-05-04T18:52:52.109Z"
   },
   {
    "duration": 8,
    "start_time": "2022-05-04T18:52:52.145Z"
   },
   {
    "duration": 118,
    "start_time": "2022-05-04T18:52:52.155Z"
   },
   {
    "duration": 32,
    "start_time": "2022-05-04T18:52:52.274Z"
   },
   {
    "duration": 5,
    "start_time": "2022-05-04T18:52:52.308Z"
   },
   {
    "duration": 3355,
    "start_time": "2022-05-04T19:02:42.631Z"
   },
   {
    "duration": 1246,
    "start_time": "2022-05-04T19:02:53.891Z"
   },
   {
    "duration": 26,
    "start_time": "2022-05-04T19:02:55.139Z"
   },
   {
    "duration": 12,
    "start_time": "2022-05-04T19:02:55.166Z"
   },
   {
    "duration": 206,
    "start_time": "2022-05-04T19:02:55.180Z"
   },
   {
    "duration": 10,
    "start_time": "2022-05-04T19:02:55.388Z"
   },
   {
    "duration": 148,
    "start_time": "2022-05-04T19:02:55.400Z"
   },
   {
    "duration": 55,
    "start_time": "2022-05-04T19:02:55.550Z"
   },
   {
    "duration": 38,
    "start_time": "2022-05-04T19:02:55.608Z"
   },
   {
    "duration": 18,
    "start_time": "2022-05-04T19:02:55.647Z"
   },
   {
    "duration": 29,
    "start_time": "2022-05-04T19:02:55.668Z"
   },
   {
    "duration": 121,
    "start_time": "2022-05-04T19:02:55.699Z"
   },
   {
    "duration": 72,
    "start_time": "2022-05-04T19:02:55.822Z"
   },
   {
    "duration": 57,
    "start_time": "2022-05-04T19:02:55.896Z"
   },
   {
    "duration": 26,
    "start_time": "2022-05-04T19:02:55.954Z"
   },
   {
    "duration": 7,
    "start_time": "2022-05-04T19:02:55.982Z"
   },
   {
    "duration": 169,
    "start_time": "2022-05-04T19:02:55.990Z"
   },
   {
    "duration": 121,
    "start_time": "2022-05-04T19:02:56.161Z"
   },
   {
    "duration": 12,
    "start_time": "2022-05-04T19:02:56.283Z"
   },
   {
    "duration": 47,
    "start_time": "2022-05-04T19:02:56.297Z"
   },
   {
    "duration": 8,
    "start_time": "2022-05-04T19:02:56.345Z"
   },
   {
    "duration": 47,
    "start_time": "2022-05-04T19:02:56.355Z"
   },
   {
    "duration": 6,
    "start_time": "2022-05-04T19:02:56.404Z"
   },
   {
    "duration": 24,
    "start_time": "2022-05-04T19:02:56.412Z"
   },
   {
    "duration": 25,
    "start_time": "2022-05-04T19:02:56.437Z"
   },
   {
    "duration": 25,
    "start_time": "2022-05-04T19:02:56.463Z"
   },
   {
    "duration": 50,
    "start_time": "2022-05-04T19:02:56.489Z"
   },
   {
    "duration": 11,
    "start_time": "2022-05-04T19:02:56.541Z"
   },
   {
    "duration": 27,
    "start_time": "2022-05-04T19:02:56.557Z"
   },
   {
    "duration": 18,
    "start_time": "2022-05-04T19:02:56.586Z"
   },
   {
    "duration": 78,
    "start_time": "2022-05-04T19:02:56.605Z"
   },
   {
    "duration": 20,
    "start_time": "2022-05-04T19:02:56.684Z"
   },
   {
    "duration": 11,
    "start_time": "2022-05-04T19:02:56.706Z"
   },
   {
    "duration": 31,
    "start_time": "2022-05-04T19:02:56.734Z"
   },
   {
    "duration": 8,
    "start_time": "2022-05-04T19:02:56.766Z"
   },
   {
    "duration": 11,
    "start_time": "2022-05-04T19:02:56.776Z"
   },
   {
    "duration": 30,
    "start_time": "2022-05-04T19:02:56.789Z"
   },
   {
    "duration": 14,
    "start_time": "2022-05-04T19:02:56.821Z"
   },
   {
    "duration": 226,
    "start_time": "2022-05-04T19:02:56.837Z"
   },
   {
    "duration": 196,
    "start_time": "2022-05-04T19:02:57.065Z"
   },
   {
    "duration": 6,
    "start_time": "2022-05-04T19:02:57.262Z"
   },
   {
    "duration": 9,
    "start_time": "2022-05-04T19:02:57.270Z"
   },
   {
    "duration": 205,
    "start_time": "2022-05-04T19:02:57.281Z"
   },
   {
    "duration": 5,
    "start_time": "2022-05-04T19:02:57.488Z"
   },
   {
    "duration": 28,
    "start_time": "2022-05-04T19:02:57.494Z"
   },
   {
    "duration": 41,
    "start_time": "2022-05-04T19:02:57.523Z"
   },
   {
    "duration": 7,
    "start_time": "2022-05-04T19:02:57.566Z"
   },
   {
    "duration": 15,
    "start_time": "2022-05-04T19:02:57.575Z"
   },
   {
    "duration": 27,
    "start_time": "2022-05-04T19:02:57.592Z"
   },
   {
    "duration": 7,
    "start_time": "2022-05-04T19:02:57.621Z"
   },
   {
    "duration": 21,
    "start_time": "2022-05-04T19:02:57.629Z"
   },
   {
    "duration": 225,
    "start_time": "2022-05-04T19:02:57.652Z"
   },
   {
    "duration": 12,
    "start_time": "2022-05-04T19:02:57.879Z"
   },
   {
    "duration": 10,
    "start_time": "2022-05-04T19:02:57.892Z"
   },
   {
    "duration": 247,
    "start_time": "2022-05-04T19:02:57.904Z"
   },
   {
    "duration": 10,
    "start_time": "2022-05-04T19:02:58.153Z"
   },
   {
    "duration": 13,
    "start_time": "2022-05-04T19:02:58.165Z"
   },
   {
    "duration": 15,
    "start_time": "2022-05-04T19:02:58.179Z"
   },
   {
    "duration": 225,
    "start_time": "2022-05-04T19:02:58.195Z"
   },
   {
    "duration": 20,
    "start_time": "2022-05-04T19:02:58.422Z"
   },
   {
    "duration": 11,
    "start_time": "2022-05-04T19:02:58.444Z"
   },
   {
    "duration": 29,
    "start_time": "2022-05-04T19:02:58.456Z"
   },
   {
    "duration": 25,
    "start_time": "2022-05-04T19:02:58.487Z"
   },
   {
    "duration": 117,
    "start_time": "2022-05-04T19:02:58.514Z"
   },
   {
    "duration": 30,
    "start_time": "2022-05-04T19:02:58.632Z"
   },
   {
    "duration": 5,
    "start_time": "2022-05-04T19:02:58.664Z"
   },
   {
    "duration": 22,
    "start_time": "2022-05-04T19:07:30.092Z"
   },
   {
    "duration": 21,
    "start_time": "2022-05-04T19:07:39.289Z"
   },
   {
    "duration": 1255,
    "start_time": "2022-05-04T19:08:33.288Z"
   },
   {
    "duration": 34,
    "start_time": "2022-05-04T19:08:34.545Z"
   },
   {
    "duration": 13,
    "start_time": "2022-05-04T19:08:34.580Z"
   },
   {
    "duration": 205,
    "start_time": "2022-05-04T19:08:34.595Z"
   },
   {
    "duration": 11,
    "start_time": "2022-05-04T19:08:34.802Z"
   },
   {
    "duration": 161,
    "start_time": "2022-05-04T19:08:34.814Z"
   },
   {
    "duration": 68,
    "start_time": "2022-05-04T19:08:34.977Z"
   },
   {
    "duration": 26,
    "start_time": "2022-05-04T19:08:35.047Z"
   },
   {
    "duration": 17,
    "start_time": "2022-05-04T19:08:35.075Z"
   },
   {
    "duration": 54,
    "start_time": "2022-05-04T19:08:35.095Z"
   },
   {
    "duration": 103,
    "start_time": "2022-05-04T19:08:35.151Z"
   },
   {
    "duration": 62,
    "start_time": "2022-05-04T19:08:35.256Z"
   },
   {
    "duration": 64,
    "start_time": "2022-05-04T19:08:35.319Z"
   },
   {
    "duration": 48,
    "start_time": "2022-05-04T19:08:35.385Z"
   },
   {
    "duration": 8,
    "start_time": "2022-05-04T19:08:35.435Z"
   },
   {
    "duration": 173,
    "start_time": "2022-05-04T19:08:35.444Z"
   },
   {
    "duration": 129,
    "start_time": "2022-05-04T19:08:35.619Z"
   },
   {
    "duration": 16,
    "start_time": "2022-05-04T19:08:35.750Z"
   },
   {
    "duration": 31,
    "start_time": "2022-05-04T19:08:35.767Z"
   },
   {
    "duration": 8,
    "start_time": "2022-05-04T19:08:35.799Z"
   },
   {
    "duration": 44,
    "start_time": "2022-05-04T19:08:35.834Z"
   },
   {
    "duration": 6,
    "start_time": "2022-05-04T19:08:35.880Z"
   },
   {
    "duration": 19,
    "start_time": "2022-05-04T19:08:35.887Z"
   },
   {
    "duration": 29,
    "start_time": "2022-05-04T19:08:35.907Z"
   },
   {
    "duration": 24,
    "start_time": "2022-05-04T19:08:35.937Z"
   },
   {
    "duration": 29,
    "start_time": "2022-05-04T19:08:35.962Z"
   },
   {
    "duration": 12,
    "start_time": "2022-05-04T19:08:35.992Z"
   },
   {
    "duration": 23,
    "start_time": "2022-05-04T19:08:36.033Z"
   },
   {
    "duration": 8,
    "start_time": "2022-05-04T19:08:36.057Z"
   },
   {
    "duration": 88,
    "start_time": "2022-05-04T19:08:36.067Z"
   },
   {
    "duration": 21,
    "start_time": "2022-05-04T19:08:36.156Z"
   },
   {
    "duration": 8,
    "start_time": "2022-05-04T19:08:36.179Z"
   },
   {
    "duration": 53,
    "start_time": "2022-05-04T19:08:36.189Z"
   },
   {
    "duration": 7,
    "start_time": "2022-05-04T19:08:36.244Z"
   },
   {
    "duration": 5,
    "start_time": "2022-05-04T19:08:36.253Z"
   },
   {
    "duration": 14,
    "start_time": "2022-05-04T19:08:36.259Z"
   },
   {
    "duration": 6,
    "start_time": "2022-05-04T19:08:36.275Z"
   },
   {
    "duration": 240,
    "start_time": "2022-05-04T19:08:36.284Z"
   },
   {
    "duration": 192,
    "start_time": "2022-05-04T19:08:36.526Z"
   },
   {
    "duration": 14,
    "start_time": "2022-05-04T19:08:36.721Z"
   },
   {
    "duration": 6,
    "start_time": "2022-05-04T19:08:36.737Z"
   },
   {
    "duration": 205,
    "start_time": "2022-05-04T19:08:36.745Z"
   },
   {
    "duration": 4,
    "start_time": "2022-05-04T19:08:36.953Z"
   },
   {
    "duration": 12,
    "start_time": "2022-05-04T19:08:36.959Z"
   },
   {
    "duration": 30,
    "start_time": "2022-05-04T19:08:36.973Z"
   },
   {
    "duration": 28,
    "start_time": "2022-05-04T19:08:37.005Z"
   },
   {
    "duration": 4,
    "start_time": "2022-05-04T19:08:37.035Z"
   },
   {
    "duration": 13,
    "start_time": "2022-05-04T19:08:37.040Z"
   },
   {
    "duration": 5,
    "start_time": "2022-05-04T19:08:37.055Z"
   },
   {
    "duration": 6,
    "start_time": "2022-05-04T19:08:37.061Z"
   },
   {
    "duration": 229,
    "start_time": "2022-05-04T19:08:37.069Z"
   },
   {
    "duration": 10,
    "start_time": "2022-05-04T19:08:37.300Z"
   },
   {
    "duration": 22,
    "start_time": "2022-05-04T19:08:37.311Z"
   },
   {
    "duration": 221,
    "start_time": "2022-05-04T19:08:37.335Z"
   },
   {
    "duration": 10,
    "start_time": "2022-05-04T19:08:37.558Z"
   },
   {
    "duration": 15,
    "start_time": "2022-05-04T19:08:37.570Z"
   },
   {
    "duration": 5,
    "start_time": "2022-05-04T19:08:37.586Z"
   },
   {
    "duration": 222,
    "start_time": "2022-05-04T19:08:37.593Z"
   },
   {
    "duration": 20,
    "start_time": "2022-05-04T19:08:37.817Z"
   },
   {
    "duration": 5,
    "start_time": "2022-05-04T19:08:37.838Z"
   },
   {
    "duration": 19,
    "start_time": "2022-05-04T19:08:37.845Z"
   },
   {
    "duration": 8,
    "start_time": "2022-05-04T19:08:37.866Z"
   },
   {
    "duration": 122,
    "start_time": "2022-05-04T19:08:37.876Z"
   },
   {
    "duration": 45,
    "start_time": "2022-05-04T19:08:38.000Z"
   },
   {
    "duration": 5,
    "start_time": "2022-05-04T19:08:38.047Z"
   },
   {
    "duration": 2950,
    "start_time": "2022-05-04T19:13:05.430Z"
   },
   {
    "duration": 2967,
    "start_time": "2022-05-04T19:13:23.555Z"
   },
   {
    "duration": 1239,
    "start_time": "2022-05-04T19:13:39.101Z"
   },
   {
    "duration": 47,
    "start_time": "2022-05-04T19:13:40.342Z"
   },
   {
    "duration": 13,
    "start_time": "2022-05-04T19:13:40.391Z"
   },
   {
    "duration": 212,
    "start_time": "2022-05-04T19:13:40.407Z"
   },
   {
    "duration": 22,
    "start_time": "2022-05-04T19:13:40.621Z"
   },
   {
    "duration": 159,
    "start_time": "2022-05-04T19:13:40.645Z"
   },
   {
    "duration": 67,
    "start_time": "2022-05-04T19:13:40.806Z"
   },
   {
    "duration": 28,
    "start_time": "2022-05-04T19:13:40.874Z"
   },
   {
    "duration": 44,
    "start_time": "2022-05-04T19:13:40.904Z"
   },
   {
    "duration": 30,
    "start_time": "2022-05-04T19:13:40.952Z"
   },
   {
    "duration": 121,
    "start_time": "2022-05-04T19:13:40.984Z"
   },
   {
    "duration": 78,
    "start_time": "2022-05-04T19:13:41.107Z"
   },
   {
    "duration": 65,
    "start_time": "2022-05-04T19:13:41.187Z"
   },
   {
    "duration": 29,
    "start_time": "2022-05-04T19:13:41.255Z"
   },
   {
    "duration": 8,
    "start_time": "2022-05-04T19:13:41.286Z"
   },
   {
    "duration": 185,
    "start_time": "2022-05-04T19:13:41.296Z"
   },
   {
    "duration": 141,
    "start_time": "2022-05-04T19:13:41.483Z"
   },
   {
    "duration": 20,
    "start_time": "2022-05-04T19:13:41.626Z"
   },
   {
    "duration": 32,
    "start_time": "2022-05-04T19:13:41.648Z"
   },
   {
    "duration": 10,
    "start_time": "2022-05-04T19:13:41.682Z"
   },
   {
    "duration": 62,
    "start_time": "2022-05-04T19:13:41.694Z"
   },
   {
    "duration": 6,
    "start_time": "2022-05-04T19:13:41.758Z"
   },
   {
    "duration": 14,
    "start_time": "2022-05-04T19:13:41.767Z"
   },
   {
    "duration": 22,
    "start_time": "2022-05-04T19:13:41.783Z"
   },
   {
    "duration": 47,
    "start_time": "2022-05-04T19:13:41.807Z"
   },
   {
    "duration": 31,
    "start_time": "2022-05-04T19:13:41.856Z"
   },
   {
    "duration": 13,
    "start_time": "2022-05-04T19:13:41.889Z"
   },
   {
    "duration": 23,
    "start_time": "2022-05-04T19:13:41.935Z"
   },
   {
    "duration": 9,
    "start_time": "2022-05-04T19:13:41.960Z"
   },
   {
    "duration": 96,
    "start_time": "2022-05-04T19:13:41.971Z"
   },
   {
    "duration": 20,
    "start_time": "2022-05-04T19:13:42.069Z"
   },
   {
    "duration": 8,
    "start_time": "2022-05-04T19:13:42.091Z"
   },
   {
    "duration": 50,
    "start_time": "2022-05-04T19:13:42.100Z"
   },
   {
    "duration": 7,
    "start_time": "2022-05-04T19:13:42.151Z"
   },
   {
    "duration": 6,
    "start_time": "2022-05-04T19:13:42.160Z"
   },
   {
    "duration": 19,
    "start_time": "2022-05-04T19:13:42.168Z"
   },
   {
    "duration": 15,
    "start_time": "2022-05-04T19:13:42.188Z"
   },
   {
    "duration": 234,
    "start_time": "2022-05-04T19:13:42.206Z"
   },
   {
    "duration": 203,
    "start_time": "2022-05-04T19:13:42.442Z"
   },
   {
    "duration": 6,
    "start_time": "2022-05-04T19:13:42.647Z"
   },
   {
    "duration": 8,
    "start_time": "2022-05-04T19:13:42.655Z"
   },
   {
    "duration": 207,
    "start_time": "2022-05-04T19:13:42.665Z"
   },
   {
    "duration": 5,
    "start_time": "2022-05-04T19:13:42.874Z"
   },
   {
    "duration": 10,
    "start_time": "2022-05-04T19:13:42.881Z"
   },
   {
    "duration": 50,
    "start_time": "2022-05-04T19:13:42.893Z"
   },
   {
    "duration": 8,
    "start_time": "2022-05-04T19:13:42.945Z"
   },
   {
    "duration": 6,
    "start_time": "2022-05-04T19:13:42.954Z"
   },
   {
    "duration": 8,
    "start_time": "2022-05-04T19:13:42.962Z"
   },
   {
    "duration": 6,
    "start_time": "2022-05-04T19:13:42.972Z"
   },
   {
    "duration": 8,
    "start_time": "2022-05-04T19:13:42.979Z"
   },
   {
    "duration": 239,
    "start_time": "2022-05-04T19:13:42.989Z"
   },
   {
    "duration": 11,
    "start_time": "2022-05-04T19:13:43.230Z"
   },
   {
    "duration": 6,
    "start_time": "2022-05-04T19:13:43.243Z"
   },
   {
    "duration": 226,
    "start_time": "2022-05-04T19:13:43.251Z"
   },
   {
    "duration": 10,
    "start_time": "2022-05-04T19:13:43.478Z"
   },
   {
    "duration": 11,
    "start_time": "2022-05-04T19:13:43.490Z"
   },
   {
    "duration": 4,
    "start_time": "2022-05-04T19:13:43.503Z"
   },
   {
    "duration": 244,
    "start_time": "2022-05-04T19:13:43.509Z"
   },
   {
    "duration": 10,
    "start_time": "2022-05-04T19:13:43.755Z"
   },
   {
    "duration": 6,
    "start_time": "2022-05-04T19:13:43.767Z"
   },
   {
    "duration": 15,
    "start_time": "2022-05-04T19:13:43.775Z"
   },
   {
    "duration": 8,
    "start_time": "2022-05-04T19:13:43.791Z"
   },
   {
    "duration": 127,
    "start_time": "2022-05-04T19:13:43.801Z"
   },
   {
    "duration": 30,
    "start_time": "2022-05-04T19:13:43.930Z"
   },
   {
    "duration": 4,
    "start_time": "2022-05-04T19:13:43.962Z"
   },
   {
    "duration": 2859,
    "start_time": "2022-05-04T19:17:59.279Z"
   },
   {
    "duration": 1221,
    "start_time": "2022-05-04T19:18:09.306Z"
   },
   {
    "duration": 24,
    "start_time": "2022-05-04T19:18:10.529Z"
   },
   {
    "duration": 12,
    "start_time": "2022-05-04T19:18:10.555Z"
   },
   {
    "duration": 226,
    "start_time": "2022-05-04T19:18:10.569Z"
   },
   {
    "duration": 13,
    "start_time": "2022-05-04T19:18:10.798Z"
   },
   {
    "duration": 166,
    "start_time": "2022-05-04T19:18:10.813Z"
   },
   {
    "duration": 68,
    "start_time": "2022-05-04T19:18:10.982Z"
   },
   {
    "duration": 28,
    "start_time": "2022-05-04T19:18:11.052Z"
   },
   {
    "duration": 19,
    "start_time": "2022-05-04T19:18:11.082Z"
   },
   {
    "duration": 61,
    "start_time": "2022-05-04T19:18:11.103Z"
   },
   {
    "duration": 113,
    "start_time": "2022-05-04T19:18:11.166Z"
   },
   {
    "duration": 79,
    "start_time": "2022-05-04T19:18:11.281Z"
   },
   {
    "duration": 51,
    "start_time": "2022-05-04T19:18:11.362Z"
   },
   {
    "duration": 28,
    "start_time": "2022-05-04T19:18:11.435Z"
   },
   {
    "duration": 7,
    "start_time": "2022-05-04T19:18:11.465Z"
   },
   {
    "duration": 180,
    "start_time": "2022-05-04T19:18:11.474Z"
   },
   {
    "duration": 3264,
    "start_time": "2022-05-04T19:18:11.656Z"
   },
   {
    "duration": 0,
    "start_time": "2022-05-04T19:18:14.923Z"
   },
   {
    "duration": 0,
    "start_time": "2022-05-04T19:18:14.924Z"
   },
   {
    "duration": 0,
    "start_time": "2022-05-04T19:18:14.925Z"
   },
   {
    "duration": 0,
    "start_time": "2022-05-04T19:18:14.926Z"
   },
   {
    "duration": 0,
    "start_time": "2022-05-04T19:18:14.927Z"
   },
   {
    "duration": 0,
    "start_time": "2022-05-04T19:18:14.928Z"
   },
   {
    "duration": 0,
    "start_time": "2022-05-04T19:18:14.929Z"
   },
   {
    "duration": 0,
    "start_time": "2022-05-04T19:18:14.930Z"
   },
   {
    "duration": 0,
    "start_time": "2022-05-04T19:18:14.931Z"
   },
   {
    "duration": 0,
    "start_time": "2022-05-04T19:18:14.933Z"
   },
   {
    "duration": 0,
    "start_time": "2022-05-04T19:18:14.934Z"
   },
   {
    "duration": 0,
    "start_time": "2022-05-04T19:18:14.935Z"
   },
   {
    "duration": 0,
    "start_time": "2022-05-04T19:18:14.936Z"
   },
   {
    "duration": 0,
    "start_time": "2022-05-04T19:18:14.937Z"
   },
   {
    "duration": 0,
    "start_time": "2022-05-04T19:18:14.938Z"
   },
   {
    "duration": 0,
    "start_time": "2022-05-04T19:18:14.939Z"
   },
   {
    "duration": 0,
    "start_time": "2022-05-04T19:18:14.940Z"
   },
   {
    "duration": 0,
    "start_time": "2022-05-04T19:18:14.941Z"
   },
   {
    "duration": 0,
    "start_time": "2022-05-04T19:18:14.944Z"
   },
   {
    "duration": 0,
    "start_time": "2022-05-04T19:18:14.945Z"
   },
   {
    "duration": 0,
    "start_time": "2022-05-04T19:18:14.946Z"
   },
   {
    "duration": 0,
    "start_time": "2022-05-04T19:18:14.946Z"
   },
   {
    "duration": 0,
    "start_time": "2022-05-04T19:18:14.947Z"
   },
   {
    "duration": 0,
    "start_time": "2022-05-04T19:18:14.948Z"
   },
   {
    "duration": 0,
    "start_time": "2022-05-04T19:18:14.949Z"
   },
   {
    "duration": 0,
    "start_time": "2022-05-04T19:18:14.950Z"
   },
   {
    "duration": 0,
    "start_time": "2022-05-04T19:18:14.951Z"
   },
   {
    "duration": 0,
    "start_time": "2022-05-04T19:18:14.952Z"
   },
   {
    "duration": 0,
    "start_time": "2022-05-04T19:18:14.953Z"
   },
   {
    "duration": 0,
    "start_time": "2022-05-04T19:18:14.954Z"
   },
   {
    "duration": 0,
    "start_time": "2022-05-04T19:18:14.955Z"
   },
   {
    "duration": 0,
    "start_time": "2022-05-04T19:18:14.955Z"
   },
   {
    "duration": 0,
    "start_time": "2022-05-04T19:18:14.956Z"
   },
   {
    "duration": 1,
    "start_time": "2022-05-04T19:18:14.957Z"
   },
   {
    "duration": 0,
    "start_time": "2022-05-04T19:18:14.958Z"
   },
   {
    "duration": 0,
    "start_time": "2022-05-04T19:18:14.959Z"
   },
   {
    "duration": 1,
    "start_time": "2022-05-04T19:18:14.960Z"
   },
   {
    "duration": 0,
    "start_time": "2022-05-04T19:18:14.961Z"
   },
   {
    "duration": 0,
    "start_time": "2022-05-04T19:18:14.962Z"
   },
   {
    "duration": 0,
    "start_time": "2022-05-04T19:18:14.963Z"
   },
   {
    "duration": 0,
    "start_time": "2022-05-04T19:18:14.964Z"
   },
   {
    "duration": 0,
    "start_time": "2022-05-04T19:18:14.965Z"
   },
   {
    "duration": 0,
    "start_time": "2022-05-04T19:18:14.966Z"
   },
   {
    "duration": 0,
    "start_time": "2022-05-04T19:18:14.967Z"
   },
   {
    "duration": 0,
    "start_time": "2022-05-04T19:18:14.967Z"
   },
   {
    "duration": 0,
    "start_time": "2022-05-04T19:18:14.969Z"
   },
   {
    "duration": 0,
    "start_time": "2022-05-04T19:18:14.969Z"
   },
   {
    "duration": 0,
    "start_time": "2022-05-04T19:18:14.970Z"
   },
   {
    "duration": 97,
    "start_time": "2022-05-04T19:19:19.343Z"
   },
   {
    "duration": 102,
    "start_time": "2022-05-04T19:24:19.249Z"
   },
   {
    "duration": 10,
    "start_time": "2022-05-04T19:25:43.404Z"
   },
   {
    "duration": 99,
    "start_time": "2022-05-04T19:26:16.224Z"
   },
   {
    "duration": 1216,
    "start_time": "2022-05-04T19:26:25.654Z"
   },
   {
    "duration": 24,
    "start_time": "2022-05-04T19:26:26.872Z"
   },
   {
    "duration": 13,
    "start_time": "2022-05-04T19:26:26.898Z"
   },
   {
    "duration": 220,
    "start_time": "2022-05-04T19:26:26.913Z"
   },
   {
    "duration": 12,
    "start_time": "2022-05-04T19:26:27.135Z"
   },
   {
    "duration": 161,
    "start_time": "2022-05-04T19:26:27.148Z"
   },
   {
    "duration": 62,
    "start_time": "2022-05-04T19:26:27.311Z"
   },
   {
    "duration": 26,
    "start_time": "2022-05-04T19:26:27.375Z"
   },
   {
    "duration": 41,
    "start_time": "2022-05-04T19:26:27.403Z"
   },
   {
    "duration": 30,
    "start_time": "2022-05-04T19:26:27.447Z"
   },
   {
    "duration": 120,
    "start_time": "2022-05-04T19:26:27.478Z"
   },
   {
    "duration": 76,
    "start_time": "2022-05-04T19:26:27.600Z"
   },
   {
    "duration": 62,
    "start_time": "2022-05-04T19:26:27.678Z"
   },
   {
    "duration": 29,
    "start_time": "2022-05-04T19:26:27.742Z"
   },
   {
    "duration": 8,
    "start_time": "2022-05-04T19:26:27.773Z"
   },
   {
    "duration": 187,
    "start_time": "2022-05-04T19:26:27.782Z"
   },
   {
    "duration": 129,
    "start_time": "2022-05-04T19:26:27.970Z"
   },
   {
    "duration": 13,
    "start_time": "2022-05-04T19:26:28.101Z"
   },
   {
    "duration": 43,
    "start_time": "2022-05-04T19:26:28.115Z"
   },
   {
    "duration": 7,
    "start_time": "2022-05-04T19:26:28.160Z"
   },
   {
    "duration": 45,
    "start_time": "2022-05-04T19:26:28.169Z"
   },
   {
    "duration": 5,
    "start_time": "2022-05-04T19:26:28.216Z"
   },
   {
    "duration": 14,
    "start_time": "2022-05-04T19:26:28.222Z"
   },
   {
    "duration": 22,
    "start_time": "2022-05-04T19:26:28.238Z"
   },
   {
    "duration": 22,
    "start_time": "2022-05-04T19:26:28.262Z"
   },
   {
    "duration": 48,
    "start_time": "2022-05-04T19:26:28.285Z"
   },
   {
    "duration": 11,
    "start_time": "2022-05-04T19:26:28.335Z"
   },
   {
    "duration": 20,
    "start_time": "2022-05-04T19:26:28.350Z"
   },
   {
    "duration": 8,
    "start_time": "2022-05-04T19:26:28.371Z"
   },
   {
    "duration": 94,
    "start_time": "2022-05-04T19:26:28.380Z"
   },
   {
    "duration": 20,
    "start_time": "2022-05-04T19:26:28.476Z"
   },
   {
    "duration": 8,
    "start_time": "2022-05-04T19:26:28.498Z"
   },
   {
    "duration": 29,
    "start_time": "2022-05-04T19:26:28.533Z"
   },
   {
    "duration": 7,
    "start_time": "2022-05-04T19:26:28.564Z"
   },
   {
    "duration": 7,
    "start_time": "2022-05-04T19:26:28.573Z"
   },
   {
    "duration": 23,
    "start_time": "2022-05-04T19:26:28.582Z"
   },
   {
    "duration": 7,
    "start_time": "2022-05-04T19:26:28.607Z"
   },
   {
    "duration": 219,
    "start_time": "2022-05-04T19:26:28.634Z"
   },
   {
    "duration": 193,
    "start_time": "2022-05-04T19:26:28.855Z"
   },
   {
    "duration": 5,
    "start_time": "2022-05-04T19:26:29.050Z"
   },
   {
    "duration": 6,
    "start_time": "2022-05-04T19:26:29.057Z"
   },
   {
    "duration": 212,
    "start_time": "2022-05-04T19:26:29.065Z"
   },
   {
    "duration": 4,
    "start_time": "2022-05-04T19:26:29.279Z"
   },
   {
    "duration": 10,
    "start_time": "2022-05-04T19:26:29.286Z"
   },
   {
    "duration": 53,
    "start_time": "2022-05-04T19:26:29.298Z"
   },
   {
    "duration": 9,
    "start_time": "2022-05-04T19:26:29.353Z"
   },
   {
    "duration": 9,
    "start_time": "2022-05-04T19:26:29.363Z"
   },
   {
    "duration": 9,
    "start_time": "2022-05-04T19:26:29.374Z"
   },
   {
    "duration": 5,
    "start_time": "2022-05-04T19:26:29.385Z"
   },
   {
    "duration": 7,
    "start_time": "2022-05-04T19:26:29.392Z"
   },
   {
    "duration": 226,
    "start_time": "2022-05-04T19:26:29.433Z"
   },
   {
    "duration": 10,
    "start_time": "2022-05-04T19:26:29.661Z"
   },
   {
    "duration": 12,
    "start_time": "2022-05-04T19:26:29.673Z"
   },
   {
    "duration": 225,
    "start_time": "2022-05-04T19:26:29.687Z"
   },
   {
    "duration": 20,
    "start_time": "2022-05-04T19:26:29.914Z"
   },
   {
    "duration": 10,
    "start_time": "2022-05-04T19:26:29.935Z"
   },
   {
    "duration": 5,
    "start_time": "2022-05-04T19:26:29.946Z"
   },
   {
    "duration": 229,
    "start_time": "2022-05-04T19:26:29.953Z"
   },
   {
    "duration": 12,
    "start_time": "2022-05-04T19:26:30.183Z"
   },
   {
    "duration": 16,
    "start_time": "2022-05-04T19:26:30.196Z"
   },
   {
    "duration": 33,
    "start_time": "2022-05-04T19:26:30.214Z"
   },
   {
    "duration": 11,
    "start_time": "2022-05-04T19:26:30.249Z"
   },
   {
    "duration": 115,
    "start_time": "2022-05-04T19:26:30.261Z"
   },
   {
    "duration": 32,
    "start_time": "2022-05-04T19:26:30.378Z"
   },
   {
    "duration": 24,
    "start_time": "2022-05-04T19:26:30.412Z"
   },
   {
    "duration": 2868,
    "start_time": "2022-05-04T19:34:49.016Z"
   },
   {
    "duration": 1816,
    "start_time": "2022-05-04T19:35:02.902Z"
   },
   {
    "duration": 34,
    "start_time": "2022-05-04T19:35:04.721Z"
   },
   {
    "duration": 13,
    "start_time": "2022-05-04T19:35:04.759Z"
   },
   {
    "duration": 224,
    "start_time": "2022-05-04T19:35:04.773Z"
   },
   {
    "duration": 13,
    "start_time": "2022-05-04T19:35:04.999Z"
   },
   {
    "duration": 171,
    "start_time": "2022-05-04T19:35:05.014Z"
   },
   {
    "duration": 67,
    "start_time": "2022-05-04T19:35:05.187Z"
   },
   {
    "duration": 27,
    "start_time": "2022-05-04T19:35:05.257Z"
   },
   {
    "duration": 20,
    "start_time": "2022-05-04T19:35:05.288Z"
   },
   {
    "duration": 53,
    "start_time": "2022-05-04T19:35:05.310Z"
   },
   {
    "duration": 122,
    "start_time": "2022-05-04T19:35:05.364Z"
   },
   {
    "duration": 82,
    "start_time": "2022-05-04T19:35:05.488Z"
   },
   {
    "duration": 65,
    "start_time": "2022-05-04T19:35:05.572Z"
   },
   {
    "duration": 28,
    "start_time": "2022-05-04T19:35:05.639Z"
   },
   {
    "duration": 8,
    "start_time": "2022-05-04T19:35:05.669Z"
   },
   {
    "duration": 189,
    "start_time": "2022-05-04T19:35:05.679Z"
   },
   {
    "duration": 136,
    "start_time": "2022-05-04T19:35:05.870Z"
   },
   {
    "duration": 28,
    "start_time": "2022-05-04T19:35:06.007Z"
   },
   {
    "duration": 30,
    "start_time": "2022-05-04T19:35:06.037Z"
   },
   {
    "duration": 8,
    "start_time": "2022-05-04T19:35:06.069Z"
   },
   {
    "duration": 64,
    "start_time": "2022-05-04T19:35:06.079Z"
   },
   {
    "duration": 6,
    "start_time": "2022-05-04T19:35:06.144Z"
   },
   {
    "duration": 16,
    "start_time": "2022-05-04T19:35:06.151Z"
   },
   {
    "duration": 27,
    "start_time": "2022-05-04T19:35:06.169Z"
   },
   {
    "duration": 45,
    "start_time": "2022-05-04T19:35:06.197Z"
   },
   {
    "duration": 30,
    "start_time": "2022-05-04T19:35:06.244Z"
   },
   {
    "duration": 12,
    "start_time": "2022-05-04T19:35:06.277Z"
   },
   {
    "duration": 53,
    "start_time": "2022-05-04T19:35:06.291Z"
   },
   {
    "duration": 8,
    "start_time": "2022-05-04T19:35:06.346Z"
   },
   {
    "duration": 88,
    "start_time": "2022-05-04T19:35:06.355Z"
   },
   {
    "duration": 21,
    "start_time": "2022-05-04T19:35:06.445Z"
   },
   {
    "duration": 8,
    "start_time": "2022-05-04T19:35:06.468Z"
   },
   {
    "duration": 58,
    "start_time": "2022-05-04T19:35:06.477Z"
   },
   {
    "duration": 8,
    "start_time": "2022-05-04T19:35:06.537Z"
   },
   {
    "duration": 10,
    "start_time": "2022-05-04T19:35:06.547Z"
   },
   {
    "duration": 22,
    "start_time": "2022-05-04T19:35:06.559Z"
   },
   {
    "duration": 9,
    "start_time": "2022-05-04T19:35:06.582Z"
   },
   {
    "duration": 245,
    "start_time": "2022-05-04T19:35:06.593Z"
   },
   {
    "duration": 201,
    "start_time": "2022-05-04T19:35:06.840Z"
   },
   {
    "duration": 5,
    "start_time": "2022-05-04T19:35:07.043Z"
   },
   {
    "duration": 8,
    "start_time": "2022-05-04T19:35:07.049Z"
   },
   {
    "duration": 210,
    "start_time": "2022-05-04T19:35:07.058Z"
   },
   {
    "duration": 4,
    "start_time": "2022-05-04T19:35:07.270Z"
   },
   {
    "duration": 10,
    "start_time": "2022-05-04T19:35:07.276Z"
   },
   {
    "duration": 47,
    "start_time": "2022-05-04T19:35:07.288Z"
   },
   {
    "duration": 8,
    "start_time": "2022-05-04T19:35:07.338Z"
   },
   {
    "duration": 7,
    "start_time": "2022-05-04T19:35:07.348Z"
   },
   {
    "duration": 10,
    "start_time": "2022-05-04T19:35:07.357Z"
   },
   {
    "duration": 9,
    "start_time": "2022-05-04T19:35:07.368Z"
   },
   {
    "duration": 6,
    "start_time": "2022-05-04T19:35:07.378Z"
   },
   {
    "duration": 247,
    "start_time": "2022-05-04T19:35:07.386Z"
   },
   {
    "duration": 12,
    "start_time": "2022-05-04T19:35:07.635Z"
   },
   {
    "duration": 6,
    "start_time": "2022-05-04T19:35:07.649Z"
   },
   {
    "duration": 250,
    "start_time": "2022-05-04T19:35:07.657Z"
   },
   {
    "duration": 11,
    "start_time": "2022-05-04T19:35:07.910Z"
   },
   {
    "duration": 13,
    "start_time": "2022-05-04T19:35:07.934Z"
   },
   {
    "duration": 5,
    "start_time": "2022-05-04T19:35:07.949Z"
   },
   {
    "duration": 232,
    "start_time": "2022-05-04T19:35:07.956Z"
   },
   {
    "duration": 11,
    "start_time": "2022-05-04T19:35:08.190Z"
   },
   {
    "duration": 4,
    "start_time": "2022-05-04T19:35:08.203Z"
   },
   {
    "duration": 31,
    "start_time": "2022-05-04T19:35:08.209Z"
   },
   {
    "duration": 8,
    "start_time": "2022-05-04T19:35:08.242Z"
   },
   {
    "duration": 121,
    "start_time": "2022-05-04T19:35:08.252Z"
   },
   {
    "duration": 31,
    "start_time": "2022-05-04T19:35:08.375Z"
   },
   {
    "duration": 5,
    "start_time": "2022-05-04T19:35:08.408Z"
   },
   {
    "duration": 297,
    "start_time": "2022-05-04T20:01:57.705Z"
   },
   {
    "duration": 169,
    "start_time": "2022-05-04T20:02:26.844Z"
   },
   {
    "duration": 1287,
    "start_time": "2022-05-04T20:02:37.081Z"
   },
   {
    "duration": 25,
    "start_time": "2022-05-04T20:02:38.370Z"
   },
   {
    "duration": 22,
    "start_time": "2022-05-04T20:02:38.397Z"
   },
   {
    "duration": 230,
    "start_time": "2022-05-04T20:02:38.435Z"
   },
   {
    "duration": 14,
    "start_time": "2022-05-04T20:02:38.668Z"
   },
   {
    "duration": 221,
    "start_time": "2022-05-04T20:02:38.684Z"
   },
   {
    "duration": 69,
    "start_time": "2022-05-04T20:02:38.907Z"
   },
   {
    "duration": 30,
    "start_time": "2022-05-04T20:02:38.978Z"
   },
   {
    "duration": 41,
    "start_time": "2022-05-04T20:02:39.010Z"
   },
   {
    "duration": 34,
    "start_time": "2022-05-04T20:02:39.054Z"
   },
   {
    "duration": 183,
    "start_time": "2022-05-04T20:02:39.090Z"
   },
   {
    "duration": 91,
    "start_time": "2022-05-04T20:02:39.276Z"
   },
   {
    "duration": 79,
    "start_time": "2022-05-04T20:02:39.369Z"
   },
   {
    "duration": 49,
    "start_time": "2022-05-04T20:02:39.450Z"
   },
   {
    "duration": 33,
    "start_time": "2022-05-04T20:02:39.501Z"
   },
   {
    "duration": 181,
    "start_time": "2022-05-04T20:02:39.537Z"
   },
   {
    "duration": 146,
    "start_time": "2022-05-04T20:02:39.720Z"
   },
   {
    "duration": 16,
    "start_time": "2022-05-04T20:02:39.869Z"
   },
   {
    "duration": 59,
    "start_time": "2022-05-04T20:02:39.888Z"
   },
   {
    "duration": 13,
    "start_time": "2022-05-04T20:02:39.950Z"
   },
   {
    "duration": 74,
    "start_time": "2022-05-04T20:02:39.966Z"
   },
   {
    "duration": 6,
    "start_time": "2022-05-04T20:02:40.042Z"
   },
   {
    "duration": 22,
    "start_time": "2022-05-04T20:02:40.051Z"
   },
   {
    "duration": 59,
    "start_time": "2022-05-04T20:02:40.075Z"
   },
   {
    "duration": 30,
    "start_time": "2022-05-04T20:02:40.137Z"
   },
   {
    "duration": 76,
    "start_time": "2022-05-04T20:02:40.169Z"
   },
   {
    "duration": 17,
    "start_time": "2022-05-04T20:02:40.247Z"
   },
   {
    "duration": 27,
    "start_time": "2022-05-04T20:02:40.270Z"
   },
   {
    "duration": 39,
    "start_time": "2022-05-04T20:02:40.299Z"
   },
   {
    "duration": 143,
    "start_time": "2022-05-04T20:02:40.340Z"
   },
   {
    "duration": 25,
    "start_time": "2022-05-04T20:02:40.485Z"
   },
   {
    "duration": 30,
    "start_time": "2022-05-04T20:02:40.512Z"
   },
   {
    "duration": 43,
    "start_time": "2022-05-04T20:02:40.544Z"
   },
   {
    "duration": 12,
    "start_time": "2022-05-04T20:02:40.590Z"
   },
   {
    "duration": 6,
    "start_time": "2022-05-04T20:02:40.633Z"
   },
   {
    "duration": 21,
    "start_time": "2022-05-04T20:02:40.641Z"
   },
   {
    "duration": 8,
    "start_time": "2022-05-04T20:02:40.665Z"
   },
   {
    "duration": 278,
    "start_time": "2022-05-04T20:02:40.675Z"
   },
   {
    "duration": 233,
    "start_time": "2022-05-04T20:02:40.955Z"
   },
   {
    "duration": 7,
    "start_time": "2022-05-04T20:02:41.190Z"
   },
   {
    "duration": 12,
    "start_time": "2022-05-04T20:02:41.199Z"
   },
   {
    "duration": 237,
    "start_time": "2022-05-04T20:02:41.233Z"
   },
   {
    "duration": 6,
    "start_time": "2022-05-04T20:02:41.472Z"
   },
   {
    "duration": 11,
    "start_time": "2022-05-04T20:02:41.480Z"
   },
   {
    "duration": 65,
    "start_time": "2022-05-04T20:02:41.492Z"
   },
   {
    "duration": 9,
    "start_time": "2022-05-04T20:02:41.559Z"
   },
   {
    "duration": 7,
    "start_time": "2022-05-04T20:02:41.571Z"
   },
   {
    "duration": 54,
    "start_time": "2022-05-04T20:02:41.581Z"
   },
   {
    "duration": 6,
    "start_time": "2022-05-04T20:02:41.637Z"
   },
   {
    "duration": 8,
    "start_time": "2022-05-04T20:02:41.645Z"
   },
   {
    "duration": 272,
    "start_time": "2022-05-04T20:02:41.655Z"
   },
   {
    "duration": 12,
    "start_time": "2022-05-04T20:02:41.932Z"
   },
   {
    "duration": 8,
    "start_time": "2022-05-04T20:02:41.946Z"
   },
   {
    "duration": 314,
    "start_time": "2022-05-04T20:02:41.956Z"
   },
   {
    "duration": 13,
    "start_time": "2022-05-04T20:02:42.272Z"
   },
   {
    "duration": 48,
    "start_time": "2022-05-04T20:02:42.287Z"
   },
   {
    "duration": 7,
    "start_time": "2022-05-04T20:02:42.337Z"
   },
   {
    "duration": 287,
    "start_time": "2022-05-04T20:02:42.346Z"
   },
   {
    "duration": 13,
    "start_time": "2022-05-04T20:02:42.635Z"
   },
   {
    "duration": 11,
    "start_time": "2022-05-04T20:02:42.650Z"
   },
   {
    "duration": 27,
    "start_time": "2022-05-04T20:02:42.663Z"
   },
   {
    "duration": 42,
    "start_time": "2022-05-04T20:02:42.692Z"
   },
   {
    "duration": 142,
    "start_time": "2022-05-04T20:02:42.736Z"
   },
   {
    "duration": 64,
    "start_time": "2022-05-04T20:02:42.880Z"
   },
   {
    "duration": 8,
    "start_time": "2022-05-04T20:02:42.946Z"
   },
   {
    "duration": 179,
    "start_time": "2022-05-04T20:03:25.184Z"
   },
   {
    "duration": 12,
    "start_time": "2022-05-04T20:03:45.186Z"
   },
   {
    "duration": 8,
    "start_time": "2022-05-04T20:06:23.849Z"
   },
   {
    "duration": 13,
    "start_time": "2022-05-04T20:06:43.124Z"
   },
   {
    "duration": 71,
    "start_time": "2022-05-04T20:10:38.578Z"
   },
   {
    "duration": 16,
    "start_time": "2022-05-04T20:11:07.349Z"
   },
   {
    "duration": 1308,
    "start_time": "2022-05-04T20:11:59.455Z"
   },
   {
    "duration": 26,
    "start_time": "2022-05-04T20:12:00.765Z"
   },
   {
    "duration": 14,
    "start_time": "2022-05-04T20:12:00.792Z"
   },
   {
    "duration": 255,
    "start_time": "2022-05-04T20:12:00.808Z"
   },
   {
    "duration": 17,
    "start_time": "2022-05-04T20:12:01.065Z"
   },
   {
    "duration": 218,
    "start_time": "2022-05-04T20:12:01.084Z"
   },
   {
    "duration": 72,
    "start_time": "2022-05-04T20:12:01.305Z"
   },
   {
    "duration": 56,
    "start_time": "2022-05-04T20:12:01.379Z"
   },
   {
    "duration": 20,
    "start_time": "2022-05-04T20:12:01.437Z"
   },
   {
    "duration": 89,
    "start_time": "2022-05-04T20:12:01.461Z"
   },
   {
    "duration": 151,
    "start_time": "2022-05-04T20:12:01.553Z"
   },
   {
    "duration": 93,
    "start_time": "2022-05-04T20:12:01.706Z"
   },
   {
    "duration": 76,
    "start_time": "2022-05-04T20:12:01.801Z"
   },
   {
    "duration": 57,
    "start_time": "2022-05-04T20:12:01.879Z"
   },
   {
    "duration": 10,
    "start_time": "2022-05-04T20:12:01.938Z"
   },
   {
    "duration": 224,
    "start_time": "2022-05-04T20:12:01.950Z"
   },
   {
    "duration": 11,
    "start_time": "2022-05-04T20:12:02.176Z"
   },
   {
    "duration": 9,
    "start_time": "2022-05-04T20:12:02.189Z"
   },
   {
    "duration": 41,
    "start_time": "2022-05-04T20:12:02.200Z"
   },
   {
    "duration": 92,
    "start_time": "2022-05-04T20:12:02.244Z"
   },
   {
    "duration": 18,
    "start_time": "2022-05-04T20:12:02.339Z"
   },
   {
    "duration": 146,
    "start_time": "2022-05-04T20:12:02.360Z"
   },
   {
    "duration": 0,
    "start_time": "2022-05-04T20:12:02.511Z"
   },
   {
    "duration": 0,
    "start_time": "2022-05-04T20:12:02.512Z"
   },
   {
    "duration": 0,
    "start_time": "2022-05-04T20:12:02.514Z"
   },
   {
    "duration": 0,
    "start_time": "2022-05-04T20:12:02.515Z"
   },
   {
    "duration": 0,
    "start_time": "2022-05-04T20:12:02.517Z"
   },
   {
    "duration": 0,
    "start_time": "2022-05-04T20:12:02.534Z"
   },
   {
    "duration": 0,
    "start_time": "2022-05-04T20:12:02.536Z"
   },
   {
    "duration": 0,
    "start_time": "2022-05-04T20:12:02.538Z"
   },
   {
    "duration": 0,
    "start_time": "2022-05-04T20:12:02.539Z"
   },
   {
    "duration": 0,
    "start_time": "2022-05-04T20:12:02.541Z"
   },
   {
    "duration": 0,
    "start_time": "2022-05-04T20:12:02.544Z"
   },
   {
    "duration": 0,
    "start_time": "2022-05-04T20:12:02.545Z"
   },
   {
    "duration": 0,
    "start_time": "2022-05-04T20:12:02.547Z"
   },
   {
    "duration": 0,
    "start_time": "2022-05-04T20:12:02.548Z"
   },
   {
    "duration": 0,
    "start_time": "2022-05-04T20:12:02.549Z"
   },
   {
    "duration": 0,
    "start_time": "2022-05-04T20:12:02.551Z"
   },
   {
    "duration": 0,
    "start_time": "2022-05-04T20:12:02.552Z"
   },
   {
    "duration": 0,
    "start_time": "2022-05-04T20:12:02.553Z"
   },
   {
    "duration": 0,
    "start_time": "2022-05-04T20:12:02.554Z"
   },
   {
    "duration": 0,
    "start_time": "2022-05-04T20:12:02.555Z"
   },
   {
    "duration": 0,
    "start_time": "2022-05-04T20:12:02.557Z"
   },
   {
    "duration": 0,
    "start_time": "2022-05-04T20:12:02.558Z"
   },
   {
    "duration": 0,
    "start_time": "2022-05-04T20:12:02.559Z"
   },
   {
    "duration": 0,
    "start_time": "2022-05-04T20:12:02.561Z"
   },
   {
    "duration": 0,
    "start_time": "2022-05-04T20:12:02.562Z"
   },
   {
    "duration": 0,
    "start_time": "2022-05-04T20:12:02.563Z"
   },
   {
    "duration": 0,
    "start_time": "2022-05-04T20:12:02.564Z"
   },
   {
    "duration": 0,
    "start_time": "2022-05-04T20:12:02.565Z"
   },
   {
    "duration": 0,
    "start_time": "2022-05-04T20:12:02.566Z"
   },
   {
    "duration": 0,
    "start_time": "2022-05-04T20:12:02.568Z"
   },
   {
    "duration": 0,
    "start_time": "2022-05-04T20:12:02.570Z"
   },
   {
    "duration": 0,
    "start_time": "2022-05-04T20:12:02.571Z"
   },
   {
    "duration": 0,
    "start_time": "2022-05-04T20:12:02.634Z"
   },
   {
    "duration": 0,
    "start_time": "2022-05-04T20:12:02.635Z"
   },
   {
    "duration": 0,
    "start_time": "2022-05-04T20:12:02.637Z"
   },
   {
    "duration": 0,
    "start_time": "2022-05-04T20:12:02.640Z"
   },
   {
    "duration": 0,
    "start_time": "2022-05-04T20:12:02.641Z"
   },
   {
    "duration": 0,
    "start_time": "2022-05-04T20:12:02.642Z"
   },
   {
    "duration": 0,
    "start_time": "2022-05-04T20:12:02.643Z"
   },
   {
    "duration": 0,
    "start_time": "2022-05-04T20:12:02.645Z"
   },
   {
    "duration": 0,
    "start_time": "2022-05-04T20:12:02.646Z"
   },
   {
    "duration": 0,
    "start_time": "2022-05-04T20:12:02.647Z"
   },
   {
    "duration": 0,
    "start_time": "2022-05-04T20:12:02.648Z"
   },
   {
    "duration": 0,
    "start_time": "2022-05-04T20:12:02.649Z"
   },
   {
    "duration": 0,
    "start_time": "2022-05-04T20:12:02.650Z"
   },
   {
    "duration": 0,
    "start_time": "2022-05-04T20:12:02.651Z"
   },
   {
    "duration": 0,
    "start_time": "2022-05-04T20:12:02.652Z"
   },
   {
    "duration": 11,
    "start_time": "2022-05-04T20:15:34.396Z"
   },
   {
    "duration": 152,
    "start_time": "2022-05-04T20:16:10.721Z"
   },
   {
    "duration": 1378,
    "start_time": "2022-05-04T20:17:03.091Z"
   },
   {
    "duration": 27,
    "start_time": "2022-05-04T20:17:04.471Z"
   },
   {
    "duration": 14,
    "start_time": "2022-05-04T20:17:04.500Z"
   },
   {
    "duration": 237,
    "start_time": "2022-05-04T20:17:04.537Z"
   },
   {
    "duration": 12,
    "start_time": "2022-05-04T20:17:04.776Z"
   },
   {
    "duration": 193,
    "start_time": "2022-05-04T20:17:04.790Z"
   },
   {
    "duration": 79,
    "start_time": "2022-05-04T20:17:04.985Z"
   },
   {
    "duration": 43,
    "start_time": "2022-05-04T20:17:05.066Z"
   },
   {
    "duration": 46,
    "start_time": "2022-05-04T20:17:05.112Z"
   },
   {
    "duration": 39,
    "start_time": "2022-05-04T20:17:05.162Z"
   },
   {
    "duration": 153,
    "start_time": "2022-05-04T20:17:05.202Z"
   },
   {
    "duration": 89,
    "start_time": "2022-05-04T20:17:05.357Z"
   },
   {
    "duration": 56,
    "start_time": "2022-05-04T20:17:05.448Z"
   },
   {
    "duration": 64,
    "start_time": "2022-05-04T20:17:05.506Z"
   },
   {
    "duration": 11,
    "start_time": "2022-05-04T20:17:05.573Z"
   },
   {
    "duration": 218,
    "start_time": "2022-05-04T20:17:05.586Z"
   },
   {
    "duration": 28,
    "start_time": "2022-05-04T20:17:05.806Z"
   },
   {
    "duration": 160,
    "start_time": "2022-05-04T20:17:05.836Z"
   },
   {
    "duration": 18,
    "start_time": "2022-05-04T20:17:05.998Z"
   },
   {
    "duration": 32,
    "start_time": "2022-05-04T20:17:06.034Z"
   },
   {
    "duration": 10,
    "start_time": "2022-05-04T20:17:06.067Z"
   },
   {
    "duration": 61,
    "start_time": "2022-05-04T20:17:06.079Z"
   },
   {
    "duration": 7,
    "start_time": "2022-05-04T20:17:06.142Z"
   },
   {
    "duration": 24,
    "start_time": "2022-05-04T20:17:06.151Z"
   },
   {
    "duration": 27,
    "start_time": "2022-05-04T20:17:06.178Z"
   },
   {
    "duration": 49,
    "start_time": "2022-05-04T20:17:06.207Z"
   },
   {
    "duration": 33,
    "start_time": "2022-05-04T20:17:06.259Z"
   },
   {
    "duration": 16,
    "start_time": "2022-05-04T20:17:06.337Z"
   },
   {
    "duration": 24,
    "start_time": "2022-05-04T20:17:06.355Z"
   },
   {
    "duration": 10,
    "start_time": "2022-05-04T20:17:06.381Z"
   },
   {
    "duration": 124,
    "start_time": "2022-05-04T20:17:06.393Z"
   },
   {
    "duration": 36,
    "start_time": "2022-05-04T20:17:06.519Z"
   },
   {
    "duration": 9,
    "start_time": "2022-05-04T20:17:06.558Z"
   },
   {
    "duration": 32,
    "start_time": "2022-05-04T20:17:06.569Z"
   },
   {
    "duration": 35,
    "start_time": "2022-05-04T20:17:06.603Z"
   },
   {
    "duration": 7,
    "start_time": "2022-05-04T20:17:06.641Z"
   },
   {
    "duration": 22,
    "start_time": "2022-05-04T20:17:06.651Z"
   },
   {
    "duration": 7,
    "start_time": "2022-05-04T20:17:06.676Z"
   },
   {
    "duration": 287,
    "start_time": "2022-05-04T20:17:06.686Z"
   },
   {
    "duration": 215,
    "start_time": "2022-05-04T20:17:06.975Z"
   },
   {
    "duration": 7,
    "start_time": "2022-05-04T20:17:07.192Z"
   },
   {
    "duration": 32,
    "start_time": "2022-05-04T20:17:07.202Z"
   },
   {
    "duration": 220,
    "start_time": "2022-05-04T20:17:07.237Z"
   },
   {
    "duration": 5,
    "start_time": "2022-05-04T20:17:07.459Z"
   },
   {
    "duration": 15,
    "start_time": "2022-05-04T20:17:07.466Z"
   },
   {
    "duration": 55,
    "start_time": "2022-05-04T20:17:07.484Z"
   },
   {
    "duration": 10,
    "start_time": "2022-05-04T20:17:07.542Z"
   },
   {
    "duration": 11,
    "start_time": "2022-05-04T20:17:07.554Z"
   },
   {
    "duration": 12,
    "start_time": "2022-05-04T20:17:07.567Z"
   },
   {
    "duration": 8,
    "start_time": "2022-05-04T20:17:07.581Z"
   },
   {
    "duration": 45,
    "start_time": "2022-05-04T20:17:07.591Z"
   },
   {
    "duration": 251,
    "start_time": "2022-05-04T20:17:07.638Z"
   },
   {
    "duration": 15,
    "start_time": "2022-05-04T20:17:07.892Z"
   },
   {
    "duration": 29,
    "start_time": "2022-05-04T20:17:07.909Z"
   },
   {
    "duration": 251,
    "start_time": "2022-05-04T20:17:07.940Z"
   },
   {
    "duration": 16,
    "start_time": "2022-05-04T20:17:08.194Z"
   },
   {
    "duration": 32,
    "start_time": "2022-05-04T20:17:08.212Z"
   },
   {
    "duration": 5,
    "start_time": "2022-05-04T20:17:08.246Z"
   },
   {
    "duration": 257,
    "start_time": "2022-05-04T20:17:08.253Z"
   },
   {
    "duration": 12,
    "start_time": "2022-05-04T20:17:08.511Z"
   },
   {
    "duration": 7,
    "start_time": "2022-05-04T20:17:08.535Z"
   },
   {
    "duration": 27,
    "start_time": "2022-05-04T20:17:08.544Z"
   },
   {
    "duration": 12,
    "start_time": "2022-05-04T20:17:08.573Z"
   },
   {
    "duration": 165,
    "start_time": "2022-05-04T20:17:08.587Z"
   },
   {
    "duration": 34,
    "start_time": "2022-05-04T20:17:08.755Z"
   },
   {
    "duration": 6,
    "start_time": "2022-05-04T20:17:08.791Z"
   },
   {
    "duration": 3012,
    "start_time": "2022-05-04T20:19:05.291Z"
   },
   {
    "duration": 1301,
    "start_time": "2022-05-04T20:19:24.807Z"
   },
   {
    "duration": 26,
    "start_time": "2022-05-04T20:19:26.110Z"
   },
   {
    "duration": 13,
    "start_time": "2022-05-04T20:19:26.138Z"
   },
   {
    "duration": 239,
    "start_time": "2022-05-04T20:19:26.153Z"
   },
   {
    "duration": 14,
    "start_time": "2022-05-04T20:19:26.394Z"
   },
   {
    "duration": 181,
    "start_time": "2022-05-04T20:19:26.410Z"
   },
   {
    "duration": 67,
    "start_time": "2022-05-04T20:19:26.592Z"
   },
   {
    "duration": 30,
    "start_time": "2022-05-04T20:19:26.661Z"
   },
   {
    "duration": 46,
    "start_time": "2022-05-04T20:19:26.693Z"
   },
   {
    "duration": 33,
    "start_time": "2022-05-04T20:19:26.743Z"
   },
   {
    "duration": 129,
    "start_time": "2022-05-04T20:19:26.778Z"
   },
   {
    "duration": 77,
    "start_time": "2022-05-04T20:19:26.909Z"
   },
   {
    "duration": 74,
    "start_time": "2022-05-04T20:19:26.988Z"
   },
   {
    "duration": 29,
    "start_time": "2022-05-04T20:19:27.064Z"
   },
   {
    "duration": 8,
    "start_time": "2022-05-04T20:19:27.095Z"
   },
   {
    "duration": 205,
    "start_time": "2022-05-04T20:19:27.104Z"
   },
   {
    "duration": 24,
    "start_time": "2022-05-04T20:19:27.311Z"
   },
   {
    "duration": 150,
    "start_time": "2022-05-04T20:19:27.337Z"
   },
   {
    "duration": 18,
    "start_time": "2022-05-04T20:19:27.488Z"
   },
   {
    "duration": 55,
    "start_time": "2022-05-04T20:19:27.508Z"
   },
   {
    "duration": 8,
    "start_time": "2022-05-04T20:19:27.565Z"
   },
   {
    "duration": 63,
    "start_time": "2022-05-04T20:19:27.576Z"
   },
   {
    "duration": 7,
    "start_time": "2022-05-04T20:19:27.641Z"
   },
   {
    "duration": 18,
    "start_time": "2022-05-04T20:19:27.651Z"
   },
   {
    "duration": 28,
    "start_time": "2022-05-04T20:19:27.671Z"
   },
   {
    "duration": 59,
    "start_time": "2022-05-04T20:19:27.701Z"
   },
   {
    "duration": 71,
    "start_time": "2022-05-04T20:19:27.762Z"
   },
   {
    "duration": 16,
    "start_time": "2022-05-04T20:19:27.838Z"
   },
   {
    "duration": 28,
    "start_time": "2022-05-04T20:19:27.856Z"
   },
   {
    "duration": 51,
    "start_time": "2022-05-04T20:19:27.886Z"
   },
   {
    "duration": 129,
    "start_time": "2022-05-04T20:19:27.940Z"
   },
   {
    "duration": 32,
    "start_time": "2022-05-04T20:19:28.072Z"
   },
   {
    "duration": 35,
    "start_time": "2022-05-04T20:19:28.107Z"
   },
   {
    "duration": 44,
    "start_time": "2022-05-04T20:19:28.144Z"
   },
   {
    "duration": 12,
    "start_time": "2022-05-04T20:19:28.190Z"
   },
   {
    "duration": 9,
    "start_time": "2022-05-04T20:19:28.235Z"
   },
   {
    "duration": 20,
    "start_time": "2022-05-04T20:19:28.246Z"
   },
   {
    "duration": 11,
    "start_time": "2022-05-04T20:19:28.268Z"
   },
   {
    "duration": 351,
    "start_time": "2022-05-04T20:19:28.282Z"
   },
   {
    "duration": 216,
    "start_time": "2022-05-04T20:19:28.635Z"
   },
   {
    "duration": 6,
    "start_time": "2022-05-04T20:19:28.852Z"
   },
   {
    "duration": 8,
    "start_time": "2022-05-04T20:19:28.859Z"
   },
   {
    "duration": 230,
    "start_time": "2022-05-04T20:19:28.869Z"
   },
   {
    "duration": 6,
    "start_time": "2022-05-04T20:19:29.101Z"
   },
   {
    "duration": 26,
    "start_time": "2022-05-04T20:19:29.108Z"
   },
   {
    "duration": 37,
    "start_time": "2022-05-04T20:19:29.136Z"
   },
   {
    "duration": 9,
    "start_time": "2022-05-04T20:19:29.175Z"
   },
   {
    "duration": 8,
    "start_time": "2022-05-04T20:19:29.186Z"
   },
   {
    "duration": 46,
    "start_time": "2022-05-04T20:19:29.196Z"
   },
   {
    "duration": 7,
    "start_time": "2022-05-04T20:19:29.244Z"
   },
   {
    "duration": 8,
    "start_time": "2022-05-04T20:19:29.253Z"
   },
   {
    "duration": 272,
    "start_time": "2022-05-04T20:19:29.263Z"
   },
   {
    "duration": 12,
    "start_time": "2022-05-04T20:19:29.536Z"
   },
   {
    "duration": 19,
    "start_time": "2022-05-04T20:19:29.551Z"
   },
   {
    "duration": 254,
    "start_time": "2022-05-04T20:19:29.573Z"
   },
   {
    "duration": 11,
    "start_time": "2022-05-04T20:19:29.833Z"
   },
   {
    "duration": 11,
    "start_time": "2022-05-04T20:19:29.845Z"
   },
   {
    "duration": 5,
    "start_time": "2022-05-04T20:19:29.858Z"
   },
   {
    "duration": 278,
    "start_time": "2022-05-04T20:19:29.865Z"
   },
   {
    "duration": 15,
    "start_time": "2022-05-04T20:19:30.145Z"
   },
   {
    "duration": 7,
    "start_time": "2022-05-04T20:19:30.162Z"
   },
   {
    "duration": 25,
    "start_time": "2022-05-04T20:19:30.171Z"
   },
   {
    "duration": 38,
    "start_time": "2022-05-04T20:19:30.198Z"
   },
   {
    "duration": 145,
    "start_time": "2022-05-04T20:19:30.238Z"
   },
   {
    "duration": 54,
    "start_time": "2022-05-04T20:19:30.385Z"
   },
   {
    "duration": 6,
    "start_time": "2022-05-04T20:19:30.442Z"
   },
   {
    "duration": 3112,
    "start_time": "2022-05-04T20:20:54.515Z"
   },
   {
    "duration": 1288,
    "start_time": "2022-05-04T20:21:29.770Z"
   },
   {
    "duration": 35,
    "start_time": "2022-05-04T20:21:31.060Z"
   },
   {
    "duration": 13,
    "start_time": "2022-05-04T20:21:31.097Z"
   },
   {
    "duration": 247,
    "start_time": "2022-05-04T20:21:31.113Z"
   },
   {
    "duration": 12,
    "start_time": "2022-05-04T20:21:31.362Z"
   },
   {
    "duration": 187,
    "start_time": "2022-05-04T20:21:31.376Z"
   },
   {
    "duration": 72,
    "start_time": "2022-05-04T20:21:31.565Z"
   },
   {
    "duration": 29,
    "start_time": "2022-05-04T20:21:31.639Z"
   },
   {
    "duration": 20,
    "start_time": "2022-05-04T20:21:31.670Z"
   },
   {
    "duration": 65,
    "start_time": "2022-05-04T20:21:31.693Z"
   },
   {
    "duration": 114,
    "start_time": "2022-05-04T20:21:31.760Z"
   },
   {
    "duration": 92,
    "start_time": "2022-05-04T20:21:31.876Z"
   },
   {
    "duration": 70,
    "start_time": "2022-05-04T20:21:31.970Z"
   },
   {
    "duration": 29,
    "start_time": "2022-05-04T20:21:32.042Z"
   },
   {
    "duration": 8,
    "start_time": "2022-05-04T20:21:32.073Z"
   },
   {
    "duration": 196,
    "start_time": "2022-05-04T20:21:32.083Z"
   },
   {
    "duration": 10,
    "start_time": "2022-05-04T20:21:32.280Z"
   },
   {
    "duration": 156,
    "start_time": "2022-05-04T20:21:32.291Z"
   },
   {
    "duration": 16,
    "start_time": "2022-05-04T20:21:32.449Z"
   },
   {
    "duration": 32,
    "start_time": "2022-05-04T20:21:32.467Z"
   },
   {
    "duration": 36,
    "start_time": "2022-05-04T20:21:32.502Z"
   },
   {
    "duration": 59,
    "start_time": "2022-05-04T20:21:32.540Z"
   },
   {
    "duration": 7,
    "start_time": "2022-05-04T20:21:32.601Z"
   },
   {
    "duration": 23,
    "start_time": "2022-05-04T20:21:32.610Z"
   },
   {
    "duration": 29,
    "start_time": "2022-05-04T20:21:32.635Z"
   },
   {
    "duration": 24,
    "start_time": "2022-05-04T20:21:32.666Z"
   },
   {
    "duration": 66,
    "start_time": "2022-05-04T20:21:32.693Z"
   },
   {
    "duration": 13,
    "start_time": "2022-05-04T20:21:32.765Z"
   },
   {
    "duration": 59,
    "start_time": "2022-05-04T20:21:32.780Z"
   },
   {
    "duration": 8,
    "start_time": "2022-05-04T20:21:32.840Z"
   },
   {
    "duration": 87,
    "start_time": "2022-05-04T20:21:32.850Z"
   },
   {
    "duration": 22,
    "start_time": "2022-05-04T20:21:32.939Z"
   },
   {
    "duration": 8,
    "start_time": "2022-05-04T20:21:32.962Z"
   },
   {
    "duration": 62,
    "start_time": "2022-05-04T20:21:32.972Z"
   },
   {
    "duration": 8,
    "start_time": "2022-05-04T20:21:33.035Z"
   },
   {
    "duration": 7,
    "start_time": "2022-05-04T20:21:33.044Z"
   },
   {
    "duration": 15,
    "start_time": "2022-05-04T20:21:33.053Z"
   },
   {
    "duration": 9,
    "start_time": "2022-05-04T20:21:33.070Z"
   },
   {
    "duration": 266,
    "start_time": "2022-05-04T20:21:33.081Z"
   },
   {
    "duration": 207,
    "start_time": "2022-05-04T20:21:33.349Z"
   },
   {
    "duration": 5,
    "start_time": "2022-05-04T20:21:33.557Z"
   },
   {
    "duration": 8,
    "start_time": "2022-05-04T20:21:33.564Z"
   },
   {
    "duration": 224,
    "start_time": "2022-05-04T20:21:33.574Z"
   },
   {
    "duration": 5,
    "start_time": "2022-05-04T20:21:33.800Z"
   },
   {
    "duration": 27,
    "start_time": "2022-05-04T20:21:33.806Z"
   },
   {
    "duration": 32,
    "start_time": "2022-05-04T20:21:33.835Z"
   },
   {
    "duration": 7,
    "start_time": "2022-05-04T20:21:33.869Z"
   },
   {
    "duration": 5,
    "start_time": "2022-05-04T20:21:33.878Z"
   },
   {
    "duration": 49,
    "start_time": "2022-05-04T20:21:33.885Z"
   },
   {
    "duration": 4,
    "start_time": "2022-05-04T20:21:33.936Z"
   },
   {
    "duration": 7,
    "start_time": "2022-05-04T20:21:33.942Z"
   },
   {
    "duration": 244,
    "start_time": "2022-05-04T20:21:33.951Z"
   },
   {
    "duration": 11,
    "start_time": "2022-05-04T20:21:34.197Z"
   },
   {
    "duration": 27,
    "start_time": "2022-05-04T20:21:34.210Z"
   },
   {
    "duration": 246,
    "start_time": "2022-05-04T20:21:34.238Z"
   },
   {
    "duration": 10,
    "start_time": "2022-05-04T20:21:34.486Z"
   },
   {
    "duration": 36,
    "start_time": "2022-05-04T20:21:34.498Z"
   },
   {
    "duration": 6,
    "start_time": "2022-05-04T20:21:34.536Z"
   },
   {
    "duration": 249,
    "start_time": "2022-05-04T20:21:34.543Z"
   },
   {
    "duration": 12,
    "start_time": "2022-05-04T20:21:34.794Z"
   },
   {
    "duration": 26,
    "start_time": "2022-05-04T20:21:34.807Z"
   },
   {
    "duration": 17,
    "start_time": "2022-05-04T20:21:34.835Z"
   },
   {
    "duration": 9,
    "start_time": "2022-05-04T20:21:34.854Z"
   },
   {
    "duration": 138,
    "start_time": "2022-05-04T20:21:34.865Z"
   },
   {
    "duration": 44,
    "start_time": "2022-05-04T20:21:35.004Z"
   },
   {
    "duration": 5,
    "start_time": "2022-05-04T20:21:35.050Z"
   },
   {
    "duration": 22,
    "start_time": "2022-05-04T20:23:25.405Z"
   },
   {
    "duration": 1272,
    "start_time": "2022-05-04T20:25:46.513Z"
   },
   {
    "duration": 34,
    "start_time": "2022-05-04T20:25:47.787Z"
   },
   {
    "duration": 13,
    "start_time": "2022-05-04T20:25:47.823Z"
   },
   {
    "duration": 210,
    "start_time": "2022-05-04T20:25:47.838Z"
   },
   {
    "duration": 12,
    "start_time": "2022-05-04T20:25:48.050Z"
   },
   {
    "duration": 171,
    "start_time": "2022-05-04T20:25:48.064Z"
   },
   {
    "duration": 58,
    "start_time": "2022-05-04T20:25:48.237Z"
   },
   {
    "duration": 43,
    "start_time": "2022-05-04T20:25:48.297Z"
   },
   {
    "duration": 20,
    "start_time": "2022-05-04T20:25:48.342Z"
   },
   {
    "duration": 30,
    "start_time": "2022-05-04T20:25:48.365Z"
   },
   {
    "duration": 141,
    "start_time": "2022-05-04T20:25:48.397Z"
   },
   {
    "duration": 66,
    "start_time": "2022-05-04T20:25:48.540Z"
   },
   {
    "duration": 67,
    "start_time": "2022-05-04T20:25:48.607Z"
   },
   {
    "duration": 28,
    "start_time": "2022-05-04T20:25:48.676Z"
   },
   {
    "duration": 32,
    "start_time": "2022-05-04T20:25:48.706Z"
   },
   {
    "duration": 171,
    "start_time": "2022-05-04T20:25:48.740Z"
   },
   {
    "duration": 21,
    "start_time": "2022-05-04T20:25:48.913Z"
   },
   {
    "duration": 134,
    "start_time": "2022-05-04T20:25:48.936Z"
   },
   {
    "duration": 17,
    "start_time": "2022-05-04T20:25:49.072Z"
   },
   {
    "duration": 54,
    "start_time": "2022-05-04T20:25:49.090Z"
   },
   {
    "duration": 8,
    "start_time": "2022-05-04T20:25:49.145Z"
   },
   {
    "duration": 57,
    "start_time": "2022-05-04T20:25:49.155Z"
   },
   {
    "duration": 6,
    "start_time": "2022-05-04T20:25:49.214Z"
   },
   {
    "duration": 15,
    "start_time": "2022-05-04T20:25:49.221Z"
   },
   {
    "duration": 26,
    "start_time": "2022-05-04T20:25:49.238Z"
   },
   {
    "duration": 24,
    "start_time": "2022-05-04T20:25:49.266Z"
   },
   {
    "duration": 63,
    "start_time": "2022-05-04T20:25:49.293Z"
   },
   {
    "duration": 12,
    "start_time": "2022-05-04T20:25:49.360Z"
   },
   {
    "duration": 21,
    "start_time": "2022-05-04T20:25:49.373Z"
   },
   {
    "duration": 39,
    "start_time": "2022-05-04T20:25:49.396Z"
   },
   {
    "duration": 101,
    "start_time": "2022-05-04T20:25:49.437Z"
   },
   {
    "duration": 22,
    "start_time": "2022-05-04T20:25:49.539Z"
   },
   {
    "duration": 8,
    "start_time": "2022-05-04T20:25:49.562Z"
   },
   {
    "duration": 33,
    "start_time": "2022-05-04T20:25:49.572Z"
   },
   {
    "duration": 7,
    "start_time": "2022-05-04T20:25:49.633Z"
   },
   {
    "duration": 7,
    "start_time": "2022-05-04T20:25:49.641Z"
   },
   {
    "duration": 18,
    "start_time": "2022-05-04T20:25:49.649Z"
   },
   {
    "duration": 8,
    "start_time": "2022-05-04T20:25:49.669Z"
   },
   {
    "duration": 256,
    "start_time": "2022-05-04T20:25:49.679Z"
   },
   {
    "duration": 214,
    "start_time": "2022-05-04T20:25:49.937Z"
   },
   {
    "duration": 5,
    "start_time": "2022-05-04T20:25:50.153Z"
   },
   {
    "duration": 6,
    "start_time": "2022-05-04T20:25:50.160Z"
   },
   {
    "duration": 219,
    "start_time": "2022-05-04T20:25:50.168Z"
   },
   {
    "duration": 4,
    "start_time": "2022-05-04T20:25:50.389Z"
   },
   {
    "duration": 17,
    "start_time": "2022-05-04T20:25:50.394Z"
   },
   {
    "duration": 48,
    "start_time": "2022-05-04T20:25:50.413Z"
   },
   {
    "duration": 8,
    "start_time": "2022-05-04T20:25:50.463Z"
   },
   {
    "duration": 7,
    "start_time": "2022-05-04T20:25:50.472Z"
   },
   {
    "duration": 8,
    "start_time": "2022-05-04T20:25:50.481Z"
   },
   {
    "duration": 4,
    "start_time": "2022-05-04T20:25:50.491Z"
   },
   {
    "duration": 39,
    "start_time": "2022-05-04T20:25:50.497Z"
   },
   {
    "duration": 240,
    "start_time": "2022-05-04T20:25:50.538Z"
   },
   {
    "duration": 12,
    "start_time": "2022-05-04T20:25:50.781Z"
   },
   {
    "duration": 14,
    "start_time": "2022-05-04T20:25:50.795Z"
   },
   {
    "duration": 260,
    "start_time": "2022-05-04T20:25:50.811Z"
   },
   {
    "duration": 11,
    "start_time": "2022-05-04T20:25:51.073Z"
   },
   {
    "duration": 10,
    "start_time": "2022-05-04T20:25:51.086Z"
   },
   {
    "duration": 37,
    "start_time": "2022-05-04T20:25:51.097Z"
   },
   {
    "duration": 224,
    "start_time": "2022-05-04T20:25:51.136Z"
   },
   {
    "duration": 10,
    "start_time": "2022-05-04T20:25:51.362Z"
   },
   {
    "duration": 9,
    "start_time": "2022-05-04T20:25:51.374Z"
   },
   {
    "duration": 17,
    "start_time": "2022-05-04T20:25:51.385Z"
   },
   {
    "duration": 33,
    "start_time": "2022-05-04T20:25:51.404Z"
   },
   {
    "duration": 118,
    "start_time": "2022-05-04T20:25:51.439Z"
   },
   {
    "duration": 32,
    "start_time": "2022-05-04T20:25:51.558Z"
   },
   {
    "duration": 5,
    "start_time": "2022-05-04T20:25:51.591Z"
   },
   {
    "duration": 3,
    "start_time": "2022-05-04T20:45:40.152Z"
   },
   {
    "duration": 19,
    "start_time": "2022-05-04T20:45:40.167Z"
   },
   {
    "duration": 9,
    "start_time": "2022-05-04T20:45:40.187Z"
   },
   {
    "duration": 181,
    "start_time": "2022-05-04T20:45:40.209Z"
   },
   {
    "duration": 15,
    "start_time": "2022-05-04T20:45:40.392Z"
   },
   {
    "duration": 128,
    "start_time": "2022-05-04T20:45:40.408Z"
   },
   {
    "duration": 47,
    "start_time": "2022-05-04T20:45:40.538Z"
   },
   {
    "duration": 34,
    "start_time": "2022-05-04T20:45:40.586Z"
   },
   {
    "duration": 15,
    "start_time": "2022-05-04T20:45:40.621Z"
   },
   {
    "duration": 24,
    "start_time": "2022-05-04T20:45:40.638Z"
   },
   {
    "duration": 109,
    "start_time": "2022-05-04T20:45:40.664Z"
   },
   {
    "duration": 65,
    "start_time": "2022-05-04T20:45:40.774Z"
   },
   {
    "duration": 42,
    "start_time": "2022-05-04T20:45:40.842Z"
   },
   {
    "duration": 34,
    "start_time": "2022-05-04T20:45:40.886Z"
   },
   {
    "duration": 7,
    "start_time": "2022-05-04T20:45:40.922Z"
   },
   {
    "duration": 150,
    "start_time": "2022-05-04T20:45:40.930Z"
   },
   {
    "duration": 24,
    "start_time": "2022-05-04T20:45:41.082Z"
   },
   {
    "duration": 106,
    "start_time": "2022-05-04T20:45:41.108Z"
   },
   {
    "duration": 110,
    "start_time": "2022-05-04T20:45:41.215Z"
   },
   {
    "duration": 0,
    "start_time": "2022-05-04T20:45:41.328Z"
   },
   {
    "duration": 0,
    "start_time": "2022-05-04T20:45:41.328Z"
   },
   {
    "duration": 0,
    "start_time": "2022-05-04T20:45:41.329Z"
   },
   {
    "duration": 0,
    "start_time": "2022-05-04T20:45:41.330Z"
   },
   {
    "duration": 0,
    "start_time": "2022-05-04T20:45:41.331Z"
   },
   {
    "duration": 0,
    "start_time": "2022-05-04T20:45:41.332Z"
   },
   {
    "duration": 0,
    "start_time": "2022-05-04T20:45:41.332Z"
   },
   {
    "duration": 0,
    "start_time": "2022-05-04T20:45:41.333Z"
   },
   {
    "duration": 0,
    "start_time": "2022-05-04T20:45:41.334Z"
   },
   {
    "duration": 0,
    "start_time": "2022-05-04T20:45:41.335Z"
   },
   {
    "duration": 0,
    "start_time": "2022-05-04T20:45:41.336Z"
   },
   {
    "duration": 0,
    "start_time": "2022-05-04T20:45:41.337Z"
   },
   {
    "duration": 0,
    "start_time": "2022-05-04T20:45:41.338Z"
   },
   {
    "duration": 0,
    "start_time": "2022-05-04T20:45:41.339Z"
   },
   {
    "duration": 0,
    "start_time": "2022-05-04T20:45:41.340Z"
   },
   {
    "duration": 0,
    "start_time": "2022-05-04T20:45:41.341Z"
   },
   {
    "duration": 0,
    "start_time": "2022-05-04T20:45:41.342Z"
   },
   {
    "duration": 0,
    "start_time": "2022-05-04T20:45:41.342Z"
   },
   {
    "duration": 0,
    "start_time": "2022-05-04T20:45:41.343Z"
   },
   {
    "duration": 0,
    "start_time": "2022-05-04T20:45:41.344Z"
   },
   {
    "duration": 0,
    "start_time": "2022-05-04T20:45:41.345Z"
   },
   {
    "duration": 0,
    "start_time": "2022-05-04T20:45:41.346Z"
   },
   {
    "duration": 0,
    "start_time": "2022-05-04T20:45:41.347Z"
   },
   {
    "duration": 0,
    "start_time": "2022-05-04T20:45:41.347Z"
   },
   {
    "duration": 0,
    "start_time": "2022-05-04T20:45:41.348Z"
   },
   {
    "duration": 0,
    "start_time": "2022-05-04T20:45:41.349Z"
   },
   {
    "duration": 0,
    "start_time": "2022-05-04T20:45:41.349Z"
   },
   {
    "duration": 0,
    "start_time": "2022-05-04T20:45:41.350Z"
   },
   {
    "duration": 0,
    "start_time": "2022-05-04T20:45:41.351Z"
   },
   {
    "duration": 0,
    "start_time": "2022-05-04T20:45:41.351Z"
   },
   {
    "duration": 0,
    "start_time": "2022-05-04T20:45:41.352Z"
   },
   {
    "duration": 0,
    "start_time": "2022-05-04T20:45:41.353Z"
   },
   {
    "duration": 0,
    "start_time": "2022-05-04T20:45:41.353Z"
   },
   {
    "duration": 0,
    "start_time": "2022-05-04T20:45:41.354Z"
   },
   {
    "duration": 0,
    "start_time": "2022-05-04T20:45:41.355Z"
   },
   {
    "duration": 0,
    "start_time": "2022-05-04T20:45:41.356Z"
   },
   {
    "duration": 0,
    "start_time": "2022-05-04T20:45:41.400Z"
   },
   {
    "duration": 0,
    "start_time": "2022-05-04T20:45:41.401Z"
   },
   {
    "duration": 0,
    "start_time": "2022-05-04T20:45:41.402Z"
   },
   {
    "duration": 0,
    "start_time": "2022-05-04T20:45:41.403Z"
   },
   {
    "duration": 0,
    "start_time": "2022-05-04T20:45:41.403Z"
   },
   {
    "duration": 0,
    "start_time": "2022-05-04T20:45:41.404Z"
   },
   {
    "duration": 0,
    "start_time": "2022-05-04T20:45:41.405Z"
   },
   {
    "duration": 0,
    "start_time": "2022-05-04T20:45:41.406Z"
   },
   {
    "duration": 0,
    "start_time": "2022-05-04T20:45:41.407Z"
   },
   {
    "duration": 0,
    "start_time": "2022-05-04T20:45:41.408Z"
   },
   {
    "duration": 0,
    "start_time": "2022-05-04T20:45:41.409Z"
   },
   {
    "duration": 15,
    "start_time": "2022-05-04T20:46:28.014Z"
   },
   {
    "duration": 10,
    "start_time": "2022-05-04T20:46:33.015Z"
   },
   {
    "duration": 30,
    "start_time": "2022-05-04T20:46:39.456Z"
   },
   {
    "duration": 8,
    "start_time": "2022-05-04T20:46:48.051Z"
   },
   {
    "duration": 8,
    "start_time": "2022-05-04T20:50:20.709Z"
   },
   {
    "duration": 3,
    "start_time": "2022-05-04T20:50:52.819Z"
   },
   {
    "duration": 23,
    "start_time": "2022-05-04T20:50:52.823Z"
   },
   {
    "duration": 10,
    "start_time": "2022-05-04T20:50:52.848Z"
   },
   {
    "duration": 179,
    "start_time": "2022-05-04T20:50:52.860Z"
   },
   {
    "duration": 9,
    "start_time": "2022-05-04T20:50:53.041Z"
   },
   {
    "duration": 128,
    "start_time": "2022-05-04T20:50:53.051Z"
   },
   {
    "duration": 68,
    "start_time": "2022-05-04T20:50:53.181Z"
   },
   {
    "duration": 22,
    "start_time": "2022-05-04T20:50:53.251Z"
   },
   {
    "duration": 35,
    "start_time": "2022-05-04T20:50:53.274Z"
   },
   {
    "duration": 26,
    "start_time": "2022-05-04T20:50:53.310Z"
   },
   {
    "duration": 113,
    "start_time": "2022-05-04T20:50:53.338Z"
   },
   {
    "duration": 64,
    "start_time": "2022-05-04T20:50:53.452Z"
   },
   {
    "duration": 43,
    "start_time": "2022-05-04T20:50:53.517Z"
   },
   {
    "duration": 39,
    "start_time": "2022-05-04T20:50:53.561Z"
   },
   {
    "duration": 6,
    "start_time": "2022-05-04T20:50:53.602Z"
   },
   {
    "duration": 149,
    "start_time": "2022-05-04T20:50:53.610Z"
   },
   {
    "duration": 8,
    "start_time": "2022-05-04T20:50:53.760Z"
   },
   {
    "duration": 109,
    "start_time": "2022-05-04T20:50:53.769Z"
   },
   {
    "duration": 23,
    "start_time": "2022-05-04T20:50:53.880Z"
   },
   {
    "duration": 27,
    "start_time": "2022-05-04T20:50:53.905Z"
   },
   {
    "duration": 6,
    "start_time": "2022-05-04T20:50:53.933Z"
   },
   {
    "duration": 10,
    "start_time": "2022-05-04T20:50:53.941Z"
   },
   {
    "duration": 44,
    "start_time": "2022-05-04T20:50:53.952Z"
   },
   {
    "duration": 5,
    "start_time": "2022-05-04T20:50:53.997Z"
   },
   {
    "duration": 14,
    "start_time": "2022-05-04T20:50:54.003Z"
   },
   {
    "duration": 20,
    "start_time": "2022-05-04T20:50:54.018Z"
   },
   {
    "duration": 18,
    "start_time": "2022-05-04T20:50:54.039Z"
   },
   {
    "duration": 44,
    "start_time": "2022-05-04T20:50:54.059Z"
   },
   {
    "duration": 12,
    "start_time": "2022-05-04T20:50:54.107Z"
   },
   {
    "duration": 0,
    "start_time": "2022-05-04T20:50:54.120Z"
   },
   {
    "duration": 0,
    "start_time": "2022-05-04T20:50:54.121Z"
   },
   {
    "duration": 0,
    "start_time": "2022-05-04T20:50:54.122Z"
   },
   {
    "duration": 0,
    "start_time": "2022-05-04T20:50:54.123Z"
   },
   {
    "duration": 0,
    "start_time": "2022-05-04T20:50:54.124Z"
   },
   {
    "duration": 0,
    "start_time": "2022-05-04T20:50:54.124Z"
   },
   {
    "duration": 0,
    "start_time": "2022-05-04T20:50:54.125Z"
   },
   {
    "duration": 1,
    "start_time": "2022-05-04T20:50:54.126Z"
   },
   {
    "duration": 0,
    "start_time": "2022-05-04T20:50:54.127Z"
   },
   {
    "duration": 0,
    "start_time": "2022-05-04T20:50:54.128Z"
   },
   {
    "duration": 0,
    "start_time": "2022-05-04T20:50:54.129Z"
   },
   {
    "duration": 0,
    "start_time": "2022-05-04T20:50:54.131Z"
   },
   {
    "duration": 0,
    "start_time": "2022-05-04T20:50:54.132Z"
   },
   {
    "duration": 0,
    "start_time": "2022-05-04T20:50:54.132Z"
   },
   {
    "duration": 0,
    "start_time": "2022-05-04T20:50:54.134Z"
   },
   {
    "duration": 0,
    "start_time": "2022-05-04T20:50:54.135Z"
   },
   {
    "duration": 0,
    "start_time": "2022-05-04T20:50:54.136Z"
   },
   {
    "duration": 0,
    "start_time": "2022-05-04T20:50:54.137Z"
   },
   {
    "duration": 0,
    "start_time": "2022-05-04T20:50:54.138Z"
   },
   {
    "duration": 0,
    "start_time": "2022-05-04T20:50:54.139Z"
   },
   {
    "duration": 0,
    "start_time": "2022-05-04T20:50:54.141Z"
   },
   {
    "duration": 0,
    "start_time": "2022-05-04T20:50:54.142Z"
   },
   {
    "duration": 0,
    "start_time": "2022-05-04T20:50:54.143Z"
   },
   {
    "duration": 0,
    "start_time": "2022-05-04T20:50:54.144Z"
   },
   {
    "duration": 0,
    "start_time": "2022-05-04T20:50:54.146Z"
   },
   {
    "duration": 0,
    "start_time": "2022-05-04T20:50:54.146Z"
   },
   {
    "duration": 0,
    "start_time": "2022-05-04T20:50:54.148Z"
   },
   {
    "duration": 0,
    "start_time": "2022-05-04T20:50:54.201Z"
   },
   {
    "duration": 0,
    "start_time": "2022-05-04T20:50:54.202Z"
   },
   {
    "duration": 0,
    "start_time": "2022-05-04T20:50:54.203Z"
   },
   {
    "duration": 0,
    "start_time": "2022-05-04T20:50:54.204Z"
   },
   {
    "duration": 0,
    "start_time": "2022-05-04T20:50:54.205Z"
   },
   {
    "duration": 0,
    "start_time": "2022-05-04T20:50:54.206Z"
   },
   {
    "duration": 0,
    "start_time": "2022-05-04T20:50:54.207Z"
   },
   {
    "duration": 0,
    "start_time": "2022-05-04T20:50:54.208Z"
   },
   {
    "duration": 0,
    "start_time": "2022-05-04T20:50:54.209Z"
   },
   {
    "duration": 0,
    "start_time": "2022-05-04T20:50:54.210Z"
   },
   {
    "duration": 0,
    "start_time": "2022-05-04T20:50:54.211Z"
   },
   {
    "duration": 19,
    "start_time": "2022-05-04T20:51:35.629Z"
   },
   {
    "duration": 7,
    "start_time": "2022-05-04T20:51:36.918Z"
   },
   {
    "duration": 4171,
    "start_time": "2022-05-04T20:51:37.473Z"
   },
   {
    "duration": 0,
    "start_time": "2022-05-04T20:51:41.645Z"
   },
   {
    "duration": 9,
    "start_time": "2022-05-04T20:52:12.988Z"
   },
   {
    "duration": 49,
    "start_time": "2022-05-04T20:52:13.379Z"
   },
   {
    "duration": 5,
    "start_time": "2022-05-04T20:52:13.870Z"
   },
   {
    "duration": 10,
    "start_time": "2022-05-04T20:52:14.304Z"
   },
   {
    "duration": 18,
    "start_time": "2022-05-04T20:52:16.009Z"
   },
   {
    "duration": 19,
    "start_time": "2022-05-04T20:52:16.250Z"
   },
   {
    "duration": 26,
    "start_time": "2022-05-04T20:52:16.426Z"
   },
   {
    "duration": 10,
    "start_time": "2022-05-04T20:52:18.482Z"
   },
   {
    "duration": 17,
    "start_time": "2022-05-04T20:52:19.910Z"
   },
   {
    "duration": 8,
    "start_time": "2022-05-04T20:52:21.613Z"
   },
   {
    "duration": 58,
    "start_time": "2022-05-04T20:52:21.929Z"
   },
   {
    "duration": 16,
    "start_time": "2022-05-04T20:52:23.452Z"
   },
   {
    "duration": 7,
    "start_time": "2022-05-04T20:52:27.082Z"
   },
   {
    "duration": 26,
    "start_time": "2022-05-04T20:52:32.603Z"
   },
   {
    "duration": 6,
    "start_time": "2022-05-04T20:52:32.630Z"
   },
   {
    "duration": 12,
    "start_time": "2022-05-04T20:52:32.637Z"
   },
   {
    "duration": 14,
    "start_time": "2022-05-04T20:52:32.651Z"
   },
   {
    "duration": 6,
    "start_time": "2022-05-04T20:52:32.667Z"
   },
   {
    "duration": 177,
    "start_time": "2022-05-04T20:52:32.674Z"
   },
   {
    "duration": 156,
    "start_time": "2022-05-04T20:52:32.852Z"
   },
   {
    "duration": 4,
    "start_time": "2022-05-04T20:52:33.010Z"
   },
   {
    "duration": 9,
    "start_time": "2022-05-04T20:52:33.016Z"
   },
   {
    "duration": 162,
    "start_time": "2022-05-04T20:52:33.026Z"
   },
   {
    "duration": 9,
    "start_time": "2022-05-04T20:52:33.190Z"
   },
   {
    "duration": 10,
    "start_time": "2022-05-04T20:52:33.200Z"
   },
   {
    "duration": 27,
    "start_time": "2022-05-04T20:52:33.211Z"
   },
   {
    "duration": 5,
    "start_time": "2022-05-04T20:52:33.239Z"
   },
   {
    "duration": 4,
    "start_time": "2022-05-04T20:52:33.246Z"
   },
   {
    "duration": 19,
    "start_time": "2022-05-04T20:52:33.251Z"
   },
   {
    "duration": 15,
    "start_time": "2022-05-04T20:52:33.271Z"
   },
   {
    "duration": 14,
    "start_time": "2022-05-04T20:52:33.287Z"
   },
   {
    "duration": 164,
    "start_time": "2022-05-04T20:52:33.303Z"
   },
   {
    "duration": 9,
    "start_time": "2022-05-04T20:52:34.310Z"
   },
   {
    "duration": 10,
    "start_time": "2022-05-04T20:52:34.321Z"
   },
   {
    "duration": 176,
    "start_time": "2022-05-04T20:52:34.380Z"
   },
   {
    "duration": 9,
    "start_time": "2022-05-04T20:52:34.558Z"
   },
   {
    "duration": 9,
    "start_time": "2022-05-04T20:52:34.568Z"
   },
   {
    "duration": 22,
    "start_time": "2022-05-04T20:52:34.578Z"
   },
   {
    "duration": 157,
    "start_time": "2022-05-04T20:52:34.602Z"
   },
   {
    "duration": 9,
    "start_time": "2022-05-04T20:52:34.761Z"
   },
   {
    "duration": 8,
    "start_time": "2022-05-04T20:52:34.771Z"
   },
   {
    "duration": 27,
    "start_time": "2022-05-04T20:52:34.780Z"
   },
   {
    "duration": 7,
    "start_time": "2022-05-04T20:52:34.809Z"
   },
   {
    "duration": 24,
    "start_time": "2022-05-04T20:52:34.817Z"
   },
   {
    "duration": 23,
    "start_time": "2022-05-04T20:52:34.843Z"
   },
   {
    "duration": 5,
    "start_time": "2022-05-04T20:52:34.867Z"
   }
  ],
  "kernelspec": {
   "display_name": "Python 3 (ipykernel)",
   "language": "python",
   "name": "python3"
  },
  "language_info": {
   "codemirror_mode": {
    "name": "ipython",
    "version": 3
   },
   "file_extension": ".py",
   "mimetype": "text/x-python",
   "name": "python",
   "nbconvert_exporter": "python",
   "pygments_lexer": "ipython3",
   "version": "3.9.5"
  },
  "toc": {
   "base_numbering": 1,
   "nav_menu": {},
   "number_sections": true,
   "sideBar": true,
   "skip_h1_title": true,
   "title_cell": "Table of Contents",
   "title_sidebar": "Contents",
   "toc_cell": false,
   "toc_position": {},
   "toc_section_display": true,
   "toc_window_display": false
  }
 },
 "nbformat": 4,
 "nbformat_minor": 2
}
